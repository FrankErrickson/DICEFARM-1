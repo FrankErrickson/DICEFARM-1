{
 "cells": [
  {
   "cell_type": "code",
   "execution_count": 34,
   "metadata": {},
   "outputs": [
    {
     "name": "stderr",
     "output_type": "stream",
     "text": [
      "┌ Warning: interpolate(A, BSpline(Linear()), OnGrid()) is deprecated, use interpolate(A, BSpline(Linear()))\n",
      "│   caller = dice_interpolate(::Array{Float64,1}, ::Int64) at helpers.jl:61\n",
      "└ @ Main C:\\Users\\Kevin\\Documents\\GitHub\\DICEFARM\\src_scw\\helpers.jl:61\n",
      "┌ Warning: `getindex(itp::AbstractInterpolation{T, N}, i::Vararg{ExpandedIndexTypes, N}) where {T, N}` is deprecated, use `itp(i...)` instead.\n",
      "│   caller = dice_interpolate(::Array{Float64,1}, ::Int64) at helpers.jl:67\n",
      "└ @ Main C:\\Users\\Kevin\\Documents\\GitHub\\DICEFARM\\src_scw\\helpers.jl:67\n"
     ]
    }
   ],
   "source": [
    "include(\"DICEFARM_Annual.jl\")\n",
    "DICEFARM = create_dice_farm()\n",
    "run(DICEFARM) \n",
    "#W0 = DICEFARM[:welfare, :UTILITY]"
   ]
  },
  {
   "cell_type": "code",
   "execution_count": 31,
   "metadata": {},
   "outputs": [
    {
     "data": {
      "text/plain": [
       "Electron.Window(Application(Base.PipeEndpoint(Base.Libc.WindowsRawSocket(0x00000000000003e0) open, 0 bytes waiting), Process(`\u001b[4m'C:\\Users\\Kevin\\.julia\\packages\\Electron\\aRIgh\\src\\..\\deps\\electron\\electron.exe'\u001b[24m \u001b[4m'C:\\Users\\Kevin\\.julia\\packages\\Electron\\aRIgh\\src\\main.js'\u001b[24m \u001b[4m'\\\\.\\pipe\\juliaelectron-4692-1'\u001b[24m \u001b[4m'\\\\.\\pipe\\juliaelectron-sysnotify-4692-1'\u001b[24m \u001b[4moDLNSc4W0KhNIiXbI2JU8ghLCokkNICXMR77Ht34ZSX65QF1SDuyKAsZyoWP/zpU+S0B1sH2eqbrXHrE3jq8va+A56NPh3nego61g/mjYoDb9lWT/KAGyaws6au9FAbN868m2MtnyUad9jzLEhaoXiP+WHVy/+RSGzmuiHov1VA=\u001b[24m`, ProcessRunning), [1 window]), 7, true, Channel{Any}(sz_max:128,sz_curr:0))"
      ]
     },
     "execution_count": 31,
     "metadata": {},
     "output_type": "execute_result"
    }
   ],
   "source": [
    "explore(DICEFARM)"
   ]
  },
  {
   "cell_type": "code",
   "execution_count": 36,
   "metadata": {},
   "outputs": [
    {
     "name": "stderr",
     "output_type": "stream",
     "text": [
      "┌ Warning: interpolate(A, BSpline(Linear()), OnGrid()) is deprecated, use interpolate(A, BSpline(Linear()))\n",
      "│   caller = dice_interpolate(::Array{Float64,1}, ::Int64) at helpers.jl:61\n",
      "└ @ Main C:\\Users\\Kevin\\Documents\\GitHub\\DICEFARM\\src_scw\\helpers.jl:61\n",
      "┌ Warning: `getindex(itp::AbstractInterpolation{T, N}, i::Vararg{ExpandedIndexTypes, N}) where {T, N}` is deprecated, use `itp(i...)` instead.\n",
      "│   caller = dice_interpolate(::Array{Float64,1}, ::Int64) at helpers.jl:67\n",
      "└ @ Main C:\\Users\\Kevin\\Documents\\GitHub\\DICEFARM\\src_scw\\helpers.jl:67\n"
     ]
    },
    {
     "data": {
      "text/plain": [
       "1753.411570157812"
      ]
     },
     "execution_count": 36,
     "metadata": {},
     "output_type": "execute_result"
    }
   ],
   "source": [
    "using Plots\n",
    "include(\"DICEFARM_Annual.jl\")\n",
    "DICEFARM = create_dice_farm()\n",
    "run(DICEFARM)\n",
    "BaseWelfare = DICEFARM[:welfare, :UTILITY]\n",
    "#MargCons \t= create_dice_farm()\n",
    "#set_param!(MargCons, :neteconomy, :CEQ, 1e-6)  #dropping C by 1000 total \n",
    "#run(MargCons)\n",
    "#MargConsWelfare = MargCons[:welfare, :UTILITY]\n",
    "#SCNumeraire \t= BaseWelfare - MargConsWelfare"
   ]
  },
  {
   "cell_type": "code",
   "execution_count": 39,
   "metadata": {},
   "outputs": [
    {
     "data": {
      "image/svg+xml": [
       "<?xml version=\"1.0\" encoding=\"utf-8\"?>\n",
       "<svg xmlns=\"http://www.w3.org/2000/svg\" xmlns:xlink=\"http://www.w3.org/1999/xlink\" width=\"600\" height=\"400\" viewBox=\"0 0 2400 1600\">\n",
       "<defs>\n",
       "  <clipPath id=\"clip3400\">\n",
       "    <rect x=\"0\" y=\"0\" width=\"2400\" height=\"1600\"/>\n",
       "  </clipPath>\n",
       "</defs>\n",
       "<path clip-path=\"url(#clip3400)\" d=\"\n",
       "M0 1600 L2400 1600 L2400 0 L0 0  Z\n",
       "  \" fill=\"#ffffff\" fill-rule=\"evenodd\" fill-opacity=\"1\"/>\n",
       "<defs>\n",
       "  <clipPath id=\"clip3401\">\n",
       "    <rect x=\"480\" y=\"0\" width=\"1681\" height=\"1600\"/>\n",
       "  </clipPath>\n",
       "</defs>\n",
       "<path clip-path=\"url(#clip3400)\" d=\"\n",
       "M194.041 1487.47 L2352.76 1487.47 L2352.76 47.2441 L194.041 47.2441  Z\n",
       "  \" fill=\"#ffffff\" fill-rule=\"evenodd\" fill-opacity=\"1\"/>\n",
       "<defs>\n",
       "  <clipPath id=\"clip3402\">\n",
       "    <rect x=\"194\" y=\"47\" width=\"2160\" height=\"1441\"/>\n",
       "  </clipPath>\n",
       "</defs>\n",
       "<polyline clip-path=\"url(#clip3402)\" style=\"stroke:#000000; stroke-width:2; stroke-opacity:0.1; fill:none\" points=\"\n",
       "  252.366,1487.47 252.366,47.2441 \n",
       "  \"/>\n",
       "<polyline clip-path=\"url(#clip3402)\" style=\"stroke:#000000; stroke-width:2; stroke-opacity:0.1; fill:none\" points=\"\n",
       "  806.522,1487.47 806.522,47.2441 \n",
       "  \"/>\n",
       "<polyline clip-path=\"url(#clip3402)\" style=\"stroke:#000000; stroke-width:2; stroke-opacity:0.1; fill:none\" points=\"\n",
       "  1360.68,1487.47 1360.68,47.2441 \n",
       "  \"/>\n",
       "<polyline clip-path=\"url(#clip3402)\" style=\"stroke:#000000; stroke-width:2; stroke-opacity:0.1; fill:none\" points=\"\n",
       "  1914.83,1487.47 1914.83,47.2441 \n",
       "  \"/>\n",
       "<polyline clip-path=\"url(#clip3402)\" style=\"stroke:#000000; stroke-width:2; stroke-opacity:0.1; fill:none\" points=\"\n",
       "  194.041,1449.87 2352.76,1449.87 \n",
       "  \"/>\n",
       "<polyline clip-path=\"url(#clip3402)\" style=\"stroke:#000000; stroke-width:2; stroke-opacity:0.1; fill:none\" points=\"\n",
       "  194.041,1029.35 2352.76,1029.35 \n",
       "  \"/>\n",
       "<polyline clip-path=\"url(#clip3402)\" style=\"stroke:#000000; stroke-width:2; stroke-opacity:0.1; fill:none\" points=\"\n",
       "  194.041,608.836 2352.76,608.836 \n",
       "  \"/>\n",
       "<polyline clip-path=\"url(#clip3402)\" style=\"stroke:#000000; stroke-width:2; stroke-opacity:0.1; fill:none\" points=\"\n",
       "  194.041,188.319 2352.76,188.319 \n",
       "  \"/>\n",
       "<polyline clip-path=\"url(#clip3400)\" style=\"stroke:#000000; stroke-width:4; stroke-opacity:1; fill:none\" points=\"\n",
       "  194.041,1487.47 2352.76,1487.47 \n",
       "  \"/>\n",
       "<polyline clip-path=\"url(#clip3400)\" style=\"stroke:#000000; stroke-width:4; stroke-opacity:1; fill:none\" points=\"\n",
       "  194.041,1487.47 194.041,47.2441 \n",
       "  \"/>\n",
       "<polyline clip-path=\"url(#clip3400)\" style=\"stroke:#000000; stroke-width:4; stroke-opacity:1; fill:none\" points=\"\n",
       "  252.366,1487.47 252.366,1470.19 \n",
       "  \"/>\n",
       "<polyline clip-path=\"url(#clip3400)\" style=\"stroke:#000000; stroke-width:4; stroke-opacity:1; fill:none\" points=\"\n",
       "  806.522,1487.47 806.522,1470.19 \n",
       "  \"/>\n",
       "<polyline clip-path=\"url(#clip3400)\" style=\"stroke:#000000; stroke-width:4; stroke-opacity:1; fill:none\" points=\"\n",
       "  1360.68,1487.47 1360.68,1470.19 \n",
       "  \"/>\n",
       "<polyline clip-path=\"url(#clip3400)\" style=\"stroke:#000000; stroke-width:4; stroke-opacity:1; fill:none\" points=\"\n",
       "  1914.83,1487.47 1914.83,1470.19 \n",
       "  \"/>\n",
       "<polyline clip-path=\"url(#clip3400)\" style=\"stroke:#000000; stroke-width:4; stroke-opacity:1; fill:none\" points=\"\n",
       "  194.041,1449.87 219.946,1449.87 \n",
       "  \"/>\n",
       "<polyline clip-path=\"url(#clip3400)\" style=\"stroke:#000000; stroke-width:4; stroke-opacity:1; fill:none\" points=\"\n",
       "  194.041,1029.35 219.946,1029.35 \n",
       "  \"/>\n",
       "<polyline clip-path=\"url(#clip3400)\" style=\"stroke:#000000; stroke-width:4; stroke-opacity:1; fill:none\" points=\"\n",
       "  194.041,608.836 219.946,608.836 \n",
       "  \"/>\n",
       "<polyline clip-path=\"url(#clip3400)\" style=\"stroke:#000000; stroke-width:4; stroke-opacity:1; fill:none\" points=\"\n",
       "  194.041,188.319 219.946,188.319 \n",
       "  \"/>\n",
       "<g clip-path=\"url(#clip3400)\">\n",
       "<text style=\"fill:#000000; fill-opacity:1; font-family:Arial,Helvetica Neue,Helvetica,sans-serif; font-size:48px; text-anchor:middle;\" transform=\"rotate(0, 252.366, 1541.47)\" x=\"252.366\" y=\"1541.47\">0</text>\n",
       "</g>\n",
       "<g clip-path=\"url(#clip3400)\">\n",
       "<text style=\"fill:#000000; fill-opacity:1; font-family:Arial,Helvetica Neue,Helvetica,sans-serif; font-size:48px; text-anchor:middle;\" transform=\"rotate(0, 806.522, 1541.47)\" x=\"806.522\" y=\"1541.47\">200</text>\n",
       "</g>\n",
       "<g clip-path=\"url(#clip3400)\">\n",
       "<text style=\"fill:#000000; fill-opacity:1; font-family:Arial,Helvetica Neue,Helvetica,sans-serif; font-size:48px; text-anchor:middle;\" transform=\"rotate(0, 1360.68, 1541.47)\" x=\"1360.68\" y=\"1541.47\">400</text>\n",
       "</g>\n",
       "<g clip-path=\"url(#clip3400)\">\n",
       "<text style=\"fill:#000000; fill-opacity:1; font-family:Arial,Helvetica Neue,Helvetica,sans-serif; font-size:48px; text-anchor:middle;\" transform=\"rotate(0, 1914.83, 1541.47)\" x=\"1914.83\" y=\"1541.47\">600</text>\n",
       "</g>\n",
       "<g clip-path=\"url(#clip3400)\">\n",
       "<text style=\"fill:#000000; fill-opacity:1; font-family:Arial,Helvetica Neue,Helvetica,sans-serif; font-size:48px; text-anchor:end;\" transform=\"rotate(0, 170.041, 1467.37)\" x=\"170.041\" y=\"1467.37\">0</text>\n",
       "</g>\n",
       "<g clip-path=\"url(#clip3400)\">\n",
       "<text style=\"fill:#000000; fill-opacity:1; font-family:Arial,Helvetica Neue,Helvetica,sans-serif; font-size:48px; text-anchor:end;\" transform=\"rotate(0, 170.041, 1046.85)\" x=\"170.041\" y=\"1046.85\">1000</text>\n",
       "</g>\n",
       "<g clip-path=\"url(#clip3400)\">\n",
       "<text style=\"fill:#000000; fill-opacity:1; font-family:Arial,Helvetica Neue,Helvetica,sans-serif; font-size:48px; text-anchor:end;\" transform=\"rotate(0, 170.041, 626.336)\" x=\"170.041\" y=\"626.336\">2000</text>\n",
       "</g>\n",
       "<g clip-path=\"url(#clip3400)\">\n",
       "<text style=\"fill:#000000; fill-opacity:1; font-family:Arial,Helvetica Neue,Helvetica,sans-serif; font-size:48px; text-anchor:end;\" transform=\"rotate(0, 170.041, 205.819)\" x=\"170.041\" y=\"205.819\">3000</text>\n",
       "</g>\n",
       "<polyline clip-path=\"url(#clip3402)\" style=\"stroke:#009af9; stroke-width:4; stroke-opacity:1; fill:none\" points=\"\n",
       "  947.832,368.238 950.603,349.656 953.374,331.665 956.144,314.31 958.915,297.629 961.686,281.655 964.457,265.754 967.228,250.625 969.998,236.271 972.769,222.697 \n",
       "  975.54,209.89 978.311,197.257 981.081,185.408 983.852,174.36 986.623,164.108 989.394,154.656 992.165,145.468 994.935,137.073 997.706,129.475 1000.48,122.675 \n",
       "  1003.25,116.631 1006.02,110.883 1008.79,105.85 1011.56,101.534 1014.33,97.9032 1017.1,94.9459 1019.87,92.2577 1022.64,90.2311 1025.41,88.854 1028.18,88.1137 \n",
       "  1030.96,88.0053 1033.73,88.1577 1036.5,88.895 1039.27,90.1805 1042.04,91.9797 1044.81,94.2705 1047.58,96.7579 1050.35,99.7216 1053.12,103.148 1055.89,107.032 \n",
       "  1058.66,111.363 1061.43,115.875 1064.2,120.786 1066.98,126.08 1069.75,131.741 1072.52,137.737 1075.29,143.851 1078.06,150.284 1080.83,157.028 1083.6,164.071 \n",
       "  1086.37,171.401 1089.14,178.835 1091.91,186.537 1094.68,194.485 1097.45,202.653 1100.22,211.023 1103,219.428 1105.77,228.019 1108.54,236.789 1111.31,245.724 \n",
       "  1114.08,254.818 1116.85,263.931 1119.62,273.19 1122.39,282.59 1125.16,292.121 1127.93,301.767 1130.7,311.403 1133.47,321.128 1136.25,330.929 1139.02,340.804 \n",
       "  1141.79,350.739 1144.56,360.64 1147.33,370.601 1150.1,380.615 1152.87,390.682 1155.64,400.799 1158.41,410.877 1161.18,420.99 1163.95,431.114 1166.72,441.241 \n",
       "  1169.49,451.372 1172.27,461.435 1175.04,471.5 1177.81,481.564 1180.58,491.628 1183.35,501.692 1186.12,511.697 1188.89,521.681 1191.66,531.642 1194.43,541.572 \n",
       "  1197.2,551.465 1199.97,561.279 1202.74,571.058 1205.51,580.803 1208.29,590.513 1211.06,600.189 1213.83,609.798 1216.6,619.358 1219.37,628.867 1222.14,638.315 \n",
       "  1224.91,647.708 1227.68,657.007 1230.45,666.249 1233.22,675.433 1235.99,684.56 1238.76,693.634 1241.53,702.629 1244.31,711.569 1247.08,720.436 1249.85,729.237 \n",
       "  1252.62,737.963 1255.39,746.592 1258.16,755.152 1260.93,763.642 1263.7,772.065 1266.47,780.425 1269.24,788.71 1272.01,796.923 1274.78,805.064 1277.55,813.126 \n",
       "  1280.33,821.107 1283.1,828.993 1285.87,836.806 1288.64,844.545 1291.41,852.212 1294.18,859.807 1296.95,867.322 1299.72,874.768 1302.49,882.14 1305.26,889.438 \n",
       "  1308.03,896.661 1310.8,903.795 1313.58,910.855 1316.35,917.84 1319.12,924.751 1321.89,931.59 1324.66,938.348 1327.43,945.037 1330.2,951.661 1332.97,958.217 \n",
       "  1335.74,964.699 1338.51,971.099 1341.28,977.424 1344.05,983.674 1346.82,989.851 1349.6,995.957 1352.37,1001.99 1355.14,1007.96 1357.91,1013.86 1360.68,1019.7 \n",
       "  1363.45,1025.47 1366.22,1031.17 1368.99,1036.79 1371.76,1042.35 1374.53,1047.83 1377.3,1053.25 1380.07,1058.61 1382.84,1063.9 1385.62,1069.13 1388.39,1074.3 \n",
       "  1391.16,1079.41 1393.93,1084.46 1396.7,1089.43 1399.47,1094.35 1402.24,1099.2 1405.01,1103.99 1407.78,1108.72 1410.55,1113.39 1413.32,1118 1416.09,1122.55 \n",
       "  1418.86,1127.05 1421.64,1131.5 1424.41,1135.89 1427.18,1140.22 1429.95,1144.5 1432.72,1148.72 1435.49,1152.89 1438.26,1156.99 1441.03,1161.05 1443.8,1165.06 \n",
       "  1446.57,1169.01 1449.34,1172.91 1452.11,1176.77 1454.88,1180.58 1457.66,1184.33 1460.43,1188.04 1463.2,1191.69 1465.97,1195.3 1468.74,1198.85 1471.51,1202.36 \n",
       "  1474.28,1205.82 1477.05,1209.24 1479.82,1212.61 1482.59,1215.94 1485.36,1219.23 1488.13,1222.47 1490.9,1225.67 1493.68,1228.83 1496.45,1231.94 1499.22,1235.01 \n",
       "  1501.99,1238.03 1504.76,1241.02 1507.53,1243.97 1510.3,1246.87 1513.07,1249.74 1515.84,1252.57 1518.61,1255.37 1521.38,1258.13 1524.15,1260.85 1526.93,1263.53 \n",
       "  1529.7,1266.17 1532.47,1268.77 1535.24,1271.34 1538.01,1273.88 1540.78,1276.38 1543.55,1278.85 1546.32,1281.28 1549.09,1283.68 1551.86,1286.05 1554.63,1288.39 \n",
       "  1557.4,1290.69 1560.17,1292.95 1562.95,1295.19 1565.72,1297.39 1568.49,1299.57 1571.26,1301.71 1574.03,1303.83 1576.8,1305.92 1579.57,1307.98 1582.34,1310.01 \n",
       "  1585.11,1312.01 1587.88,1313.98 1590.65,1315.92 1593.42,1317.84 1596.19,1319.73 1598.97,1321.59 1601.74,1323.43 1604.51,1325.25 1607.28,1327.03 1610.05,1328.8 \n",
       "  1612.82,1330.54 1615.59,1332.25 1618.36,1333.95 1621.13,1335.61 1623.9,1337.26 1626.67,1338.88 1629.44,1340.47 1632.21,1342.05 1634.99,1343.6 1637.76,1345.13 \n",
       "  1640.53,1346.64 1643.3,1348.13 1646.07,1349.6 1648.84,1351.05 1651.61,1352.48 1654.38,1353.88 1657.15,1355.27 1659.92,1356.64 1662.69,1357.98 1665.46,1359.31 \n",
       "  1668.23,1360.62 1671.01,1361.91 1673.78,1363.19 1676.55,1364.44 1679.32,1365.68 1682.09,1366.9 1684.86,1368.1 1687.63,1369.29 1690.4,1370.45 1693.17,1371.61 \n",
       "  1695.94,1372.74 1698.71,1373.86 1701.48,1374.97 1704.25,1376.06 1707.03,1377.13 1709.8,1378.18 1712.57,1379.23 1715.34,1380.25 1718.11,1381.26 1720.88,1382.26 \n",
       "  1723.65,1383.25 1726.42,1384.22 1729.19,1385.17 1731.96,1386.11 1734.73,1387.04 1737.5,1387.96 1740.28,1388.86 1743.05,1389.75 1745.82,1390.62 1748.59,1391.49 \n",
       "  1751.36,1392.34 1754.13,1393.18 1756.9,1394.01 1759.67,1394.82 1762.44,1395.62 1765.21,1396.42 1767.98,1397.2 1770.75,1397.97 1773.52,1398.72 1776.3,1399.47 \n",
       "  1779.07,1400.21 1781.84,1400.93 1784.61,1401.65 1787.38,1402.36 1790.15,1403.05 1792.92,1403.74 1795.69,1404.41 1798.46,1405.08 1801.23,1405.73 1804,1406.38 \n",
       "  1806.77,1407.01 1809.54,1407.64 1812.32,1408.26 1815.09,1408.87 1817.86,1409.47 1820.63,1410.06 1823.4,1410.65 1826.17,1411.22 1828.94,1411.79 1831.71,1412.35 \n",
       "  1834.48,1412.9 1837.25,1413.44 1840.02,1413.98 1842.79,1414.5 1845.56,1415.02 1848.34,1415.53 1851.11,1416.04 1853.88,1416.53 1856.65,1417.02 1859.42,1417.51 \n",
       "  1862.19,1417.98 1864.96,1418.45 1867.73,1418.91 1870.5,1419.37 1873.27,1419.82 1876.04,1420.26 1878.81,1420.69 1881.58,1421.12 1884.36,1421.55 1887.13,1421.96 \n",
       "  1889.9,1422.37 1892.67,1422.78 1895.44,1423.18 1898.21,1423.57 1900.98,1423.96 1903.75,1424.34 1906.52,1424.71 1909.29,1425.08 1912.06,1425.45 1914.83,1425.81 \n",
       "  1917.6,1426.16 1920.38,1426.51 1923.15,1426.86 1925.92,1427.2 1928.69,1427.53 1931.46,1427.86 1934.23,1428.19 1937,1428.51 1939.77,1428.82 1942.54,1429.13 \n",
       "  1945.31,1429.44 1948.08,1429.74 1950.85,1430.04 1953.63,1430.33 1956.4,1430.62 1959.17,1430.9 1961.94,1431.18 1964.71,1431.46 1967.48,1431.73 1970.25,1432 \n",
       "  1973.02,1432.26 1975.79,1432.52 1978.56,1432.78 1981.33,1433.03 1984.1,1433.28 1986.87,1433.52 1989.65,1433.77 1992.42,1434 1995.19,1434.24 1997.96,1434.47 \n",
       "  2000.73,1434.7 2003.5,1434.92 2006.27,1435.14 2009.04,1435.36 2011.81,1435.57 2014.58,1435.79 2017.35,1435.99 2020.12,1436.2 2022.89,1436.4 2025.67,1436.6 \n",
       "  2028.44,1436.8 2031.21,1436.99 2033.98,1437.18 2036.75,1437.37 2039.52,1437.55 2042.29,1437.74 2045.06,1437.92 2047.83,1438.09 2050.6,1438.27 2053.37,1438.44 \n",
       "  2056.14,1438.61 2058.91,1438.78 2061.69,1438.94 2064.46,1439.1 2067.23,1439.26 2070,1439.42 2072.77,1439.57 2075.54,1439.73 2078.31,1439.88 2081.08,1440.02 \n",
       "  2083.85,1440.17 2086.62,1440.31 2089.39,1440.46 2092.16,1440.6 2094.93,1440.73 2097.71,1440.87 2100.48,1441 2103.25,1441.13 2106.02,1441.26 2108.79,1441.39 \n",
       "  2111.56,1441.52 2114.33,1441.64 2117.1,1441.76 2119.87,1441.88 2122.64,1442 2125.41,1442.12 2128.18,1442.23 2130.95,1442.35 2133.73,1442.46 2136.5,1442.57 \n",
       "  2139.27,1442.68 2142.04,1442.78 2144.81,1442.89 2147.58,1442.99 2150.35,1443.09 2153.12,1443.19 2155.89,1443.29 2158.66,1443.39 2161.43,1443.49 2164.2,1443.58 \n",
       "  2166.98,1443.68 2169.75,1443.77 2172.52,1443.86 2175.29,1443.95 2178.06,1444.03 2180.83,1444.12 2183.6,1444.21 2186.37,1444.29 2189.14,1444.38 2191.91,1444.46 \n",
       "  2194.68,1444.54 2197.45,1444.62 2200.22,1444.7 2203,1444.77 2205.77,1444.85 2208.54,1444.92 2211.31,1445 2214.08,1445.07 2216.85,1445.14 2219.62,1445.21 \n",
       "  2222.39,1445.28 2225.16,1445.35 2227.93,1445.42 2230.7,1445.48 2233.47,1445.55 2236.24,1445.61 2239.02,1445.67 2241.79,1445.74 2244.56,1445.8 2247.33,1445.86 \n",
       "  2250.1,1445.92 2252.87,1445.98 2255.64,1446.03 2258.41,1446.09 2261.18,1446.15 2263.95,1446.2 2266.72,1446.26 2269.49,1446.31 2272.26,1446.36 2275.04,1446.42 \n",
       "  2277.81,1446.47 2280.58,1446.52 2283.35,1446.57 2286.12,1446.62 2288.89,1446.67 2291.66,1446.71 \n",
       "  \"/>\n",
       "<path clip-path=\"url(#clip3400)\" d=\"\n",
       "M1989.93 251.724 L2280.76 251.724 L2280.76 130.764 L1989.93 130.764  Z\n",
       "  \" fill=\"#ffffff\" fill-rule=\"evenodd\" fill-opacity=\"1\"/>\n",
       "<polyline clip-path=\"url(#clip3400)\" style=\"stroke:#000000; stroke-width:4; stroke-opacity:1; fill:none\" points=\"\n",
       "  1989.93,251.724 2280.76,251.724 2280.76,130.764 1989.93,130.764 1989.93,251.724 \n",
       "  \"/>\n",
       "<polyline clip-path=\"url(#clip3400)\" style=\"stroke:#009af9; stroke-width:4; stroke-opacity:1; fill:none\" points=\"\n",
       "  2013.93,191.244 2157.93,191.244 \n",
       "  \"/>\n",
       "<g clip-path=\"url(#clip3400)\">\n",
       "<text style=\"fill:#000000; fill-opacity:1; font-family:Arial,Helvetica Neue,Helvetica,sans-serif; font-size:48px; text-anchor:start;\" transform=\"rotate(0, 2181.93, 208.744)\" x=\"2181.93\" y=\"208.744\">y1</text>\n",
       "</g>\n",
       "</svg>\n"
      ]
     },
     "execution_count": 39,
     "metadata": {},
     "output_type": "execute_result"
    }
   ],
   "source": [
    "plot(DICEFARM[:welfare, :CEMUTOTPER])"
   ]
  },
  {
   "cell_type": "code",
   "execution_count": 26,
   "metadata": {},
   "outputs": [
    {
     "name": "stderr",
     "output_type": "stream",
     "text": [
      "┌ Warning: interpolate(A, BSpline(Linear()), OnGrid()) is deprecated, use interpolate(A, BSpline(Linear()))\n",
      "│   caller = dice_interpolate(::Array{Float64,1}, ::Int64) at helpers.jl:61\n",
      "└ @ Main C:\\Users\\Kevin\\Documents\\GitHub\\DICEFARM\\src_scw\\helpers.jl:61\n"
     ]
    },
    {
     "name": "stdout",
     "output_type": "stream",
     "text": [
      "Costs of Non-Veg in Baseline are [161703.83900226757, 135490.39682539683, 112824.73469387754, 92964.47619047618, 75368.95238095238, 59633.551020408166, 45448.45351473923, 32572.009070294785, 20812.308390022677, 10015.092970521542, 54.16780045351474, -9174.349206349207, -17756.88888888889, -25766.47619047619, -33265.01587301587, -40305.26077097506, -46932.244897959186, -53185.85034013606, -59099.87301587302, -64704.90702947846][2]\n"
     ]
    },
    {
     "name": "stderr",
     "output_type": "stream",
     "text": [
      "┌ Warning: `getindex(itp::AbstractInterpolation{T, N}, i::Vararg{ExpandedIndexTypes, N}) where {T, N}` is deprecated, use `itp(i...)` instead.\n",
      "│   caller = dice_interpolate(::Array{Float64,1}, ::Int64) at helpers.jl:67\n",
      "└ @ Main C:\\Users\\Kevin\\Documents\\GitHub\\DICEFARM\\src_scw\\helpers.jl:67\n"
     ]
    },
    {
     "name": "stdout",
     "output_type": "stream",
     "text": [
      "Costs of Beef in Baseline are 54.65986394557823\n",
      "Costs of Pork in Baseline are 31.841269841269842\n",
      "Costs of Poultry in Baseline are 315.73015873015873\n"
     ]
    }
   ],
   "source": [
    "include(\"SCW_Analysis.jl\")"
   ]
  },
  {
   "cell_type": "code",
   "execution_count": 37,
   "metadata": {},
   "outputs": [],
   "source": [
    "plot(SufferingEquiv, SCs, color=[:brown :red :gold], label=[\"Beef\" \"Pork\" \"Poultry\"], lw=[1.1], ylabel=\"Social Costs of Marginal Consumption (\\$)\", xlabel=\"Farmed Animal Utility (\\$ per Day-Human Utility)\")\n",
    "savefig(\"ByAnimal.pdf\")"
   ]
  },
  {
   "cell_type": "code",
   "execution_count": 4,
   "metadata": {},
   "outputs": [
    {
     "data": {
      "text/plain": [
       "20×3 Array{Float64,2}:\n",
       "  65.1905     37.9728      376.814     \n",
       "  54.6599     31.8413      315.73      \n",
       "  45.5374     26.4943      262.875     \n",
       "  37.5601     21.8503      216.603     \n",
       "  30.4626     17.7052      175.569     \n",
       "  24.1859     14.0272      138.889     \n",
       "  18.449      10.712       105.841     \n",
       "  13.2426      7.67347      75.8186    \n",
       "   8.54422     4.90703      48.4082    \n",
       "   4.19048     2.36735      23.2381    \n",
       "   0.217687    0.0272109     0.00907029\n",
       "  -3.53741    -2.14059     -21.4966    \n",
       "  -6.97506    -4.13605     -41.4966    \n",
       " -10.2041     -6.02268     -60.1723    \n",
       " -13.2154     -7.77324     -77.6236    \n",
       " -16.0544     -9.44218     -94.059     \n",
       " -18.6848    -10.966      -109.497     \n",
       " -21.2336    -12.4535     -124.091     \n",
       " -23.5828    -13.8503     -137.859     \n",
       " -25.8776    -15.1565     -150.921     "
      ]
     },
     "execution_count": 4,
     "metadata": {},
     "output_type": "execute_result"
    }
   ],
   "source": [
    "SCs"
   ]
  },
  {
   "cell_type": "code",
   "execution_count": 33,
   "metadata": {},
   "outputs": [
    {
     "data": {
      "image/svg+xml": [
       "<?xml version=\"1.0\" encoding=\"utf-8\"?>\n",
       "<svg xmlns=\"http://www.w3.org/2000/svg\" xmlns:xlink=\"http://www.w3.org/1999/xlink\" width=\"600\" height=\"400\" viewBox=\"0 0 2400 1600\">\n",
       "<defs>\n",
       "  <clipPath id=\"clip3100\">\n",
       "    <rect x=\"0\" y=\"0\" width=\"2400\" height=\"1600\"/>\n",
       "  </clipPath>\n",
       "</defs>\n",
       "<path clip-path=\"url(#clip3100)\" d=\"\n",
       "M0 1600 L2400 1600 L2400 0 L0 0  Z\n",
       "  \" fill=\"#ffffff\" fill-rule=\"evenodd\" fill-opacity=\"1\"/>\n",
       "<defs>\n",
       "  <clipPath id=\"clip3101\">\n",
       "    <rect x=\"480\" y=\"0\" width=\"1681\" height=\"1600\"/>\n",
       "  </clipPath>\n",
       "</defs>\n",
       "<path clip-path=\"url(#clip3100)\" d=\"\n",
       "M243.864 1425.62 L2352.76 1425.62 L2352.76 47.2441 L243.864 47.2441  Z\n",
       "  \" fill=\"#ffffff\" fill-rule=\"evenodd\" fill-opacity=\"1\"/>\n",
       "<defs>\n",
       "  <clipPath id=\"clip3102\">\n",
       "    <rect x=\"243\" y=\"47\" width=\"2110\" height=\"1379\"/>\n",
       "  </clipPath>\n",
       "</defs>\n",
       "<polyline clip-path=\"url(#clip3102)\" style=\"stroke:#000000; stroke-width:2; stroke-opacity:0.1; fill:none\" points=\"\n",
       "  253.812,1425.62 253.812,47.2441 \n",
       "  \"/>\n",
       "<polyline clip-path=\"url(#clip3102)\" style=\"stroke:#000000; stroke-width:2; stroke-opacity:0.1; fill:none\" points=\"\n",
       "  935.154,1425.62 935.154,47.2441 \n",
       "  \"/>\n",
       "<polyline clip-path=\"url(#clip3102)\" style=\"stroke:#000000; stroke-width:2; stroke-opacity:0.1; fill:none\" points=\"\n",
       "  1616.5,1425.62 1616.5,47.2441 \n",
       "  \"/>\n",
       "<polyline clip-path=\"url(#clip3102)\" style=\"stroke:#000000; stroke-width:2; stroke-opacity:0.1; fill:none\" points=\"\n",
       "  2297.84,1425.62 2297.84,47.2441 \n",
       "  \"/>\n",
       "<polyline clip-path=\"url(#clip3102)\" style=\"stroke:#000000; stroke-width:2; stroke-opacity:0.1; fill:none\" points=\"\n",
       "  243.864,1213.8 2352.76,1213.8 \n",
       "  \"/>\n",
       "<polyline clip-path=\"url(#clip3102)\" style=\"stroke:#000000; stroke-width:2; stroke-opacity:0.1; fill:none\" points=\"\n",
       "  243.864,984.851 2352.76,984.851 \n",
       "  \"/>\n",
       "<polyline clip-path=\"url(#clip3102)\" style=\"stroke:#000000; stroke-width:2; stroke-opacity:0.1; fill:none\" points=\"\n",
       "  243.864,755.901 2352.76,755.901 \n",
       "  \"/>\n",
       "<polyline clip-path=\"url(#clip3102)\" style=\"stroke:#000000; stroke-width:2; stroke-opacity:0.1; fill:none\" points=\"\n",
       "  243.864,526.951 2352.76,526.951 \n",
       "  \"/>\n",
       "<polyline clip-path=\"url(#clip3102)\" style=\"stroke:#000000; stroke-width:2; stroke-opacity:0.1; fill:none\" points=\"\n",
       "  243.864,298.001 2352.76,298.001 \n",
       "  \"/>\n",
       "<polyline clip-path=\"url(#clip3102)\" style=\"stroke:#000000; stroke-width:2; stroke-opacity:0.1; fill:none\" points=\"\n",
       "  243.864,69.0514 2352.76,69.0514 \n",
       "  \"/>\n",
       "<polyline clip-path=\"url(#clip3100)\" style=\"stroke:#000000; stroke-width:4; stroke-opacity:1; fill:none\" points=\"\n",
       "  243.864,1425.62 2352.76,1425.62 \n",
       "  \"/>\n",
       "<polyline clip-path=\"url(#clip3100)\" style=\"stroke:#000000; stroke-width:4; stroke-opacity:1; fill:none\" points=\"\n",
       "  243.864,1425.62 243.864,47.2441 \n",
       "  \"/>\n",
       "<polyline clip-path=\"url(#clip3100)\" style=\"stroke:#000000; stroke-width:4; stroke-opacity:1; fill:none\" points=\"\n",
       "  253.812,1425.62 253.812,1409.08 \n",
       "  \"/>\n",
       "<polyline clip-path=\"url(#clip3100)\" style=\"stroke:#000000; stroke-width:4; stroke-opacity:1; fill:none\" points=\"\n",
       "  935.154,1425.62 935.154,1409.08 \n",
       "  \"/>\n",
       "<polyline clip-path=\"url(#clip3100)\" style=\"stroke:#000000; stroke-width:4; stroke-opacity:1; fill:none\" points=\"\n",
       "  1616.5,1425.62 1616.5,1409.08 \n",
       "  \"/>\n",
       "<polyline clip-path=\"url(#clip3100)\" style=\"stroke:#000000; stroke-width:4; stroke-opacity:1; fill:none\" points=\"\n",
       "  2297.84,1425.62 2297.84,1409.08 \n",
       "  \"/>\n",
       "<polyline clip-path=\"url(#clip3100)\" style=\"stroke:#000000; stroke-width:4; stroke-opacity:1; fill:none\" points=\"\n",
       "  243.864,1213.8 269.171,1213.8 \n",
       "  \"/>\n",
       "<polyline clip-path=\"url(#clip3100)\" style=\"stroke:#000000; stroke-width:4; stroke-opacity:1; fill:none\" points=\"\n",
       "  243.864,984.851 269.171,984.851 \n",
       "  \"/>\n",
       "<polyline clip-path=\"url(#clip3100)\" style=\"stroke:#000000; stroke-width:4; stroke-opacity:1; fill:none\" points=\"\n",
       "  243.864,755.901 269.171,755.901 \n",
       "  \"/>\n",
       "<polyline clip-path=\"url(#clip3100)\" style=\"stroke:#000000; stroke-width:4; stroke-opacity:1; fill:none\" points=\"\n",
       "  243.864,526.951 269.171,526.951 \n",
       "  \"/>\n",
       "<polyline clip-path=\"url(#clip3100)\" style=\"stroke:#000000; stroke-width:4; stroke-opacity:1; fill:none\" points=\"\n",
       "  243.864,298.001 269.171,298.001 \n",
       "  \"/>\n",
       "<polyline clip-path=\"url(#clip3100)\" style=\"stroke:#000000; stroke-width:4; stroke-opacity:1; fill:none\" points=\"\n",
       "  243.864,69.0514 269.171,69.0514 \n",
       "  \"/>\n",
       "<g clip-path=\"url(#clip3100)\">\n",
       "<text style=\"fill:#000000; fill-opacity:1; font-family:Arial,Helvetica Neue,Helvetica,sans-serif; font-size:48px; text-anchor:middle;\" transform=\"rotate(0, 253.812, 1479.62)\" x=\"253.812\" y=\"1479.62\">0</text>\n",
       "</g>\n",
       "<g clip-path=\"url(#clip3100)\">\n",
       "<text style=\"fill:#000000; fill-opacity:1; font-family:Arial,Helvetica Neue,Helvetica,sans-serif; font-size:48px; text-anchor:middle;\" transform=\"rotate(0, 935.154, 1479.62)\" x=\"935.154\" y=\"1479.62\">5</text>\n",
       "</g>\n",
       "<g clip-path=\"url(#clip3100)\">\n",
       "<text style=\"fill:#000000; fill-opacity:1; font-family:Arial,Helvetica Neue,Helvetica,sans-serif; font-size:48px; text-anchor:middle;\" transform=\"rotate(0, 1616.5, 1479.62)\" x=\"1616.5\" y=\"1479.62\">10</text>\n",
       "</g>\n",
       "<g clip-path=\"url(#clip3100)\">\n",
       "<text style=\"fill:#000000; fill-opacity:1; font-family:Arial,Helvetica Neue,Helvetica,sans-serif; font-size:48px; text-anchor:middle;\" transform=\"rotate(0, 2297.84, 1479.62)\" x=\"2297.84\" y=\"1479.62\">15</text>\n",
       "</g>\n",
       "<g clip-path=\"url(#clip3100)\">\n",
       "<text style=\"fill:#000000; fill-opacity:1; font-family:Arial,Helvetica Neue,Helvetica,sans-serif; font-size:48px; text-anchor:end;\" transform=\"rotate(0, 219.864, 1231.3)\" x=\"219.864\" y=\"1231.3\">-0.5</text>\n",
       "</g>\n",
       "<g clip-path=\"url(#clip3100)\">\n",
       "<text style=\"fill:#000000; fill-opacity:1; font-family:Arial,Helvetica Neue,Helvetica,sans-serif; font-size:48px; text-anchor:end;\" transform=\"rotate(0, 219.864, 1002.35)\" x=\"219.864\" y=\"1002.35\">0.0</text>\n",
       "</g>\n",
       "<g clip-path=\"url(#clip3100)\">\n",
       "<text style=\"fill:#000000; fill-opacity:1; font-family:Arial,Helvetica Neue,Helvetica,sans-serif; font-size:48px; text-anchor:end;\" transform=\"rotate(0, 219.864, 773.401)\" x=\"219.864\" y=\"773.401\">0.5</text>\n",
       "</g>\n",
       "<g clip-path=\"url(#clip3100)\">\n",
       "<text style=\"fill:#000000; fill-opacity:1; font-family:Arial,Helvetica Neue,Helvetica,sans-serif; font-size:48px; text-anchor:end;\" transform=\"rotate(0, 219.864, 544.451)\" x=\"219.864\" y=\"544.451\">1.0</text>\n",
       "</g>\n",
       "<g clip-path=\"url(#clip3100)\">\n",
       "<text style=\"fill:#000000; fill-opacity:1; font-family:Arial,Helvetica Neue,Helvetica,sans-serif; font-size:48px; text-anchor:end;\" transform=\"rotate(0, 219.864, 315.501)\" x=\"219.864\" y=\"315.501\">1.5</text>\n",
       "</g>\n",
       "<g clip-path=\"url(#clip3100)\">\n",
       "<text style=\"fill:#000000; fill-opacity:1; font-family:Arial,Helvetica Neue,Helvetica,sans-serif; font-size:48px; text-anchor:end;\" transform=\"rotate(0, 219.864, 86.5514)\" x=\"219.864\" y=\"86.5514\">2.0</text>\n",
       "</g>\n",
       "<g clip-path=\"url(#clip3100)\">\n",
       "<text style=\"fill:#000000; fill-opacity:1; font-family:Arial,Helvetica Neue,Helvetica,sans-serif; font-size:66px; text-anchor:middle;\" transform=\"rotate(0, 1298.31, 1559.48)\" x=\"1298.31\" y=\"1559.48\">Consumption (Thousands $ Annually)</text>\n",
       "</g>\n",
       "<g clip-path=\"url(#clip3100)\">\n",
       "<text style=\"fill:#000000; fill-opacity:1; font-family:Arial,Helvetica Neue,Helvetica,sans-serif; font-size:66px; text-anchor:middle;\" transform=\"rotate(-90, 89.2861, 736.431)\" x=\"89.2861\" y=\"736.431\">Utility (Less Critical Level)</text>\n",
       "</g>\n",
       "<polyline clip-path=\"url(#clip3102)\" style=\"stroke:#009af9; stroke-width:4.4; stroke-opacity:1; fill:none\" points=\"\n",
       "  303.55,1386.61 317.177,1221.28 330.803,1100.75 344.43,1007.72 358.057,933.028 371.684,871.288 385.311,819.111 398.938,774.235 412.565,735.084 426.191,700.524 \n",
       "  439.818,669.714 453.445,642.013 467.072,616.926 480.699,594.061 494.326,573.105 507.953,553.803 521.579,535.947 535.206,519.361 548.833,503.901 562.46,489.443 \n",
       "  576.087,475.882 589.714,463.128 603.341,451.103 616.967,439.739 630.594,428.977 644.221,418.765 657.848,409.057 671.475,399.813 685.102,390.996 698.729,382.573 \n",
       "  712.355,374.517 725.982,366.801 739.609,359.401 753.236,352.296 766.863,345.467 780.49,338.896 794.116,332.566 807.743,326.464 821.37,320.576 834.997,314.89 \n",
       "  848.624,309.393 862.251,304.076 875.878,298.93 889.504,293.944 903.131,289.11 916.758,284.422 930.385,279.871 944.012,275.451 957.639,271.156 971.266,266.98 \n",
       "  984.892,262.917 998.519,258.963 1012.15,255.112 1025.77,251.36 1039.4,247.703 1053.03,244.137 1066.65,240.658 1080.28,237.263 1093.91,233.948 1107.53,230.709 \n",
       "  1121.16,227.545 1134.79,224.453 1148.41,221.428 1162.04,218.47 1175.67,215.576 1189.3,212.743 1202.92,209.969 1216.55,207.252 1230.18,204.591 1243.8,201.982 \n",
       "  1257.43,199.426 1271.06,196.919 1284.68,194.46 1298.31,192.048 1311.94,189.682 1325.56,187.359 1339.19,185.078 1352.82,182.839 1366.44,180.64 1380.07,178.479 \n",
       "  1393.7,176.356 1407.32,174.269 1420.95,172.218 1434.58,170.201 1448.21,168.218 1461.83,166.267 1475.46,164.348 1489.09,162.46 1502.71,160.601 1516.34,158.772 \n",
       "  1529.97,156.971 1543.59,155.198 1557.22,153.452 1570.85,151.732 1584.47,150.038 1598.1,148.368 1611.73,146.724 1625.35,145.102 1638.98,143.504 1652.61,141.929 \n",
       "  1666.24,140.376 1679.86,138.844 1693.49,137.333 1707.12,135.843 1720.74,134.373 1734.37,132.923 1748,131.492 1761.62,130.08 1775.25,128.686 1788.88,127.31 \n",
       "  1802.5,125.952 1816.13,124.611 1829.76,123.287 1843.38,121.979 1857.01,120.688 1870.64,119.412 1884.26,118.152 1897.89,116.907 1911.52,115.677 1925.15,114.461 \n",
       "  1938.77,113.26 1952.4,112.073 1966.03,110.899 1979.65,109.739 1993.28,108.592 2006.91,107.458 2020.53,106.337 2034.16,105.228 2047.79,104.132 2061.41,103.047 \n",
       "  2075.04,101.975 2088.67,100.913 2102.29,99.8636 2115.92,98.825 2129.55,97.7974 2143.17,96.7805 2156.8,95.7742 2170.43,94.7783 2184.06,93.7927 2197.68,92.817 \n",
       "  2211.31,91.8512 2224.94,90.8952 2238.56,89.9486 2252.19,89.0115 2265.82,88.0835 2279.44,87.1646 2293.07,86.2547 \n",
       "  \"/>\n",
       "<polyline clip-path=\"url(#clip3102)\" style=\"stroke:#000000; stroke-width:4; stroke-opacity:1; fill:none\" stroke-dasharray=\"16, 10\" points=\"\n",
       "  -1865.03,984.851 4461.65,984.851 \n",
       "  \"/>\n",
       "</svg>\n"
      ]
     },
     "execution_count": 33,
     "metadata": {},
     "output_type": "execute_result"
    }
   ],
   "source": [
    "using Plots\n",
    "x = collect(.365:.1:15)\n",
    "CL = ((365*.0019) ^ (1 - 1.45) - 1) / (1 - 1.45)\n",
    "y = ((x.^(1 - 1.45) - ones(length(x))) / (1 - 1.45)) - CL*ones(length(x))\n",
    "plot(x, y, legend=false, lw=1.1, ylabel=\"Utility (Less Critical Level)\", xlabel=\"Consumption (Thousands \\$ Annually)\")\n",
    "hline!([0], linestyle=:dash, linecolor=:black)"
   ]
  },
  {
   "cell_type": "code",
   "execution_count": 34,
   "metadata": {},
   "outputs": [],
   "source": [
    "## Utility Plot\n",
    "x = collect(.365:.1:15)\n",
    "CL = ((365*.0019) ^ (1 - 1.45) - 1) / (1 - 1.45)\n",
    "y = ((x.^(1 - 1.45) - ones(length(x))) / (1 - 1.45)) - CL*ones(length(x))\n",
    "plot(x, y, legend=false, lw=1.1, ylabel=\"Utility (Less Critical Level)\", xlabel=\"Consumption (Thousands \\$ Annually)\")\n",
    "hline!([0], linestyle=:dash, linecolor=:black)\n",
    "savefig(\"UtilityPlot.pdf\")"
   ]
  },
  {
   "cell_type": "code",
   "execution_count": 11,
   "metadata": {},
   "outputs": [],
   "source": [
    "run(m)"
   ]
  },
  {
   "cell_type": "code",
   "execution_count": 12,
   "metadata": {},
   "outputs": [
    {
     "name": "stdout",
     "output_type": "stream",
     "text": [
      "\r\n"
     ]
    },
    {
     "data": {
      "text/plain": [
       "Electron.Window(Application(Base.PipeEndpoint(Base.Libc.WindowsRawSocket(0x00000000000003d4) open, 0 bytes waiting), Process(`\u001b[4m'C:\\Users\\Kevin\\.julia\\packages\\Electron\\aRIgh\\src\\..\\deps\\electron\\electron.exe'\u001b[24m \u001b[4m'C:\\Users\\Kevin\\.julia\\packages\\Electron\\aRIgh\\src\\main.js'\u001b[24m \u001b[4m'\\\\.\\pipe\\juliaelectron-1348-1'\u001b[24m \u001b[4m'\\\\.\\pipe\\juliaelectron-sysnotify-1348-1'\u001b[24m \u001b[4mtI897+6AD1hz/2g6Qqj18/cWzBa0WeGaWNvNcZyiMrjMswugyFzo6VH+KSYBtGZ3HFVWKHlquK7a4vlW/MW47fuxN9cndqRE4puibmMEgKM4qVKT1ZdIjiKfywKuXN1l2tNgPw9eDnH9N2lzH1ckOBSDPCEC+7+2YNv8r2QFsXo=\u001b[24m`, ProcessRunning), [1 window]), 1, true, Channel{Any}(sz_max:128,sz_curr:0))"
      ]
     },
     "execution_count": 12,
     "metadata": {},
     "output_type": "execute_result"
    }
   ],
   "source": [
    "explore(m)"
   ]
  },
  {
   "cell_type": "code",
   "execution_count": 14,
   "metadata": {},
   "outputs": [
    {
     "data": {
      "text/plain": [
       "11-element Array{Union{Missing, Float64},1}:\n",
       "   missing         \n",
       " 10.487971899274013\n",
       " 10.699332088356625\n",
       " 10.915998065491769\n",
       " 11.137709890639286\n",
       " 11.364234806788264\n",
       " 11.595326569487224\n",
       " 11.838564109121268\n",
       " 12.086253798302813\n",
       " 12.338364788002021\n",
       " 12.594834267146668"
      ]
     },
     "execution_count": 14,
     "metadata": {},
     "output_type": "execute_result"
    }
   ],
   "source": [
    "m[:welfare, :CPC][250:260]"
   ]
  },
  {
   "cell_type": "code",
   "execution_count": 45,
   "metadata": {},
   "outputs": [
    {
     "data": {
      "text/plain": [
       "1540.0"
      ]
     },
     "execution_count": 45,
     "metadata": {},
     "output_type": "execute_result"
    }
   ],
   "source": [
    "1600-300(.20)"
   ]
  },
  {
   "cell_type": "code",
   "execution_count": 46,
   "metadata": {},
   "outputs": [
    {
     "data": {
      "text/plain": [
       "1540.0"
      ]
     },
     "execution_count": 46,
     "metadata": {},
     "output_type": "execute_result"
    }
   ],
   "source": [
    "1400+700*.2"
   ]
  },
  {
   "cell_type": "code",
   "execution_count": null,
   "metadata": {},
   "outputs": [],
   "source": []
  }
 ],
 "metadata": {
  "kernelspec": {
   "display_name": "Julia 1.3.0",
   "language": "julia",
   "name": "julia-1.3"
  },
  "language_info": {
   "file_extension": ".jl",
   "mimetype": "application/julia",
   "name": "julia",
   "version": "1.3.0"
  }
 },
 "nbformat": 4,
 "nbformat_minor": 2
}
