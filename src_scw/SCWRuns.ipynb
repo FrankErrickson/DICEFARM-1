{
 "cells": [
  {
   "cell_type": "code",
   "execution_count": 34,
   "metadata": {},
   "outputs": [
    {
     "name": "stderr",
     "output_type": "stream",
     "text": [
      "┌ Warning: interpolate(A, BSpline(Linear()), OnGrid()) is deprecated, use interpolate(A, BSpline(Linear()))\n",
      "│   caller = dice_interpolate(::Array{Float64,1}, ::Int64) at helpers.jl:61\n",
      "└ @ Main C:\\Users\\Kevin\\Documents\\GitHub\\DICEFARM\\src_scw\\helpers.jl:61\n",
      "┌ Warning: `getindex(itp::AbstractInterpolation{T, N}, i::Vararg{ExpandedIndexTypes, N}) where {T, N}` is deprecated, use `itp(i...)` instead.\n",
      "│   caller = dice_interpolate(::Array{Float64,1}, ::Int64) at helpers.jl:67\n",
      "└ @ Main C:\\Users\\Kevin\\Documents\\GitHub\\DICEFARM\\src_scw\\helpers.jl:67\n"
     ]
    }
   ],
   "source": [
    "include(\"DICEFARM_Annual.jl\")\n",
    "DICEFARM = create_dice_farm()\n",
    "run(DICEFARM) \n",
    "#W0 = DICEFARM[:welfare, :UTILITY]"
   ]
  },
  {
   "cell_type": "code",
   "execution_count": 31,
   "metadata": {},
   "outputs": [
    {
     "data": {
      "text/plain": [
       "Electron.Window(Application(Base.PipeEndpoint(Base.Libc.WindowsRawSocket(0x00000000000003e0) open, 0 bytes waiting), Process(`\u001b[4m'C:\\Users\\Kevin\\.julia\\packages\\Electron\\aRIgh\\src\\..\\deps\\electron\\electron.exe'\u001b[24m \u001b[4m'C:\\Users\\Kevin\\.julia\\packages\\Electron\\aRIgh\\src\\main.js'\u001b[24m \u001b[4m'\\\\.\\pipe\\juliaelectron-4692-1'\u001b[24m \u001b[4m'\\\\.\\pipe\\juliaelectron-sysnotify-4692-1'\u001b[24m \u001b[4moDLNSc4W0KhNIiXbI2JU8ghLCokkNICXMR77Ht34ZSX65QF1SDuyKAsZyoWP/zpU+S0B1sH2eqbrXHrE3jq8va+A56NPh3nego61g/mjYoDb9lWT/KAGyaws6au9FAbN868m2MtnyUad9jzLEhaoXiP+WHVy/+RSGzmuiHov1VA=\u001b[24m`, ProcessRunning), [1 window]), 7, true, Channel{Any}(sz_max:128,sz_curr:0))"
      ]
     },
     "execution_count": 31,
     "metadata": {},
     "output_type": "execute_result"
    }
   ],
   "source": [
    "explore(DICEFARM)"
   ]
  },
  {
   "cell_type": "code",
   "execution_count": 36,
   "metadata": {},
   "outputs": [
    {
     "name": "stderr",
     "output_type": "stream",
     "text": [
      "┌ Warning: interpolate(A, BSpline(Linear()), OnGrid()) is deprecated, use interpolate(A, BSpline(Linear()))\n",
      "│   caller = dice_interpolate(::Array{Float64,1}, ::Int64) at helpers.jl:61\n",
      "└ @ Main C:\\Users\\Kevin\\Documents\\GitHub\\DICEFARM\\src_scw\\helpers.jl:61\n",
      "┌ Warning: `getindex(itp::AbstractInterpolation{T, N}, i::Vararg{ExpandedIndexTypes, N}) where {T, N}` is deprecated, use `itp(i...)` instead.\n",
      "│   caller = dice_interpolate(::Array{Float64,1}, ::Int64) at helpers.jl:67\n",
      "└ @ Main C:\\Users\\Kevin\\Documents\\GitHub\\DICEFARM\\src_scw\\helpers.jl:67\n"
     ]
    },
    {
     "data": {
      "text/plain": [
       "1753.411570157812"
      ]
     },
     "execution_count": 36,
     "metadata": {},
     "output_type": "execute_result"
    }
   ],
   "source": [
    "using Plots\n",
    "include(\"DICEFARM_Annual.jl\")\n",
    "DICEFARM = create_dice_farm()\n",
    "run(DICEFARM)\n",
    "BaseWelfare = DICEFARM[:welfare, :UTILITY]\n",
    "#MargCons \t= create_dice_farm()\n",
    "#set_param!(MargCons, :neteconomy, :CEQ, 1e-6)  #dropping C by 1000 total \n",
    "#run(MargCons)\n",
    "#MargConsWelfare = MargCons[:welfare, :UTILITY]\n",
    "#SCNumeraire \t= BaseWelfare - MargConsWelfare"
   ]
  },
  {
   "cell_type": "code",
   "execution_count": 39,
   "metadata": {},
   "outputs": [
    {
     "data": {
      "image/svg+xml": [
       "<?xml version=\"1.0\" encoding=\"utf-8\"?>\n",
       "<svg xmlns=\"http://www.w3.org/2000/svg\" xmlns:xlink=\"http://www.w3.org/1999/xlink\" width=\"600\" height=\"400\" viewBox=\"0 0 2400 1600\">\n",
       "<defs>\n",
       "  <clipPath id=\"clip3400\">\n",
       "    <rect x=\"0\" y=\"0\" width=\"2400\" height=\"1600\"/>\n",
       "  </clipPath>\n",
       "</defs>\n",
       "<path clip-path=\"url(#clip3400)\" d=\"\n",
       "M0 1600 L2400 1600 L2400 0 L0 0  Z\n",
       "  \" fill=\"#ffffff\" fill-rule=\"evenodd\" fill-opacity=\"1\"/>\n",
       "<defs>\n",
       "  <clipPath id=\"clip3401\">\n",
       "    <rect x=\"480\" y=\"0\" width=\"1681\" height=\"1600\"/>\n",
       "  </clipPath>\n",
       "</defs>\n",
       "<path clip-path=\"url(#clip3400)\" d=\"\n",
       "M194.041 1487.47 L2352.76 1487.47 L2352.76 47.2441 L194.041 47.2441  Z\n",
       "  \" fill=\"#ffffff\" fill-rule=\"evenodd\" fill-opacity=\"1\"/>\n",
       "<defs>\n",
       "  <clipPath id=\"clip3402\">\n",
       "    <rect x=\"194\" y=\"47\" width=\"2160\" height=\"1441\"/>\n",
       "  </clipPath>\n",
       "</defs>\n",
       "<polyline clip-path=\"url(#clip3402)\" style=\"stroke:#000000; stroke-width:2; stroke-opacity:0.1; fill:none\" points=\"\n",
       "  252.366,1487.47 252.366,47.2441 \n",
       "  \"/>\n",
       "<polyline clip-path=\"url(#clip3402)\" style=\"stroke:#000000; stroke-width:2; stroke-opacity:0.1; fill:none\" points=\"\n",
       "  806.522,1487.47 806.522,47.2441 \n",
       "  \"/>\n",
       "<polyline clip-path=\"url(#clip3402)\" style=\"stroke:#000000; stroke-width:2; stroke-opacity:0.1; fill:none\" points=\"\n",
       "  1360.68,1487.47 1360.68,47.2441 \n",
       "  \"/>\n",
       "<polyline clip-path=\"url(#clip3402)\" style=\"stroke:#000000; stroke-width:2; stroke-opacity:0.1; fill:none\" points=\"\n",
       "  1914.83,1487.47 1914.83,47.2441 \n",
       "  \"/>\n",
       "<polyline clip-path=\"url(#clip3402)\" style=\"stroke:#000000; stroke-width:2; stroke-opacity:0.1; fill:none\" points=\"\n",
       "  194.041,1449.87 2352.76,1449.87 \n",
       "  \"/>\n",
       "<polyline clip-path=\"url(#clip3402)\" style=\"stroke:#000000; stroke-width:2; stroke-opacity:0.1; fill:none\" points=\"\n",
       "  194.041,1029.35 2352.76,1029.35 \n",
       "  \"/>\n",
       "<polyline clip-path=\"url(#clip3402)\" style=\"stroke:#000000; stroke-width:2; stroke-opacity:0.1; fill:none\" points=\"\n",
       "  194.041,608.836 2352.76,608.836 \n",
       "  \"/>\n",
       "<polyline clip-path=\"url(#clip3402)\" style=\"stroke:#000000; stroke-width:2; stroke-opacity:0.1; fill:none\" points=\"\n",
       "  194.041,188.319 2352.76,188.319 \n",
       "  \"/>\n",
       "<polyline clip-path=\"url(#clip3400)\" style=\"stroke:#000000; stroke-width:4; stroke-opacity:1; fill:none\" points=\"\n",
       "  194.041,1487.47 2352.76,1487.47 \n",
       "  \"/>\n",
       "<polyline clip-path=\"url(#clip3400)\" style=\"stroke:#000000; stroke-width:4; stroke-opacity:1; fill:none\" points=\"\n",
       "  194.041,1487.47 194.041,47.2441 \n",
       "  \"/>\n",
       "<polyline clip-path=\"url(#clip3400)\" style=\"stroke:#000000; stroke-width:4; stroke-opacity:1; fill:none\" points=\"\n",
       "  252.366,1487.47 252.366,1470.19 \n",
       "  \"/>\n",
       "<polyline clip-path=\"url(#clip3400)\" style=\"stroke:#000000; stroke-width:4; stroke-opacity:1; fill:none\" points=\"\n",
       "  806.522,1487.47 806.522,1470.19 \n",
       "  \"/>\n",
       "<polyline clip-path=\"url(#clip3400)\" style=\"stroke:#000000; stroke-width:4; stroke-opacity:1; fill:none\" points=\"\n",
       "  1360.68,1487.47 1360.68,1470.19 \n",
       "  \"/>\n",
       "<polyline clip-path=\"url(#clip3400)\" style=\"stroke:#000000; stroke-width:4; stroke-opacity:1; fill:none\" points=\"\n",
       "  1914.83,1487.47 1914.83,1470.19 \n",
       "  \"/>\n",
       "<polyline clip-path=\"url(#clip3400)\" style=\"stroke:#000000; stroke-width:4; stroke-opacity:1; fill:none\" points=\"\n",
       "  194.041,1449.87 219.946,1449.87 \n",
       "  \"/>\n",
       "<polyline clip-path=\"url(#clip3400)\" style=\"stroke:#000000; stroke-width:4; stroke-opacity:1; fill:none\" points=\"\n",
       "  194.041,1029.35 219.946,1029.35 \n",
       "  \"/>\n",
       "<polyline clip-path=\"url(#clip3400)\" style=\"stroke:#000000; stroke-width:4; stroke-opacity:1; fill:none\" points=\"\n",
       "  194.041,608.836 219.946,608.836 \n",
       "  \"/>\n",
       "<polyline clip-path=\"url(#clip3400)\" style=\"stroke:#000000; stroke-width:4; stroke-opacity:1; fill:none\" points=\"\n",
       "  194.041,188.319 219.946,188.319 \n",
       "  \"/>\n",
       "<g clip-path=\"url(#clip3400)\">\n",
       "<text style=\"fill:#000000; fill-opacity:1; font-family:Arial,Helvetica Neue,Helvetica,sans-serif; font-size:48px; text-anchor:middle;\" transform=\"rotate(0, 252.366, 1541.47)\" x=\"252.366\" y=\"1541.47\">0</text>\n",
       "</g>\n",
       "<g clip-path=\"url(#clip3400)\">\n",
       "<text style=\"fill:#000000; fill-opacity:1; font-family:Arial,Helvetica Neue,Helvetica,sans-serif; font-size:48px; text-anchor:middle;\" transform=\"rotate(0, 806.522, 1541.47)\" x=\"806.522\" y=\"1541.47\">200</text>\n",
       "</g>\n",
       "<g clip-path=\"url(#clip3400)\">\n",
       "<text style=\"fill:#000000; fill-opacity:1; font-family:Arial,Helvetica Neue,Helvetica,sans-serif; font-size:48px; text-anchor:middle;\" transform=\"rotate(0, 1360.68, 1541.47)\" x=\"1360.68\" y=\"1541.47\">400</text>\n",
       "</g>\n",
       "<g clip-path=\"url(#clip3400)\">\n",
       "<text style=\"fill:#000000; fill-opacity:1; font-family:Arial,Helvetica Neue,Helvetica,sans-serif; font-size:48px; text-anchor:middle;\" transform=\"rotate(0, 1914.83, 1541.47)\" x=\"1914.83\" y=\"1541.47\">600</text>\n",
       "</g>\n",
       "<g clip-path=\"url(#clip3400)\">\n",
       "<text style=\"fill:#000000; fill-opacity:1; font-family:Arial,Helvetica Neue,Helvetica,sans-serif; font-size:48px; text-anchor:end;\" transform=\"rotate(0, 170.041, 1467.37)\" x=\"170.041\" y=\"1467.37\">0</text>\n",
       "</g>\n",
       "<g clip-path=\"url(#clip3400)\">\n",
       "<text style=\"fill:#000000; fill-opacity:1; font-family:Arial,Helvetica Neue,Helvetica,sans-serif; font-size:48px; text-anchor:end;\" transform=\"rotate(0, 170.041, 1046.85)\" x=\"170.041\" y=\"1046.85\">1000</text>\n",
       "</g>\n",
       "<g clip-path=\"url(#clip3400)\">\n",
       "<text style=\"fill:#000000; fill-opacity:1; font-family:Arial,Helvetica Neue,Helvetica,sans-serif; font-size:48px; text-anchor:end;\" transform=\"rotate(0, 170.041, 626.336)\" x=\"170.041\" y=\"626.336\">2000</text>\n",
       "</g>\n",
       "<g clip-path=\"url(#clip3400)\">\n",
       "<text style=\"fill:#000000; fill-opacity:1; font-family:Arial,Helvetica Neue,Helvetica,sans-serif; font-size:48px; text-anchor:end;\" transform=\"rotate(0, 170.041, 205.819)\" x=\"170.041\" y=\"205.819\">3000</text>\n",
       "</g>\n",
       "<polyline clip-path=\"url(#clip3402)\" style=\"stroke:#009af9; stroke-width:4; stroke-opacity:1; fill:none\" points=\"\n",
       "  947.832,368.238 950.603,349.656 953.374,331.665 956.144,314.31 958.915,297.629 961.686,281.655 964.457,265.754 967.228,250.625 969.998,236.271 972.769,222.697 \n",
       "  975.54,209.89 978.311,197.257 981.081,185.408 983.852,174.36 986.623,164.108 989.394,154.656 992.165,145.468 994.935,137.073 997.706,129.475 1000.48,122.675 \n",
       "  1003.25,116.631 1006.02,110.883 1008.79,105.85 1011.56,101.534 1014.33,97.9032 1017.1,94.9459 1019.87,92.2577 1022.64,90.2311 1025.41,88.854 1028.18,88.1137 \n",
       "  1030.96,88.0053 1033.73,88.1577 1036.5,88.895 1039.27,90.1805 1042.04,91.9797 1044.81,94.2705 1047.58,96.7579 1050.35,99.7216 1053.12,103.148 1055.89,107.032 \n",
       "  1058.66,111.363 1061.43,115.875 1064.2,120.786 1066.98,126.08 1069.75,131.741 1072.52,137.737 1075.29,143.851 1078.06,150.284 1080.83,157.028 1083.6,164.071 \n",
       "  1086.37,171.401 1089.14,178.835 1091.91,186.537 1094.68,194.485 1097.45,202.653 1100.22,211.023 1103,219.428 1105.77,228.019 1108.54,236.789 1111.31,245.724 \n",
       "  1114.08,254.818 1116.85,263.931 1119.62,273.19 1122.39,282.59 1125.16,292.121 1127.93,301.767 1130.7,311.403 1133.47,321.128 1136.25,330.929 1139.02,340.804 \n",
       "  1141.79,350.739 1144.56,360.64 1147.33,370.601 1150.1,380.615 1152.87,390.682 1155.64,400.799 1158.41,410.877 1161.18,420.99 1163.95,431.114 1166.72,441.241 \n",
       "  1169.49,451.372 1172.27,461.435 1175.04,471.5 1177.81,481.564 1180.58,491.628 1183.35,501.692 1186.12,511.697 1188.89,521.681 1191.66,531.642 1194.43,541.572 \n",
       "  1197.2,551.465 1199.97,561.279 1202.74,571.058 1205.51,580.803 1208.29,590.513 1211.06,600.189 1213.83,609.798 1216.6,619.358 1219.37,628.867 1222.14,638.315 \n",
       "  1224.91,647.708 1227.68,657.007 1230.45,666.249 1233.22,675.433 1235.99,684.56 1238.76,693.634 1241.53,702.629 1244.31,711.569 1247.08,720.436 1249.85,729.237 \n",
       "  1252.62,737.963 1255.39,746.592 1258.16,755.152 1260.93,763.642 1263.7,772.065 1266.47,780.425 1269.24,788.71 1272.01,796.923 1274.78,805.064 1277.55,813.126 \n",
       "  1280.33,821.107 1283.1,828.993 1285.87,836.806 1288.64,844.545 1291.41,852.212 1294.18,859.807 1296.95,867.322 1299.72,874.768 1302.49,882.14 1305.26,889.438 \n",
       "  1308.03,896.661 1310.8,903.795 1313.58,910.855 1316.35,917.84 1319.12,924.751 1321.89,931.59 1324.66,938.348 1327.43,945.037 1330.2,951.661 1332.97,958.217 \n",
       "  1335.74,964.699 1338.51,971.099 1341.28,977.424 1344.05,983.674 1346.82,989.851 1349.6,995.957 1352.37,1001.99 1355.14,1007.96 1357.91,1013.86 1360.68,1019.7 \n",
       "  1363.45,1025.47 1366.22,1031.17 1368.99,1036.79 1371.76,1042.35 1374.53,1047.83 1377.3,1053.25 1380.07,1058.61 1382.84,1063.9 1385.62,1069.13 1388.39,1074.3 \n",
       "  1391.16,1079.41 1393.93,1084.46 1396.7,1089.43 1399.47,1094.35 1402.24,1099.2 1405.01,1103.99 1407.78,1108.72 1410.55,1113.39 1413.32,1118 1416.09,1122.55 \n",
       "  1418.86,1127.05 1421.64,1131.5 1424.41,1135.89 1427.18,1140.22 1429.95,1144.5 1432.72,1148.72 1435.49,1152.89 1438.26,1156.99 1441.03,1161.05 1443.8,1165.06 \n",
       "  1446.57,1169.01 1449.34,1172.91 1452.11,1176.77 1454.88,1180.58 1457.66,1184.33 1460.43,1188.04 1463.2,1191.69 1465.97,1195.3 1468.74,1198.85 1471.51,1202.36 \n",
       "  1474.28,1205.82 1477.05,1209.24 1479.82,1212.61 1482.59,1215.94 1485.36,1219.23 1488.13,1222.47 1490.9,1225.67 1493.68,1228.83 1496.45,1231.94 1499.22,1235.01 \n",
       "  1501.99,1238.03 1504.76,1241.02 1507.53,1243.97 1510.3,1246.87 1513.07,1249.74 1515.84,1252.57 1518.61,1255.37 1521.38,1258.13 1524.15,1260.85 1526.93,1263.53 \n",
       "  1529.7,1266.17 1532.47,1268.77 1535.24,1271.34 1538.01,1273.88 1540.78,1276.38 1543.55,1278.85 1546.32,1281.28 1549.09,1283.68 1551.86,1286.05 1554.63,1288.39 \n",
       "  1557.4,1290.69 1560.17,1292.95 1562.95,1295.19 1565.72,1297.39 1568.49,1299.57 1571.26,1301.71 1574.03,1303.83 1576.8,1305.92 1579.57,1307.98 1582.34,1310.01 \n",
       "  1585.11,1312.01 1587.88,1313.98 1590.65,1315.92 1593.42,1317.84 1596.19,1319.73 1598.97,1321.59 1601.74,1323.43 1604.51,1325.25 1607.28,1327.03 1610.05,1328.8 \n",
       "  1612.82,1330.54 1615.59,1332.25 1618.36,1333.95 1621.13,1335.61 1623.9,1337.26 1626.67,1338.88 1629.44,1340.47 1632.21,1342.05 1634.99,1343.6 1637.76,1345.13 \n",
       "  1640.53,1346.64 1643.3,1348.13 1646.07,1349.6 1648.84,1351.05 1651.61,1352.48 1654.38,1353.88 1657.15,1355.27 1659.92,1356.64 1662.69,1357.98 1665.46,1359.31 \n",
       "  1668.23,1360.62 1671.01,1361.91 1673.78,1363.19 1676.55,1364.44 1679.32,1365.68 1682.09,1366.9 1684.86,1368.1 1687.63,1369.29 1690.4,1370.45 1693.17,1371.61 \n",
       "  1695.94,1372.74 1698.71,1373.86 1701.48,1374.97 1704.25,1376.06 1707.03,1377.13 1709.8,1378.18 1712.57,1379.23 1715.34,1380.25 1718.11,1381.26 1720.88,1382.26 \n",
       "  1723.65,1383.25 1726.42,1384.22 1729.19,1385.17 1731.96,1386.11 1734.73,1387.04 1737.5,1387.96 1740.28,1388.86 1743.05,1389.75 1745.82,1390.62 1748.59,1391.49 \n",
       "  1751.36,1392.34 1754.13,1393.18 1756.9,1394.01 1759.67,1394.82 1762.44,1395.62 1765.21,1396.42 1767.98,1397.2 1770.75,1397.97 1773.52,1398.72 1776.3,1399.47 \n",
       "  1779.07,1400.21 1781.84,1400.93 1784.61,1401.65 1787.38,1402.36 1790.15,1403.05 1792.92,1403.74 1795.69,1404.41 1798.46,1405.08 1801.23,1405.73 1804,1406.38 \n",
       "  1806.77,1407.01 1809.54,1407.64 1812.32,1408.26 1815.09,1408.87 1817.86,1409.47 1820.63,1410.06 1823.4,1410.65 1826.17,1411.22 1828.94,1411.79 1831.71,1412.35 \n",
       "  1834.48,1412.9 1837.25,1413.44 1840.02,1413.98 1842.79,1414.5 1845.56,1415.02 1848.34,1415.53 1851.11,1416.04 1853.88,1416.53 1856.65,1417.02 1859.42,1417.51 \n",
       "  1862.19,1417.98 1864.96,1418.45 1867.73,1418.91 1870.5,1419.37 1873.27,1419.82 1876.04,1420.26 1878.81,1420.69 1881.58,1421.12 1884.36,1421.55 1887.13,1421.96 \n",
       "  1889.9,1422.37 1892.67,1422.78 1895.44,1423.18 1898.21,1423.57 1900.98,1423.96 1903.75,1424.34 1906.52,1424.71 1909.29,1425.08 1912.06,1425.45 1914.83,1425.81 \n",
       "  1917.6,1426.16 1920.38,1426.51 1923.15,1426.86 1925.92,1427.2 1928.69,1427.53 1931.46,1427.86 1934.23,1428.19 1937,1428.51 1939.77,1428.82 1942.54,1429.13 \n",
       "  1945.31,1429.44 1948.08,1429.74 1950.85,1430.04 1953.63,1430.33 1956.4,1430.62 1959.17,1430.9 1961.94,1431.18 1964.71,1431.46 1967.48,1431.73 1970.25,1432 \n",
       "  1973.02,1432.26 1975.79,1432.52 1978.56,1432.78 1981.33,1433.03 1984.1,1433.28 1986.87,1433.52 1989.65,1433.77 1992.42,1434 1995.19,1434.24 1997.96,1434.47 \n",
       "  2000.73,1434.7 2003.5,1434.92 2006.27,1435.14 2009.04,1435.36 2011.81,1435.57 2014.58,1435.79 2017.35,1435.99 2020.12,1436.2 2022.89,1436.4 2025.67,1436.6 \n",
       "  2028.44,1436.8 2031.21,1436.99 2033.98,1437.18 2036.75,1437.37 2039.52,1437.55 2042.29,1437.74 2045.06,1437.92 2047.83,1438.09 2050.6,1438.27 2053.37,1438.44 \n",
       "  2056.14,1438.61 2058.91,1438.78 2061.69,1438.94 2064.46,1439.1 2067.23,1439.26 2070,1439.42 2072.77,1439.57 2075.54,1439.73 2078.31,1439.88 2081.08,1440.02 \n",
       "  2083.85,1440.17 2086.62,1440.31 2089.39,1440.46 2092.16,1440.6 2094.93,1440.73 2097.71,1440.87 2100.48,1441 2103.25,1441.13 2106.02,1441.26 2108.79,1441.39 \n",
       "  2111.56,1441.52 2114.33,1441.64 2117.1,1441.76 2119.87,1441.88 2122.64,1442 2125.41,1442.12 2128.18,1442.23 2130.95,1442.35 2133.73,1442.46 2136.5,1442.57 \n",
       "  2139.27,1442.68 2142.04,1442.78 2144.81,1442.89 2147.58,1442.99 2150.35,1443.09 2153.12,1443.19 2155.89,1443.29 2158.66,1443.39 2161.43,1443.49 2164.2,1443.58 \n",
       "  2166.98,1443.68 2169.75,1443.77 2172.52,1443.86 2175.29,1443.95 2178.06,1444.03 2180.83,1444.12 2183.6,1444.21 2186.37,1444.29 2189.14,1444.38 2191.91,1444.46 \n",
       "  2194.68,1444.54 2197.45,1444.62 2200.22,1444.7 2203,1444.77 2205.77,1444.85 2208.54,1444.92 2211.31,1445 2214.08,1445.07 2216.85,1445.14 2219.62,1445.21 \n",
       "  2222.39,1445.28 2225.16,1445.35 2227.93,1445.42 2230.7,1445.48 2233.47,1445.55 2236.24,1445.61 2239.02,1445.67 2241.79,1445.74 2244.56,1445.8 2247.33,1445.86 \n",
       "  2250.1,1445.92 2252.87,1445.98 2255.64,1446.03 2258.41,1446.09 2261.18,1446.15 2263.95,1446.2 2266.72,1446.26 2269.49,1446.31 2272.26,1446.36 2275.04,1446.42 \n",
       "  2277.81,1446.47 2280.58,1446.52 2283.35,1446.57 2286.12,1446.62 2288.89,1446.67 2291.66,1446.71 \n",
       "  \"/>\n",
       "<path clip-path=\"url(#clip3400)\" d=\"\n",
       "M1989.93 251.724 L2280.76 251.724 L2280.76 130.764 L1989.93 130.764  Z\n",
       "  \" fill=\"#ffffff\" fill-rule=\"evenodd\" fill-opacity=\"1\"/>\n",
       "<polyline clip-path=\"url(#clip3400)\" style=\"stroke:#000000; stroke-width:4; stroke-opacity:1; fill:none\" points=\"\n",
       "  1989.93,251.724 2280.76,251.724 2280.76,130.764 1989.93,130.764 1989.93,251.724 \n",
       "  \"/>\n",
       "<polyline clip-path=\"url(#clip3400)\" style=\"stroke:#009af9; stroke-width:4; stroke-opacity:1; fill:none\" points=\"\n",
       "  2013.93,191.244 2157.93,191.244 \n",
       "  \"/>\n",
       "<g clip-path=\"url(#clip3400)\">\n",
       "<text style=\"fill:#000000; fill-opacity:1; font-family:Arial,Helvetica Neue,Helvetica,sans-serif; font-size:48px; text-anchor:start;\" transform=\"rotate(0, 2181.93, 208.744)\" x=\"2181.93\" y=\"208.744\">y1</text>\n",
       "</g>\n",
       "</svg>\n"
      ]
     },
     "execution_count": 39,
     "metadata": {},
     "output_type": "execute_result"
    }
   ],
   "source": [
    "plot(DICEFARM[:welfare, :CEMUTOTPER])"
   ]
  },
  {
   "cell_type": "code",
   "execution_count": 40,
   "metadata": {},
   "outputs": [
    {
     "name": "stderr",
     "output_type": "stream",
     "text": [
      "┌ Warning: interpolate(A, BSpline(Linear()), OnGrid()) is deprecated, use interpolate(A, BSpline(Linear()))\n",
      "│   caller = dice_interpolate(::Array{Float64,1}, ::Int64) at helpers.jl:61\n",
      "└ @ Main C:\\Users\\Kevin\\Documents\\GitHub\\DICEFARM\\src_scw\\helpers.jl:61\n",
      "┌ Warning: `getindex(itp::AbstractInterpolation{T, N}, i::Vararg{ExpandedIndexTypes, N}) where {T, N}` is deprecated, use `itp(i...)` instead.\n",
      "│   caller = dice_interpolate(::Array{Float64,1}, ::Int64) at helpers.jl:67\n",
      "└ @ Main C:\\Users\\Kevin\\Documents\\GitHub\\DICEFARM\\src_scw\\helpers.jl:67\n"
     ]
    },
    {
     "data": {
      "text/plain": [
       "147807.7142857143"
      ]
     },
     "execution_count": 40,
     "metadata": {},
     "output_type": "execute_result"
    }
   ],
   "source": [
    "include(\"SCW_Analysis.jl\")"
   ]
  },
  {
   "cell_type": "code",
   "execution_count": null,
   "metadata": {},
   "outputs": [],
   "source": []
  }
 ],
 "metadata": {
  "kernelspec": {
   "display_name": "Julia 1.3.0",
   "language": "julia",
   "name": "julia-1.3"
  },
  "language_info": {
   "file_extension": ".jl",
   "mimetype": "application/julia",
   "name": "julia",
   "version": "1.3.0"
  }
 },
 "nbformat": 4,
 "nbformat_minor": 2
}
