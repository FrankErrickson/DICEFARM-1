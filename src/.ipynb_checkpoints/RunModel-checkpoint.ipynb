{
 "cells": [
  {
   "cell_type": "code",
   "execution_count": 4,
   "metadata": {},
   "outputs": [
    {
     "name": "stderr",
     "output_type": "stream",
     "text": [
      "┌ Warning: interpolate(A, BSpline(Linear()), OnGrid()) is deprecated, use interpolate(A, BSpline(Linear()))\n",
      "│   caller = dice_interpolate(::Array{Float64,1}, ::Int64) at helpers.jl:61\n",
      "└ @ Main C:\\Users\\Kevin\\Documents\\GitHub\\DICEFARM\\src_annualized\\helpers.jl:61\n",
      "┌ Warning: `getindex(itp::AbstractInterpolation{T, N}, i::Vararg{ExpandedIndexTypes, N}) where {T, N}` is deprecated, use `itp(i...)` instead.\n",
      "│   caller = dice_interpolate(::Array{Float64,1}, ::Int64) at helpers.jl:67\n",
      "└ @ Main C:\\Users\\Kevin\\Documents\\GitHub\\DICEFARM\\src_annualized\\helpers.jl:67\n"
     ]
    },
    {
     "data": {
      "text/plain": [
       "23-component Mimi.Model:\n",
       "  grosseconomy::Main.grosseconomy\n",
       "  farm::Main.farm\n",
       "  emissions::Main.emissions\n",
       "  ch4_cycle::MimiFAIR13.ch4_cycle\n",
       "  n2o_cycle::MimiFAIR13.n2o_cycle\n",
       "  other_ghg_cycles::MimiFAIR13.other_ghg_cycles\n",
       "  co2_cycle::MimiFAIR13.co2_cycle\n",
       "  ch4_rf::MimiFAIR13.ch4_rf\n",
       "  n2o_rf::MimiFAIR13.n2o_rf\n",
       "  other_ghg_rf::MimiFAIR13.other_ghg_rf\n",
       "  co2_rf::MimiFAIR13.co2_rf\n",
       "  trop_o3_rf::MimiFAIR13.trop_o3_rf\n",
       "  strat_o3_rf::MimiFAIR13.strat_o3_rf\n",
       "  aerosol_direct_rf::MimiFAIR13.aerosol_direct_rf\n",
       "  aerosol_indirect_rf::MimiFAIR13.aerosol_indirect_rf\n",
       "  bc_snow_rf::MimiFAIR13.bc_snow_rf\n",
       "  landuse_rf::MimiFAIR13.landuse_rf\n",
       "  contrails_rf::MimiFAIR13.contrails_rf\n",
       "  total_rf::MimiFAIR13.total_rf\n",
       "  temperature::MimiFAIR13.temperature\n",
       "  damages::Main.damages\n",
       "  neteconomy::Main.neteconomy\n",
       "  welfare::Main.welfare\n"
      ]
     },
     "execution_count": 4,
     "metadata": {},
     "output_type": "execute_result"
    }
   ],
   "source": [
    "include(\"DICEFARM_Annual.jl\")\n",
    "DICEFARM = create_dice_farm()"
   ]
  },
  {
   "cell_type": "code",
   "execution_count": 2,
   "metadata": {},
   "outputs": [
    {
     "data": {
      "text/plain": [
       "create_dice_farm (generic function with 1 method)"
      ]
     },
     "execution_count": 2,
     "metadata": {},
     "output_type": "execute_result"
    }
   ],
   "source": [
    "include(\"DICEFARM_Annual.jl\")"
   ]
  },
  {
   "cell_type": "code",
   "execution_count": 3,
   "metadata": {},
   "outputs": [
    {
     "name": "stderr",
     "output_type": "stream",
     "text": [
      "┌ Warning: interpolate(A, BSpline(Linear()), OnGrid()) is deprecated, use interpolate(A, BSpline(Linear()))\n",
      "│   caller = dice_interpolate(::Array{Float64,1}, ::Int64) at helpers.jl:61\n",
      "└ @ Main C:\\Users\\Kevin\\Documents\\GitHub\\DICEFARM\\src_annualized\\helpers.jl:61\n",
      "┌ Warning: `getindex(itp::AbstractInterpolation{T, N}, i::Vararg{ExpandedIndexTypes, N}) where {T, N}` is deprecated, use `itp(i...)` instead.\n",
      "│   caller = dice_interpolate(::Array{Float64,1}, ::Int64) at helpers.jl:67\n",
      "└ @ Main C:\\Users\\Kevin\\Documents\\GitHub\\DICEFARM\\src_annualized\\helpers.jl:67\n"
     ]
    },
    {
     "ename": "UndefVarError",
     "evalue": "UndefVarError: emissions not defined",
     "output_type": "error",
     "traceback": [
      "UndefVarError: emissions not defined",
      "",
      "Stacktrace:",
      " [1] initialize_dice_farm(::Dict{Symbol,Any}, ::Int64, ::Int64, ::Int64) at C:\\Users\\Kevin\\Documents\\GitHub\\DICEFARM\\src_annualized\\DICEFARM_Annual.jl:79",
      " [2] #create_dice_farm#18(::Int64, ::Int64, ::Int64, ::String, ::typeof(create_dice_farm)) at C:\\Users\\Kevin\\Documents\\GitHub\\DICEFARM\\src_annualized\\DICEFARM_Annual.jl:204",
      " [3] create_dice_farm() at C:\\Users\\Kevin\\Documents\\GitHub\\DICEFARM\\src_annualized\\DICEFARM_Annual.jl:201",
      " [4] top-level scope at In[3]:1"
     ]
    }
   ],
   "source": [
    "DICEFARM = create_dice_farm()"
   ]
  },
  {
   "cell_type": "code",
   "execution_count": null,
   "metadata": {},
   "outputs": [],
   "source": []
  }
 ],
 "metadata": {
  "kernelspec": {
   "display_name": "Julia 1.3.0",
   "language": "julia",
   "name": "julia-1.3"
  },
  "language_info": {
   "file_extension": ".jl",
   "mimetype": "application/julia",
   "name": "julia",
   "version": "1.3.0"
  }
 },
 "nbformat": 4,
 "nbformat_minor": 2
}
