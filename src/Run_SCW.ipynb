{
 "cells": [
  {
   "cell_type": "code",
   "execution_count": 3,
   "metadata": {},
   "outputs": [
    {
     "name": "stderr",
     "output_type": "stream",
     "text": [
      "┌ Warning: interpolate(A, BSpline(Linear()), OnGrid()) is deprecated, use interpolate(A, BSpline(Linear()))\n",
      "│   caller = dice_interpolate(::Array{Float64,1}, ::Int64) at helpers.jl:61\n",
      "└ @ Main C:\\Users\\Kevin\\Documents\\GitHub\\DICEFARM\\src\\helpers.jl:61\n"
     ]
    },
    {
     "name": "stdout",
     "output_type": "stream",
     "text": [
      "Ran once\n"
     ]
    },
    {
     "name": "stderr",
     "output_type": "stream",
     "text": [
      "┌ Warning: `getindex(itp::AbstractInterpolation{T, N}, i::Vararg{ExpandedIndexTypes, N}) where {T, N}` is deprecated, use `itp(i...)` instead.\n",
      "│   caller = dice_interpolate(::Array{Float64,1}, ::Int64) at helpers.jl:67\n",
      "└ @ Main C:\\Users\\Kevin\\Documents\\GitHub\\DICEFARM\\src\\helpers.jl:67\n"
     ]
    },
    {
     "name": "stdout",
     "output_type": "stream",
     "text": [
      "Costs of Non-Veg in Baseline are 127217.91803278688\n"
     ]
    }
   ],
   "source": [
    "using Plots, NLopt, DataFrames, CSV\n",
    "\n",
    "directory = dirname(pwd())\n",
    "subroutine_directory = joinpath(directory, \"src\", \"SubRoutines_SCW\")\n",
    "output_directory = joinpath(directory, \"Results\", \"SCW\")\n",
    "mkpath(output_directory)\n",
    "\n",
    "include(joinpath(subroutine_directory, \"AnimalWelfareModel.jl\"))\n",
    "include(joinpath(subroutine_directory, \"helpers_SCWOptimization.jl\"))\n",
    "DICEFARM = create_AnimalWelfare()\n",
    "run(DICEFARM)\n",
    "println(\"Ran once\")\n",
    "BaseWelfare = DICEFARM[:welfare, :UTILITY]\n",
    "MargCons \t= create_AnimalWelfare()\n",
    "set_param!(MargCons, :neteconomy, :CEQ, 1e-9)  #dropping C by 1000 globally\n",
    "run(MargCons)\n",
    "MargConsWelfare = MargCons[:welfare, :UTILITY]\n",
    "SCNumeraire \t= BaseWelfare - MargConsWelfare\n",
    "\n",
    "SocialCosts = zeros(4) # Vegetarian; then each of 3 animal products\n",
    "\n",
    "# ----- Need original amount consumed -------- #\n",
    "OrigBeef = DICEFARM[:farm, :Beef]\n",
    "OrigPork = DICEFARM[:farm, :Pork]\n",
    "OrigPoultry = DICEFARM[:farm, :Poultry]\n",
    "\n",
    "# ------ Add Vegetarian average pulse ------------------- #\n",
    "BeefPulse = copy(OrigBeef)\n",
    "PorkPulse = copy(OrigPork)\n",
    "PoultryPulse = copy(OrigPoultry)\n",
    "\n",
    "BeefPulse[6] = OrigBeef[6] + 1000*(4.8) \t\t\t\t\n",
    "PorkPulse[6] = OrigPork[6]  + 1000*(2.7)\n",
    "PoultryPulse[6] = OrigPoultry[6] + 1000*(6.7)\n",
    "\n",
    "VegPulse = create_AnimalWelfare()\n",
    "set_param!(VegPulse, :farm, :Beef, BeefPulse)\n",
    "set_param!(VegPulse, :farm, :Poultry, PoultryPulse)\n",
    "set_param!(VegPulse, :farm, :Pork, PorkPulse)\n",
    "\n",
    "run(VegPulse)\n",
    "VegWelfare = VegPulse[:welfare, :UTILITY]\n",
    "SCCVeg     = (BaseWelfare - VegWelfare)/(SCNumeraire)\n",
    "\n",
    "# ------- Loop Over Values of Cons Equiv ------------------------- #\n",
    "SufferingEquiv = collect(.9:.1:2.8)\n",
    "BenefitOfVegetarian = zeros(length(SufferingEquiv))\n",
    "for (i,S) in enumerate(SufferingEquiv)\n",
    "\ttempM = create_AnimalWelfare()\n",
    "\tset_param!(tempM, :welfare, :CowEquiv, S)\n",
    "\tset_param!(tempM, :welfare, :ChickenEquiv, S)\n",
    "\tset_param!(tempM, :welfare, :PigEquiv, S)\n",
    "\trun(tempM)\n",
    "\t\n",
    "\tTempBaseWelfare = tempM[:welfare, :UTILITY]\n",
    "\tBeefPulse = copy(OrigBeef)\n",
    "\tPorkPulse = copy(OrigPork)\n",
    "\tPoultryPulse = copy(OrigPoultry)\n",
    "\n",
    "\tBeefPulse[6] = OrigBeef[6] + 1000*(4.8) \t\t\t\t#Add pulse to year 2020; pump up for Veg diets\n",
    "\tPorkPulse[6] = OrigPork[6]  + 1000*(2.7)\n",
    "\tPoultryPulse[6] = OrigPoultry[6] + 1000*(6.7)\n",
    "\n",
    "\tVegPulse = create_AnimalWelfare()\n",
    "\tset_param!(VegPulse, :welfare, :CowEquiv, S)\n",
    "\tset_param!(VegPulse, :welfare, :ChickenEquiv, S)\n",
    "\tset_param!(VegPulse, :welfare, :PigEquiv, S)\n",
    "\tset_param!(VegPulse, :farm, :Beef, BeefPulse)\n",
    "\tset_param!(VegPulse, :farm, :Poultry, PoultryPulse)\n",
    "\tset_param!(VegPulse, :farm, :Pork, PorkPulse)\n",
    "\trun(VegPulse)\n",
    "\tVegWelfare = VegPulse[:welfare, :UTILITY]\n",
    "\tBenefitOfVegetarian[i] = (TempBaseWelfare - VegWelfare)/SCNumeraire\n",
    "end\n",
    "Basecost = BenefitOfVegetarian[2]\n",
    "\n",
    "println(\"Costs of Non-Veg in Baseline are $Basecost\")"
   ]
  },
  {
   "cell_type": "code",
   "execution_count": 137,
   "metadata": {},
   "outputs": [],
   "source": [
    "DiffOpts = zeros(length(uAs), length(alphas))\n",
    "for (i, alpha) in enumerate(alphas)\n",
    "\tfor (j, Suffering) in enumerate(uAs)\n",
    "\tm = create_AnimalWelfareOpt()\n",
    "\tfunction optveg(x, grad)\n",
    "\t\tif length(grad)>0\n",
    "\t\tgrad[1] = 1000\n",
    "\t\tend\n",
    "    \tresult = veg_outcome(x[1], Suffering, alpha)\n",
    "\t\treturn result\n",
    "\tend\n",
    "\n",
    "\topt = Opt(:LN_SBPLX, 1)\n",
    "\topt.lower_bounds=[-1.0]\n",
    "\topt.upper_bounds=[1.0]\n",
    "\tinit = [.5]\n",
    "\topt.xtol_rel = 1e-4\n",
    "\topt.max_objective = optveg\n",
    "\tsol = optimize(opt, init)[2]\n",
    "\tDiffOpts[j, i] = sol[1]\n",
    "\tend\n",
    "end\n",
    "\n",
    "plot(uAs, DiffOpts, linecolor=:red, lw=1.7, linestyle=[:solid :dashdot], label=[\"Baseline\" \"Increased Meat Utility\"], xlabel=\"Animal Welfare\", ylabel=\"Optimal Reduction\", grid=false)\n"
   ]
  },
  {
   "cell_type": "code",
   "execution_count": 138,
   "metadata": {},
   "outputs": [
    {
     "data": {
      "image/svg+xml": [
       "<?xml version=\"1.0\" encoding=\"utf-8\"?>\n",
       "<svg xmlns=\"http://www.w3.org/2000/svg\" xmlns:xlink=\"http://www.w3.org/1999/xlink\" width=\"600\" height=\"400\" viewBox=\"0 0 2400 1600\">\n",
       "<defs>\n",
       "  <clipPath id=\"clip1900\">\n",
       "    <rect x=\"0\" y=\"0\" width=\"2400\" height=\"1600\"/>\n",
       "  </clipPath>\n",
       "</defs>\n",
       "<path clip-path=\"url(#clip1900)\" d=\"\n",
       "M0 1600 L2400 1600 L2400 0 L0 0  Z\n",
       "  \" fill=\"#ffffff\" fill-rule=\"evenodd\" fill-opacity=\"1\"/>\n",
       "<defs>\n",
       "  <clipPath id=\"clip1901\">\n",
       "    <rect x=\"480\" y=\"0\" width=\"1681\" height=\"1600\"/>\n",
       "  </clipPath>\n",
       "</defs>\n",
       "<path clip-path=\"url(#clip1900)\" d=\"\n",
       "M215.754 1425.62 L2352.76 1425.62 L2352.76 47.2441 L215.754 47.2441  Z\n",
       "  \" fill=\"#ffffff\" fill-rule=\"evenodd\" fill-opacity=\"1\"/>\n",
       "<defs>\n",
       "  <clipPath id=\"clip1902\">\n",
       "    <rect x=\"215\" y=\"47\" width=\"2138\" height=\"1379\"/>\n",
       "  </clipPath>\n",
       "</defs>\n",
       "<polyline clip-path=\"url(#clip1900)\" style=\"stroke:#000000; stroke-width:4; stroke-opacity:1; fill:none\" points=\"\n",
       "  215.754,1425.62 2352.76,1425.62 \n",
       "  \"/>\n",
       "<polyline clip-path=\"url(#clip1900)\" style=\"stroke:#000000; stroke-width:4; stroke-opacity:1; fill:none\" points=\"\n",
       "  215.754,1425.62 215.754,47.2441 \n",
       "  \"/>\n",
       "<polyline clip-path=\"url(#clip1900)\" style=\"stroke:#000000; stroke-width:4; stroke-opacity:1; fill:none\" points=\"\n",
       "  477.839,1425.62 477.839,1409.08 \n",
       "  \"/>\n",
       "<polyline clip-path=\"url(#clip1900)\" style=\"stroke:#000000; stroke-width:4; stroke-opacity:1; fill:none\" points=\"\n",
       "  881.047,1425.62 881.047,1409.08 \n",
       "  \"/>\n",
       "<polyline clip-path=\"url(#clip1900)\" style=\"stroke:#000000; stroke-width:4; stroke-opacity:1; fill:none\" points=\"\n",
       "  1284.25,1425.62 1284.25,1409.08 \n",
       "  \"/>\n",
       "<polyline clip-path=\"url(#clip1900)\" style=\"stroke:#000000; stroke-width:4; stroke-opacity:1; fill:none\" points=\"\n",
       "  1687.46,1425.62 1687.46,1409.08 \n",
       "  \"/>\n",
       "<polyline clip-path=\"url(#clip1900)\" style=\"stroke:#000000; stroke-width:4; stroke-opacity:1; fill:none\" points=\"\n",
       "  2090.67,1425.62 2090.67,1409.08 \n",
       "  \"/>\n",
       "<polyline clip-path=\"url(#clip1900)\" style=\"stroke:#000000; stroke-width:4; stroke-opacity:1; fill:none\" points=\"\n",
       "  215.754,1325.1 241.398,1325.1 \n",
       "  \"/>\n",
       "<polyline clip-path=\"url(#clip1900)\" style=\"stroke:#000000; stroke-width:4; stroke-opacity:1; fill:none\" points=\"\n",
       "  215.754,1067.4 241.398,1067.4 \n",
       "  \"/>\n",
       "<polyline clip-path=\"url(#clip1900)\" style=\"stroke:#000000; stroke-width:4; stroke-opacity:1; fill:none\" points=\"\n",
       "  215.754,809.696 241.398,809.696 \n",
       "  \"/>\n",
       "<polyline clip-path=\"url(#clip1900)\" style=\"stroke:#000000; stroke-width:4; stroke-opacity:1; fill:none\" points=\"\n",
       "  215.754,551.994 241.398,551.994 \n",
       "  \"/>\n",
       "<polyline clip-path=\"url(#clip1900)\" style=\"stroke:#000000; stroke-width:4; stroke-opacity:1; fill:none\" points=\"\n",
       "  215.754,294.292 241.398,294.292 \n",
       "  \"/>\n",
       "<g clip-path=\"url(#clip1900)\">\n",
       "<text style=\"fill:#000000; fill-opacity:1; font-family:Arial,Helvetica Neue,Helvetica,sans-serif; font-size:48px; text-anchor:middle;\" transform=\"rotate(0, 477.839, 1479.62)\" x=\"477.839\" y=\"1479.62\">1.0</text>\n",
       "</g>\n",
       "<g clip-path=\"url(#clip1900)\">\n",
       "<text style=\"fill:#000000; fill-opacity:1; font-family:Arial,Helvetica Neue,Helvetica,sans-serif; font-size:48px; text-anchor:middle;\" transform=\"rotate(0, 881.047, 1479.62)\" x=\"881.047\" y=\"1479.62\">1.2</text>\n",
       "</g>\n",
       "<g clip-path=\"url(#clip1900)\">\n",
       "<text style=\"fill:#000000; fill-opacity:1; font-family:Arial,Helvetica Neue,Helvetica,sans-serif; font-size:48px; text-anchor:middle;\" transform=\"rotate(0, 1284.25, 1479.62)\" x=\"1284.25\" y=\"1479.62\">1.4</text>\n",
       "</g>\n",
       "<g clip-path=\"url(#clip1900)\">\n",
       "<text style=\"fill:#000000; fill-opacity:1; font-family:Arial,Helvetica Neue,Helvetica,sans-serif; font-size:48px; text-anchor:middle;\" transform=\"rotate(0, 1687.46, 1479.62)\" x=\"1687.46\" y=\"1479.62\">1.6</text>\n",
       "</g>\n",
       "<g clip-path=\"url(#clip1900)\">\n",
       "<text style=\"fill:#000000; fill-opacity:1; font-family:Arial,Helvetica Neue,Helvetica,sans-serif; font-size:48px; text-anchor:middle;\" transform=\"rotate(0, 2090.67, 1479.62)\" x=\"2090.67\" y=\"1479.62\">1.8</text>\n",
       "</g>\n",
       "<g clip-path=\"url(#clip1900)\">\n",
       "<text style=\"fill:#000000; fill-opacity:1; font-family:Arial,Helvetica Neue,Helvetica,sans-serif; font-size:48px; text-anchor:end;\" transform=\"rotate(0, 191.754, 1342.6)\" x=\"191.754\" y=\"1342.6\">0.0</text>\n",
       "</g>\n",
       "<g clip-path=\"url(#clip1900)\">\n",
       "<text style=\"fill:#000000; fill-opacity:1; font-family:Arial,Helvetica Neue,Helvetica,sans-serif; font-size:48px; text-anchor:end;\" transform=\"rotate(0, 191.754, 1084.9)\" x=\"191.754\" y=\"1084.9\">0.1</text>\n",
       "</g>\n",
       "<g clip-path=\"url(#clip1900)\">\n",
       "<text style=\"fill:#000000; fill-opacity:1; font-family:Arial,Helvetica Neue,Helvetica,sans-serif; font-size:48px; text-anchor:end;\" transform=\"rotate(0, 191.754, 827.196)\" x=\"191.754\" y=\"827.196\">0.2</text>\n",
       "</g>\n",
       "<g clip-path=\"url(#clip1900)\">\n",
       "<text style=\"fill:#000000; fill-opacity:1; font-family:Arial,Helvetica Neue,Helvetica,sans-serif; font-size:48px; text-anchor:end;\" transform=\"rotate(0, 191.754, 569.494)\" x=\"191.754\" y=\"569.494\">0.3</text>\n",
       "</g>\n",
       "<g clip-path=\"url(#clip1900)\">\n",
       "<text style=\"fill:#000000; fill-opacity:1; font-family:Arial,Helvetica Neue,Helvetica,sans-serif; font-size:48px; text-anchor:end;\" transform=\"rotate(0, 191.754, 311.792)\" x=\"191.754\" y=\"311.792\">0.4</text>\n",
       "</g>\n",
       "<g clip-path=\"url(#clip1900)\">\n",
       "<text style=\"fill:#000000; fill-opacity:1; font-family:Arial,Helvetica Neue,Helvetica,sans-serif; font-size:66px; text-anchor:middle;\" transform=\"rotate(0, 1284.25, 1559.48)\" x=\"1284.25\" y=\"1559.48\">Animal Welfare</text>\n",
       "</g>\n",
       "<g clip-path=\"url(#clip1900)\">\n",
       "<text style=\"fill:#000000; fill-opacity:1; font-family:Arial,Helvetica Neue,Helvetica,sans-serif; font-size:66px; text-anchor:middle;\" transform=\"rotate(-90, 89.2861, 736.431)\" x=\"89.2861\" y=\"736.431\">Optimal Reduction</text>\n",
       "</g>\n",
       "<polyline clip-path=\"url(#clip1902)\" style=\"stroke:#ff0000; stroke-width:6.8; stroke-opacity:1; fill:none\" points=\"\n",
       "  276.235,86.2547 377.037,119.836 477.839,154.321 578.641,189.869 679.443,226.635 780.245,264.817 881.047,304.65 981.849,346.371 1082.65,390.333 1183.45,436.772 \n",
       "  1284.25,486.2 1385.06,538.98 1485.86,595.762 1586.66,657.193 1687.46,724.139 1788.26,797.651 1889.07,879.019 1989.87,969.882 2090.67,1072.29 2191.47,1188.73 \n",
       "  2292.27,1322.19 \n",
       "  \"/>\n",
       "<polyline clip-path=\"url(#clip1902)\" style=\"stroke:#ff0000; stroke-width:6.8; stroke-opacity:1; fill:none\" stroke-dasharray=\"27, 14, 3, 14\" points=\"\n",
       "  276.235,126.757 377.037,161.321 477.839,196.789 578.641,233.32 679.443,271.108 780.245,310.391 881.047,351.325 981.849,394.186 1082.65,439.328 1183.45,486.987 \n",
       "  1284.25,537.673 1385.06,591.79 1485.86,649.938 1586.66,712.794 1687.46,781.205 1788.26,856.212 1889.07,939.073 1989.87,1031.4 2090.67,1135.12 2191.47,1252.61 \n",
       "  2292.27,1386.61 \n",
       "  \"/>\n",
       "<path clip-path=\"url(#clip1900)\" d=\"\n",
       "M1578 312.204 L2280.76 312.204 L2280.76 130.764 L1578 130.764  Z\n",
       "  \" fill=\"#ffffff\" fill-rule=\"evenodd\" fill-opacity=\"1\"/>\n",
       "<polyline clip-path=\"url(#clip1900)\" style=\"stroke:#000000; stroke-width:4; stroke-opacity:1; fill:none\" points=\"\n",
       "  1578,312.204 2280.76,312.204 2280.76,130.764 1578,130.764 1578,312.204 \n",
       "  \"/>\n",
       "<polyline clip-path=\"url(#clip1900)\" style=\"stroke:#ff0000; stroke-width:6.8; stroke-opacity:1; fill:none\" points=\"\n",
       "  1602,191.244 1746,191.244 \n",
       "  \"/>\n",
       "<g clip-path=\"url(#clip1900)\">\n",
       "<text style=\"fill:#000000; fill-opacity:1; font-family:Arial,Helvetica Neue,Helvetica,sans-serif; font-size:48px; text-anchor:start;\" transform=\"rotate(0, 1770, 208.744)\" x=\"1770\" y=\"208.744\">Baseline</text>\n",
       "</g>\n",
       "<polyline clip-path=\"url(#clip1900)\" style=\"stroke:#ff0000; stroke-width:6.8; stroke-opacity:1; fill:none\" stroke-dasharray=\"27, 14, 3, 14\" points=\"\n",
       "  1602,251.724 1746,251.724 \n",
       "  \"/>\n",
       "<g clip-path=\"url(#clip1900)\">\n",
       "<text style=\"fill:#000000; fill-opacity:1; font-family:Arial,Helvetica Neue,Helvetica,sans-serif; font-size:48px; text-anchor:start;\" transform=\"rotate(0, 1770, 269.224)\" x=\"1770\" y=\"269.224\">Increased Meat Utility</text>\n",
       "</g>\n",
       "</svg>\n"
      ]
     },
     "execution_count": 138,
     "metadata": {},
     "output_type": "execute_result"
    }
   ],
   "source": [
    "plot(uAs, DiffOpts, linecolor=:red, lw=1.7, linestyle=[:solid :dashdot], label=[\"Baseline\" \"Increased Meat Utility\"], xlabel=\"Animal Welfare\", ylabel=\"Optimal Reduction\", grid=false)"
   ]
  },
  {
   "cell_type": "code",
   "execution_count": 131,
   "metadata": {},
   "outputs": [
    {
     "data": {
      "text/html": [
       "<table class=\"data-frame\"><thead><tr><th></th><th>PCGrowth</th></tr><tr><th></th><th>Float64</th></tr></thead><tbody><p>486 rows × 1 columns</p><tr><th>1</th><td>1.0</td></tr><tr><th>2</th><td>1.0063</td></tr><tr><th>3</th><td>1.00621</td></tr><tr><th>4</th><td>1.00613</td></tr><tr><th>5</th><td>1.00604</td></tr><tr><th>6</th><td>1.00596</td></tr><tr><th>7</th><td>1.00604</td></tr><tr><th>8</th><td>1.00595</td></tr><tr><th>9</th><td>1.00587</td></tr><tr><th>10</th><td>1.0058</td></tr><tr><th>11</th><td>1.00573</td></tr><tr><th>12</th><td>1.00582</td></tr><tr><th>13</th><td>1.00575</td></tr><tr><th>14</th><td>1.00568</td></tr><tr><th>15</th><td>1.00561</td></tr><tr><th>16</th><td>1.00554</td></tr><tr><th>17</th><td>1.00563</td></tr><tr><th>18</th><td>1.00556</td></tr><tr><th>19</th><td>1.00549</td></tr><tr><th>20</th><td>1.00541</td></tr><tr><th>21</th><td>1.00535</td></tr><tr><th>22</th><td>1.00542</td></tr><tr><th>23</th><td>1.00537</td></tr><tr><th>24</th><td>1.00531</td></tr><tr><th>25</th><td>1.00525</td></tr><tr><th>26</th><td>1.0052</td></tr><tr><th>27</th><td>1.00528</td></tr><tr><th>28</th><td>1.00522</td></tr><tr><th>29</th><td>1.00515</td></tr><tr><th>30</th><td>1.00509</td></tr><tr><th>&vellip;</th><td>&vellip;</td></tr></tbody></table>"
      ],
      "text/latex": [
       "\\begin{tabular}{r|c}\n",
       "\t& PCGrowth\\\\\n",
       "\t\\hline\n",
       "\t& Float64\\\\\n",
       "\t\\hline\n",
       "\t1 & 1.0 \\\\\n",
       "\t2 & 1.0063 \\\\\n",
       "\t3 & 1.00621 \\\\\n",
       "\t4 & 1.00613 \\\\\n",
       "\t5 & 1.00604 \\\\\n",
       "\t6 & 1.00596 \\\\\n",
       "\t7 & 1.00604 \\\\\n",
       "\t8 & 1.00595 \\\\\n",
       "\t9 & 1.00587 \\\\\n",
       "\t10 & 1.0058 \\\\\n",
       "\t11 & 1.00573 \\\\\n",
       "\t12 & 1.00582 \\\\\n",
       "\t13 & 1.00575 \\\\\n",
       "\t14 & 1.00568 \\\\\n",
       "\t15 & 1.00561 \\\\\n",
       "\t16 & 1.00554 \\\\\n",
       "\t17 & 1.00563 \\\\\n",
       "\t18 & 1.00556 \\\\\n",
       "\t19 & 1.00549 \\\\\n",
       "\t20 & 1.00541 \\\\\n",
       "\t21 & 1.00535 \\\\\n",
       "\t22 & 1.00542 \\\\\n",
       "\t23 & 1.00537 \\\\\n",
       "\t24 & 1.00531 \\\\\n",
       "\t25 & 1.00525 \\\\\n",
       "\t26 & 1.0052 \\\\\n",
       "\t27 & 1.00528 \\\\\n",
       "\t28 & 1.00522 \\\\\n",
       "\t29 & 1.00515 \\\\\n",
       "\t30 & 1.00509 \\\\\n",
       "\t$\\dots$ & $\\dots$ \\\\\n",
       "\\end{tabular}\n"
      ],
      "text/plain": [
       "486×1 DataFrame\n",
       "│ Row │ PCGrowth │\n",
       "│     │ \u001b[90mFloat64\u001b[39m  │\n",
       "├─────┼──────────┤\n",
       "│ 1   │ 1.0      │\n",
       "│ 2   │ 1.0063   │\n",
       "│ 3   │ 1.00621  │\n",
       "│ 4   │ 1.00613  │\n",
       "│ 5   │ 1.00604  │\n",
       "│ 6   │ 1.00596  │\n",
       "│ 7   │ 1.00604  │\n",
       "│ 8   │ 1.00595  │\n",
       "│ 9   │ 1.00587  │\n",
       "│ 10  │ 1.0058   │\n",
       "⋮\n",
       "│ 476 │ 1.0      │\n",
       "│ 477 │ 1.0      │\n",
       "│ 478 │ 1.0      │\n",
       "│ 479 │ 1.0      │\n",
       "│ 480 │ 1.0      │\n",
       "│ 481 │ 1.0      │\n",
       "│ 482 │ 1.0      │\n",
       "│ 483 │ 1.0      │\n",
       "│ 484 │ 1.0      │\n",
       "│ 485 │ 1.0      │\n",
       "│ 486 │ 1.0      │"
      ]
     },
     "execution_count": 131,
     "metadata": {},
     "output_type": "execute_result"
    }
   ],
   "source": [
    "df=DataFrame(PCGrowth=PCGrowth)"
   ]
  },
  {
   "cell_type": "code",
   "execution_count": 48,
   "metadata": {},
   "outputs": [
    {
     "data": {
      "image/svg+xml": [
       "<?xml version=\"1.0\" encoding=\"utf-8\"?>\n",
       "<svg xmlns=\"http://www.w3.org/2000/svg\" xmlns:xlink=\"http://www.w3.org/1999/xlink\" width=\"600\" height=\"400\" viewBox=\"0 0 2400 1600\">\n",
       "<defs>\n",
       "  <clipPath id=\"clip0000\">\n",
       "    <rect x=\"0\" y=\"0\" width=\"2400\" height=\"1600\"/>\n",
       "  </clipPath>\n",
       "</defs>\n",
       "<path clip-path=\"url(#clip0000)\" d=\"\n",
       "M0 1600 L2400 1600 L2400 0 L0 0  Z\n",
       "  \" fill=\"#ffffff\" fill-rule=\"evenodd\" fill-opacity=\"1\"/>\n",
       "<defs>\n",
       "  <clipPath id=\"clip0001\">\n",
       "    <rect x=\"480\" y=\"0\" width=\"1681\" height=\"1600\"/>\n",
       "  </clipPath>\n",
       "</defs>\n",
       "<path clip-path=\"url(#clip0000)\" d=\"\n",
       "M141.865 1487.47 L2352.76 1487.47 L2352.76 47.2441 L141.865 47.2441  Z\n",
       "  \" fill=\"#ffffff\" fill-rule=\"evenodd\" fill-opacity=\"1\"/>\n",
       "<defs>\n",
       "  <clipPath id=\"clip0002\">\n",
       "    <rect x=\"141\" y=\"47\" width=\"2212\" height=\"1441\"/>\n",
       "  </clipPath>\n",
       "</defs>\n",
       "<polyline clip-path=\"url(#clip0002)\" style=\"stroke:#000000; stroke-width:2; stroke-opacity:0.1; fill:none\" points=\"\n",
       "  200.083,1487.47 200.083,47.2441 \n",
       "  \"/>\n",
       "<polyline clip-path=\"url(#clip0002)\" style=\"stroke:#000000; stroke-width:2; stroke-opacity:0.1; fill:none\" points=\"\n",
       "  635.52,1487.47 635.52,47.2441 \n",
       "  \"/>\n",
       "<polyline clip-path=\"url(#clip0002)\" style=\"stroke:#000000; stroke-width:2; stroke-opacity:0.1; fill:none\" points=\"\n",
       "  1070.96,1487.47 1070.96,47.2441 \n",
       "  \"/>\n",
       "<polyline clip-path=\"url(#clip0002)\" style=\"stroke:#000000; stroke-width:2; stroke-opacity:0.1; fill:none\" points=\"\n",
       "  1506.4,1487.47 1506.4,47.2441 \n",
       "  \"/>\n",
       "<polyline clip-path=\"url(#clip0002)\" style=\"stroke:#000000; stroke-width:2; stroke-opacity:0.1; fill:none\" points=\"\n",
       "  1941.83,1487.47 1941.83,47.2441 \n",
       "  \"/>\n",
       "<polyline clip-path=\"url(#clip0002)\" style=\"stroke:#000000; stroke-width:2; stroke-opacity:0.1; fill:none\" points=\"\n",
       "  141.865,1168.62 2352.76,1168.62 \n",
       "  \"/>\n",
       "<polyline clip-path=\"url(#clip0002)\" style=\"stroke:#000000; stroke-width:2; stroke-opacity:0.1; fill:none\" points=\"\n",
       "  141.865,798.241 2352.76,798.241 \n",
       "  \"/>\n",
       "<polyline clip-path=\"url(#clip0002)\" style=\"stroke:#000000; stroke-width:2; stroke-opacity:0.1; fill:none\" points=\"\n",
       "  141.865,427.862 2352.76,427.862 \n",
       "  \"/>\n",
       "<polyline clip-path=\"url(#clip0002)\" style=\"stroke:#000000; stroke-width:2; stroke-opacity:0.1; fill:none\" points=\"\n",
       "  141.865,57.4835 2352.76,57.4835 \n",
       "  \"/>\n",
       "<polyline clip-path=\"url(#clip0000)\" style=\"stroke:#000000; stroke-width:4; stroke-opacity:1; fill:none\" points=\"\n",
       "  141.865,1487.47 2352.76,1487.47 \n",
       "  \"/>\n",
       "<polyline clip-path=\"url(#clip0000)\" style=\"stroke:#000000; stroke-width:4; stroke-opacity:1; fill:none\" points=\"\n",
       "  141.865,1487.47 141.865,47.2441 \n",
       "  \"/>\n",
       "<polyline clip-path=\"url(#clip0000)\" style=\"stroke:#000000; stroke-width:4; stroke-opacity:1; fill:none\" points=\"\n",
       "  200.083,1487.47 200.083,1470.19 \n",
       "  \"/>\n",
       "<polyline clip-path=\"url(#clip0000)\" style=\"stroke:#000000; stroke-width:4; stroke-opacity:1; fill:none\" points=\"\n",
       "  635.52,1487.47 635.52,1470.19 \n",
       "  \"/>\n",
       "<polyline clip-path=\"url(#clip0000)\" style=\"stroke:#000000; stroke-width:4; stroke-opacity:1; fill:none\" points=\"\n",
       "  1070.96,1487.47 1070.96,1470.19 \n",
       "  \"/>\n",
       "<polyline clip-path=\"url(#clip0000)\" style=\"stroke:#000000; stroke-width:4; stroke-opacity:1; fill:none\" points=\"\n",
       "  1506.4,1487.47 1506.4,1470.19 \n",
       "  \"/>\n",
       "<polyline clip-path=\"url(#clip0000)\" style=\"stroke:#000000; stroke-width:4; stroke-opacity:1; fill:none\" points=\"\n",
       "  1941.83,1487.47 1941.83,1470.19 \n",
       "  \"/>\n",
       "<polyline clip-path=\"url(#clip0000)\" style=\"stroke:#000000; stroke-width:4; stroke-opacity:1; fill:none\" points=\"\n",
       "  141.865,1168.62 168.395,1168.62 \n",
       "  \"/>\n",
       "<polyline clip-path=\"url(#clip0000)\" style=\"stroke:#000000; stroke-width:4; stroke-opacity:1; fill:none\" points=\"\n",
       "  141.865,798.241 168.395,798.241 \n",
       "  \"/>\n",
       "<polyline clip-path=\"url(#clip0000)\" style=\"stroke:#000000; stroke-width:4; stroke-opacity:1; fill:none\" points=\"\n",
       "  141.865,427.862 168.395,427.862 \n",
       "  \"/>\n",
       "<polyline clip-path=\"url(#clip0000)\" style=\"stroke:#000000; stroke-width:4; stroke-opacity:1; fill:none\" points=\"\n",
       "  141.865,57.4835 168.395,57.4835 \n",
       "  \"/>\n",
       "<g clip-path=\"url(#clip0000)\">\n",
       "<text style=\"fill:#000000; fill-opacity:1; font-family:Arial,Helvetica Neue,Helvetica,sans-serif; font-size:48px; text-anchor:middle;\" transform=\"rotate(0, 200.083, 1541.47)\" x=\"200.083\" y=\"1541.47\">0</text>\n",
       "</g>\n",
       "<g clip-path=\"url(#clip0000)\">\n",
       "<text style=\"fill:#000000; fill-opacity:1; font-family:Arial,Helvetica Neue,Helvetica,sans-serif; font-size:48px; text-anchor:middle;\" transform=\"rotate(0, 635.52, 1541.47)\" x=\"635.52\" y=\"1541.47\">100</text>\n",
       "</g>\n",
       "<g clip-path=\"url(#clip0000)\">\n",
       "<text style=\"fill:#000000; fill-opacity:1; font-family:Arial,Helvetica Neue,Helvetica,sans-serif; font-size:48px; text-anchor:middle;\" transform=\"rotate(0, 1070.96, 1541.47)\" x=\"1070.96\" y=\"1541.47\">200</text>\n",
       "</g>\n",
       "<g clip-path=\"url(#clip0000)\">\n",
       "<text style=\"fill:#000000; fill-opacity:1; font-family:Arial,Helvetica Neue,Helvetica,sans-serif; font-size:48px; text-anchor:middle;\" transform=\"rotate(0, 1506.4, 1541.47)\" x=\"1506.4\" y=\"1541.47\">300</text>\n",
       "</g>\n",
       "<g clip-path=\"url(#clip0000)\">\n",
       "<text style=\"fill:#000000; fill-opacity:1; font-family:Arial,Helvetica Neue,Helvetica,sans-serif; font-size:48px; text-anchor:middle;\" transform=\"rotate(0, 1941.83, 1541.47)\" x=\"1941.83\" y=\"1541.47\">400</text>\n",
       "</g>\n",
       "<g clip-path=\"url(#clip0000)\">\n",
       "<text style=\"fill:#000000; fill-opacity:1; font-family:Arial,Helvetica Neue,Helvetica,sans-serif; font-size:48px; text-anchor:end;\" transform=\"rotate(0, 117.865, 1186.12)\" x=\"117.865\" y=\"1186.12\">-6</text>\n",
       "</g>\n",
       "<g clip-path=\"url(#clip0000)\">\n",
       "<text style=\"fill:#000000; fill-opacity:1; font-family:Arial,Helvetica Neue,Helvetica,sans-serif; font-size:48px; text-anchor:end;\" transform=\"rotate(0, 117.865, 815.741)\" x=\"117.865\" y=\"815.741\">-4</text>\n",
       "</g>\n",
       "<g clip-path=\"url(#clip0000)\">\n",
       "<text style=\"fill:#000000; fill-opacity:1; font-family:Arial,Helvetica Neue,Helvetica,sans-serif; font-size:48px; text-anchor:end;\" transform=\"rotate(0, 117.865, 445.362)\" x=\"117.865\" y=\"445.362\">-2</text>\n",
       "</g>\n",
       "<g clip-path=\"url(#clip0000)\">\n",
       "<text style=\"fill:#000000; fill-opacity:1; font-family:Arial,Helvetica Neue,Helvetica,sans-serif; font-size:48px; text-anchor:end;\" transform=\"rotate(0, 117.865, 74.9835)\" x=\"117.865\" y=\"74.9835\">0</text>\n",
       "</g>\n",
       "<polyline clip-path=\"url(#clip0002)\" style=\"stroke:#009af9; stroke-width:4; stroke-opacity:1; fill:none\" points=\"\n",
       "  204.437,88.0053 208.791,103.521 213.146,115.928 217.5,125.74 221.854,133.22 226.209,138.8 230.563,142.792 234.918,145.604 239.272,147.425 243.626,148.51 \n",
       "  247.981,149.025 252.335,149.121 256.689,149.008 261.044,148.822 265.398,148.382 269.753,147.872 274.107,147.09 278.461,146.203 282.816,145.133 287.17,143.948 \n",
       "  291.524,142.772 295.879,141.65 300.233,140.617 304.588,139.709 308.942,139.002 313.296,138.462 317.651,138.044 322.005,137.651 326.36,137.208 330.714,136.708 \n",
       "  335.068,136.268 339.423,135.868 343.777,135.529 348.131,135.302 352.486,135.229 356.84,135.343 361.195,135.516 365.549,135.762 369.903,136.075 374.258,136.383 \n",
       "  378.612,136.763 382.966,137.195 387.321,137.709 391.675,138.31 396.03,139.016 400.384,139.915 404.738,140.949 409.093,142.071 413.447,143.216 417.801,144.362 \n",
       "  422.156,145.518 426.51,146.7 430.865,147.918 435.219,149.163 439.573,150.457 443.928,151.831 448.282,153.287 452.636,154.854 456.991,156.525 461.345,158.271 \n",
       "  465.7,160.069 470.054,161.881 474.408,163.664 478.763,165.452 483.117,167.198 487.471,168.978 491.826,170.799 496.18,172.666 500.535,174.627 504.889,176.708 \n",
       "  509.243,178.904 513.598,181.2 517.952,183.448 522.306,185.623 526.661,187.758 531.015,189.887 535.37,192.04 539.724,194.217 544.078,196.48 548.433,198.865 \n",
       "  552.787,201.408 557.141,203.952 561.496,206.503 565.85,209.027 570.205,211.491 574.559,213.983 578.913,216.482 583.268,219.029 587.622,221.65 591.976,224.399 \n",
       "  596.331,227.393 600.685,230.387 605.04,233.39 609.394,236.285 613.748,239.171 618.103,242.025 622.457,244.876 626.812,247.742 631.166,250.657 635.52,253.708 \n",
       "  639.875,256.964 644.229,260.375 648.583,263.671 652.938,266.991 657.292,270.181 661.647,273.314 666.001,276.436 670.355,279.557 674.71,282.742 679.064,286.069 \n",
       "  683.418,289.716 687.773,293.381 692.127,297.074 696.482,300.65 700.836,304.088 705.19,307.421 709.545,310.754 713.899,314.088 718.253,317.45 722.608,320.877 \n",
       "  726.962,324.49 731.317,328.236 735.671,331.992 740.025,335.768 744.38,339.516 748.734,343.189 753.088,346.87 757.443,350.499 761.797,354.12 766.152,357.757 \n",
       "  770.506,361.462 774.86,365.304 779.215,369.363 783.569,373.555 787.923,377.688 792.278,381.783 796.632,385.753 800.987,389.572 805.341,393.295 809.695,396.993 \n",
       "  814.05,400.776 818.404,404.712 822.758,408.895 827.113,413.274 831.467,417.517 835.822,421.784 840.176,425.794 844.53,429.654 848.885,433.436 853.239,437.202 \n",
       "  857.593,441.029 861.948,444.971 866.302,449.152 870.657,453.44 875.011,457.803 879.365,462.151 883.72,466.345 888.074,470.366 892.429,474.304 896.783,478.164 \n",
       "  901.137,482.026 905.492,485.876 909.846,489.752 914.2,493.697 918.555,497.775 922.909,502.125 927.264,506.474 931.618,510.859 935.972,515.252 940.327,519.43 \n",
       "  944.681,523.47 949.035,527.433 953.39,531.397 957.744,535.38 962.099,539.456 966.453,543.79 970.807,548.335 975.162,552.952 979.516,557.43 983.87,561.738 \n",
       "  988.225,565.832 992.579,569.859 996.934,573.847 1001.29,577.755 1005.64,581.667 1010,585.582 1014.35,589.59 1018.71,593.775 1023.06,598.121 1027.41,602.558 \n",
       "  1031.77,606.946 1036.12,611.279 1040.48,615.451 1044.83,619.545 1049.19,623.452 1053.54,627.292 1057.89,631.175 1062.25,635.122 1066.6,639.254 1070.96,643.625 \n",
       "  1075.31,648.128 1079.67,652.828 1084.02,657.312 1088.38,661.535 1092.73,665.57 1097.08,669.398 1101.44,673.226 1105.79,677.015 1110.15,680.956 1114.5,685.154 \n",
       "  1118.86,689.464 1123.21,693.77 1127.56,698.126 1131.92,702.324 1136.27,706.404 1140.63,710.487 1144.98,714.505 1149.34,718.499 1153.69,722.54 1158.05,726.725 \n",
       "  1162.4,731.165 1166.75,735.824 1171.11,740.424 1175.46,744.914 1179.82,749.143 1184.17,753.145 1188.53,757.082 1192.88,760.912 1197.23,764.707 1201.59,768.491 \n",
       "  1205.94,772.312 1210.3,776.279 1214.65,780.476 1219.01,784.893 1223.36,789.283 1227.72,793.671 1232.07,797.951 1236.42,802.023 1240.78,805.981 1245.13,809.724 \n",
       "  1249.49,813.399 1253.84,817.14 1258.2,820.97 1262.55,825.056 1266.9,829.449 1271.26,834.004 1275.61,838.684 1279.97,842.987 1284.32,847.034 1288.68,850.805 \n",
       "  1293.03,854.442 1297.39,857.979 1301.74,861.585 1306.09,865.43 1310.45,869.555 1314.8,873.822 1319.16,878.013 1323.51,882.111 1327.87,886.018 1332.22,889.65 \n",
       "  1336.57,893.169 1340.93,896.69 1345.28,900.236 1349.64,903.966 1353.99,908.047 1358.35,912.419 1362.7,916.805 1367.06,921.07 1371.41,924.834 1375.76,928.505 \n",
       "  1380.12,931.963 1384.47,935.281 1388.83,938.569 1393.18,942.014 1397.54,945.832 1401.89,949.894 1406.24,954.198 1410.6,958.398 1414.95,962.26 1419.31,965.664 \n",
       "  1423.66,969.095 1428.02,972.563 1432.37,976.059 1436.73,979.576 1441.08,983.108 1445.43,986.627 1449.79,990.153 1454.14,993.682 1458.5,997.214 1462.85,1000.75 \n",
       "  1467.21,1004.25 1471.56,1007.76 1475.92,1011.26 1480.27,1014.75 1484.62,1018.24 1488.98,1021.7 1493.33,1025.16 1497.69,1028.61 1502.04,1032.05 1506.4,1035.49 \n",
       "  1510.75,1038.9 1515.1,1042.3 1519.46,1045.69 1523.81,1049.08 1528.17,1052.46 1532.52,1055.8 1536.88,1059.14 1541.23,1062.47 1545.59,1065.8 1549.94,1069.11 \n",
       "  1554.29,1072.4 1558.65,1075.67 1563,1078.94 1567.36,1082.2 1571.71,1085.46 1576.07,1088.68 1580.42,1091.89 1584.77,1095.09 1589.13,1098.29 1593.48,1101.48 \n",
       "  1597.84,1104.64 1602.19,1107.78 1606.55,1110.92 1610.9,1114.05 1615.26,1117.18 1619.61,1120.27 1623.96,1123.35 1628.32,1126.42 1632.67,1129.49 1637.03,1132.55 \n",
       "  1641.38,1135.57 1645.74,1138.58 1650.09,1141.59 1654.44,1144.59 1658.8,1147.58 1663.15,1150.54 1667.51,1153.48 1671.86,1156.42 1676.22,1159.35 1680.57,1162.28 \n",
       "  1684.93,1165.17 1689.28,1168.05 1693.63,1170.92 1697.99,1173.78 1702.34,1176.64 1706.7,1179.46 1711.05,1182.27 1715.41,1185.08 1719.76,1187.88 1724.11,1190.67 \n",
       "  1728.47,1193.42 1732.82,1196.16 1737.18,1198.9 1741.53,1201.63 1745.89,1204.36 1750.24,1207.04 1754.6,1209.72 1758.95,1212.39 1763.3,1215.05 1767.66,1217.71 \n",
       "  1772.01,1220.32 1776.37,1222.93 1780.72,1225.53 1785.08,1228.13 1789.43,1230.72 1793.78,1233.27 1798.14,1235.81 1802.49,1238.35 1806.85,1240.88 1811.2,1243.4 \n",
       "  1815.56,1245.88 1819.91,1248.36 1824.27,1250.83 1828.62,1253.29 1832.97,1255.75 1837.33,1258.16 1841.68,1260.57 1846.04,1262.98 1850.39,1265.38 1854.75,1267.77 \n",
       "  1859.1,1270.12 1863.45,1272.46 1867.81,1274.8 1872.16,1277.13 1876.52,1279.46 1880.87,1281.75 1885.23,1284.03 1889.58,1286.3 1893.94,1288.57 1898.29,1290.84 \n",
       "  1902.64,1293.06 1907,1295.28 1911.35,1297.49 1915.71,1299.69 1920.06,1301.9 1924.42,1304.06 1928.77,1306.21 1933.12,1308.37 1937.48,1310.51 1941.83,1312.65 \n",
       "  1946.19,1314.76 1950.54,1316.85 1954.9,1318.95 1959.25,1321.03 1963.61,1323.11 1967.96,1325.17 1972.31,1327.21 1976.67,1329.25 1981.02,1331.28 1985.38,1333.31 \n",
       "  1989.73,1335.31 1994.09,1337.31 1998.44,1339.3 2002.79,1341.28 2007.15,1343.26 2011.5,1345.23 2015.86,1347.19 2020.21,1349.14 2024.57,1351.08 2028.92,1353.02 \n",
       "  2033.28,1354.97 2037.63,1356.91 2041.98,1358.84 2046.34,1360.76 2050.69,1362.67 2055.05,1364.65 2059.4,1366.6 2063.76,1368.54 2068.11,1370.46 2072.46,1372.37 \n",
       "  2076.82,1374.43 2081.17,1376.45 2085.53,1378.45 2089.88,1380.42 2094.24,1382.37 2098.59,1384.61 2102.95,1386.8 2107.3,1388.94 2111.65,1391.04 2116.01,1393.1 \n",
       "  2120.36,1389.53 2124.72,1386.33 2129.07,1383.47 2133.43,1380.94 2137.78,1378.71 2142.13,1381.49 2146.49,1384.19 2150.84,1386.83 2155.2,1389.4 2159.55,1391.91 \n",
       "  2163.91,1394.32 2168.26,1396.68 2172.62,1398.99 2176.97,1401.26 2181.32,1403.47 2185.68,1405.61 2190.03,1407.7 2194.39,1409.76 2198.74,1411.78 2203.1,1413.77 \n",
       "  2207.45,1415.68 2211.8,1417.57 2216.16,1419.43 2220.51,1421.26 2224.87,1423.06 2229.22,1424.8 2233.58,1426.52 2237.93,1428.22 2242.29,1429.9 2246.64,1431.56 \n",
       "  2250.99,1433.16 2255.35,1434.74 2259.7,1436.31 2264.06,1437.87 2268.41,1439.4 2272.77,1440.89 2277.12,1442.37 2281.47,1443.83 2285.83,1445.28 2290.18,1446.71 \n",
       "  \n",
       "  \"/>\n",
       "<path clip-path=\"url(#clip0000)\" d=\"\n",
       "M1989.93 251.724 L2280.76 251.724 L2280.76 130.764 L1989.93 130.764  Z\n",
       "  \" fill=\"#ffffff\" fill-rule=\"evenodd\" fill-opacity=\"1\"/>\n",
       "<polyline clip-path=\"url(#clip0000)\" style=\"stroke:#000000; stroke-width:4; stroke-opacity:1; fill:none\" points=\"\n",
       "  1989.93,251.724 2280.76,251.724 2280.76,130.764 1989.93,130.764 1989.93,251.724 \n",
       "  \"/>\n",
       "<polyline clip-path=\"url(#clip0000)\" style=\"stroke:#009af9; stroke-width:4; stroke-opacity:1; fill:none\" points=\"\n",
       "  2013.93,191.244 2157.93,191.244 \n",
       "  \"/>\n",
       "<g clip-path=\"url(#clip0000)\">\n",
       "<text style=\"fill:#000000; fill-opacity:1; font-family:Arial,Helvetica Neue,Helvetica,sans-serif; font-size:48px; text-anchor:start;\" transform=\"rotate(0, 2181.93, 208.744)\" x=\"2181.93\" y=\"208.744\">y1</text>\n",
       "</g>\n",
       "</svg>\n"
      ]
     },
     "execution_count": 48,
     "metadata": {},
     "output_type": "execute_result"
    }
   ],
   "source": [
    "x = [.9, 0,0]\t\n",
    "y = [0,0,0]\n",
    "SufferingEquiv= 1.9\n",
    "m \t= create_AnimalWelfareOpt()\n",
    "\tset_param!(m, :farm, :BeefReduc, x[1])\n",
    "\tset_param!(m, :farm, :PoultryReduc, x[2])\n",
    "\tset_param!(m, :farm, :PorkReduc, x[3])\n",
    "\tset_param!(m, :welfare, :CowEquiv, SufferingEquiv)\n",
    "\tset_param!(m, :welfare, :PigEquiv, SufferingEquiv)\n",
    "\tset_param!(m, :welfare, :ChickenEquiv, SufferingEquiv)\n",
    "    set_param!(m, :welfare, :rho, .001)\n",
    "    set_param!(m, :farm, :sigmaBeefCo2, 10*65.1)\n",
    "\tset_param!(m, :farm, :sigmaBeefMeth, 10*6.5)\n",
    "\tset_param!(m, :farm, :sigmaBeefN2o, 10*0.22)\n",
    "\tset_param!(m, :farm, :sigmaPoultryCo2, 10*25.6)\n",
    "\tset_param!(m, :farm, :sigmaPoultryMeth, 10*0.02)\n",
    "\tset_param!(m, :farm, :sigmaPoultryN2o, 10*0.03)\n",
    "\tset_param!(m, :farm, :sigmaPorkCo2, 10*25.1)\n",
    "\tset_param!(m, :farm, :sigmaPorkMeth, 10*.7)\n",
    "\tset_param!(m, :farm, :sigmaPorkN2o, 10*.04)\t\n",
    "\trun(m)\n",
    "m2 \t= create_AnimalWelfareOpt()\n",
    "\tset_param!(m2, :farm, :BeefReduc, y[1])\n",
    "\tset_param!(m2, :farm, :PoultryReduc, y[2])\n",
    "\tset_param!(m2, :farm, :PorkReduc, y[3])\n",
    "\tset_param!(m2, :welfare, :CowEquiv, SufferingEquiv)\n",
    "\tset_param!(m2, :welfare, :PigEquiv, SufferingEquiv)\n",
    "\tset_param!(m2, :welfare, :ChickenEquiv, SufferingEquiv)\n",
    "    set_param!(m2, :welfare, :rho, .001)\n",
    "    set_param!(m2, :farm, :sigmaBeefCo2, 65.1)\n",
    "\tset_param!(m2, :farm, :sigmaBeefMeth, 6.5)\n",
    "\tset_param!(m2, :farm, :sigmaBeefN2o, 0.22)\n",
    "\tset_param!(m2, :farm, :sigmaPoultryCo2, 25.6)\n",
    "\tset_param!(m2, :farm, :sigmaPoultryMeth, 0.02)\n",
    "\tset_param!(m2, :farm, :sigmaPoultryN2o, 0.03)\n",
    "\tset_param!(m2, :farm, :sigmaPorkCo2, 25.1)\n",
    "\tset_param!(m2, :farm, :sigmaPorkMeth, .7)\n",
    "\tset_param!(m2, :farm, :sigmaPorkN2o, .04)\t\n",
    "\trun(m2)\n",
    "TempDiff = plot(m2[:welfare, :CPC][TwentyTwenty+1:end] - m[:welfare, :CPC][TwentyTwenty+1:end])"
   ]
  },
  {
   "cell_type": "code",
   "execution_count": 59,
   "metadata": {},
   "outputs": [
    {
     "data": {
      "text/plain": [
       "1.641417620747038"
      ]
     },
     "execution_count": 59,
     "metadata": {},
     "output_type": "execute_result"
    }
   ],
   "source": [
    "WelfareDiff_today = m2[:welfare, :MeatPC][TwentyTwenty] #- m2[:welfare, :MeatPC][TwentyTwenty]"
   ]
  },
  {
   "cell_type": "code",
   "execution_count": 69,
   "metadata": {},
   "outputs": [
    {
     "data": {
      "text/plain": [
       "1.6781245173550388"
      ]
     },
     "execution_count": 69,
     "metadata": {},
     "output_type": "execute_result"
    }
   ],
   "source": [
    "m1 = (theta_b*(1.4)^epsilon + theta_c*(2.)^epsilon + theta_p*(2.)^epsilon)^(1/epsilon)"
   ]
  },
  {
   "cell_type": "code",
   "execution_count": 70,
   "metadata": {},
   "outputs": [
    {
     "data": {
      "text/plain": [
       "1.595105751387024"
      ]
     },
     "execution_count": 70,
     "metadata": {},
     "output_type": "execute_result"
    }
   ],
   "source": [
    "m2 = (theta_b*(.9*1.4)^epsilon + theta_c*(2.)^epsilon + theta_p*(2.)^epsilon)^(1/epsilon)"
   ]
  },
  {
   "cell_type": "code",
   "execution_count": 78,
   "metadata": {},
   "outputs": [
    {
     "data": {
      "text/plain": [
       "1303.0"
      ]
     },
     "execution_count": 78,
     "metadata": {},
     "output_type": "execute_result"
    }
   ],
   "source": [
    "PBeef"
   ]
  },
  {
   "cell_type": "code",
   "execution_count": 71,
   "metadata": {},
   "outputs": [
    {
     "data": {
      "text/plain": [
       "1.052045932312529"
      ]
     },
     "execution_count": 71,
     "metadata": {},
     "output_type": "execute_result"
    }
   ],
   "source": []
  },
  {
   "cell_type": "code",
   "execution_count": 69,
   "metadata": {},
   "outputs": [
    {
     "data": {
      "text/plain": [
       "1×3 Array{Float64,2}:\n",
       " 1572.0  612.447  99.7007"
      ]
     },
     "execution_count": 69,
     "metadata": {},
     "output_type": "execute_result"
    }
   ],
   "source": [
    "veg_outcome()"
   ]
  },
  {
   "cell_type": "code",
   "execution_count": 70,
   "metadata": {},
   "outputs": [
    {
     "data": {
      "text/plain": [
       "create_AnimalWelfareOpt (generic function with 1 method)"
      ]
     },
     "execution_count": 70,
     "metadata": {},
     "output_type": "execute_result"
    }
   ],
   "source": [
    "\n",
    "function create_AnimalWelfareOpt()\n",
    "m = create_AnimalWelfare()\n",
    "include(joinpath(\"components\", \"AnimalWelfare\", \"OptimalPolicy\", \"neteconomy_component.jl\"))\n",
    "include(joinpath(\"components\", \"AnimalWelfare\", \"OptimalPolicy\", \"farm_component.jl\"))\n",
    "include(joinpath(\"components\", \"AnimalWelfare\", \"OptimalPolicy\", \"welfare_component.jl\"))\n",
    "replace_comp!(m, farmforpolicy, :farm, reconnect=true)\n",
    "set_param!(m, :farm, :theta_b, theta_b)\n",
    "set_param!(m, :farm, :theta_c, theta_c)\n",
    "set_param!(m, :farm, :theta_p, theta_c)\n",
    "set_param!(m, :farm, :epsilon, epsilon)\n",
    "set_param!(m, :farm, :PBeef, PBeef)\n",
    "set_param!(m, :farm, :PPoultry, PPoultry)\n",
    "set_param!(m, :farm, :PPork, PPork)\n",
    "set_param!(m, :farm, :BeefReduc, 0.)\n",
    "set_param!(m, :farm, :PorkReduc, 0.)\n",
    "set_param!(m, :farm, :PoultryReduc, 0.)\n",
    "\n",
    "replace_comp!(m, neteconomyforpolicy, :neteconomy, reconnect=true)\n",
    "connect_param!(m, :neteconomy, :MeatExp, :farm, :MeatCost)\n",
    "\n",
    "replace_comp!(m, welfareforpolicy, :welfare, reconnect=true)\n",
    "set_param!(m, :welfare, :elasmeat, xi)\n",
    "set_param!(m, :welfare, :alphameat, alpha)\n",
    "\n",
    "connect_param!(m, :welfare, :Meat, :farm, :Meat)\n",
    "return m\n",
    "end"
   ]
  },
  {
   "cell_type": "code",
   "execution_count": 71,
   "metadata": {},
   "outputs": [
    {
     "data": {
      "text/plain": [
       "23-component Mimi.Model:\n",
       "  grosseconomy::Main.grosseconomy\n",
       "  farm::Main.farmforpolicy\n",
       "  emissions::Main.emissions\n",
       "  ch4_cycle::MimiFAIR13.ch4_cycle\n",
       "  n2o_cycle::MimiFAIR13.n2o_cycle\n",
       "  other_ghg_cycles::MimiFAIR13.other_ghg_cycles\n",
       "  co2_cycle::MimiFAIR13.co2_cycle\n",
       "  ch4_rf::MimiFAIR13.ch4_rf\n",
       "  n2o_rf::MimiFAIR13.n2o_rf\n",
       "  other_ghg_rf::MimiFAIR13.other_ghg_rf\n",
       "  co2_rf::MimiFAIR13.co2_rf\n",
       "  trop_o3_rf::MimiFAIR13.trop_o3_rf\n",
       "  strat_o3_rf::MimiFAIR13.strat_o3_rf\n",
       "  aerosol_direct_rf::MimiFAIR13.aerosol_direct_rf\n",
       "  aerosol_indirect_rf::MimiFAIR13.aerosol_indirect_rf\n",
       "  bc_snow_rf::MimiFAIR13.bc_snow_rf\n",
       "  landuse_rf::MimiFAIR13.landuse_rf\n",
       "  contrails_rf::MimiFAIR13.contrails_rf\n",
       "  total_rf::MimiFAIR13.total_rf\n",
       "  temperature::MimiFAIR13.temperature\n",
       "  damages::Main.damages\n",
       "  neteconomy::Main.neteconomyforpolicy\n",
       "  welfare::Main.welfareforpolicy\n"
      ]
     },
     "execution_count": 71,
     "metadata": {},
     "output_type": "execute_result"
    }
   ],
   "source": [
    "m = create_AnimalWelfareOpt()"
   ]
  },
  {
   "cell_type": "code",
   "execution_count": 72,
   "metadata": {},
   "outputs": [],
   "source": [
    "run(m)"
   ]
  },
  {
   "cell_type": "code",
   "execution_count": 54,
   "metadata": {},
   "outputs": [
    {
     "data": {
      "text/plain": [
       "Results of Nonlinear Solver Algorithm\n",
       " * Algorithm: Trust-region with dogleg and autoscaling\n",
       " * Starting Point: [2208.357458473976, 2208.357458473976, 2208.357458473976]\n",
       " * Zero: [NaN, NaN, NaN]\n",
       " * Inf-norm of residuals: 8300.293431\n",
       " * Iterations: 1000\n",
       " * Convergence: false\n",
       "   * |x - x'| < 0.0e+00: false\n",
       "   * |f(x)| < 1.0e-08: false\n",
       " * Function Calls (f): 1001\n",
       " * Jacobian Calls (df/dx): 1"
      ]
     },
     "execution_count": 54,
     "metadata": {},
     "output_type": "execute_result"
    }
   ],
   "source": [
    "epsilon = 1/(1-rho)\n",
    "## --- Now need price of each individual product --- ## (right?)\n",
    "function f!(F, x)\n",
    "\tF[1] \t= (x[1]/x[2])^epsilon * (theta_c/theta_b)^epsilon - (PerCapChicken/PerCapBeef)\n",
    "\tF[2]\t= (x[1]/x[3])^epsilon * (theta_p/theta_b)^epsilon - (PerCapPork/PerCapBeef)\n",
    "\tF[3] \t= PerCapBeef*x[1] + PerCapChicken*x[2] + PerCapPork*x[3] - (Ytilde - c)\n",
    "end\n",
    "\n",
    "function j!(J, x)\n",
    "    J[1,1] = epsilon*(x[1]/x[2])^(epsilon-1) * (1/x[2]) * (theta_c/theta_b)^epsilon\n",
    "    J[1,2] = -epsilon*(x[1]/x[2])^(epsilon-1) *(x[1]/x[2]^2) * (theta_c/theta_b)^epsilon\n",
    "    J[1,3] = 0\n",
    "    J[2,1] = epsilon*(x[1]/x[3])^(epsilon-1) * (1/x[3]) * (theta_p/theta_b)^epsilon\n",
    "    J[2,2] = 0\n",
    "    J[3,2] = -epsilon*(x[1]/x[3])^(epsilon-1) *(x[1]/x[3]^2) * (theta_p/theta_b)^epsilon\n",
    "    J[3,1] = PerCapBeef\n",
    "    J[3,2] = PerCapChicken  \n",
    "    J[3,3] = PerCapPork      \n",
    "end\n",
    "\n",
    "sol = nlsolve(f!, j!, [P; P; P])\n",
    "#PriceVect = sol.zero\n",
    "#PBeef \t  = PriceVect[1]\n",
    "#PPoultry  = PriceVect[2]\n",
    "#PPork \t  = PriceVect[3]"
   ]
  },
  {
   "cell_type": "code",
   "execution_count": 64,
   "metadata": {},
   "outputs": [
    {
     "name": "stdout",
     "output_type": "stream",
     "text": [
      "Expenditure is 2308.34661030538\n",
      "Expenditure is 2310.652650875116\n",
      "Expenditure is 2312.958691444852\n",
      "Expenditure is 2315.2647320145875\n",
      "Expenditure is 2317.570772584323\n",
      "Expenditure is 2319.8768131540587\n",
      "Expenditure is 2322.1828537237943\n",
      "Expenditure is 2324.4888942935295\n",
      "Expenditure is 2326.7949348632656\n",
      "Expenditure is 2329.100975433001\n",
      "Expenditure is 2331.407016002737\n",
      "Expenditure is 2333.7130565724724\n",
      "Expenditure is 2336.019097142208\n",
      "Expenditure is 2338.3251377119436\n",
      "Expenditure is 2340.6311782816792\n",
      "Expenditure is 2342.937218851415\n",
      "Expenditure is 2345.2432594211505\n",
      "Expenditure is 2347.549299990886\n",
      "Expenditure is 2349.855340560622\n",
      "Expenditure is 2352.1613811303578\n",
      "Expenditure is 2354.4674217000934\n",
      "Expenditure is 2356.773462269829\n",
      "Expenditure is 2359.0795028395646\n",
      "Expenditure is 2361.3855434093\n",
      "Expenditure is 2363.691583979036\n",
      "Expenditure is 2365.9976245487715\n",
      "Expenditure is 2368.303665118507\n",
      "Expenditure is 2370.609705688243\n",
      "Expenditure is 2372.9157462579788\n",
      "Expenditure is 2375.2217868277144\n",
      "Expenditure is 2377.52782739745\n",
      "Expenditure is 2379.8338679671856\n",
      "Expenditure is 2382.1399085369208\n",
      "Expenditure is 2384.445949106657\n",
      "Expenditure is 2386.7519896763924\n",
      "Expenditure is 2389.0580302461276\n",
      "Expenditure is 2391.3640708158637\n",
      "Expenditure is 2393.6701113855993\n",
      "Expenditure is 2395.976151955335\n",
      "Expenditure is 2398.2821925250705\n",
      "Expenditure is 2400.588233094806\n",
      "Expenditure is 2402.8942736645417\n",
      "Expenditure is 2405.2003142342774\n",
      "Expenditure is 2407.506354804013\n",
      "Expenditure is 2409.812395373749\n",
      "Expenditure is 2412.118435943484\n",
      "Expenditure is 2414.4244765132203\n",
      "Expenditure is 2416.7305170829554\n",
      "Expenditure is 2419.036557652691\n",
      "Expenditure is 2421.342598222427\n",
      "Expenditure is 2423.6486387921623\n",
      "Expenditure is 2425.9546793618983\n",
      "Expenditure is 2428.2607199316335\n",
      "Expenditure is 2430.5667605013696\n",
      "Expenditure is 2432.872801071105\n",
      "Expenditure is 2435.178841640841\n",
      "Expenditure is 2437.4848822105764\n",
      "Expenditure is 2439.790922780312\n",
      "Expenditure is 2442.0969633500476\n",
      "Expenditure is 2444.4030039197833\n",
      "Expenditure is 2446.709044489519\n",
      "Expenditure is 2449.015085059255\n",
      "Expenditure is 2451.3211256289906\n",
      "Expenditure is 2453.627166198726\n",
      "Expenditure is 2455.933206768462\n",
      "Expenditure is 2458.2392473381974\n",
      "Expenditure is 2460.545287907933\n",
      "Expenditure is 2462.8513284776686\n",
      "Expenditure is 2465.1573690474042\n",
      "Expenditure is 2467.4634096171403\n",
      "Expenditure is 2469.7694501868755\n",
      "Expenditure is 2472.0754907566115\n",
      "Expenditure is 2474.3815313263467\n",
      "Expenditure is 2476.6875718960823\n",
      "Expenditure is 2478.9936124658184\n",
      "Expenditure is 2481.2996530355535\n",
      "Expenditure is 2483.605693605289\n",
      "Expenditure is 2485.911734175025\n",
      "Expenditure is 2488.2177747447604\n",
      "Expenditure is 2490.5238153144965\n",
      "Expenditure is 2492.829855884232\n",
      "Expenditure is 2495.1358964539677\n",
      "Expenditure is 2497.4419370237033\n",
      "Expenditure is 2499.747977593439\n",
      "Expenditure is 2502.0540181631745\n",
      "Expenditure is 2504.36005873291\n",
      "Expenditure is 2506.666099302646\n",
      "Expenditure is 2508.9721398723814\n",
      "Expenditure is 2511.278180442117\n",
      "Expenditure is 2513.584221011853\n",
      "Expenditure is 2515.890261581588\n",
      "Expenditure is 2518.196302151324\n",
      "Expenditure is 2520.5023427210594\n",
      "Expenditure is 2522.808383290795\n",
      "Expenditure is 2525.1144238605307\n",
      "Expenditure is 2527.4204644302667\n",
      "Expenditure is 2529.7265050000024\n",
      "Expenditure is 2532.032545569738\n",
      "Expenditure is 2534.3385861394736\n",
      "Expenditure is 2536.644626709209\n",
      "Expenditure is 2538.950667278945\n",
      "Expenditure is 2541.2567078486804\n",
      "Expenditure is 2543.562748418416\n",
      "Expenditure is 2545.8687889881517\n",
      "Expenditure is 2548.1748295578877\n",
      "Expenditure is 2550.4808701276233\n",
      "Expenditure is 2552.786910697359\n",
      "Expenditure is 2555.0929512670946\n",
      "Expenditure is 2557.39899183683\n",
      "Expenditure is 2559.705032406566\n",
      "Expenditure is 2562.0110729763014\n",
      "Expenditure is 2564.317113546037\n",
      "Expenditure is 2566.6231541157726\n",
      "Expenditure is 2568.9291946855083\n",
      "Expenditure is 2571.2352352552443\n",
      "Expenditure is 2573.5412758249795\n",
      "Expenditure is 2575.847316394715\n",
      "Expenditure is 2578.1533569644507\n",
      "Expenditure is 2580.4593975341863\n",
      "Expenditure is 2582.765438103922\n",
      "Expenditure is 2585.071478673658\n",
      "Expenditure is 2587.3775192433936\n",
      "Expenditure is 2589.683559813129\n",
      "Expenditure is 2591.989600382865\n",
      "Expenditure is 2594.2956409526005\n",
      "Expenditure is 2596.601681522336\n",
      "Expenditure is 2598.9077220920717\n",
      "Expenditure is 2601.213762661807\n",
      "Expenditure is 2603.5198032315425\n",
      "Expenditure is 2605.8258438012786\n",
      "Expenditure is 2608.131884371014\n",
      "Expenditure is 2610.43792494075\n",
      "Expenditure is 2612.7439655104854\n",
      "Expenditure is 2615.050006080221\n",
      "Expenditure is 2617.3560466499566\n",
      "Expenditure is 2619.6620872196922\n",
      "Expenditure is 2621.968127789428\n",
      "Expenditure is 2624.274168359164\n",
      "Expenditure is 2626.5802089288995\n",
      "Expenditure is 2628.886249498635\n",
      "Expenditure is 2631.1922900683708\n",
      "Expenditure is 2633.4983306381064\n",
      "Expenditure is 2635.804371207842\n",
      "Expenditure is 2638.1104117775776\n",
      "Expenditure is 2640.416452347313\n",
      "Expenditure is 2642.722492917049\n",
      "Expenditure is 2645.028533486785\n",
      "Expenditure is 2647.33457405652\n",
      "Expenditure is 2649.640614626256\n",
      "Expenditure is 2651.9466551959918\n",
      "Expenditure is 2654.252695765727\n",
      "Expenditure is 2656.558736335463\n",
      "Expenditure is 2658.864776905198\n",
      "Expenditure is 2661.1708174749338\n",
      "Expenditure is 2663.4768580446694\n",
      "Expenditure is 2665.7828986144054\n",
      "Expenditure is 2668.088939184141\n",
      "Expenditure is 2670.3949797538767\n",
      "Expenditure is 2672.7010203236123\n",
      "Expenditure is 2675.007060893348\n",
      "Expenditure is 2677.3131014630835\n",
      "Expenditure is 2679.619142032819\n",
      "Expenditure is 2681.9251826025543\n",
      "Expenditure is 2684.231223172291\n",
      "Expenditure is 2686.5372637420264\n",
      "Expenditure is 2688.8433043117616\n",
      "Expenditure is 2691.1493448814977\n",
      "Expenditure is 2693.455385451233\n",
      "Expenditure is 2695.7614260209684\n",
      "Expenditure is 2698.067466590704\n",
      "Expenditure is 2700.3735071604397\n",
      "Expenditure is 2702.6795477301753\n",
      "Expenditure is 2704.9855882999113\n",
      "Expenditure is 2707.291628869647\n",
      "Expenditure is 2709.5976694393826\n",
      "Expenditure is 2711.903710009118\n",
      "Expenditure is 2714.209750578854\n",
      "Expenditure is 2716.5157911485894\n",
      "Expenditure is 2718.821831718325\n",
      "Expenditure is 2721.1278722880606\n",
      "Expenditure is 2723.4339128577967\n",
      "Expenditure is 2725.7399534275323\n",
      "Expenditure is 2728.045993997268\n",
      "Expenditure is 2730.3520345670036\n",
      "Expenditure is 2732.658075136739\n",
      "Expenditure is 2734.964115706475\n",
      "Expenditure is 2737.2701562762104\n",
      "Expenditure is 2739.5761968459456\n",
      "Expenditure is 2741.8822374156816\n",
      "Expenditure is 2744.1882779854177\n",
      "Expenditure is 2746.494318555153\n",
      "Expenditure is 2748.8003591248885\n",
      "Expenditure is 2751.106399694624\n",
      "Expenditure is 2753.4124402643597\n",
      "Expenditure is 2755.7184808340958\n",
      "Expenditure is 2758.024521403831\n",
      "Expenditure is 2760.3305619735665\n",
      "Expenditure is 2762.6366025433026\n",
      "Expenditure is 2764.9426431130382\n",
      "Expenditure is 2767.248683682774\n",
      "Expenditure is 2769.554724252509\n",
      "Expenditure is 2771.860764822245\n",
      "Expenditure is 2774.1668053919807\n",
      "Expenditure is 2776.4728459617163\n",
      "Expenditure is 2778.778886531452\n",
      "Expenditure is 2781.0849271011875\n",
      "Expenditure is 2783.3909676709236\n",
      "Expenditure is 2785.6970082406588\n",
      "Expenditure is 2788.0030488103944\n",
      "Expenditure is 2790.30908938013\n",
      "Expenditure is 2792.6151299498656\n",
      "Expenditure is 2794.921170519601\n",
      "Expenditure is 2797.2272110893373\n",
      "Expenditure is 2799.5332516590724\n",
      "Expenditure is 2801.8392922288085\n",
      "Expenditure is 2804.145332798544\n",
      "Expenditure is 2806.4513733682797\n",
      "Expenditure is 2808.7574139380154\n",
      "Expenditure is 2811.063454507751\n",
      "Expenditure is 2813.3694950774866\n",
      "Expenditure is 2815.675535647222\n",
      "Expenditure is 2817.981576216958\n",
      "Expenditure is 2820.2876167866934\n",
      "Expenditure is 2822.5936573564295\n",
      "Expenditure is 2824.899697926165\n",
      "Expenditure is 2827.2057384959003\n",
      "Expenditure is 2829.5117790656363\n",
      "Expenditure is 2831.817819635372\n",
      "Expenditure is 2834.1238602051076\n",
      "Expenditure is 2836.429900774843\n",
      "Expenditure is 2838.735941344579\n",
      "Expenditure is 2841.0419819143144\n",
      "Expenditure is 2843.34802248405\n",
      "Expenditure is 2845.6540630537856\n",
      "Expenditure is 2847.9601036235213\n",
      "Expenditure is 2850.266144193257\n",
      "Expenditure is 2852.5721847629925\n",
      "Expenditure is 2854.8782253327286\n",
      "Expenditure is 2857.1842659024637\n",
      "Expenditure is 2859.4903064721993\n",
      "Expenditure is 2861.7963470419354\n",
      "Expenditure is 2864.102387611671\n",
      "Expenditure is 2866.4084281814066\n",
      "Expenditure is 2868.714468751142\n",
      "Expenditure is 2871.020509320878\n",
      "Expenditure is 2873.326549890613\n",
      "Expenditure is 2875.632590460349\n",
      "Expenditure is 2877.9386310300847\n",
      "Expenditure is 2880.2446715998203\n",
      "Expenditure is 2882.550712169556\n",
      "Expenditure is 2884.8567527392916\n",
      "Expenditure is 2887.162793309027\n",
      "Expenditure is 2889.468833878763\n",
      "Expenditure is 2891.7748744484984\n",
      "Expenditure is 2894.080915018234\n",
      "Expenditure is 2896.3869555879696\n",
      "Expenditure is 2898.6929961577052\n",
      "Expenditure is 2900.9990367274413\n",
      "Expenditure is 2903.305077297177\n"
     ]
    },
    {
     "name": "stdout",
     "output_type": "stream",
     "text": [
      "Expenditure is 2905.6111178669125\n",
      "Expenditure is 2907.917158436648\n",
      "Expenditure is 2910.2231990063838\n",
      "Expenditure is 2912.5292395761194\n",
      "Expenditure is 2914.835280145855\n",
      "Expenditure is 2917.1413207155906\n",
      "Expenditure is 2919.447361285326\n",
      "Expenditure is 2921.7534018550623\n",
      "Expenditure is 2924.059442424798\n",
      "Expenditure is 2926.365482994533\n",
      "Expenditure is 2928.671523564269\n",
      "Expenditure is 2930.9775641340043\n",
      "Expenditure is 2933.2836047037404\n",
      "Expenditure is 2935.589645273476\n",
      "Expenditure is 2937.895685843211\n",
      "Expenditure is 2940.201726412947\n",
      "Expenditure is 2942.507766982683\n",
      "Expenditure is 2944.8138075524184\n",
      "Expenditure is 2947.119848122154\n",
      "Expenditure is 2949.4258886918897\n",
      "Expenditure is 2951.7319292616253\n",
      "Expenditure is 2954.037969831361\n",
      "Expenditure is 2956.3440104010965\n",
      "Expenditure is 2958.650050970832\n",
      "Expenditure is 2960.956091540568\n",
      "Expenditure is 2963.2621321103034\n",
      "Expenditure is 2965.568172680039\n",
      "Expenditure is 2967.8742132497746\n",
      "Expenditure is 2970.1802538195107\n",
      "Expenditure is 2972.486294389246\n",
      "Expenditure is 2974.792334958982\n",
      "Expenditure is 2977.098375528717\n",
      "Expenditure is 2979.404416098453\n",
      "Expenditure is 2981.7104566681887\n",
      "Expenditure is 2984.0164972379243\n",
      "Expenditure is 2986.32253780766\n",
      "Expenditure is 2988.6285783773956\n",
      "Expenditure is 2990.934618947131\n",
      "Expenditure is 2993.240659516867\n",
      "Expenditure is 2995.5467000866024\n",
      "Expenditure is 2997.852740656338\n",
      "Expenditure is 3000.158781226074\n",
      "Expenditure is 3002.4648217958097\n",
      "Expenditure is 3004.7708623655453\n",
      "Expenditure is 3007.076902935281\n",
      "Expenditure is 3009.3829435050166\n",
      "Expenditure is 3011.688984074752\n",
      "Expenditure is 3013.995024644488\n",
      "Expenditure is 3016.3010652142234\n",
      "Expenditure is 3018.607105783959\n",
      "Expenditure is 3020.9131463536946\n",
      "Expenditure is 3023.2191869234302\n",
      "Expenditure is 3025.525227493166\n",
      "Expenditure is 3027.831268062902\n",
      "Expenditure is 3030.137308632637\n",
      "Expenditure is 3032.443349202373\n",
      "Expenditure is 3034.7493897721083\n",
      "Expenditure is 3037.055430341844\n",
      "Expenditure is 3039.36147091158\n",
      "Expenditure is 3041.667511481315\n",
      "Expenditure is 3043.9735520510512\n",
      "Expenditure is 3046.2795926207864\n",
      "Expenditure is 3048.5856331905225\n",
      "Expenditure is 3050.891673760258\n",
      "Expenditure is 3053.1977143299932\n",
      "Expenditure is 3055.503754899729\n",
      "Expenditure is 3057.809795469465\n",
      "Expenditure is 3060.1158360392005\n",
      "Expenditure is 3062.421876608936\n",
      "Expenditure is 3064.7279171786718\n",
      "Expenditure is 3067.0339577484074\n",
      "Expenditure is 3069.339998318143\n",
      "Expenditure is 3071.6460388878786\n",
      "Expenditure is 3073.952079457614\n",
      "Expenditure is 3076.25812002735\n",
      "Expenditure is 3078.564160597086\n",
      "Expenditure is 3080.8702011668215\n",
      "Expenditure is 3083.176241736557\n",
      "Expenditure is 3085.4822823062927\n",
      "Expenditure is 3087.7883228760284\n",
      "Expenditure is 3090.094363445764\n",
      "Expenditure is 3092.4004040154996\n",
      "Expenditure is 3094.706444585235\n",
      "Expenditure is 3097.012485154971\n",
      "Expenditure is 3099.318525724707\n",
      "Expenditure is 3101.6245662944425\n",
      "Expenditure is 3103.930606864178\n",
      "Expenditure is 3106.2366474339137\n",
      "Expenditure is 3108.5426880036493\n",
      "Expenditure is 3110.8487285733845\n",
      "Expenditure is 3113.1547691431206\n",
      "Expenditure is 3115.4608097128557\n",
      "Expenditure is 3117.7668502825923\n",
      "Expenditure is 3120.072890852328\n",
      "Expenditure is 3122.378931422063\n",
      "Expenditure is 3124.6849719917986\n",
      "Expenditure is 3126.9910125615343\n",
      "Expenditure is 3129.29705313127\n",
      "Expenditure is 3131.6030937010055\n",
      "Expenditure is 3133.909134270741\n",
      "Expenditure is 3136.2151748404767\n",
      "Expenditure is 3138.5212154102123\n",
      "Expenditure is 3140.827255979948\n",
      "Expenditure is 3143.133296549684\n",
      "Expenditure is 3145.439337119419\n",
      "Expenditure is 3147.7453776891552\n",
      "Expenditure is 3150.0514182588904\n",
      "Expenditure is 3152.357458828626\n",
      "Expenditure is 3154.6634993983616\n",
      "Expenditure is 3156.9695399680977\n",
      "Expenditure is 3159.2755805378333\n",
      "Expenditure is 3161.581621107569\n",
      "Expenditure is 3163.8876616773045\n",
      "Expenditure is 3166.19370224704\n",
      "Expenditure is 3168.499742816776\n",
      "Expenditure is 3170.8057833865114\n",
      "Expenditure is 3173.111823956247\n",
      "Expenditure is 3175.4178645259826\n",
      "Expenditure is 3177.7239050957187\n",
      "Expenditure is 3180.0299456654543\n",
      "Expenditure is 3182.33598623519\n",
      "Expenditure is 3184.6420268049255\n",
      "Expenditure is 3186.948067374661\n",
      "Expenditure is 3189.2541079443968\n",
      "Expenditure is 3191.5601485141324\n",
      "Expenditure is 3193.866189083868\n",
      "Expenditure is 3196.172229653604\n",
      "Expenditure is 3198.4782702233397\n",
      "Expenditure is 3200.7843107930753\n",
      "Expenditure is 3203.0903513628105\n",
      "Expenditure is 3205.3963919325465\n",
      "Expenditure is 3207.7024325022817\n",
      "Expenditure is 3210.0084730720173\n",
      "Expenditure is 3212.3145136417534\n",
      "Expenditure is 3214.6205542114885\n",
      "Expenditure is 3216.9265947812246\n",
      "Expenditure is 3219.2326353509598\n",
      "Expenditure is 3221.538675920696\n",
      "Expenditure is 3223.8447164904314\n",
      "Expenditure is 3226.1507570601666\n",
      "Expenditure is 3228.4567976299027\n",
      "Expenditure is 3230.762838199638\n",
      "Expenditure is 3233.068878769374\n",
      "Expenditure is 3235.3749193391095\n",
      "Expenditure is 3237.680959908845\n",
      "Expenditure is 3239.9870004785807\n",
      "Expenditure is 3242.2930410483164\n",
      "Expenditure is 3244.599081618052\n",
      "Expenditure is 3246.9051221877876\n",
      "Expenditure is 3249.211162757523\n",
      "Expenditure is 3251.517203327259\n",
      "Expenditure is 3253.8232438969944\n",
      "Expenditure is 3256.1292844667305\n",
      "Expenditure is 3258.435325036466\n",
      "Expenditure is 3260.7413656062017\n",
      "Expenditure is 3263.0474061759373\n",
      "Expenditure is 3265.353446745673\n",
      "Expenditure is 3267.6594873154086\n",
      "Expenditure is 3269.965527885144\n",
      "Expenditure is 3272.27156845488\n",
      "Expenditure is 3274.5776090246154\n",
      "Expenditure is 3276.8836495943515\n",
      "Expenditure is 3279.189690164087\n",
      "Expenditure is 3281.4957307338227\n",
      "Expenditure is 3283.801771303558\n",
      "Expenditure is 3286.107811873294\n",
      "Expenditure is 3288.413852443029\n",
      "Expenditure is 3290.719893012765\n",
      "Expenditure is 3293.0259335825012\n",
      "Expenditure is 3295.331974152237\n",
      "Expenditure is 3297.6380147219725\n",
      "Expenditure is 3299.9440552917076\n",
      "Expenditure is 3302.2500958614432\n",
      "Expenditure is 3304.556136431179\n",
      "Expenditure is 3306.8621770009145\n",
      "Expenditure is 3309.16821757065\n",
      "Expenditure is 3311.4742581403857\n",
      "Expenditure is 3313.7802987101213\n",
      "Expenditure is 3316.0863392798574\n",
      "Expenditure is 3318.3923798495925\n",
      "Expenditure is 3320.6984204193286\n",
      "Expenditure is 3323.004460989064\n",
      "Expenditure is 3325.3105015587994\n",
      "Expenditure is 3327.6165421285355\n",
      "Expenditure is 3329.9225826982706\n",
      "Expenditure is 3332.2286232680062\n",
      "Expenditure is 3334.5346638377423\n",
      "Expenditure is 3336.840704407478\n",
      "Expenditure is 3339.1467449772135\n",
      "Expenditure is 3341.452785546949\n",
      "Expenditure is 3343.7588261166848\n",
      "Expenditure is 3346.0648666864204\n",
      "Expenditure is 3348.370907256156\n",
      "Expenditure is 3350.6769478258916\n",
      "Expenditure is 3352.9829883956277\n",
      "Expenditure is 3355.2890289653633\n",
      "Expenditure is 3357.595069535099\n",
      "Expenditure is 3359.9011101048345\n",
      "Expenditure is 3362.20715067457\n",
      "Expenditure is 3364.5131912443057\n",
      "Expenditure is 3366.8192318140414\n",
      "Expenditure is 3369.125272383777\n",
      "Expenditure is 3371.4313129535126\n",
      "Expenditure is 3373.7373535232487\n",
      "Expenditure is 3376.0433940929843\n",
      "Expenditure is 3378.34943466272\n",
      "Expenditure is 3380.655475232455\n",
      "Expenditure is 3382.9615158021907\n",
      "Expenditure is 3385.2675563719267\n",
      "Expenditure is 3387.5735969416623\n",
      "Expenditure is 3389.8796375113975\n",
      "Expenditure is 3392.1856780811336\n",
      "Expenditure is 3394.4917186508696\n",
      "Expenditure is 3396.797759220605\n",
      "Expenditure is 3399.1037997903404\n",
      "Expenditure is 3401.4098403600756\n",
      "Expenditure is 3403.715880929811\n",
      "Expenditure is 3406.0219214995473\n",
      "Expenditure is 3408.327962069283\n",
      "Expenditure is 3410.634002639019\n",
      "Expenditure is 3412.940043208754\n",
      "Expenditure is 3415.2460837784897\n",
      "Expenditure is 3417.5521243482253\n",
      "Expenditure is 3419.858164917961\n",
      "Expenditure is 3422.164205487697\n",
      "Expenditure is 3424.470246057432\n",
      "Expenditure is 3426.776286627168\n",
      "Expenditure is 3429.0823271969034\n",
      "Expenditure is 3431.388367766639\n",
      "Expenditure is 3433.694408336375\n",
      "Expenditure is 3436.0004489061107\n",
      "Expenditure is 3438.3064894758463\n",
      "Expenditure is 3440.612530045582\n",
      "Expenditure is 3442.9185706153175\n",
      "Expenditure is 3445.224611185053\n",
      "Expenditure is 3447.530651754789\n",
      "Expenditure is 3449.8366923245244\n",
      "Expenditure is 3452.1427328942605\n",
      "Expenditure is 3454.448773463996\n",
      "Expenditure is 3456.7548140337317\n",
      "Expenditure is 3459.0608546034673\n",
      "Expenditure is 3461.3668951732025\n",
      "Expenditure is 3463.6729357429385\n",
      "Expenditure is 3465.978976312674\n",
      "Expenditure is 3468.2850168824098\n",
      "Expenditure is 3470.591057452145\n",
      "Expenditure is 3472.8970980218814\n",
      "Expenditure is 3475.203138591617\n",
      "Expenditure is 3477.509179161352\n",
      "Expenditure is 3479.8152197310883\n",
      "Expenditure is 3482.121260300823\n",
      "Expenditure is 3484.427300870559\n",
      "Expenditure is 3486.7333414402947\n",
      "Expenditure is 3489.0393820100307\n",
      "Expenditure is 3491.345422579767\n",
      "Expenditure is 3493.6514631495015\n",
      "Expenditure is 3495.957503719237\n",
      "Expenditure is 3498.2635442889728\n",
      "Expenditure is 3500.569584858709\n",
      "Expenditure is 3502.8756254284444\n",
      "Expenditure is 3505.1816659981796\n",
      "Expenditure is 3507.487706567915\n",
      "Expenditure is 3509.793747137651\n",
      "Expenditure is 3512.099787707387\n",
      "Expenditure is 3514.4058282771225\n",
      "Expenditure is 3516.711868846858\n",
      "Expenditure is 3519.0179094165937\n",
      "Expenditure is 3521.3239499863294\n",
      "Expenditure is 3523.629990556065\n",
      "Expenditure is 3525.9360311258006\n",
      "Expenditure is 3528.242071695536\n",
      "Expenditure is 3530.5481122652723\n",
      "Expenditure is 3532.854152835008\n",
      "Expenditure is 3535.1601934047435\n",
      "Expenditure is 3537.466233974479\n",
      "Expenditure is 3539.7722745442147\n",
      "Expenditure is 3542.0783151139503\n",
      "Expenditure is 3544.384355683686\n",
      "Expenditure is 3546.6903962534216\n",
      "Expenditure is 3548.9964368231576\n",
      "Expenditure is 3551.3024773928933\n",
      "Expenditure is 3553.608517962629\n",
      "Expenditure is 3555.9145585323645\n",
      "Expenditure is 3558.2205991021\n",
      "Expenditure is 3560.5266396718357\n",
      "Expenditure is 3562.832680241571\n",
      "Expenditure is 3565.1387208113065\n",
      "Expenditure is 3567.4447613810426\n",
      "Expenditure is 3569.7508019507786\n",
      "Expenditure is 3572.0568425205142\n",
      "Expenditure is 3574.362883090249\n",
      "Expenditure is 3576.6689236599846\n",
      "Expenditure is 3578.9749642297206\n",
      "Expenditure is 3581.2810047994562\n",
      "Expenditure is 3583.5870453691923\n",
      "Expenditure is 3585.893085938927\n",
      "Expenditure is 3588.1991265086635\n",
      "Expenditure is 3590.5051670783987\n",
      "Expenditure is 3592.8112076481343\n",
      "Expenditure is 3595.1172482178704\n",
      "Expenditure is 3597.4232887876055\n",
      "Expenditure is 3599.729329357341\n",
      "Expenditure is 3602.0353699270768\n",
      "Expenditure is 3604.341410496813\n",
      "Expenditure is 3606.647451066548\n",
      "Expenditure is 3608.953491636284\n",
      "Expenditure is 3611.2595322060197\n",
      "Expenditure is 3613.5655727757553\n",
      "Expenditure is 3615.871613345491\n",
      "Expenditure is 3618.1776539152265\n",
      "Expenditure is 3620.483694484962\n",
      "Expenditure is 3622.7897350546978\n",
      "Expenditure is 3625.0957756244334\n"
     ]
    }
   ],
   "source": [
    "## Write my own solver\n",
    "Expenditure = Ytilde - c\n",
    "expen = 0\n",
    "Ps = zeros(3)\n",
    "PBeef = 1000\n",
    "while expen < Expenditure\n",
    "    PBeef = pbeef + 1\n",
    "    PPoultry= pbeef*(theta_c/theta_b)*(PerCapChicken/PerCapBeef)^(-1/epsilon)\n",
    "    ppork = pbeef*(theta_p/theta_b)*(PerCapPork/PerCapBeef)^(-1/epsilon)\n",
    "    expen   = PerCapBeef*pbeef + PerCapChicken*pchick + PerCapPork*ppork\n",
    "    println(\"Expenditure is $expen\")\n",
    "    Ps = [pbeef pchick ppork]\n",
    "end"
   ]
  },
  {
   "cell_type": "code",
   "execution_count": 65,
   "metadata": {},
   "outputs": [
    {
     "data": {
      "text/plain": [
       "1×3 Array{Float64,2}:\n",
       " 1572.0  612.447  99.7007"
      ]
     },
     "execution_count": 65,
     "metadata": {},
     "output_type": "execute_result"
    }
   ],
   "source": [
    "Ps"
   ]
  },
  {
   "cell_type": "code",
   "execution_count": 42,
   "metadata": {},
   "outputs": [
    {
     "data": {
      "text/plain": [
       "6624"
      ]
     },
     "execution_count": 42,
     "metadata": {},
     "output_type": "execute_result"
    }
   ],
   "source": [
    "2208*3"
   ]
  },
  {
   "cell_type": "code",
   "execution_count": 36,
   "metadata": {},
   "outputs": [
    {
     "data": {
      "text/plain": [
       "1.0"
      ]
     },
     "execution_count": 36,
     "metadata": {},
     "output_type": "execute_result"
    }
   ],
   "source": [
    "rho = 0\n",
    "1/(1-rho)"
   ]
  },
  {
   "cell_type": "code",
   "execution_count": 15,
   "metadata": {},
   "outputs": [
    {
     "data": {
      "text/plain": [
       "1.8196721311475412"
      ]
     },
     "execution_count": 15,
     "metadata": {},
     "output_type": "execute_result"
    }
   ],
   "source": [
    "1/(1-epsilon)"
   ]
  },
  {
   "cell_type": "code",
   "execution_count": 17,
   "metadata": {},
   "outputs": [
    {
     "data": {
      "text/plain": [
       "-2.949890456930711"
      ]
     },
     "execution_count": 17,
     "metadata": {},
     "output_type": "execute_result"
    }
   ],
   "source": [
    "-11.04^epsilon"
   ]
  },
  {
   "cell_type": "code",
   "execution_count": 18,
   "metadata": {},
   "outputs": [
    {
     "data": {
      "text/plain": [
       "-3.7425118529610923"
      ]
     },
     "execution_count": 18,
     "metadata": {},
     "output_type": "execute_result"
    }
   ],
   "source": [
    "-11.04^(1-epsilon)"
   ]
  },
  {
   "cell_type": "code",
   "execution_count": 24,
   "metadata": {},
   "outputs": [
    {
     "data": {
      "text/plain": [
       "1.8196721311475412"
      ]
     },
     "execution_count": 24,
     "metadata": {},
     "output_type": "execute_result"
    }
   ],
   "source": [
    "1/(1-epsilon)"
   ]
  },
  {
   "cell_type": "code",
   "execution_count": 22,
   "metadata": {},
   "outputs": [
    {
     "data": {
      "text/plain": [
       "16"
      ]
     },
     "execution_count": 22,
     "metadata": {},
     "output_type": "execute_result"
    }
   ],
   "source": [
    "2^3*2"
   ]
  },
  {
   "cell_type": "code",
   "execution_count": 25,
   "metadata": {},
   "outputs": [
    {
     "data": {
      "text/plain": [
       "0.25"
      ]
     },
     "execution_count": 25,
     "metadata": {},
     "output_type": "execute_result"
    }
   ],
   "source": [
    "1/2^2"
   ]
  },
  {
   "cell_type": "code",
   "execution_count": null,
   "metadata": {},
   "outputs": [],
   "source": []
  },
  {
   "cell_type": "code",
   "execution_count": null,
   "metadata": {},
   "outputs": [],
   "source": []
  },
  {
   "cell_type": "code",
   "execution_count": null,
   "metadata": {},
   "outputs": [],
   "source": []
  },
  {
   "cell_type": "code",
   "execution_count": null,
   "metadata": {},
   "outputs": [],
   "source": []
  },
  {
   "cell_type": "code",
   "execution_count": null,
   "metadata": {},
   "outputs": [],
   "source": []
  },
  {
   "cell_type": "code",
   "execution_count": null,
   "metadata": {},
   "outputs": [],
   "source": []
  },
  {
   "cell_type": "raw",
   "metadata": {},
   "source": []
  },
  {
   "cell_type": "code",
   "execution_count": 59,
   "metadata": {},
   "outputs": [],
   "source": [
    "New \t= create_AnimalWelfareOpt()\n",
    "\tset_param!(New, :farm, :BeefReduc, .5)\n",
    "\tset_param!(New, :farm, :PoultryReduc, .5)\n",
    "\tset_param!(New, :farm, :PorkReduc, .5)\n",
    "run(New)"
   ]
  },
  {
   "cell_type": "code",
   "execution_count": 60,
   "metadata": {},
   "outputs": [
    {
     "name": "stdout",
     "output_type": "stream",
     "text": [
      "\r\n"
     ]
    },
    {
     "data": {
      "text/plain": [
       "Electron.Window(Application(Base.PipeEndpoint(Base.Libc.WindowsRawSocket(0x0000000000000670) open, 0 bytes waiting), Process(`\u001b[4m'C:\\Users\\Kevin\\.julia\\packages\\Electron\\aRIgh\\src\\..\\deps\\electron\\electron.exe'\u001b[24m \u001b[4m'C:\\Users\\Kevin\\.julia\\packages\\Electron\\aRIgh\\src\\main.js'\u001b[24m \u001b[4m'\\\\.\\pipe\\juliaelectron-8032-1'\u001b[24m \u001b[4m'\\\\.\\pipe\\juliaelectron-sysnotify-8032-1'\u001b[24m \u001b[4m8VfCWiO990ui4dMKP1RszRGkgvBviciKL9oMTVPMWbB1j4Nhkrk7Jt3LqP4kwp2jcSC84suh87jJRGNIfy5qsR7AMEd32FMoHWbbObV8JsGN1zkO3zGtmkh2nyCFJFIeb1CRJYWk0v2Ftd4FboN8e428nQLE3Z3TWamYyMJmHHs=\u001b[24m`, ProcessRunning), [1 window]), 1, true, Channel{Any}(sz_max:128,sz_curr:0))"
      ]
     },
     "execution_count": 60,
     "metadata": {},
     "output_type": "execute_result"
    }
   ],
   "source": [
    "explore(New)"
   ]
  },
  {
   "cell_type": "code",
   "execution_count": 74,
   "metadata": {},
   "outputs": [
    {
     "data": {
      "text/plain": [
       "f (generic function with 2 methods)"
      ]
     },
     "execution_count": 74,
     "metadata": {},
     "output_type": "execute_result"
    }
   ],
   "source": [
    "function f(x)\n",
    "   y = x[1] + x[2] + x[3]\n",
    "    return y\n",
    "end\n"
   ]
  },
  {
   "cell_type": "code",
   "execution_count": 75,
   "metadata": {},
   "outputs": [
    {
     "data": {
      "text/plain": [
       "6"
      ]
     },
     "execution_count": 75,
     "metadata": {},
     "output_type": "execute_result"
    }
   ],
   "source": [
    "f([1 2 3])"
   ]
  },
  {
   "cell_type": "code",
   "execution_count": null,
   "metadata": {},
   "outputs": [],
   "source": []
  }
 ],
 "metadata": {
  "kernelspec": {
   "display_name": "Julia 1.3.0",
   "language": "julia",
   "name": "julia-1.3"
  },
  "language_info": {
   "file_extension": ".jl",
   "mimetype": "application/julia",
   "name": "julia",
   "version": "1.3.0"
  }
 },
 "nbformat": 4,
 "nbformat_minor": 2
}
