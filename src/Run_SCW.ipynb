{
 "cells": [
  {
   "cell_type": "code",
   "execution_count": 91,
   "metadata": {},
   "outputs": [
    {
     "name": "stderr",
     "output_type": "stream",
     "text": [
      "┌ Warning: interpolate(A, BSpline(Linear()), OnGrid()) is deprecated, use interpolate(A, BSpline(Linear()))\n",
      "│   caller = dice_interpolate(::Array{Float64,1}, ::Int64) at helpers.jl:61\n",
      "└ @ Main C:\\Users\\Kevin\\Documents\\GitHub\\DICEFARM\\src\\helpers.jl:61\n",
      "┌ Warning: `getindex(itp::AbstractInterpolation{T, N}, i::Vararg{ExpandedIndexTypes, N}) where {T, N}` is deprecated, use `itp(i...)` instead.\n",
      "│   caller = dice_interpolate(::Array{Float64,1}, ::Int64) at helpers.jl:67\n",
      "└ @ Main C:\\Users\\Kevin\\Documents\\GitHub\\DICEFARM\\src\\helpers.jl:67\n"
     ]
    },
    {
     "name": "stdout",
     "output_type": "stream",
     "text": [
      "Ran once\n",
      "Costs of Non-Veg in Baseline are 127217.91803278688\n",
      "Costs of Beef in Baseline are 56.47540983606557\n",
      "Costs of Pork in Baseline are 32.8711943793911\n",
      "Costs of Poultry in Baseline are 326.0608899297424\n",
      "Optimal Vegetarian Reduction is [0.45431232453306336]\n",
      "Reduce Beef by -0.5859256138527587\n",
      "Reduce Chicken by 0.8054317786213339\n",
      "Reduce Pork by 0.6699035431181479\n"
     ]
    }
   ],
   "source": [
    "include(\"SCW_ALLRESULTS.jl\")"
   ]
  },
  {
   "cell_type": "code",
   "execution_count": 1,
   "metadata": {},
   "outputs": [
    {
     "name": "stderr",
     "output_type": "stream",
     "text": [
      "┌ Warning: interpolate(A, BSpline(Linear()), OnGrid()) is deprecated, use interpolate(A, BSpline(Linear()))\n",
      "│   caller = dice_interpolate(::Array{Float64,1}, ::Int64) at helpers.jl:61\n",
      "└ @ Main C:\\Users\\Kevin\\Documents\\GitHub\\DICEFARM\\src\\helpers.jl:61\n"
     ]
    },
    {
     "name": "stdout",
     "output_type": "stream",
     "text": [
      "Ran once"
     ]
    },
    {
     "name": "stderr",
     "output_type": "stream",
     "text": [
      "┌ Warning: `getindex(itp::AbstractInterpolation{T, N}, i::Vararg{ExpandedIndexTypes, N}) where {T, N}` is deprecated, use `itp(i...)` instead.\n",
      "│   caller = dice_interpolate(::Array{Float64,1}, ::Int64) at helpers.jl:67\n",
      "└ @ Main C:\\Users\\Kevin\\Documents\\GitHub\\DICEFARM\\src\\helpers.jl:67\n"
     ]
    },
    {
     "name": "stdout",
     "output_type": "stream",
     "text": [
      "\n",
      "Costs of Non-Veg in Baseline are 126912.88785046729\n",
      "Costs of Beef in Baseline are 56.299065420560744\n",
      "Costs of Pork in Baseline are 32.77336448598131\n",
      "Costs of Poultry in Baseline are 325.2827102803738\n",
      "Optimal Vegetarian Reduction is [0.4543001651855316]\n",
      "Reduce Beef by -0.5863512928762534\n",
      "Reduce Chicken by 0.8054742610483269\n",
      "Reduce Pork by 0.6699238791168555\n"
     ]
    },
    {
     "data": {
      "text/plain": [
       "\"C:\\\\Users\\\\Kevin\\\\Documents\\\\GitHub\\\\DICEFARM\\\\Results\\\\SCW\\\\Figure4.csv\""
      ]
     },
     "execution_count": 1,
     "metadata": {},
     "output_type": "execute_result"
    }
   ],
   "source": [
    "include(\"SCW_ALLRESULTS.jl\")"
   ]
  },
  {
   "cell_type": "code",
   "execution_count": 86,
   "metadata": {},
   "outputs": [
    {
     "data": {
      "image/svg+xml": [
       "<?xml version=\"1.0\" encoding=\"utf-8\"?>\n",
       "<svg xmlns=\"http://www.w3.org/2000/svg\" xmlns:xlink=\"http://www.w3.org/1999/xlink\" width=\"600\" height=\"400\" viewBox=\"0 0 2400 1600\">\n",
       "<defs>\n",
       "  <clipPath id=\"clip9000\">\n",
       "    <rect x=\"0\" y=\"0\" width=\"2400\" height=\"1600\"/>\n",
       "  </clipPath>\n",
       "</defs>\n",
       "<path clip-path=\"url(#clip9000)\" d=\"\n",
       "M0 1600 L2400 1600 L2400 0 L0 0  Z\n",
       "  \" fill=\"#ffffff\" fill-rule=\"evenodd\" fill-opacity=\"1\"/>\n",
       "<defs>\n",
       "  <clipPath id=\"clip9001\">\n",
       "    <rect x=\"480\" y=\"0\" width=\"1681\" height=\"1600\"/>\n",
       "  </clipPath>\n",
       "</defs>\n",
       "<path clip-path=\"url(#clip9000)\" d=\"\n",
       "M235.533 1487.47 L2352.76 1487.47 L2352.76 47.2441 L235.533 47.2441  Z\n",
       "  \" fill=\"#ffffff\" fill-rule=\"evenodd\" fill-opacity=\"1\"/>\n",
       "<defs>\n",
       "  <clipPath id=\"clip9002\">\n",
       "    <rect x=\"235\" y=\"47\" width=\"2118\" height=\"1441\"/>\n",
       "  </clipPath>\n",
       "</defs>\n",
       "<polyline clip-path=\"url(#clip9002)\" style=\"stroke:#000000; stroke-width:2; stroke-opacity:0.1; fill:none\" points=\"\n",
       "  254.691,1487.47 254.691,47.2441 \n",
       "  \"/>\n",
       "<polyline clip-path=\"url(#clip9002)\" style=\"stroke:#000000; stroke-width:2; stroke-opacity:0.1; fill:none\" points=\"\n",
       "  662.32,1487.47 662.32,47.2441 \n",
       "  \"/>\n",
       "<polyline clip-path=\"url(#clip9002)\" style=\"stroke:#000000; stroke-width:2; stroke-opacity:0.1; fill:none\" points=\"\n",
       "  1069.95,1487.47 1069.95,47.2441 \n",
       "  \"/>\n",
       "<polyline clip-path=\"url(#clip9002)\" style=\"stroke:#000000; stroke-width:2; stroke-opacity:0.1; fill:none\" points=\"\n",
       "  1477.58,1487.47 1477.58,47.2441 \n",
       "  \"/>\n",
       "<polyline clip-path=\"url(#clip9002)\" style=\"stroke:#000000; stroke-width:2; stroke-opacity:0.1; fill:none\" points=\"\n",
       "  1885.21,1487.47 1885.21,47.2441 \n",
       "  \"/>\n",
       "<polyline clip-path=\"url(#clip9002)\" style=\"stroke:#000000; stroke-width:2; stroke-opacity:0.1; fill:none\" points=\"\n",
       "  2292.83,1487.47 2292.83,47.2441 \n",
       "  \"/>\n",
       "<polyline clip-path=\"url(#clip9002)\" style=\"stroke:#000000; stroke-width:2; stroke-opacity:0.1; fill:none\" points=\"\n",
       "  235.533,1355.91 2352.76,1355.91 \n",
       "  \"/>\n",
       "<polyline clip-path=\"url(#clip9002)\" style=\"stroke:#000000; stroke-width:2; stroke-opacity:0.1; fill:none\" points=\"\n",
       "  235.533,1088.95 2352.76,1088.95 \n",
       "  \"/>\n",
       "<polyline clip-path=\"url(#clip9002)\" style=\"stroke:#000000; stroke-width:2; stroke-opacity:0.1; fill:none\" points=\"\n",
       "  235.533,821.985 2352.76,821.985 \n",
       "  \"/>\n",
       "<polyline clip-path=\"url(#clip9002)\" style=\"stroke:#000000; stroke-width:2; stroke-opacity:0.1; fill:none\" points=\"\n",
       "  235.533,555.023 2352.76,555.023 \n",
       "  \"/>\n",
       "<polyline clip-path=\"url(#clip9002)\" style=\"stroke:#000000; stroke-width:2; stroke-opacity:0.1; fill:none\" points=\"\n",
       "  235.533,288.061 2352.76,288.061 \n",
       "  \"/>\n",
       "<polyline clip-path=\"url(#clip9000)\" style=\"stroke:#000000; stroke-width:4; stroke-opacity:1; fill:none\" points=\"\n",
       "  235.533,1487.47 2352.76,1487.47 \n",
       "  \"/>\n",
       "<polyline clip-path=\"url(#clip9000)\" style=\"stroke:#000000; stroke-width:4; stroke-opacity:1; fill:none\" points=\"\n",
       "  235.533,1487.47 235.533,47.2441 \n",
       "  \"/>\n",
       "<polyline clip-path=\"url(#clip9000)\" style=\"stroke:#000000; stroke-width:4; stroke-opacity:1; fill:none\" points=\"\n",
       "  254.691,1487.47 254.691,1470.19 \n",
       "  \"/>\n",
       "<polyline clip-path=\"url(#clip9000)\" style=\"stroke:#000000; stroke-width:4; stroke-opacity:1; fill:none\" points=\"\n",
       "  662.32,1487.47 662.32,1470.19 \n",
       "  \"/>\n",
       "<polyline clip-path=\"url(#clip9000)\" style=\"stroke:#000000; stroke-width:4; stroke-opacity:1; fill:none\" points=\"\n",
       "  1069.95,1487.47 1069.95,1470.19 \n",
       "  \"/>\n",
       "<polyline clip-path=\"url(#clip9000)\" style=\"stroke:#000000; stroke-width:4; stroke-opacity:1; fill:none\" points=\"\n",
       "  1477.58,1487.47 1477.58,1470.19 \n",
       "  \"/>\n",
       "<polyline clip-path=\"url(#clip9000)\" style=\"stroke:#000000; stroke-width:4; stroke-opacity:1; fill:none\" points=\"\n",
       "  1885.21,1487.47 1885.21,1470.19 \n",
       "  \"/>\n",
       "<polyline clip-path=\"url(#clip9000)\" style=\"stroke:#000000; stroke-width:4; stroke-opacity:1; fill:none\" points=\"\n",
       "  2292.83,1487.47 2292.83,1470.19 \n",
       "  \"/>\n",
       "<polyline clip-path=\"url(#clip9000)\" style=\"stroke:#000000; stroke-width:4; stroke-opacity:1; fill:none\" points=\"\n",
       "  235.533,1355.91 260.939,1355.91 \n",
       "  \"/>\n",
       "<polyline clip-path=\"url(#clip9000)\" style=\"stroke:#000000; stroke-width:4; stroke-opacity:1; fill:none\" points=\"\n",
       "  235.533,1088.95 260.939,1088.95 \n",
       "  \"/>\n",
       "<polyline clip-path=\"url(#clip9000)\" style=\"stroke:#000000; stroke-width:4; stroke-opacity:1; fill:none\" points=\"\n",
       "  235.533,821.985 260.939,821.985 \n",
       "  \"/>\n",
       "<polyline clip-path=\"url(#clip9000)\" style=\"stroke:#000000; stroke-width:4; stroke-opacity:1; fill:none\" points=\"\n",
       "  235.533,555.023 260.939,555.023 \n",
       "  \"/>\n",
       "<polyline clip-path=\"url(#clip9000)\" style=\"stroke:#000000; stroke-width:4; stroke-opacity:1; fill:none\" points=\"\n",
       "  235.533,288.061 260.939,288.061 \n",
       "  \"/>\n",
       "<g clip-path=\"url(#clip9000)\">\n",
       "<text style=\"fill:#000000; fill-opacity:1; font-family:Arial,Helvetica Neue,Helvetica,sans-serif; font-size:48px; text-anchor:middle;\" transform=\"rotate(0, 254.691, 1541.47)\" x=\"254.691\" y=\"1541.47\">0</text>\n",
       "</g>\n",
       "<g clip-path=\"url(#clip9000)\">\n",
       "<text style=\"fill:#000000; fill-opacity:1; font-family:Arial,Helvetica Neue,Helvetica,sans-serif; font-size:48px; text-anchor:middle;\" transform=\"rotate(0, 662.32, 1541.47)\" x=\"662.32\" y=\"1541.47\">10</text>\n",
       "</g>\n",
       "<g clip-path=\"url(#clip9000)\">\n",
       "<text style=\"fill:#000000; fill-opacity:1; font-family:Arial,Helvetica Neue,Helvetica,sans-serif; font-size:48px; text-anchor:middle;\" transform=\"rotate(0, 1069.95, 1541.47)\" x=\"1069.95\" y=\"1541.47\">20</text>\n",
       "</g>\n",
       "<g clip-path=\"url(#clip9000)\">\n",
       "<text style=\"fill:#000000; fill-opacity:1; font-family:Arial,Helvetica Neue,Helvetica,sans-serif; font-size:48px; text-anchor:middle;\" transform=\"rotate(0, 1477.58, 1541.47)\" x=\"1477.58\" y=\"1541.47\">30</text>\n",
       "</g>\n",
       "<g clip-path=\"url(#clip9000)\">\n",
       "<text style=\"fill:#000000; fill-opacity:1; font-family:Arial,Helvetica Neue,Helvetica,sans-serif; font-size:48px; text-anchor:middle;\" transform=\"rotate(0, 1885.21, 1541.47)\" x=\"1885.21\" y=\"1541.47\">40</text>\n",
       "</g>\n",
       "<g clip-path=\"url(#clip9000)\">\n",
       "<text style=\"fill:#000000; fill-opacity:1; font-family:Arial,Helvetica Neue,Helvetica,sans-serif; font-size:48px; text-anchor:middle;\" transform=\"rotate(0, 2292.83, 1541.47)\" x=\"2292.83\" y=\"1541.47\">50</text>\n",
       "</g>\n",
       "<g clip-path=\"url(#clip9000)\">\n",
       "<text style=\"fill:#000000; fill-opacity:1; font-family:Arial,Helvetica Neue,Helvetica,sans-serif; font-size:48px; text-anchor:end;\" transform=\"rotate(0, 211.533, 1373.41)\" x=\"211.533\" y=\"1373.41\">-0.035</text>\n",
       "</g>\n",
       "<g clip-path=\"url(#clip9000)\">\n",
       "<text style=\"fill:#000000; fill-opacity:1; font-family:Arial,Helvetica Neue,Helvetica,sans-serif; font-size:48px; text-anchor:end;\" transform=\"rotate(0, 211.533, 1106.45)\" x=\"211.533\" y=\"1106.45\">-0.030</text>\n",
       "</g>\n",
       "<g clip-path=\"url(#clip9000)\">\n",
       "<text style=\"fill:#000000; fill-opacity:1; font-family:Arial,Helvetica Neue,Helvetica,sans-serif; font-size:48px; text-anchor:end;\" transform=\"rotate(0, 211.533, 839.485)\" x=\"211.533\" y=\"839.485\">-0.025</text>\n",
       "</g>\n",
       "<g clip-path=\"url(#clip9000)\">\n",
       "<text style=\"fill:#000000; fill-opacity:1; font-family:Arial,Helvetica Neue,Helvetica,sans-serif; font-size:48px; text-anchor:end;\" transform=\"rotate(0, 211.533, 572.523)\" x=\"211.533\" y=\"572.523\">-0.020</text>\n",
       "</g>\n",
       "<g clip-path=\"url(#clip9000)\">\n",
       "<text style=\"fill:#000000; fill-opacity:1; font-family:Arial,Helvetica Neue,Helvetica,sans-serif; font-size:48px; text-anchor:end;\" transform=\"rotate(0, 211.533, 305.561)\" x=\"211.533\" y=\"305.561\">-0.015</text>\n",
       "</g>\n",
       "<polyline clip-path=\"url(#clip9002)\" style=\"stroke:#009af9; stroke-width:4; stroke-opacity:1; fill:none\" points=\"\n",
       "  295.454,88.0053 336.217,389.328 376.98,630.948 417.743,822.838 458.506,970.064 499.268,1080.97 540.031,1161.56 580.794,1219.67 621.557,1258.93 662.32,1284.22 \n",
       "  703.083,1298.73 743.846,1305.33 784.609,1308.14 825.371,1309.82 866.134,1306.7 906.897,1302.44 947.66,1292.89 988.423,1281.36 1029.19,1266.18 1069.95,1248.69 \n",
       "  1110.71,1231.38 1151.47,1215.13 1192.24,1200.71 1233,1188.82 1273.76,1181.08 1314.53,1176.81 1355.29,1175.08 1396.05,1173.83 1436.81,1171.4 1477.58,1167.6 \n",
       "  1518.34,1164.95 1559.1,1162.97 1599.87,1162.14 1640.63,1163.59 1681.39,1168.24 1722.15,1176.84 1762.92,1186.59 1803.68,1197.79 1844.44,1210.33 1885.21,1222.58 \n",
       "  1925.97,1236.26 1966.73,1250.94 2007.49,1267.29 2048.26,1285.42 2089.02,1305.78 2129.78,1330.38 2170.55,1357.88 2211.31,1387.27 2252.07,1417.06 2292.83,1446.71 \n",
       "  \n",
       "  \"/>\n",
       "<path clip-path=\"url(#clip9000)\" d=\"\n",
       "M1989.93 251.724 L2280.76 251.724 L2280.76 130.764 L1989.93 130.764  Z\n",
       "  \" fill=\"#ffffff\" fill-rule=\"evenodd\" fill-opacity=\"1\"/>\n",
       "<polyline clip-path=\"url(#clip9000)\" style=\"stroke:#000000; stroke-width:4; stroke-opacity:1; fill:none\" points=\"\n",
       "  1989.93,251.724 2280.76,251.724 2280.76,130.764 1989.93,130.764 1989.93,251.724 \n",
       "  \"/>\n",
       "<polyline clip-path=\"url(#clip9000)\" style=\"stroke:#009af9; stroke-width:4; stroke-opacity:1; fill:none\" points=\"\n",
       "  2013.93,191.244 2157.93,191.244 \n",
       "  \"/>\n",
       "<g clip-path=\"url(#clip9000)\">\n",
       "<text style=\"fill:#000000; fill-opacity:1; font-family:Arial,Helvetica Neue,Helvetica,sans-serif; font-size:48px; text-anchor:start;\" transform=\"rotate(0, 2181.93, 208.744)\" x=\"2181.93\" y=\"208.744\">y1</text>\n",
       "</g>\n",
       "</svg>\n"
      ]
     },
     "execution_count": 86,
     "metadata": {},
     "output_type": "execute_result"
    }
   ],
   "source": [
    "plot(m[:welfare, :CPC][TwentyTwenty+1:TwentyTwenty+50] - m_veg[:welfare, :CPC][TwentyTwenty+1:TwentyTwenty+50])"
   ]
  },
  {
   "cell_type": "code",
   "execution_count": 58,
   "metadata": {},
   "outputs": [
    {
     "data": {
      "text/plain": [
       "1.594218291487289"
      ]
     },
     "execution_count": 58,
     "metadata": {},
     "output_type": "execute_result"
    }
   ],
   "source": [
    "m_veg[:welfare,:CPC][TwentyTwenty]\n",
    "m_veg[:welfare, :MeatPC][TwentyTwenty]"
   ]
  },
  {
   "cell_type": "code",
   "execution_count": 62,
   "metadata": {},
   "outputs": [
    {
     "data": {
      "text/plain": [
       "-0.042545949989580285"
      ]
     },
     "execution_count": 62,
     "metadata": {},
     "output_type": "execute_result"
    }
   ],
   "source": [
    "function u(c, m)\n",
    "   c^(1-1.45)/(1-1.45) + .025*m^(1-3.17)/(1-3.17) \n",
    "end\n",
    "\n",
    "u_base = u(8082.88,1.67)"
   ]
  },
  {
   "cell_type": "code",
   "execution_count": 80,
   "metadata": {},
   "outputs": [
    {
     "data": {
      "text/plain": [
       "3.665578958117477e-6"
      ]
     },
     "execution_count": 80,
     "metadata": {},
     "output_type": "execute_result"
    }
   ],
   "source": [
    "u(8271.4 +14,1.59) -u_base"
   ]
  },
  {
   "cell_type": "code",
   "execution_count": 69,
   "metadata": {},
   "outputs": [
    {
     "data": {
      "text/plain": [
       "1.6781245173550388"
      ]
     },
     "execution_count": 69,
     "metadata": {},
     "output_type": "execute_result"
    }
   ],
   "source": [
    "m1 = (theta_b*(1.4)^epsilon + theta_c*(2.)^epsilon + theta_p*(2.)^epsilon)^(1/epsilon)"
   ]
  },
  {
   "cell_type": "code",
   "execution_count": 70,
   "metadata": {},
   "outputs": [
    {
     "data": {
      "text/plain": [
       "1.595105751387024"
      ]
     },
     "execution_count": 70,
     "metadata": {},
     "output_type": "execute_result"
    }
   ],
   "source": [
    "m2 = (theta_b*(.9*1.4)^epsilon + theta_c*(2.)^epsilon + theta_p*(2.)^epsilon)^(1/epsilon)"
   ]
  },
  {
   "cell_type": "code",
   "execution_count": 78,
   "metadata": {},
   "outputs": [
    {
     "data": {
      "text/plain": [
       "1303.0"
      ]
     },
     "execution_count": 78,
     "metadata": {},
     "output_type": "execute_result"
    }
   ],
   "source": [
    "PBeef"
   ]
  },
  {
   "cell_type": "code",
   "execution_count": 71,
   "metadata": {},
   "outputs": [
    {
     "data": {
      "text/plain": [
       "1.052045932312529"
      ]
     },
     "execution_count": 71,
     "metadata": {},
     "output_type": "execute_result"
    }
   ],
   "source": []
  },
  {
   "cell_type": "code",
   "execution_count": 69,
   "metadata": {},
   "outputs": [
    {
     "data": {
      "text/plain": [
       "1×3 Array{Float64,2}:\n",
       " 1572.0  612.447  99.7007"
      ]
     },
     "execution_count": 69,
     "metadata": {},
     "output_type": "execute_result"
    }
   ],
   "source": [
    "veg_outcome()"
   ]
  },
  {
   "cell_type": "code",
   "execution_count": 70,
   "metadata": {},
   "outputs": [
    {
     "data": {
      "text/plain": [
       "create_AnimalWelfareOpt (generic function with 1 method)"
      ]
     },
     "execution_count": 70,
     "metadata": {},
     "output_type": "execute_result"
    }
   ],
   "source": [
    "\n",
    "function create_AnimalWelfareOpt()\n",
    "m = create_AnimalWelfare()\n",
    "include(joinpath(\"components\", \"AnimalWelfare\", \"OptimalPolicy\", \"neteconomy_component.jl\"))\n",
    "include(joinpath(\"components\", \"AnimalWelfare\", \"OptimalPolicy\", \"farm_component.jl\"))\n",
    "include(joinpath(\"components\", \"AnimalWelfare\", \"OptimalPolicy\", \"welfare_component.jl\"))\n",
    "replace_comp!(m, farmforpolicy, :farm, reconnect=true)\n",
    "set_param!(m, :farm, :theta_b, theta_b)\n",
    "set_param!(m, :farm, :theta_c, theta_c)\n",
    "set_param!(m, :farm, :theta_p, theta_c)\n",
    "set_param!(m, :farm, :epsilon, epsilon)\n",
    "set_param!(m, :farm, :PBeef, PBeef)\n",
    "set_param!(m, :farm, :PPoultry, PPoultry)\n",
    "set_param!(m, :farm, :PPork, PPork)\n",
    "set_param!(m, :farm, :BeefReduc, 0.)\n",
    "set_param!(m, :farm, :PorkReduc, 0.)\n",
    "set_param!(m, :farm, :PoultryReduc, 0.)\n",
    "\n",
    "replace_comp!(m, neteconomyforpolicy, :neteconomy, reconnect=true)\n",
    "connect_param!(m, :neteconomy, :MeatExp, :farm, :MeatCost)\n",
    "\n",
    "replace_comp!(m, welfareforpolicy, :welfare, reconnect=true)\n",
    "set_param!(m, :welfare, :elasmeat, xi)\n",
    "set_param!(m, :welfare, :alphameat, alpha)\n",
    "\n",
    "connect_param!(m, :welfare, :Meat, :farm, :Meat)\n",
    "return m\n",
    "end"
   ]
  },
  {
   "cell_type": "code",
   "execution_count": 71,
   "metadata": {},
   "outputs": [
    {
     "data": {
      "text/plain": [
       "23-component Mimi.Model:\n",
       "  grosseconomy::Main.grosseconomy\n",
       "  farm::Main.farmforpolicy\n",
       "  emissions::Main.emissions\n",
       "  ch4_cycle::MimiFAIR13.ch4_cycle\n",
       "  n2o_cycle::MimiFAIR13.n2o_cycle\n",
       "  other_ghg_cycles::MimiFAIR13.other_ghg_cycles\n",
       "  co2_cycle::MimiFAIR13.co2_cycle\n",
       "  ch4_rf::MimiFAIR13.ch4_rf\n",
       "  n2o_rf::MimiFAIR13.n2o_rf\n",
       "  other_ghg_rf::MimiFAIR13.other_ghg_rf\n",
       "  co2_rf::MimiFAIR13.co2_rf\n",
       "  trop_o3_rf::MimiFAIR13.trop_o3_rf\n",
       "  strat_o3_rf::MimiFAIR13.strat_o3_rf\n",
       "  aerosol_direct_rf::MimiFAIR13.aerosol_direct_rf\n",
       "  aerosol_indirect_rf::MimiFAIR13.aerosol_indirect_rf\n",
       "  bc_snow_rf::MimiFAIR13.bc_snow_rf\n",
       "  landuse_rf::MimiFAIR13.landuse_rf\n",
       "  contrails_rf::MimiFAIR13.contrails_rf\n",
       "  total_rf::MimiFAIR13.total_rf\n",
       "  temperature::MimiFAIR13.temperature\n",
       "  damages::Main.damages\n",
       "  neteconomy::Main.neteconomyforpolicy\n",
       "  welfare::Main.welfareforpolicy\n"
      ]
     },
     "execution_count": 71,
     "metadata": {},
     "output_type": "execute_result"
    }
   ],
   "source": [
    "m = create_AnimalWelfareOpt()"
   ]
  },
  {
   "cell_type": "code",
   "execution_count": 72,
   "metadata": {},
   "outputs": [],
   "source": [
    "run(m)"
   ]
  },
  {
   "cell_type": "code",
   "execution_count": 54,
   "metadata": {},
   "outputs": [
    {
     "data": {
      "text/plain": [
       "Results of Nonlinear Solver Algorithm\n",
       " * Algorithm: Trust-region with dogleg and autoscaling\n",
       " * Starting Point: [2208.357458473976, 2208.357458473976, 2208.357458473976]\n",
       " * Zero: [NaN, NaN, NaN]\n",
       " * Inf-norm of residuals: 8300.293431\n",
       " * Iterations: 1000\n",
       " * Convergence: false\n",
       "   * |x - x'| < 0.0e+00: false\n",
       "   * |f(x)| < 1.0e-08: false\n",
       " * Function Calls (f): 1001\n",
       " * Jacobian Calls (df/dx): 1"
      ]
     },
     "execution_count": 54,
     "metadata": {},
     "output_type": "execute_result"
    }
   ],
   "source": [
    "epsilon = 1/(1-rho)\n",
    "## --- Now need price of each individual product --- ## (right?)\n",
    "function f!(F, x)\n",
    "\tF[1] \t= (x[1]/x[2])^epsilon * (theta_c/theta_b)^epsilon - (PerCapChicken/PerCapBeef)\n",
    "\tF[2]\t= (x[1]/x[3])^epsilon * (theta_p/theta_b)^epsilon - (PerCapPork/PerCapBeef)\n",
    "\tF[3] \t= PerCapBeef*x[1] + PerCapChicken*x[2] + PerCapPork*x[3] - (Ytilde - c)\n",
    "end\n",
    "\n",
    "function j!(J, x)\n",
    "    J[1,1] = epsilon*(x[1]/x[2])^(epsilon-1) * (1/x[2]) * (theta_c/theta_b)^epsilon\n",
    "    J[1,2] = -epsilon*(x[1]/x[2])^(epsilon-1) *(x[1]/x[2]^2) * (theta_c/theta_b)^epsilon\n",
    "    J[1,3] = 0\n",
    "    J[2,1] = epsilon*(x[1]/x[3])^(epsilon-1) * (1/x[3]) * (theta_p/theta_b)^epsilon\n",
    "    J[2,2] = 0\n",
    "    J[3,2] = -epsilon*(x[1]/x[3])^(epsilon-1) *(x[1]/x[3]^2) * (theta_p/theta_b)^epsilon\n",
    "    J[3,1] = PerCapBeef\n",
    "    J[3,2] = PerCapChicken  \n",
    "    J[3,3] = PerCapPork      \n",
    "end\n",
    "\n",
    "sol = nlsolve(f!, j!, [P; P; P])\n",
    "#PriceVect = sol.zero\n",
    "#PBeef \t  = PriceVect[1]\n",
    "#PPoultry  = PriceVect[2]\n",
    "#PPork \t  = PriceVect[3]"
   ]
  },
  {
   "cell_type": "code",
   "execution_count": 64,
   "metadata": {},
   "outputs": [
    {
     "name": "stdout",
     "output_type": "stream",
     "text": [
      "Expenditure is 2308.34661030538\n",
      "Expenditure is 2310.652650875116\n",
      "Expenditure is 2312.958691444852\n",
      "Expenditure is 2315.2647320145875\n",
      "Expenditure is 2317.570772584323\n",
      "Expenditure is 2319.8768131540587\n",
      "Expenditure is 2322.1828537237943\n",
      "Expenditure is 2324.4888942935295\n",
      "Expenditure is 2326.7949348632656\n",
      "Expenditure is 2329.100975433001\n",
      "Expenditure is 2331.407016002737\n",
      "Expenditure is 2333.7130565724724\n",
      "Expenditure is 2336.019097142208\n",
      "Expenditure is 2338.3251377119436\n",
      "Expenditure is 2340.6311782816792\n",
      "Expenditure is 2342.937218851415\n",
      "Expenditure is 2345.2432594211505\n",
      "Expenditure is 2347.549299990886\n",
      "Expenditure is 2349.855340560622\n",
      "Expenditure is 2352.1613811303578\n",
      "Expenditure is 2354.4674217000934\n",
      "Expenditure is 2356.773462269829\n",
      "Expenditure is 2359.0795028395646\n",
      "Expenditure is 2361.3855434093\n",
      "Expenditure is 2363.691583979036\n",
      "Expenditure is 2365.9976245487715\n",
      "Expenditure is 2368.303665118507\n",
      "Expenditure is 2370.609705688243\n",
      "Expenditure is 2372.9157462579788\n",
      "Expenditure is 2375.2217868277144\n",
      "Expenditure is 2377.52782739745\n",
      "Expenditure is 2379.8338679671856\n",
      "Expenditure is 2382.1399085369208\n",
      "Expenditure is 2384.445949106657\n",
      "Expenditure is 2386.7519896763924\n",
      "Expenditure is 2389.0580302461276\n",
      "Expenditure is 2391.3640708158637\n",
      "Expenditure is 2393.6701113855993\n",
      "Expenditure is 2395.976151955335\n",
      "Expenditure is 2398.2821925250705\n",
      "Expenditure is 2400.588233094806\n",
      "Expenditure is 2402.8942736645417\n",
      "Expenditure is 2405.2003142342774\n",
      "Expenditure is 2407.506354804013\n",
      "Expenditure is 2409.812395373749\n",
      "Expenditure is 2412.118435943484\n",
      "Expenditure is 2414.4244765132203\n",
      "Expenditure is 2416.7305170829554\n",
      "Expenditure is 2419.036557652691\n",
      "Expenditure is 2421.342598222427\n",
      "Expenditure is 2423.6486387921623\n",
      "Expenditure is 2425.9546793618983\n",
      "Expenditure is 2428.2607199316335\n",
      "Expenditure is 2430.5667605013696\n",
      "Expenditure is 2432.872801071105\n",
      "Expenditure is 2435.178841640841\n",
      "Expenditure is 2437.4848822105764\n",
      "Expenditure is 2439.790922780312\n",
      "Expenditure is 2442.0969633500476\n",
      "Expenditure is 2444.4030039197833\n",
      "Expenditure is 2446.709044489519\n",
      "Expenditure is 2449.015085059255\n",
      "Expenditure is 2451.3211256289906\n",
      "Expenditure is 2453.627166198726\n",
      "Expenditure is 2455.933206768462\n",
      "Expenditure is 2458.2392473381974\n",
      "Expenditure is 2460.545287907933\n",
      "Expenditure is 2462.8513284776686\n",
      "Expenditure is 2465.1573690474042\n",
      "Expenditure is 2467.4634096171403\n",
      "Expenditure is 2469.7694501868755\n",
      "Expenditure is 2472.0754907566115\n",
      "Expenditure is 2474.3815313263467\n",
      "Expenditure is 2476.6875718960823\n",
      "Expenditure is 2478.9936124658184\n",
      "Expenditure is 2481.2996530355535\n",
      "Expenditure is 2483.605693605289\n",
      "Expenditure is 2485.911734175025\n",
      "Expenditure is 2488.2177747447604\n",
      "Expenditure is 2490.5238153144965\n",
      "Expenditure is 2492.829855884232\n",
      "Expenditure is 2495.1358964539677\n",
      "Expenditure is 2497.4419370237033\n",
      "Expenditure is 2499.747977593439\n",
      "Expenditure is 2502.0540181631745\n",
      "Expenditure is 2504.36005873291\n",
      "Expenditure is 2506.666099302646\n",
      "Expenditure is 2508.9721398723814\n",
      "Expenditure is 2511.278180442117\n",
      "Expenditure is 2513.584221011853\n",
      "Expenditure is 2515.890261581588\n",
      "Expenditure is 2518.196302151324\n",
      "Expenditure is 2520.5023427210594\n",
      "Expenditure is 2522.808383290795\n",
      "Expenditure is 2525.1144238605307\n",
      "Expenditure is 2527.4204644302667\n",
      "Expenditure is 2529.7265050000024\n",
      "Expenditure is 2532.032545569738\n",
      "Expenditure is 2534.3385861394736\n",
      "Expenditure is 2536.644626709209\n",
      "Expenditure is 2538.950667278945\n",
      "Expenditure is 2541.2567078486804\n",
      "Expenditure is 2543.562748418416\n",
      "Expenditure is 2545.8687889881517\n",
      "Expenditure is 2548.1748295578877\n",
      "Expenditure is 2550.4808701276233\n",
      "Expenditure is 2552.786910697359\n",
      "Expenditure is 2555.0929512670946\n",
      "Expenditure is 2557.39899183683\n",
      "Expenditure is 2559.705032406566\n",
      "Expenditure is 2562.0110729763014\n",
      "Expenditure is 2564.317113546037\n",
      "Expenditure is 2566.6231541157726\n",
      "Expenditure is 2568.9291946855083\n",
      "Expenditure is 2571.2352352552443\n",
      "Expenditure is 2573.5412758249795\n",
      "Expenditure is 2575.847316394715\n",
      "Expenditure is 2578.1533569644507\n",
      "Expenditure is 2580.4593975341863\n",
      "Expenditure is 2582.765438103922\n",
      "Expenditure is 2585.071478673658\n",
      "Expenditure is 2587.3775192433936\n",
      "Expenditure is 2589.683559813129\n",
      "Expenditure is 2591.989600382865\n",
      "Expenditure is 2594.2956409526005\n",
      "Expenditure is 2596.601681522336\n",
      "Expenditure is 2598.9077220920717\n",
      "Expenditure is 2601.213762661807\n",
      "Expenditure is 2603.5198032315425\n",
      "Expenditure is 2605.8258438012786\n",
      "Expenditure is 2608.131884371014\n",
      "Expenditure is 2610.43792494075\n",
      "Expenditure is 2612.7439655104854\n",
      "Expenditure is 2615.050006080221\n",
      "Expenditure is 2617.3560466499566\n",
      "Expenditure is 2619.6620872196922\n",
      "Expenditure is 2621.968127789428\n",
      "Expenditure is 2624.274168359164\n",
      "Expenditure is 2626.5802089288995\n",
      "Expenditure is 2628.886249498635\n",
      "Expenditure is 2631.1922900683708\n",
      "Expenditure is 2633.4983306381064\n",
      "Expenditure is 2635.804371207842\n",
      "Expenditure is 2638.1104117775776\n",
      "Expenditure is 2640.416452347313\n",
      "Expenditure is 2642.722492917049\n",
      "Expenditure is 2645.028533486785\n",
      "Expenditure is 2647.33457405652\n",
      "Expenditure is 2649.640614626256\n",
      "Expenditure is 2651.9466551959918\n",
      "Expenditure is 2654.252695765727\n",
      "Expenditure is 2656.558736335463\n",
      "Expenditure is 2658.864776905198\n",
      "Expenditure is 2661.1708174749338\n",
      "Expenditure is 2663.4768580446694\n",
      "Expenditure is 2665.7828986144054\n",
      "Expenditure is 2668.088939184141\n",
      "Expenditure is 2670.3949797538767\n",
      "Expenditure is 2672.7010203236123\n",
      "Expenditure is 2675.007060893348\n",
      "Expenditure is 2677.3131014630835\n",
      "Expenditure is 2679.619142032819\n",
      "Expenditure is 2681.9251826025543\n",
      "Expenditure is 2684.231223172291\n",
      "Expenditure is 2686.5372637420264\n",
      "Expenditure is 2688.8433043117616\n",
      "Expenditure is 2691.1493448814977\n",
      "Expenditure is 2693.455385451233\n",
      "Expenditure is 2695.7614260209684\n",
      "Expenditure is 2698.067466590704\n",
      "Expenditure is 2700.3735071604397\n",
      "Expenditure is 2702.6795477301753\n",
      "Expenditure is 2704.9855882999113\n",
      "Expenditure is 2707.291628869647\n",
      "Expenditure is 2709.5976694393826\n",
      "Expenditure is 2711.903710009118\n",
      "Expenditure is 2714.209750578854\n",
      "Expenditure is 2716.5157911485894\n",
      "Expenditure is 2718.821831718325\n",
      "Expenditure is 2721.1278722880606\n",
      "Expenditure is 2723.4339128577967\n",
      "Expenditure is 2725.7399534275323\n",
      "Expenditure is 2728.045993997268\n",
      "Expenditure is 2730.3520345670036\n",
      "Expenditure is 2732.658075136739\n",
      "Expenditure is 2734.964115706475\n",
      "Expenditure is 2737.2701562762104\n",
      "Expenditure is 2739.5761968459456\n",
      "Expenditure is 2741.8822374156816\n",
      "Expenditure is 2744.1882779854177\n",
      "Expenditure is 2746.494318555153\n",
      "Expenditure is 2748.8003591248885\n",
      "Expenditure is 2751.106399694624\n",
      "Expenditure is 2753.4124402643597\n",
      "Expenditure is 2755.7184808340958\n",
      "Expenditure is 2758.024521403831\n",
      "Expenditure is 2760.3305619735665\n",
      "Expenditure is 2762.6366025433026\n",
      "Expenditure is 2764.9426431130382\n",
      "Expenditure is 2767.248683682774\n",
      "Expenditure is 2769.554724252509\n",
      "Expenditure is 2771.860764822245\n",
      "Expenditure is 2774.1668053919807\n",
      "Expenditure is 2776.4728459617163\n",
      "Expenditure is 2778.778886531452\n",
      "Expenditure is 2781.0849271011875\n",
      "Expenditure is 2783.3909676709236\n",
      "Expenditure is 2785.6970082406588\n",
      "Expenditure is 2788.0030488103944\n",
      "Expenditure is 2790.30908938013\n",
      "Expenditure is 2792.6151299498656\n",
      "Expenditure is 2794.921170519601\n",
      "Expenditure is 2797.2272110893373\n",
      "Expenditure is 2799.5332516590724\n",
      "Expenditure is 2801.8392922288085\n",
      "Expenditure is 2804.145332798544\n",
      "Expenditure is 2806.4513733682797\n",
      "Expenditure is 2808.7574139380154\n",
      "Expenditure is 2811.063454507751\n",
      "Expenditure is 2813.3694950774866\n",
      "Expenditure is 2815.675535647222\n",
      "Expenditure is 2817.981576216958\n",
      "Expenditure is 2820.2876167866934\n",
      "Expenditure is 2822.5936573564295\n",
      "Expenditure is 2824.899697926165\n",
      "Expenditure is 2827.2057384959003\n",
      "Expenditure is 2829.5117790656363\n",
      "Expenditure is 2831.817819635372\n",
      "Expenditure is 2834.1238602051076\n",
      "Expenditure is 2836.429900774843\n",
      "Expenditure is 2838.735941344579\n",
      "Expenditure is 2841.0419819143144\n",
      "Expenditure is 2843.34802248405\n",
      "Expenditure is 2845.6540630537856\n",
      "Expenditure is 2847.9601036235213\n",
      "Expenditure is 2850.266144193257\n",
      "Expenditure is 2852.5721847629925\n",
      "Expenditure is 2854.8782253327286\n",
      "Expenditure is 2857.1842659024637\n",
      "Expenditure is 2859.4903064721993\n",
      "Expenditure is 2861.7963470419354\n",
      "Expenditure is 2864.102387611671\n",
      "Expenditure is 2866.4084281814066\n",
      "Expenditure is 2868.714468751142\n",
      "Expenditure is 2871.020509320878\n",
      "Expenditure is 2873.326549890613\n",
      "Expenditure is 2875.632590460349\n",
      "Expenditure is 2877.9386310300847\n",
      "Expenditure is 2880.2446715998203\n",
      "Expenditure is 2882.550712169556\n",
      "Expenditure is 2884.8567527392916\n",
      "Expenditure is 2887.162793309027\n",
      "Expenditure is 2889.468833878763\n",
      "Expenditure is 2891.7748744484984\n",
      "Expenditure is 2894.080915018234\n",
      "Expenditure is 2896.3869555879696\n",
      "Expenditure is 2898.6929961577052\n",
      "Expenditure is 2900.9990367274413\n",
      "Expenditure is 2903.305077297177\n"
     ]
    },
    {
     "name": "stdout",
     "output_type": "stream",
     "text": [
      "Expenditure is 2905.6111178669125\n",
      "Expenditure is 2907.917158436648\n",
      "Expenditure is 2910.2231990063838\n",
      "Expenditure is 2912.5292395761194\n",
      "Expenditure is 2914.835280145855\n",
      "Expenditure is 2917.1413207155906\n",
      "Expenditure is 2919.447361285326\n",
      "Expenditure is 2921.7534018550623\n",
      "Expenditure is 2924.059442424798\n",
      "Expenditure is 2926.365482994533\n",
      "Expenditure is 2928.671523564269\n",
      "Expenditure is 2930.9775641340043\n",
      "Expenditure is 2933.2836047037404\n",
      "Expenditure is 2935.589645273476\n",
      "Expenditure is 2937.895685843211\n",
      "Expenditure is 2940.201726412947\n",
      "Expenditure is 2942.507766982683\n",
      "Expenditure is 2944.8138075524184\n",
      "Expenditure is 2947.119848122154\n",
      "Expenditure is 2949.4258886918897\n",
      "Expenditure is 2951.7319292616253\n",
      "Expenditure is 2954.037969831361\n",
      "Expenditure is 2956.3440104010965\n",
      "Expenditure is 2958.650050970832\n",
      "Expenditure is 2960.956091540568\n",
      "Expenditure is 2963.2621321103034\n",
      "Expenditure is 2965.568172680039\n",
      "Expenditure is 2967.8742132497746\n",
      "Expenditure is 2970.1802538195107\n",
      "Expenditure is 2972.486294389246\n",
      "Expenditure is 2974.792334958982\n",
      "Expenditure is 2977.098375528717\n",
      "Expenditure is 2979.404416098453\n",
      "Expenditure is 2981.7104566681887\n",
      "Expenditure is 2984.0164972379243\n",
      "Expenditure is 2986.32253780766\n",
      "Expenditure is 2988.6285783773956\n",
      "Expenditure is 2990.934618947131\n",
      "Expenditure is 2993.240659516867\n",
      "Expenditure is 2995.5467000866024\n",
      "Expenditure is 2997.852740656338\n",
      "Expenditure is 3000.158781226074\n",
      "Expenditure is 3002.4648217958097\n",
      "Expenditure is 3004.7708623655453\n",
      "Expenditure is 3007.076902935281\n",
      "Expenditure is 3009.3829435050166\n",
      "Expenditure is 3011.688984074752\n",
      "Expenditure is 3013.995024644488\n",
      "Expenditure is 3016.3010652142234\n",
      "Expenditure is 3018.607105783959\n",
      "Expenditure is 3020.9131463536946\n",
      "Expenditure is 3023.2191869234302\n",
      "Expenditure is 3025.525227493166\n",
      "Expenditure is 3027.831268062902\n",
      "Expenditure is 3030.137308632637\n",
      "Expenditure is 3032.443349202373\n",
      "Expenditure is 3034.7493897721083\n",
      "Expenditure is 3037.055430341844\n",
      "Expenditure is 3039.36147091158\n",
      "Expenditure is 3041.667511481315\n",
      "Expenditure is 3043.9735520510512\n",
      "Expenditure is 3046.2795926207864\n",
      "Expenditure is 3048.5856331905225\n",
      "Expenditure is 3050.891673760258\n",
      "Expenditure is 3053.1977143299932\n",
      "Expenditure is 3055.503754899729\n",
      "Expenditure is 3057.809795469465\n",
      "Expenditure is 3060.1158360392005\n",
      "Expenditure is 3062.421876608936\n",
      "Expenditure is 3064.7279171786718\n",
      "Expenditure is 3067.0339577484074\n",
      "Expenditure is 3069.339998318143\n",
      "Expenditure is 3071.6460388878786\n",
      "Expenditure is 3073.952079457614\n",
      "Expenditure is 3076.25812002735\n",
      "Expenditure is 3078.564160597086\n",
      "Expenditure is 3080.8702011668215\n",
      "Expenditure is 3083.176241736557\n",
      "Expenditure is 3085.4822823062927\n",
      "Expenditure is 3087.7883228760284\n",
      "Expenditure is 3090.094363445764\n",
      "Expenditure is 3092.4004040154996\n",
      "Expenditure is 3094.706444585235\n",
      "Expenditure is 3097.012485154971\n",
      "Expenditure is 3099.318525724707\n",
      "Expenditure is 3101.6245662944425\n",
      "Expenditure is 3103.930606864178\n",
      "Expenditure is 3106.2366474339137\n",
      "Expenditure is 3108.5426880036493\n",
      "Expenditure is 3110.8487285733845\n",
      "Expenditure is 3113.1547691431206\n",
      "Expenditure is 3115.4608097128557\n",
      "Expenditure is 3117.7668502825923\n",
      "Expenditure is 3120.072890852328\n",
      "Expenditure is 3122.378931422063\n",
      "Expenditure is 3124.6849719917986\n",
      "Expenditure is 3126.9910125615343\n",
      "Expenditure is 3129.29705313127\n",
      "Expenditure is 3131.6030937010055\n",
      "Expenditure is 3133.909134270741\n",
      "Expenditure is 3136.2151748404767\n",
      "Expenditure is 3138.5212154102123\n",
      "Expenditure is 3140.827255979948\n",
      "Expenditure is 3143.133296549684\n",
      "Expenditure is 3145.439337119419\n",
      "Expenditure is 3147.7453776891552\n",
      "Expenditure is 3150.0514182588904\n",
      "Expenditure is 3152.357458828626\n",
      "Expenditure is 3154.6634993983616\n",
      "Expenditure is 3156.9695399680977\n",
      "Expenditure is 3159.2755805378333\n",
      "Expenditure is 3161.581621107569\n",
      "Expenditure is 3163.8876616773045\n",
      "Expenditure is 3166.19370224704\n",
      "Expenditure is 3168.499742816776\n",
      "Expenditure is 3170.8057833865114\n",
      "Expenditure is 3173.111823956247\n",
      "Expenditure is 3175.4178645259826\n",
      "Expenditure is 3177.7239050957187\n",
      "Expenditure is 3180.0299456654543\n",
      "Expenditure is 3182.33598623519\n",
      "Expenditure is 3184.6420268049255\n",
      "Expenditure is 3186.948067374661\n",
      "Expenditure is 3189.2541079443968\n",
      "Expenditure is 3191.5601485141324\n",
      "Expenditure is 3193.866189083868\n",
      "Expenditure is 3196.172229653604\n",
      "Expenditure is 3198.4782702233397\n",
      "Expenditure is 3200.7843107930753\n",
      "Expenditure is 3203.0903513628105\n",
      "Expenditure is 3205.3963919325465\n",
      "Expenditure is 3207.7024325022817\n",
      "Expenditure is 3210.0084730720173\n",
      "Expenditure is 3212.3145136417534\n",
      "Expenditure is 3214.6205542114885\n",
      "Expenditure is 3216.9265947812246\n",
      "Expenditure is 3219.2326353509598\n",
      "Expenditure is 3221.538675920696\n",
      "Expenditure is 3223.8447164904314\n",
      "Expenditure is 3226.1507570601666\n",
      "Expenditure is 3228.4567976299027\n",
      "Expenditure is 3230.762838199638\n",
      "Expenditure is 3233.068878769374\n",
      "Expenditure is 3235.3749193391095\n",
      "Expenditure is 3237.680959908845\n",
      "Expenditure is 3239.9870004785807\n",
      "Expenditure is 3242.2930410483164\n",
      "Expenditure is 3244.599081618052\n",
      "Expenditure is 3246.9051221877876\n",
      "Expenditure is 3249.211162757523\n",
      "Expenditure is 3251.517203327259\n",
      "Expenditure is 3253.8232438969944\n",
      "Expenditure is 3256.1292844667305\n",
      "Expenditure is 3258.435325036466\n",
      "Expenditure is 3260.7413656062017\n",
      "Expenditure is 3263.0474061759373\n",
      "Expenditure is 3265.353446745673\n",
      "Expenditure is 3267.6594873154086\n",
      "Expenditure is 3269.965527885144\n",
      "Expenditure is 3272.27156845488\n",
      "Expenditure is 3274.5776090246154\n",
      "Expenditure is 3276.8836495943515\n",
      "Expenditure is 3279.189690164087\n",
      "Expenditure is 3281.4957307338227\n",
      "Expenditure is 3283.801771303558\n",
      "Expenditure is 3286.107811873294\n",
      "Expenditure is 3288.413852443029\n",
      "Expenditure is 3290.719893012765\n",
      "Expenditure is 3293.0259335825012\n",
      "Expenditure is 3295.331974152237\n",
      "Expenditure is 3297.6380147219725\n",
      "Expenditure is 3299.9440552917076\n",
      "Expenditure is 3302.2500958614432\n",
      "Expenditure is 3304.556136431179\n",
      "Expenditure is 3306.8621770009145\n",
      "Expenditure is 3309.16821757065\n",
      "Expenditure is 3311.4742581403857\n",
      "Expenditure is 3313.7802987101213\n",
      "Expenditure is 3316.0863392798574\n",
      "Expenditure is 3318.3923798495925\n",
      "Expenditure is 3320.6984204193286\n",
      "Expenditure is 3323.004460989064\n",
      "Expenditure is 3325.3105015587994\n",
      "Expenditure is 3327.6165421285355\n",
      "Expenditure is 3329.9225826982706\n",
      "Expenditure is 3332.2286232680062\n",
      "Expenditure is 3334.5346638377423\n",
      "Expenditure is 3336.840704407478\n",
      "Expenditure is 3339.1467449772135\n",
      "Expenditure is 3341.452785546949\n",
      "Expenditure is 3343.7588261166848\n",
      "Expenditure is 3346.0648666864204\n",
      "Expenditure is 3348.370907256156\n",
      "Expenditure is 3350.6769478258916\n",
      "Expenditure is 3352.9829883956277\n",
      "Expenditure is 3355.2890289653633\n",
      "Expenditure is 3357.595069535099\n",
      "Expenditure is 3359.9011101048345\n",
      "Expenditure is 3362.20715067457\n",
      "Expenditure is 3364.5131912443057\n",
      "Expenditure is 3366.8192318140414\n",
      "Expenditure is 3369.125272383777\n",
      "Expenditure is 3371.4313129535126\n",
      "Expenditure is 3373.7373535232487\n",
      "Expenditure is 3376.0433940929843\n",
      "Expenditure is 3378.34943466272\n",
      "Expenditure is 3380.655475232455\n",
      "Expenditure is 3382.9615158021907\n",
      "Expenditure is 3385.2675563719267\n",
      "Expenditure is 3387.5735969416623\n",
      "Expenditure is 3389.8796375113975\n",
      "Expenditure is 3392.1856780811336\n",
      "Expenditure is 3394.4917186508696\n",
      "Expenditure is 3396.797759220605\n",
      "Expenditure is 3399.1037997903404\n",
      "Expenditure is 3401.4098403600756\n",
      "Expenditure is 3403.715880929811\n",
      "Expenditure is 3406.0219214995473\n",
      "Expenditure is 3408.327962069283\n",
      "Expenditure is 3410.634002639019\n",
      "Expenditure is 3412.940043208754\n",
      "Expenditure is 3415.2460837784897\n",
      "Expenditure is 3417.5521243482253\n",
      "Expenditure is 3419.858164917961\n",
      "Expenditure is 3422.164205487697\n",
      "Expenditure is 3424.470246057432\n",
      "Expenditure is 3426.776286627168\n",
      "Expenditure is 3429.0823271969034\n",
      "Expenditure is 3431.388367766639\n",
      "Expenditure is 3433.694408336375\n",
      "Expenditure is 3436.0004489061107\n",
      "Expenditure is 3438.3064894758463\n",
      "Expenditure is 3440.612530045582\n",
      "Expenditure is 3442.9185706153175\n",
      "Expenditure is 3445.224611185053\n",
      "Expenditure is 3447.530651754789\n",
      "Expenditure is 3449.8366923245244\n",
      "Expenditure is 3452.1427328942605\n",
      "Expenditure is 3454.448773463996\n",
      "Expenditure is 3456.7548140337317\n",
      "Expenditure is 3459.0608546034673\n",
      "Expenditure is 3461.3668951732025\n",
      "Expenditure is 3463.6729357429385\n",
      "Expenditure is 3465.978976312674\n",
      "Expenditure is 3468.2850168824098\n",
      "Expenditure is 3470.591057452145\n",
      "Expenditure is 3472.8970980218814\n",
      "Expenditure is 3475.203138591617\n",
      "Expenditure is 3477.509179161352\n",
      "Expenditure is 3479.8152197310883\n",
      "Expenditure is 3482.121260300823\n",
      "Expenditure is 3484.427300870559\n",
      "Expenditure is 3486.7333414402947\n",
      "Expenditure is 3489.0393820100307\n",
      "Expenditure is 3491.345422579767\n",
      "Expenditure is 3493.6514631495015\n",
      "Expenditure is 3495.957503719237\n",
      "Expenditure is 3498.2635442889728\n",
      "Expenditure is 3500.569584858709\n",
      "Expenditure is 3502.8756254284444\n",
      "Expenditure is 3505.1816659981796\n",
      "Expenditure is 3507.487706567915\n",
      "Expenditure is 3509.793747137651\n",
      "Expenditure is 3512.099787707387\n",
      "Expenditure is 3514.4058282771225\n",
      "Expenditure is 3516.711868846858\n",
      "Expenditure is 3519.0179094165937\n",
      "Expenditure is 3521.3239499863294\n",
      "Expenditure is 3523.629990556065\n",
      "Expenditure is 3525.9360311258006\n",
      "Expenditure is 3528.242071695536\n",
      "Expenditure is 3530.5481122652723\n",
      "Expenditure is 3532.854152835008\n",
      "Expenditure is 3535.1601934047435\n",
      "Expenditure is 3537.466233974479\n",
      "Expenditure is 3539.7722745442147\n",
      "Expenditure is 3542.0783151139503\n",
      "Expenditure is 3544.384355683686\n",
      "Expenditure is 3546.6903962534216\n",
      "Expenditure is 3548.9964368231576\n",
      "Expenditure is 3551.3024773928933\n",
      "Expenditure is 3553.608517962629\n",
      "Expenditure is 3555.9145585323645\n",
      "Expenditure is 3558.2205991021\n",
      "Expenditure is 3560.5266396718357\n",
      "Expenditure is 3562.832680241571\n",
      "Expenditure is 3565.1387208113065\n",
      "Expenditure is 3567.4447613810426\n",
      "Expenditure is 3569.7508019507786\n",
      "Expenditure is 3572.0568425205142\n",
      "Expenditure is 3574.362883090249\n",
      "Expenditure is 3576.6689236599846\n",
      "Expenditure is 3578.9749642297206\n",
      "Expenditure is 3581.2810047994562\n",
      "Expenditure is 3583.5870453691923\n",
      "Expenditure is 3585.893085938927\n",
      "Expenditure is 3588.1991265086635\n",
      "Expenditure is 3590.5051670783987\n",
      "Expenditure is 3592.8112076481343\n",
      "Expenditure is 3595.1172482178704\n",
      "Expenditure is 3597.4232887876055\n",
      "Expenditure is 3599.729329357341\n",
      "Expenditure is 3602.0353699270768\n",
      "Expenditure is 3604.341410496813\n",
      "Expenditure is 3606.647451066548\n",
      "Expenditure is 3608.953491636284\n",
      "Expenditure is 3611.2595322060197\n",
      "Expenditure is 3613.5655727757553\n",
      "Expenditure is 3615.871613345491\n",
      "Expenditure is 3618.1776539152265\n",
      "Expenditure is 3620.483694484962\n",
      "Expenditure is 3622.7897350546978\n",
      "Expenditure is 3625.0957756244334\n"
     ]
    }
   ],
   "source": [
    "## Write my own solver\n",
    "Expenditure = Ytilde - c\n",
    "expen = 0\n",
    "Ps = zeros(3)\n",
    "PBeef = 1000\n",
    "while expen < Expenditure\n",
    "    PBeef = pbeef + 1\n",
    "    PPoultry= pbeef*(theta_c/theta_b)*(PerCapChicken/PerCapBeef)^(-1/epsilon)\n",
    "    ppork = pbeef*(theta_p/theta_b)*(PerCapPork/PerCapBeef)^(-1/epsilon)\n",
    "    expen   = PerCapBeef*pbeef + PerCapChicken*pchick + PerCapPork*ppork\n",
    "    println(\"Expenditure is $expen\")\n",
    "    Ps = [pbeef pchick ppork]\n",
    "end"
   ]
  },
  {
   "cell_type": "code",
   "execution_count": 65,
   "metadata": {},
   "outputs": [
    {
     "data": {
      "text/plain": [
       "1×3 Array{Float64,2}:\n",
       " 1572.0  612.447  99.7007"
      ]
     },
     "execution_count": 65,
     "metadata": {},
     "output_type": "execute_result"
    }
   ],
   "source": [
    "Ps"
   ]
  },
  {
   "cell_type": "code",
   "execution_count": 42,
   "metadata": {},
   "outputs": [
    {
     "data": {
      "text/plain": [
       "6624"
      ]
     },
     "execution_count": 42,
     "metadata": {},
     "output_type": "execute_result"
    }
   ],
   "source": [
    "2208*3"
   ]
  },
  {
   "cell_type": "code",
   "execution_count": 36,
   "metadata": {},
   "outputs": [
    {
     "data": {
      "text/plain": [
       "1.0"
      ]
     },
     "execution_count": 36,
     "metadata": {},
     "output_type": "execute_result"
    }
   ],
   "source": [
    "rho = 0\n",
    "1/(1-rho)"
   ]
  },
  {
   "cell_type": "code",
   "execution_count": 15,
   "metadata": {},
   "outputs": [
    {
     "data": {
      "text/plain": [
       "1.8196721311475412"
      ]
     },
     "execution_count": 15,
     "metadata": {},
     "output_type": "execute_result"
    }
   ],
   "source": [
    "1/(1-epsilon)"
   ]
  },
  {
   "cell_type": "code",
   "execution_count": 17,
   "metadata": {},
   "outputs": [
    {
     "data": {
      "text/plain": [
       "-2.949890456930711"
      ]
     },
     "execution_count": 17,
     "metadata": {},
     "output_type": "execute_result"
    }
   ],
   "source": [
    "-11.04^epsilon"
   ]
  },
  {
   "cell_type": "code",
   "execution_count": 18,
   "metadata": {},
   "outputs": [
    {
     "data": {
      "text/plain": [
       "-3.7425118529610923"
      ]
     },
     "execution_count": 18,
     "metadata": {},
     "output_type": "execute_result"
    }
   ],
   "source": [
    "-11.04^(1-epsilon)"
   ]
  },
  {
   "cell_type": "code",
   "execution_count": 24,
   "metadata": {},
   "outputs": [
    {
     "data": {
      "text/plain": [
       "1.8196721311475412"
      ]
     },
     "execution_count": 24,
     "metadata": {},
     "output_type": "execute_result"
    }
   ],
   "source": [
    "1/(1-epsilon)"
   ]
  },
  {
   "cell_type": "code",
   "execution_count": 22,
   "metadata": {},
   "outputs": [
    {
     "data": {
      "text/plain": [
       "16"
      ]
     },
     "execution_count": 22,
     "metadata": {},
     "output_type": "execute_result"
    }
   ],
   "source": [
    "2^3*2"
   ]
  },
  {
   "cell_type": "code",
   "execution_count": 25,
   "metadata": {},
   "outputs": [
    {
     "data": {
      "text/plain": [
       "0.25"
      ]
     },
     "execution_count": 25,
     "metadata": {},
     "output_type": "execute_result"
    }
   ],
   "source": [
    "1/2^2"
   ]
  },
  {
   "cell_type": "code",
   "execution_count": null,
   "metadata": {},
   "outputs": [],
   "source": []
  },
  {
   "cell_type": "code",
   "execution_count": null,
   "metadata": {},
   "outputs": [],
   "source": []
  },
  {
   "cell_type": "code",
   "execution_count": null,
   "metadata": {},
   "outputs": [],
   "source": []
  },
  {
   "cell_type": "code",
   "execution_count": null,
   "metadata": {},
   "outputs": [],
   "source": []
  },
  {
   "cell_type": "code",
   "execution_count": null,
   "metadata": {},
   "outputs": [],
   "source": []
  },
  {
   "cell_type": "code",
   "execution_count": null,
   "metadata": {},
   "outputs": [],
   "source": []
  },
  {
   "cell_type": "raw",
   "metadata": {},
   "source": []
  },
  {
   "cell_type": "code",
   "execution_count": 59,
   "metadata": {},
   "outputs": [],
   "source": [
    "New \t= create_AnimalWelfareOpt()\n",
    "\tset_param!(New, :farm, :BeefReduc, .5)\n",
    "\tset_param!(New, :farm, :PoultryReduc, .5)\n",
    "\tset_param!(New, :farm, :PorkReduc, .5)\n",
    "run(New)"
   ]
  },
  {
   "cell_type": "code",
   "execution_count": 60,
   "metadata": {},
   "outputs": [
    {
     "name": "stdout",
     "output_type": "stream",
     "text": [
      "\r\n"
     ]
    },
    {
     "data": {
      "text/plain": [
       "Electron.Window(Application(Base.PipeEndpoint(Base.Libc.WindowsRawSocket(0x0000000000000670) open, 0 bytes waiting), Process(`\u001b[4m'C:\\Users\\Kevin\\.julia\\packages\\Electron\\aRIgh\\src\\..\\deps\\electron\\electron.exe'\u001b[24m \u001b[4m'C:\\Users\\Kevin\\.julia\\packages\\Electron\\aRIgh\\src\\main.js'\u001b[24m \u001b[4m'\\\\.\\pipe\\juliaelectron-8032-1'\u001b[24m \u001b[4m'\\\\.\\pipe\\juliaelectron-sysnotify-8032-1'\u001b[24m \u001b[4m8VfCWiO990ui4dMKP1RszRGkgvBviciKL9oMTVPMWbB1j4Nhkrk7Jt3LqP4kwp2jcSC84suh87jJRGNIfy5qsR7AMEd32FMoHWbbObV8JsGN1zkO3zGtmkh2nyCFJFIeb1CRJYWk0v2Ftd4FboN8e428nQLE3Z3TWamYyMJmHHs=\u001b[24m`, ProcessRunning), [1 window]), 1, true, Channel{Any}(sz_max:128,sz_curr:0))"
      ]
     },
     "execution_count": 60,
     "metadata": {},
     "output_type": "execute_result"
    }
   ],
   "source": [
    "explore(New)"
   ]
  },
  {
   "cell_type": "code",
   "execution_count": 74,
   "metadata": {},
   "outputs": [
    {
     "data": {
      "text/plain": [
       "f (generic function with 2 methods)"
      ]
     },
     "execution_count": 74,
     "metadata": {},
     "output_type": "execute_result"
    }
   ],
   "source": [
    "function f(x)\n",
    "   y = x[1] + x[2] + x[3]\n",
    "    return y\n",
    "end\n"
   ]
  },
  {
   "cell_type": "code",
   "execution_count": 75,
   "metadata": {},
   "outputs": [
    {
     "data": {
      "text/plain": [
       "6"
      ]
     },
     "execution_count": 75,
     "metadata": {},
     "output_type": "execute_result"
    }
   ],
   "source": [
    "f([1 2 3])"
   ]
  },
  {
   "cell_type": "code",
   "execution_count": null,
   "metadata": {},
   "outputs": [],
   "source": []
  }
 ],
 "metadata": {
  "kernelspec": {
   "display_name": "Julia 1.3.0",
   "language": "julia",
   "name": "julia-1.3"
  },
  "language_info": {
   "file_extension": ".jl",
   "mimetype": "application/julia",
   "name": "julia",
   "version": "1.3.0"
  }
 },
 "nbformat": 4,
 "nbformat_minor": 2
}
