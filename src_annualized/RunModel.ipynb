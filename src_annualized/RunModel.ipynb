{
 "cells": [
  {
   "cell_type": "code",
   "execution_count": 4,
   "metadata": {},
   "outputs": [
    {
     "name": "stderr",
     "output_type": "stream",
     "text": [
      "┌ Warning: interpolate(A, BSpline(Linear()), OnGrid()) is deprecated, use interpolate(A, BSpline(Linear()))\n",
      "│   caller = dice_interpolate(::Array{Float64,1}, ::Int64) at helpers.jl:61\n",
      "└ @ Main C:\\Users\\Kevin\\Documents\\GitHub\\DICEFARM\\src_annualized\\helpers.jl:61\n",
      "┌ Warning: `getindex(itp::AbstractInterpolation{T, N}, i::Vararg{ExpandedIndexTypes, N}) where {T, N}` is deprecated, use `itp(i...)` instead.\n",
      "│   caller = dice_interpolate(::Array{Float64,1}, ::Int64) at helpers.jl:67\n",
      "└ @ Main C:\\Users\\Kevin\\Documents\\GitHub\\DICEFARM\\src_annualized\\helpers.jl:67\n"
     ]
    },
    {
     "data": {
      "text/plain": [
       "23-component Mimi.Model:\n",
       "  grosseconomy::Main.grosseconomy\n",
       "  farm::Main.farm\n",
       "  emissions::Main.emissions\n",
       "  ch4_cycle::MimiFAIR13.ch4_cycle\n",
       "  n2o_cycle::MimiFAIR13.n2o_cycle\n",
       "  other_ghg_cycles::MimiFAIR13.other_ghg_cycles\n",
       "  co2_cycle::MimiFAIR13.co2_cycle\n",
       "  ch4_rf::MimiFAIR13.ch4_rf\n",
       "  n2o_rf::MimiFAIR13.n2o_rf\n",
       "  other_ghg_rf::MimiFAIR13.other_ghg_rf\n",
       "  co2_rf::MimiFAIR13.co2_rf\n",
       "  trop_o3_rf::MimiFAIR13.trop_o3_rf\n",
       "  strat_o3_rf::MimiFAIR13.strat_o3_rf\n",
       "  aerosol_direct_rf::MimiFAIR13.aerosol_direct_rf\n",
       "  aerosol_indirect_rf::MimiFAIR13.aerosol_indirect_rf\n",
       "  bc_snow_rf::MimiFAIR13.bc_snow_rf\n",
       "  landuse_rf::MimiFAIR13.landuse_rf\n",
       "  contrails_rf::MimiFAIR13.contrails_rf\n",
       "  total_rf::MimiFAIR13.total_rf\n",
       "  temperature::MimiFAIR13.temperature\n",
       "  damages::Main.damages\n",
       "  neteconomy::Main.neteconomy\n",
       "  welfare::Main.welfare\n"
      ]
     },
     "execution_count": 4,
     "metadata": {},
     "output_type": "execute_result"
    }
   ],
   "source": [
    "include(\"DICEFARM_Annual.jl\")\n",
    "DICEFARM = create_dice_farm()"
   ]
  },
  {
   "cell_type": "code",
   "execution_count": 51,
   "metadata": {},
   "outputs": [
    {
     "name": "stderr",
     "output_type": "stream",
     "text": [
      "┌ Warning: interpolate(A, BSpline(Linear()), OnGrid()) is deprecated, use interpolate(A, BSpline(Linear()))\n",
      "│   caller = dice_interpolate(::Array{Float64,1}, ::Int64) at helpers.jl:61\n",
      "└ @ Main C:\\Users\\Kevin\\Documents\\GitHub\\DICEFARM\\src_annualized\\helpers.jl:61\n",
      "┌ Warning: `getindex(itp::AbstractInterpolation{T, N}, i::Vararg{ExpandedIndexTypes, N}) where {T, N}` is deprecated, use `itp(i...)` instead.\n",
      "│   caller = dice_interpolate(::Array{Float64,1}, ::Int64) at helpers.jl:67\n",
      "└ @ Main C:\\Users\\Kevin\\Documents\\GitHub\\DICEFARM\\src_annualized\\helpers.jl:67\n"
     ]
    },
    {
     "name": "stdout",
     "output_type": "stream",
     "text": [
      "Temp Diff is 0.4811439980875911\n",
      "Starting SCs\n",
      "Done with SCs\n"
     ]
    }
   ],
   "source": [
    "include(\"FiguresForPNAS.jl\")"
   ]
  },
  {
   "cell_type": "code",
   "execution_count": 49,
   "metadata": {},
   "outputs": [
    {
     "name": "stderr",
     "output_type": "stream",
     "text": [
      "┌ Warning: interpolate(A, BSpline(Linear()), OnGrid()) is deprecated, use interpolate(A, BSpline(Linear()))\n",
      "│   caller = dice_interpolate(::Array{Float64,1}, ::Int64) at helpers.jl:61\n",
      "└ @ Main C:\\Users\\Kevin\\Documents\\GitHub\\DICEFARM\\src_annualized\\helpers.jl:61\n",
      "┌ Warning: `getindex(itp::AbstractInterpolation{T, N}, i::Vararg{ExpandedIndexTypes, N}) where {T, N}` is deprecated, use `itp(i...)` instead.\n",
      "│   caller = dice_interpolate(::Array{Float64,1}, ::Int64) at helpers.jl:67\n",
      "└ @ Main C:\\Users\\Kevin\\Documents\\GitHub\\DICEFARM\\src_annualized\\helpers.jl:67\n"
     ]
    },
    {
     "data": {
      "text/plain": [
       "14.551915228366852"
      ]
     },
     "execution_count": 49,
     "metadata": {},
     "output_type": "execute_result"
    }
   ],
   "source": [
    "using Plots\n",
    "include(\"ConsEquiv.jl\")\n",
    "include(\"DICEFARM_Annual.jl\")\n",
    "DICEFARM = create_dice_farm()\n",
    "run(DICEFARM)\n",
    "BaseTemp = DICEFARM[:co2_cycle, :T]\n",
    "DICELength = length(DICEFARM[:farm, :Beef])\n",
    "NowIndex = 2020-1765 + 1\n",
    "\n",
    "Co2Pulse = create_dice_farm()\n",
    "co2marg = zeros(DICELength)\n",
    "co2marg[4] = 1.e-9\n",
    "set_param!(Co2Pulse, :emissions, :CO2Marg, co2marg)\n",
    "run(Co2Pulse)\n",
    "Baseline = create_dice_farm()\n",
    "W0= Co2Pulse[:welfare, :UTILITY]\n",
    "SC = ConsEquiv(Baseline, W0)"
   ]
  },
  {
   "cell_type": "code",
   "execution_count": 26,
   "metadata": {},
   "outputs": [
    {
     "data": {
      "text/plain": [
       "123.69127944111824"
      ]
     },
     "execution_count": 26,
     "metadata": {},
     "output_type": "execute_result"
    }
   ],
   "source": [
    "Baseline = create_dice_farm()\n",
    "SCVeg = ConsEquiv(Baseline, W0)"
   ]
  },
  {
   "cell_type": "code",
   "execution_count": 50,
   "metadata": {},
   "outputs": [
    {
     "data": {
      "image/svg+xml": [
       "<?xml version=\"1.0\" encoding=\"utf-8\"?>\n",
       "<svg xmlns=\"http://www.w3.org/2000/svg\" xmlns:xlink=\"http://www.w3.org/1999/xlink\" width=\"600\" height=\"400\" viewBox=\"0 0 2400 1600\">\n",
       "<defs>\n",
       "  <clipPath id=\"clip0000\">\n",
       "    <rect x=\"0\" y=\"0\" width=\"2400\" height=\"1600\"/>\n",
       "  </clipPath>\n",
       "</defs>\n",
       "<path clip-path=\"url(#clip0000)\" d=\"\n",
       "M0 1600 L2400 1600 L2400 0 L0 0  Z\n",
       "  \" fill=\"#ffffff\" fill-rule=\"evenodd\" fill-opacity=\"1\"/>\n",
       "<defs>\n",
       "  <clipPath id=\"clip0001\">\n",
       "    <rect x=\"480\" y=\"0\" width=\"1681\" height=\"1600\"/>\n",
       "  </clipPath>\n",
       "</defs>\n",
       "<path clip-path=\"url(#clip0000)\" d=\"\n",
       "M141.865 1487.47 L2352.76 1487.47 L2352.76 47.2441 L141.865 47.2441  Z\n",
       "  \" fill=\"#ffffff\" fill-rule=\"evenodd\" fill-opacity=\"1\"/>\n",
       "<defs>\n",
       "  <clipPath id=\"clip0002\">\n",
       "    <rect x=\"141\" y=\"47\" width=\"2212\" height=\"1441\"/>\n",
       "  </clipPath>\n",
       "</defs>\n",
       "<polyline clip-path=\"url(#clip0002)\" style=\"stroke:#000000; stroke-width:2; stroke-opacity:0.1; fill:none\" points=\"\n",
       "  201.599,1487.47 201.599,47.2441 \n",
       "  \"/>\n",
       "<polyline clip-path=\"url(#clip0002)\" style=\"stroke:#000000; stroke-width:2; stroke-opacity:0.1; fill:none\" points=\"\n",
       "  769.149,1487.47 769.149,47.2441 \n",
       "  \"/>\n",
       "<polyline clip-path=\"url(#clip0002)\" style=\"stroke:#000000; stroke-width:2; stroke-opacity:0.1; fill:none\" points=\"\n",
       "  1336.7,1487.47 1336.7,47.2441 \n",
       "  \"/>\n",
       "<polyline clip-path=\"url(#clip0002)\" style=\"stroke:#000000; stroke-width:2; stroke-opacity:0.1; fill:none\" points=\"\n",
       "  1904.25,1487.47 1904.25,47.2441 \n",
       "  \"/>\n",
       "<polyline clip-path=\"url(#clip0002)\" style=\"stroke:#000000; stroke-width:2; stroke-opacity:0.1; fill:none\" points=\"\n",
       "  141.865,1449.69 2352.76,1449.69 \n",
       "  \"/>\n",
       "<polyline clip-path=\"url(#clip0002)\" style=\"stroke:#000000; stroke-width:2; stroke-opacity:0.1; fill:none\" points=\"\n",
       "  141.865,1241.2 2352.76,1241.2 \n",
       "  \"/>\n",
       "<polyline clip-path=\"url(#clip0002)\" style=\"stroke:#000000; stroke-width:2; stroke-opacity:0.1; fill:none\" points=\"\n",
       "  141.865,1032.71 2352.76,1032.71 \n",
       "  \"/>\n",
       "<polyline clip-path=\"url(#clip0002)\" style=\"stroke:#000000; stroke-width:2; stroke-opacity:0.1; fill:none\" points=\"\n",
       "  141.865,824.219 2352.76,824.219 \n",
       "  \"/>\n",
       "<polyline clip-path=\"url(#clip0002)\" style=\"stroke:#000000; stroke-width:2; stroke-opacity:0.1; fill:none\" points=\"\n",
       "  141.865,615.73 2352.76,615.73 \n",
       "  \"/>\n",
       "<polyline clip-path=\"url(#clip0002)\" style=\"stroke:#000000; stroke-width:2; stroke-opacity:0.1; fill:none\" points=\"\n",
       "  141.865,407.24 2352.76,407.24 \n",
       "  \"/>\n",
       "<polyline clip-path=\"url(#clip0002)\" style=\"stroke:#000000; stroke-width:2; stroke-opacity:0.1; fill:none\" points=\"\n",
       "  141.865,198.751 2352.76,198.751 \n",
       "  \"/>\n",
       "<polyline clip-path=\"url(#clip0000)\" style=\"stroke:#000000; stroke-width:4; stroke-opacity:1; fill:none\" points=\"\n",
       "  141.865,1487.47 2352.76,1487.47 \n",
       "  \"/>\n",
       "<polyline clip-path=\"url(#clip0000)\" style=\"stroke:#000000; stroke-width:4; stroke-opacity:1; fill:none\" points=\"\n",
       "  141.865,1487.47 141.865,47.2441 \n",
       "  \"/>\n",
       "<polyline clip-path=\"url(#clip0000)\" style=\"stroke:#000000; stroke-width:4; stroke-opacity:1; fill:none\" points=\"\n",
       "  201.599,1487.47 201.599,1470.19 \n",
       "  \"/>\n",
       "<polyline clip-path=\"url(#clip0000)\" style=\"stroke:#000000; stroke-width:4; stroke-opacity:1; fill:none\" points=\"\n",
       "  769.149,1487.47 769.149,1470.19 \n",
       "  \"/>\n",
       "<polyline clip-path=\"url(#clip0000)\" style=\"stroke:#000000; stroke-width:4; stroke-opacity:1; fill:none\" points=\"\n",
       "  1336.7,1487.47 1336.7,1470.19 \n",
       "  \"/>\n",
       "<polyline clip-path=\"url(#clip0000)\" style=\"stroke:#000000; stroke-width:4; stroke-opacity:1; fill:none\" points=\"\n",
       "  1904.25,1487.47 1904.25,1470.19 \n",
       "  \"/>\n",
       "<polyline clip-path=\"url(#clip0000)\" style=\"stroke:#000000; stroke-width:4; stroke-opacity:1; fill:none\" points=\"\n",
       "  141.865,1449.69 168.395,1449.69 \n",
       "  \"/>\n",
       "<polyline clip-path=\"url(#clip0000)\" style=\"stroke:#000000; stroke-width:4; stroke-opacity:1; fill:none\" points=\"\n",
       "  141.865,1241.2 168.395,1241.2 \n",
       "  \"/>\n",
       "<polyline clip-path=\"url(#clip0000)\" style=\"stroke:#000000; stroke-width:4; stroke-opacity:1; fill:none\" points=\"\n",
       "  141.865,1032.71 168.395,1032.71 \n",
       "  \"/>\n",
       "<polyline clip-path=\"url(#clip0000)\" style=\"stroke:#000000; stroke-width:4; stroke-opacity:1; fill:none\" points=\"\n",
       "  141.865,824.219 168.395,824.219 \n",
       "  \"/>\n",
       "<polyline clip-path=\"url(#clip0000)\" style=\"stroke:#000000; stroke-width:4; stroke-opacity:1; fill:none\" points=\"\n",
       "  141.865,615.73 168.395,615.73 \n",
       "  \"/>\n",
       "<polyline clip-path=\"url(#clip0000)\" style=\"stroke:#000000; stroke-width:4; stroke-opacity:1; fill:none\" points=\"\n",
       "  141.865,407.24 168.395,407.24 \n",
       "  \"/>\n",
       "<polyline clip-path=\"url(#clip0000)\" style=\"stroke:#000000; stroke-width:4; stroke-opacity:1; fill:none\" points=\"\n",
       "  141.865,198.751 168.395,198.751 \n",
       "  \"/>\n",
       "<g clip-path=\"url(#clip0000)\">\n",
       "<text style=\"fill:#000000; fill-opacity:1; font-family:Arial,Helvetica Neue,Helvetica,sans-serif; font-size:48px; text-anchor:middle;\" transform=\"rotate(0, 201.599, 1541.47)\" x=\"201.599\" y=\"1541.47\">0</text>\n",
       "</g>\n",
       "<g clip-path=\"url(#clip0000)\">\n",
       "<text style=\"fill:#000000; fill-opacity:1; font-family:Arial,Helvetica Neue,Helvetica,sans-serif; font-size:48px; text-anchor:middle;\" transform=\"rotate(0, 769.149, 1541.47)\" x=\"769.149\" y=\"1541.47\">200</text>\n",
       "</g>\n",
       "<g clip-path=\"url(#clip0000)\">\n",
       "<text style=\"fill:#000000; fill-opacity:1; font-family:Arial,Helvetica Neue,Helvetica,sans-serif; font-size:48px; text-anchor:middle;\" transform=\"rotate(0, 1336.7, 1541.47)\" x=\"1336.7\" y=\"1541.47\">400</text>\n",
       "</g>\n",
       "<g clip-path=\"url(#clip0000)\">\n",
       "<text style=\"fill:#000000; fill-opacity:1; font-family:Arial,Helvetica Neue,Helvetica,sans-serif; font-size:48px; text-anchor:middle;\" transform=\"rotate(0, 1904.25, 1541.47)\" x=\"1904.25\" y=\"1541.47\">600</text>\n",
       "</g>\n",
       "<g clip-path=\"url(#clip0000)\">\n",
       "<text style=\"fill:#000000; fill-opacity:1; font-family:Arial,Helvetica Neue,Helvetica,sans-serif; font-size:48px; text-anchor:end;\" transform=\"rotate(0, 117.865, 1467.19)\" x=\"117.865\" y=\"1467.19\">-1</text>\n",
       "</g>\n",
       "<g clip-path=\"url(#clip0000)\">\n",
       "<text style=\"fill:#000000; fill-opacity:1; font-family:Arial,Helvetica Neue,Helvetica,sans-serif; font-size:48px; text-anchor:end;\" transform=\"rotate(0, 117.865, 1258.7)\" x=\"117.865\" y=\"1258.7\">0</text>\n",
       "</g>\n",
       "<g clip-path=\"url(#clip0000)\">\n",
       "<text style=\"fill:#000000; fill-opacity:1; font-family:Arial,Helvetica Neue,Helvetica,sans-serif; font-size:48px; text-anchor:end;\" transform=\"rotate(0, 117.865, 1050.21)\" x=\"117.865\" y=\"1050.21\">1</text>\n",
       "</g>\n",
       "<g clip-path=\"url(#clip0000)\">\n",
       "<text style=\"fill:#000000; fill-opacity:1; font-family:Arial,Helvetica Neue,Helvetica,sans-serif; font-size:48px; text-anchor:end;\" transform=\"rotate(0, 117.865, 841.719)\" x=\"117.865\" y=\"841.719\">2</text>\n",
       "</g>\n",
       "<g clip-path=\"url(#clip0000)\">\n",
       "<text style=\"fill:#000000; fill-opacity:1; font-family:Arial,Helvetica Neue,Helvetica,sans-serif; font-size:48px; text-anchor:end;\" transform=\"rotate(0, 117.865, 633.23)\" x=\"117.865\" y=\"633.23\">3</text>\n",
       "</g>\n",
       "<g clip-path=\"url(#clip0000)\">\n",
       "<text style=\"fill:#000000; fill-opacity:1; font-family:Arial,Helvetica Neue,Helvetica,sans-serif; font-size:48px; text-anchor:end;\" transform=\"rotate(0, 117.865, 424.74)\" x=\"117.865\" y=\"424.74\">4</text>\n",
       "</g>\n",
       "<g clip-path=\"url(#clip0000)\">\n",
       "<text style=\"fill:#000000; fill-opacity:1; font-family:Arial,Helvetica Neue,Helvetica,sans-serif; font-size:48px; text-anchor:end;\" transform=\"rotate(0, 117.865, 216.251)\" x=\"117.865\" y=\"216.251\">5</text>\n",
       "</g>\n",
       "<polyline clip-path=\"url(#clip0002)\" style=\"stroke:#009af9; stroke-width:4; stroke-opacity:1; fill:none\" points=\"\n",
       "  204.437,1240.14 207.275,1239.27 210.112,1238.36 212.95,1236.66 215.788,1234.7 218.626,1232.57 221.463,1231.39 224.301,1231.44 227.139,1231.5 229.977,1231.68 \n",
       "  232.814,1232.45 235.652,1233.16 238.49,1233.55 241.328,1233.72 244.165,1234.86 247.003,1235.73 249.841,1235.99 252.679,1235.61 255.516,1338.64 258.354,1323.74 \n",
       "  261.192,1306.6 264.03,1291.49 266.867,1278.92 269.705,1270.12 272.543,1263.28 275.381,1257.96 278.218,1253.65 281.056,1250.16 283.894,1247.67 286.732,1247.75 \n",
       "  289.569,1245.05 292.407,1253.24 295.245,1250.59 298.083,1247.82 300.92,1245.49 303.758,1243.78 306.596,1243.78 309.434,1242.19 312.271,1240.86 315.109,1242.81 \n",
       "  317.947,1242.33 320.785,1241.05 323.622,1240.24 326.46,1239.71 329.298,1330.04 332.136,1339.86 334.973,1329.14 337.811,1313.86 340.649,1299.21 343.487,1286.2 \n",
       "  346.324,1427.87 349.162,1446.71 352,1433.69 354.838,1404.01 357.675,1373.22 360.513,1345.29 363.351,1322.97 366.189,1305.47 369.026,1291.76 371.864,1280.81 \n",
       "  374.702,1272.06 377.54,1265.02 380.377,1258.98 383.215,1254.01 386.053,1250.04 388.891,1246.74 391.728,1264.2 394.566,1274.28 397.404,1274.32 400.242,1269.41 \n",
       "  403.079,1326.99 405.917,1325.74 408.755,1312.01 411.593,1296.98 414.43,1283.98 417.268,1273.48 420.106,1265.13 422.944,1258.65 425.781,1254.29 428.619,1250.53 \n",
       "  431.457,1247.42 434.295,1245.78 437.132,1244.49 439.97,1242.41 442.808,1239.52 445.646,1237.6 448.483,1236.23 451.321,1235.92 454.159,1235.07 456.997,1234.66 \n",
       "  459.834,1234.5 462.672,1234.39 465.51,1234.08 468.348,1233.33 471.185,1232.32 474.023,1231.2 476.861,1236.84 479.699,1243.44 482.536,1243.33 485.374,1241.06 \n",
       "  488.212,1238.66 491.05,1236.8 493.887,1235.4 496.725,1234 499.563,1232.39 502.401,1231.03 505.238,1229.65 508.076,1228.75 510.914,1229.43 513.752,1228.92 \n",
       "  516.589,1228.8 519.427,1228.83 522.265,1228.93 525.103,1229.09 527.94,1229.16 530.778,1229.2 533.616,1228.69 536.454,1227.92 539.291,1235.55 542.129,1261.92 \n",
       "  544.967,1265.13 547.805,1258.87 550.642,1255.66 553.48,1250.31 556.318,1245.42 559.156,1243.41 561.993,1242.77 564.831,1239.46 567.669,1235.02 570.507,1230.94 \n",
       "  573.345,1228.18 576.182,1226.65 579.02,1225.83 581.858,1225.34 584.696,1225.13 587.533,1225.05 590.371,1225.16 593.209,1229.19 596.047,1243.7 598.884,1246.1 \n",
       "  601.722,1242.3 604.56,1237.01 607.398,1233.63 610.235,1230.17 613.073,1227.51 615.911,1225.64 618.749,1224.46 621.586,1233.51 624.424,1238.49 627.262,1236.74 \n",
       "  630.1,1231.6 632.937,1226.15 635.775,1221.14 638.613,1216.91 641.451,1214.26 644.288,1212.76 647.126,1212.03 649.964,1212.58 652.802,1212.62 655.639,1211.85 \n",
       "  658.477,1210.55 661.315,1208.65 664.153,1206.42 666.99,1205.22 669.828,1205.2 672.666,1203.92 675.504,1203.37 678.341,1204.32 681.179,1204.26 684.017,1203.64 \n",
       "  686.855,1202.34 689.692,1199.68 692.53,1197.37 695.368,1195.69 698.206,1194.32 701.043,1193.58 703.881,1193.22 706.719,1193.23 709.557,1193.54 712.394,1193.44 \n",
       "  715.232,1192.29 718.07,1190.78 720.908,1188.18 723.745,1185.49 726.583,1183.56 729.421,1182.63 732.259,1182.99 735.096,1183.25 737.934,1183.71 740.772,1183.99 \n",
       "  743.61,1183.39 746.447,1181.22 749.285,1177.92 752.123,1174.96 754.961,1173.28 757.798,1172.32 760.636,1172.67 763.474,1174.67 766.312,1193.56 769.149,1203.65 \n",
       "  771.987,1205.72 774.825,1198.83 777.663,1193.15 780.5,1187.29 783.338,1181.63 786.176,1176.7 789.014,1173.94 791.851,1176.1 794.689,1171.27 797.527,1169.07 \n",
       "  800.365,1170.39 803.202,1166.36 806.04,1160.18 808.878,1152.84 811.716,1145.32 814.553,1139.43 817.391,1134.35 820.229,1136.52 823.067,1144.84 825.904,1143.69 \n",
       "  828.742,1138.47 831.58,1133.41 834.418,1127.01 837.255,1118.99 840.093,1109.58 842.931,1101.65 845.769,1107.95 848.606,1132.44 851.444,1135.31 854.282,1124.55 \n",
       "  857.12,1112.61 859.957,1101.67 862.795,1091.46 865.633,1081.3 868.471,1071.53 871.308,1062.39 874.146,1054.96 876.984,1048.28 879.822,1044.17 882.659,1040.84 \n",
       "  885.497,1038.75 888.335,1036.98 891.173,1035.12 894.01,1032.88 896.848,1030.83 899.686,1027.3 902.524,1023.38 905.361,1018.37 908.199,1013.04 911.037,1008.1 \n",
       "  913.875,1005.45 916.712,1003.41 919.55,1001.15 922.388,998.584 925.226,995.685 928.063,992.375 930.901,987.889 933.739,982.379 936.577,976.483 939.414,970.616 \n",
       "  942.252,965.564 945.09,961.22 947.928,957.417 950.765,953.644 953.603,950.053 956.441,946.396 959.279,942.849 962.116,939.097 964.954,934.667 967.792,929.275 \n",
       "  970.63,923.989 973.467,918.446 976.305,913.61 979.143,908.864 981.981,904.816 984.818,901.284 987.656,897.973 990.494,894.461 993.332,890.574 996.169,886.14 \n",
       "  999.007,880.663 1001.84,874.652 1004.68,868.144 1007.52,861.864 1010.36,856.424 1013.2,851.93 1016.03,847.798 1018.87,843.911 1021.71,840.099 1024.55,835.937 \n",
       "  1027.38,831.072 1030.22,825.513 1033.06,820.054 1035.9,814.57 1038.74,809.101 1041.57,804.263 1044.41,799.662 1047.25,795.161 1050.09,790.485 1052.92,785.585 \n",
       "  1055.76,780.292 1058.6,774.122 1061.44,767.333 1064.28,760.339 1067.11,753.702 1069.95,747.599 1072.79,742.185 1075.63,737.019 1078.46,731.979 1081.3,727.138 \n",
       "  1084.14,722.28 1086.98,717.415 1089.82,712.257 1092.65,706.569 1095.49,700.433 1098.33,694.093 1101.17,688.011 1104,682.206 1106.84,676.989 1109.68,672.065 \n",
       "  1112.52,667.767 1115.35,663.729 1118.19,659.63 1121.03,655.43 1123.87,650.776 1126.71,645.493 1129.54,639.903 1132.38,633.897 1135.22,628.525 1138.06,623.935 \n",
       "  1140.89,619.837 1143.73,616.207 1146.57,612.581 1149.41,608.947 1152.25,604.89 1155.08,600.185 1157.92,594.878 1160.76,589.788 1163.6,584.863 1166.43,580.303 \n",
       "  1169.27,576.296 1172.11,572.481 1174.95,568.755 1177.79,564.866 1180.62,560.654 1183.46,555.816 1186.3,549.9 1189.14,544.206 1191.97,538.669 1194.81,533.95 \n",
       "  1197.65,529.432 1200.49,525.433 1203.33,521.574 1206.16,517.733 1209,513.718 1211.84,509.064 1214.68,503.623 1217.51,497.523 1220.35,492.232 1223.19,486.968 \n",
       "  1226.03,482.541 1228.86,478.709 1231.7,475.021 1234.54,471.408 1237.38,467.545 1240.22,463.04 1243.05,457.221 1245.89,451.485 1248.73,445.769 1251.57,440.778 \n",
       "  1254.4,436.581 1257.24,433.137 1260.08,429.746 1262.92,426.4 1265.76,422.97 1268.59,419.281 1271.43,414.949 1274.27,410.102 1277.11,405.322 1279.94,400.552 \n",
       "  1282.78,396.015 1285.62,392.05 1288.46,388.121 1291.3,384.487 1294.13,380.94 1296.97,377.368 1299.81,373.691 1302.65,369.482 1305.48,364.425 1308.32,358.912 \n",
       "  1311.16,353.772 1314,349.028 1316.84,344.888 1319.67,341.432 1322.51,338.405 1325.35,335.49 1328.19,332.365 1331.02,328.65 1333.86,323.999 1336.7,318.656 \n",
       "  1339.54,313.959 1342.37,309.365 1345.21,305.846 1348.05,302.942 1350.89,300.348 1353.73,297.812 1356.56,295.142 1359.4,292.045 1362.24,288.079 1365.08,283.768 \n",
       "  1367.91,279.254 1370.75,274.964 1373.59,271.31 1376.43,268.332 1379.27,265.669 1382.1,263.294 1384.94,260.988 1387.78,258.723 1390.62,256.365 1393.45,253.761 \n",
       "  1396.29,250.704 1399.13,246.807 1401.97,242.977 1404.81,239.085 1407.64,235.226 1410.48,232.163 1413.32,229.666 1416.16,227.436 1418.99,225.204 1421.83,222.912 \n",
       "  1424.67,220.317 1427.51,216.945 1430.35,212.927 1433.18,208.751 1436.02,205.112 1438.86,202.08 1441.7,199.819 1444.53,197.785 1447.37,195.878 1450.21,194.224 \n",
       "  1453.05,192.55 1455.88,190.897 1458.72,188.952 1461.56,186.467 1464.4,183.515 1467.24,180.332 1470.07,177.384 1472.91,174.661 1475.75,172.471 1478.59,170.546 \n",
       "  1481.42,169.2 1484.26,168.065 1487.1,166.795 1489.94,165.34 1492.78,163.346 1495.61,160.684 1498.45,157.688 1501.29,154.193 1504.13,151.417 1506.96,149.463 \n",
       "  1509.8,148.085 1512.64,147.285 1515.48,146.491 1518.32,145.808 1521.15,144.7 1523.99,142.89 1526.83,140.748 1529.67,138.686 1532.5,136.552 1535.34,134.924 \n",
       "  1538.18,133.674 1541.02,133.091 1543.86,132.706 1546.69,132.428 1549.53,132.084 1552.37,131.436 1555.21,130.074 1558.04,128.234 1560.88,126.653 1563.72,125.442 \n",
       "  1566.56,124.965 1569.39,125.07 1572.23,125.335 1575.07,125.852 1577.91,126.427 1580.75,126.995 1583.58,127.41 1586.42,127.426 1589.26,126.85 1592.1,125.732 \n",
       "  1594.93,124.702 1597.77,123.676 1600.61,122.933 1603.45,122.7 1606.29,122.731 1609.12,123.255 1611.96,123.878 1614.8,124.298 1617.64,124.47 1620.47,124.007 \n",
       "  1623.31,122.818 1626.15,121.246 1628.99,119.419 1631.83,118.513 1634.66,118.207 1637.5,118.522 1640.34,119.082 1643.18,119.823 1646.01,120.359 1648.85,120.312 \n",
       "  1651.69,119.613 1654.53,118.57 1657.37,117.713 1660.2,117.071 1663.04,116.852 1665.88,117.225 1668.72,117.777 1671.55,118.281 1674.39,118.691 1677.23,118.667 \n",
       "  1680.07,117.868 1682.9,116.413 1685.74,114.963 1688.58,113.797 1691.42,113.716 1694.26,113.812 1697.09,114.292 1699.93,115.022 1702.77,115.771 1705.61,116.144 \n",
       "  1708.44,115.712 1711.28,114.729 1714.12,113.263 1716.96,112.041 1719.8,111.531 1722.63,111.951 1725.47,112.234 1728.31,112.411 1731.15,112.504 1733.98,112.533 \n",
       "  1736.82,112.511 1739.66,112.449 1742.5,112.356 1745.34,112.24 1748.17,112.105 1751.01,111.956 1753.85,111.796 1756.69,111.628 1759.52,111.453 1762.36,111.274 \n",
       "  1765.2,111.091 1768.04,110.905 1770.88,110.718 1773.71,110.53 1776.55,110.341 1779.39,110.152 1782.23,109.962 1785.06,109.773 1787.9,109.584 1790.74,109.396 \n",
       "  1793.58,109.208 1796.41,109.021 1799.25,108.834 1802.09,108.649 1804.93,108.464 1807.77,108.28 1810.6,108.097 1813.44,107.914 1816.28,107.733 1819.12,107.553 \n",
       "  1821.95,107.373 1824.79,107.194 1827.63,107.017 1830.47,106.84 1833.31,106.664 1836.14,106.489 1838.98,106.315 1841.82,106.142 1844.66,105.969 1847.49,105.798 \n",
       "  1850.33,105.627 1853.17,105.458 1856.01,105.289 1858.85,105.121 1861.68,104.954 1864.52,104.788 1867.36,104.622 1870.2,104.458 1873.03,104.294 1875.87,104.131 \n",
       "  1878.71,103.969 1881.55,103.808 1884.39,103.648 1887.22,103.489 1890.06,103.33 1892.9,103.172 1895.74,103.016 1898.57,102.859 1901.41,102.704 1904.25,102.55 \n",
       "  1907.09,102.396 1909.92,102.243 1912.76,102.091 1915.6,101.94 1918.44,101.79 1921.28,101.64 1924.11,101.491 1926.95,101.343 1929.79,101.196 1932.63,101.049 \n",
       "  1935.46,100.904 1938.3,100.759 1941.14,100.614 1943.98,100.471 1946.82,100.328 1949.65,100.186 1952.49,100.045 1955.33,99.9047 1958.17,99.765 1961,99.6261 \n",
       "  1963.84,99.488 1966.68,99.3505 1969.52,99.2139 1972.36,99.0779 1975.19,98.9427 1978.03,98.8082 1980.87,98.6745 1983.71,98.5414 1986.54,98.4091 1989.38,98.2775 \n",
       "  1992.22,98.1466 1995.06,98.0164 1997.9,97.8869 2000.73,97.7581 2003.57,97.63 2006.41,97.5026 2009.25,97.376 2012.08,97.25 2014.92,97.1247 2017.76,97.0001 \n",
       "  2020.6,96.8761 2023.43,96.7529 2026.27,96.6304 2029.11,96.5085 2031.95,96.3874 2034.79,96.2669 2037.62,96.1471 2040.46,96.028 2043.3,95.9095 2046.14,95.7917 \n",
       "  2048.97,95.6746 2051.81,95.5582 2054.65,95.4424 2057.49,95.3273 2060.33,95.2128 2063.16,95.099 2066,94.9858 2068.84,94.8733 2071.68,94.7614 2074.51,94.6502 \n",
       "  2077.35,94.5396 2080.19,94.4296 2083.03,94.3203 2085.87,94.2117 2088.7,94.1036 2091.54,93.9962 2094.38,93.8895 2097.22,93.7834 2100.05,93.6779 2102.89,93.5731 \n",
       "  2105.73,93.4689 2108.57,93.3653 2111.41,93.2623 2114.24,93.16 2117.08,93.0583 2119.92,92.9572 2122.76,92.8567 2125.59,92.7568 2128.43,92.6576 2131.27,92.5589 \n",
       "  2134.11,92.4608 2136.94,92.3634 2139.78,92.2665 2142.62,92.1702 2145.46,92.0745 2148.3,91.9794 2151.13,91.8849 2153.97,91.7909 2156.81,91.6976 2159.65,91.6048 \n",
       "  2162.48,91.5126 2165.32,91.421 2168.16,91.3299 2171,91.2394 2173.84,91.1494 2176.67,91.06 2179.51,90.9711 2182.35,90.8828 2185.19,90.795 2188.02,90.7079 \n",
       "  2190.86,90.6213 2193.7,90.5355 2196.54,90.4502 2199.38,90.3657 2202.21,90.2819 2205.05,90.1988 2207.89,90.1164 2210.73,90.0347 2213.56,89.9537 2216.4,89.8734 \n",
       "  2219.24,89.7938 2222.08,89.7148 2224.92,89.6365 2227.75,89.5589 2230.59,89.4819 2233.43,89.4056 2236.27,89.3299 2239.1,89.2548 2241.94,89.1804 2244.78,89.1066 \n",
       "  2247.62,89.0334 2250.46,88.9608 2253.29,88.8888 2256.13,88.8174 2258.97,88.7466 2261.81,88.6764 2264.64,88.6067 2267.48,88.5377 2270.32,88.4692 2273.16,88.4012 \n",
       "  2275.99,88.3339 2278.83,88.2671 2281.67,88.2008 2284.51,88.1351 2287.35,88.0699 2290.18,88.0053 \n",
       "  \"/>\n",
       "<path clip-path=\"url(#clip0000)\" d=\"\n",
       "M1989.93 251.724 L2280.76 251.724 L2280.76 130.764 L1989.93 130.764  Z\n",
       "  \" fill=\"#ffffff\" fill-rule=\"evenodd\" fill-opacity=\"1\"/>\n",
       "<polyline clip-path=\"url(#clip0000)\" style=\"stroke:#000000; stroke-width:4; stroke-opacity:1; fill:none\" points=\"\n",
       "  1989.93,251.724 2280.76,251.724 2280.76,130.764 1989.93,130.764 1989.93,251.724 \n",
       "  \"/>\n",
       "<polyline clip-path=\"url(#clip0000)\" style=\"stroke:#009af9; stroke-width:4; stroke-opacity:1; fill:none\" points=\"\n",
       "  2013.93,191.244 2157.93,191.244 \n",
       "  \"/>\n",
       "<g clip-path=\"url(#clip0000)\">\n",
       "<text style=\"fill:#000000; fill-opacity:1; font-family:Arial,Helvetica Neue,Helvetica,sans-serif; font-size:48px; text-anchor:start;\" transform=\"rotate(0, 2181.93, 208.744)\" x=\"2181.93\" y=\"208.744\">y1</text>\n",
       "</g>\n",
       "</svg>\n"
      ]
     },
     "execution_count": 50,
     "metadata": {},
     "output_type": "execute_result"
    }
   ],
   "source": [
    "plot(DICEFARM[:co2_cycle, :T])"
   ]
  },
  {
   "cell_type": "code",
   "execution_count": 43,
   "metadata": {},
   "outputs": [
    {
     "name": "stderr",
     "output_type": "stream",
     "text": [
      "┌ Warning: interpolate(A, BSpline(Linear()), OnGrid()) is deprecated, use interpolate(A, BSpline(Linear()))\n",
      "│   caller = dice_interpolate(::Array{Float64,1}, ::Int64) at helpers.jl:61\n",
      "└ @ Main C:\\Users\\Kevin\\Documents\\GitHub\\DICEFARM\\src_annualized\\helpers.jl:61\n"
     ]
    },
    {
     "name": "stdout",
     "output_type": "stream",
     "text": [
      "Temp Diff is 0.478548840614458"
     ]
    },
    {
     "name": "stderr",
     "output_type": "stream",
     "text": [
      "┌ Warning: `getindex(itp::AbstractInterpolation{T, N}, i::Vararg{ExpandedIndexTypes, N}) where {T, N}` is deprecated, use `itp(i...)` instead.\n",
      "│   caller = dice_interpolate(::Array{Float64,1}, ::Int64) at helpers.jl:67\n",
      "└ @ Main C:\\Users\\Kevin\\Documents\\GitHub\\DICEFARM\\src_annualized\\helpers.jl:67\n"
     ]
    },
    {
     "name": "stdout",
     "output_type": "stream",
     "text": [
      "\n"
     ]
    }
   ],
   "source": [
    "using Plots\n",
    "include(\"ConsEquiv.jl\")\n",
    "include(\"DICEFARM_Annual.jl\")\n",
    "DICEFARM = create_dice_farm()\n",
    "run(DICEFARM)\n",
    "BaselineWelfare = DICEFARM"
   ]
  },
  {
   "cell_type": "code",
   "execution_count": 44,
   "metadata": {},
   "outputs": [
    {
     "data": {
      "text/plain": [
       "-10663.899033438993"
      ]
     },
     "execution_count": 44,
     "metadata": {},
     "output_type": "execute_result"
    }
   ],
   "source": [
    "VeganPulse[:welfare, :UTILITY]"
   ]
  },
  {
   "cell_type": "code",
   "execution_count": 48,
   "metadata": {},
   "outputs": [
    {
     "ename": "ArgumentError",
     "evalue": "ArgumentError: The interval [a,b] is not a bracketing interval.\nYou need f(a) and f(b) to have different signs (f(a) * f(b) < 0).\nConsider a different bracket or try fzero(f, c) with an initial guess c.\n\n",
     "output_type": "error",
     "traceback": [
      "ArgumentError: The interval [a,b] is not a bracketing interval.\nYou need f(a) and f(b) to have different signs (f(a) * f(b) < 0).\nConsider a different bracket or try fzero(f, c) with an initial guess c.\n\n",
      "",
      "Stacktrace:",
      " [1] init_state(::Bisection, ::Roots.DerivativeFree{var\"#f#183\"{Model,Float64}}, ::Tuple{Float64,Float64}) at C:\\Users\\Kevin\\.julia\\packages\\Roots\\J9LJJ\\src\\bracketing.jl:81",
      " [2] #find_zero#8(::Roots.NullTracks, ::Bool, ::Base.Iterators.Pairs{Union{},Union{},Tuple{},NamedTuple{(),Tuple{}}}, ::typeof(find_zero), ::Function, ::Tuple{Int64,Float64}, ::Bisection) at C:\\Users\\Kevin\\.julia\\packages\\Roots\\J9LJJ\\src\\bracketing.jl:319",
      " [3] find_zero at C:\\Users\\Kevin\\.julia\\packages\\Roots\\J9LJJ\\src\\bracketing.jl:316 [inlined]",
      " [4] ConsEquiv(::Model, ::Float64) at C:\\Users\\Kevin\\Documents\\GitHub\\DICEFARM\\src_annualized\\ConsEquiv.jl:9",
      " [5] top-level scope at In[48]:3"
     ]
    }
   ],
   "source": [
    "Baseline = create_dice_farm()\n",
    "W0= VeganDICE[:welfare, :UTILITY]\n",
    "SC = ConsEquiv(Baseline, W0)"
   ]
  },
  {
   "cell_type": "code",
   "execution_count": null,
   "metadata": {},
   "outputs": [],
   "source": []
  }
 ],
 "metadata": {
  "kernelspec": {
   "display_name": "Julia 1.3.0",
   "language": "julia",
   "name": "julia-1.3"
  },
  "language_info": {
   "file_extension": ".jl",
   "mimetype": "application/julia",
   "name": "julia",
   "version": "1.3.0"
  }
 },
 "nbformat": 4,
 "nbformat_minor": 2
}
