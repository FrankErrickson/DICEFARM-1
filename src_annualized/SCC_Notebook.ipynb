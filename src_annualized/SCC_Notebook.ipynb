{
 "cells": [
  {
   "cell_type": "markdown",
   "metadata": {},
   "source": [
    "First note that our peak temperature is low relative to Nordhaus BAU"
   ]
  },
  {
   "cell_type": "code",
   "execution_count": 1,
   "metadata": {},
   "outputs": [
    {
     "name": "stderr",
     "output_type": "stream",
     "text": [
      "┌ Warning: interpolate(A, BSpline(Linear()), OnGrid()) is deprecated, use interpolate(A, BSpline(Linear()))\n",
      "│   caller = dice_interpolate(::Array{Float64,1}, ::Int64) at helpers.jl:61\n",
      "└ @ Main C:\\Users\\Kevin\\Documents\\GitHub\\DICEFARM\\src_annualized\\helpers.jl:61\n",
      "┌ Warning: `getindex(itp::AbstractInterpolation{T, N}, i::Vararg{ExpandedIndexTypes, N}) where {T, N}` is deprecated, use `itp(i...)` instead.\n",
      "│   caller = dice_interpolate(::Array{Float64,1}, ::Int64) at helpers.jl:67\n",
      "└ @ Main C:\\Users\\Kevin\\Documents\\GitHub\\DICEFARM\\src_annualized\\helpers.jl:67\n"
     ]
    },
    {
     "data": {
      "image/svg+xml": [
       "<?xml version=\"1.0\" encoding=\"utf-8\"?>\n",
       "<svg xmlns=\"http://www.w3.org/2000/svg\" xmlns:xlink=\"http://www.w3.org/1999/xlink\" width=\"600\" height=\"400\" viewBox=\"0 0 2400 1600\">\n",
       "<defs>\n",
       "  <clipPath id=\"clip1900\">\n",
       "    <rect x=\"0\" y=\"0\" width=\"2400\" height=\"1600\"/>\n",
       "  </clipPath>\n",
       "</defs>\n",
       "<path clip-path=\"url(#clip1900)\" d=\"\n",
       "M0 1600 L2400 1600 L2400 0 L0 0  Z\n",
       "  \" fill=\"#ffffff\" fill-rule=\"evenodd\" fill-opacity=\"1\"/>\n",
       "<defs>\n",
       "  <clipPath id=\"clip1901\">\n",
       "    <rect x=\"480\" y=\"0\" width=\"1681\" height=\"1600\"/>\n",
       "  </clipPath>\n",
       "</defs>\n",
       "<path clip-path=\"url(#clip1900)\" d=\"\n",
       "M113.754 1487.47 L2352.76 1487.47 L2352.76 47.2441 L113.754 47.2441  Z\n",
       "  \" fill=\"#ffffff\" fill-rule=\"evenodd\" fill-opacity=\"1\"/>\n",
       "<defs>\n",
       "  <clipPath id=\"clip1902\">\n",
       "    <rect x=\"113\" y=\"47\" width=\"2240\" height=\"1441\"/>\n",
       "  </clipPath>\n",
       "</defs>\n",
       "<polyline clip-path=\"url(#clip1902)\" style=\"stroke:#000000; stroke-width:2; stroke-opacity:0.1; fill:none\" points=\"\n",
       "  172.722,1487.47 172.722,47.2441 \n",
       "  \"/>\n",
       "<polyline clip-path=\"url(#clip1902)\" style=\"stroke:#000000; stroke-width:2; stroke-opacity:0.1; fill:none\" points=\"\n",
       "  612.777,1487.47 612.777,47.2441 \n",
       "  \"/>\n",
       "<polyline clip-path=\"url(#clip1902)\" style=\"stroke:#000000; stroke-width:2; stroke-opacity:0.1; fill:none\" points=\"\n",
       "  1052.83,1487.47 1052.83,47.2441 \n",
       "  \"/>\n",
       "<polyline clip-path=\"url(#clip1902)\" style=\"stroke:#000000; stroke-width:2; stroke-opacity:0.1; fill:none\" points=\"\n",
       "  1492.89,1487.47 1492.89,47.2441 \n",
       "  \"/>\n",
       "<polyline clip-path=\"url(#clip1902)\" style=\"stroke:#000000; stroke-width:2; stroke-opacity:0.1; fill:none\" points=\"\n",
       "  1932.94,1487.47 1932.94,47.2441 \n",
       "  \"/>\n",
       "<polyline clip-path=\"url(#clip1902)\" style=\"stroke:#000000; stroke-width:2; stroke-opacity:0.1; fill:none\" points=\"\n",
       "  113.754,1194.08 2352.76,1194.08 \n",
       "  \"/>\n",
       "<polyline clip-path=\"url(#clip1902)\" style=\"stroke:#000000; stroke-width:2; stroke-opacity:0.1; fill:none\" points=\"\n",
       "  113.754,880.849 2352.76,880.849 \n",
       "  \"/>\n",
       "<polyline clip-path=\"url(#clip1902)\" style=\"stroke:#000000; stroke-width:2; stroke-opacity:0.1; fill:none\" points=\"\n",
       "  113.754,567.618 2352.76,567.618 \n",
       "  \"/>\n",
       "<polyline clip-path=\"url(#clip1902)\" style=\"stroke:#000000; stroke-width:2; stroke-opacity:0.1; fill:none\" points=\"\n",
       "  113.754,254.387 2352.76,254.387 \n",
       "  \"/>\n",
       "<polyline clip-path=\"url(#clip1900)\" style=\"stroke:#000000; stroke-width:4; stroke-opacity:1; fill:none\" points=\"\n",
       "  113.754,1487.47 2352.76,1487.47 \n",
       "  \"/>\n",
       "<polyline clip-path=\"url(#clip1900)\" style=\"stroke:#000000; stroke-width:4; stroke-opacity:1; fill:none\" points=\"\n",
       "  113.754,1487.47 113.754,47.2441 \n",
       "  \"/>\n",
       "<polyline clip-path=\"url(#clip1900)\" style=\"stroke:#000000; stroke-width:4; stroke-opacity:1; fill:none\" points=\"\n",
       "  172.722,1487.47 172.722,1470.19 \n",
       "  \"/>\n",
       "<polyline clip-path=\"url(#clip1900)\" style=\"stroke:#000000; stroke-width:4; stroke-opacity:1; fill:none\" points=\"\n",
       "  612.777,1487.47 612.777,1470.19 \n",
       "  \"/>\n",
       "<polyline clip-path=\"url(#clip1900)\" style=\"stroke:#000000; stroke-width:4; stroke-opacity:1; fill:none\" points=\"\n",
       "  1052.83,1487.47 1052.83,1470.19 \n",
       "  \"/>\n",
       "<polyline clip-path=\"url(#clip1900)\" style=\"stroke:#000000; stroke-width:4; stroke-opacity:1; fill:none\" points=\"\n",
       "  1492.89,1487.47 1492.89,1470.19 \n",
       "  \"/>\n",
       "<polyline clip-path=\"url(#clip1900)\" style=\"stroke:#000000; stroke-width:4; stroke-opacity:1; fill:none\" points=\"\n",
       "  1932.94,1487.47 1932.94,1470.19 \n",
       "  \"/>\n",
       "<polyline clip-path=\"url(#clip1900)\" style=\"stroke:#000000; stroke-width:4; stroke-opacity:1; fill:none\" points=\"\n",
       "  113.754,1194.08 140.622,1194.08 \n",
       "  \"/>\n",
       "<polyline clip-path=\"url(#clip1900)\" style=\"stroke:#000000; stroke-width:4; stroke-opacity:1; fill:none\" points=\"\n",
       "  113.754,880.849 140.622,880.849 \n",
       "  \"/>\n",
       "<polyline clip-path=\"url(#clip1900)\" style=\"stroke:#000000; stroke-width:4; stroke-opacity:1; fill:none\" points=\"\n",
       "  113.754,567.618 140.622,567.618 \n",
       "  \"/>\n",
       "<polyline clip-path=\"url(#clip1900)\" style=\"stroke:#000000; stroke-width:4; stroke-opacity:1; fill:none\" points=\"\n",
       "  113.754,254.387 140.622,254.387 \n",
       "  \"/>\n",
       "<g clip-path=\"url(#clip1900)\">\n",
       "<text style=\"fill:#000000; fill-opacity:1; font-family:Arial,Helvetica Neue,Helvetica,sans-serif; font-size:48px; text-anchor:middle;\" transform=\"rotate(0, 172.722, 1541.47)\" x=\"172.722\" y=\"1541.47\">0</text>\n",
       "</g>\n",
       "<g clip-path=\"url(#clip1900)\">\n",
       "<text style=\"fill:#000000; fill-opacity:1; font-family:Arial,Helvetica Neue,Helvetica,sans-serif; font-size:48px; text-anchor:middle;\" transform=\"rotate(0, 612.777, 1541.47)\" x=\"612.777\" y=\"1541.47\">100</text>\n",
       "</g>\n",
       "<g clip-path=\"url(#clip1900)\">\n",
       "<text style=\"fill:#000000; fill-opacity:1; font-family:Arial,Helvetica Neue,Helvetica,sans-serif; font-size:48px; text-anchor:middle;\" transform=\"rotate(0, 1052.83, 1541.47)\" x=\"1052.83\" y=\"1541.47\">200</text>\n",
       "</g>\n",
       "<g clip-path=\"url(#clip1900)\">\n",
       "<text style=\"fill:#000000; fill-opacity:1; font-family:Arial,Helvetica Neue,Helvetica,sans-serif; font-size:48px; text-anchor:middle;\" transform=\"rotate(0, 1492.89, 1541.47)\" x=\"1492.89\" y=\"1541.47\">300</text>\n",
       "</g>\n",
       "<g clip-path=\"url(#clip1900)\">\n",
       "<text style=\"fill:#000000; fill-opacity:1; font-family:Arial,Helvetica Neue,Helvetica,sans-serif; font-size:48px; text-anchor:middle;\" transform=\"rotate(0, 1932.94, 1541.47)\" x=\"1932.94\" y=\"1541.47\">400</text>\n",
       "</g>\n",
       "<g clip-path=\"url(#clip1900)\">\n",
       "<text style=\"fill:#000000; fill-opacity:1; font-family:Arial,Helvetica Neue,Helvetica,sans-serif; font-size:48px; text-anchor:end;\" transform=\"rotate(0, 89.7545, 1211.58)\" x=\"89.7545\" y=\"1211.58\">2</text>\n",
       "</g>\n",
       "<g clip-path=\"url(#clip1900)\">\n",
       "<text style=\"fill:#000000; fill-opacity:1; font-family:Arial,Helvetica Neue,Helvetica,sans-serif; font-size:48px; text-anchor:end;\" transform=\"rotate(0, 89.7545, 898.349)\" x=\"89.7545\" y=\"898.349\">3</text>\n",
       "</g>\n",
       "<g clip-path=\"url(#clip1900)\">\n",
       "<text style=\"fill:#000000; fill-opacity:1; font-family:Arial,Helvetica Neue,Helvetica,sans-serif; font-size:48px; text-anchor:end;\" transform=\"rotate(0, 89.7545, 585.118)\" x=\"89.7545\" y=\"585.118\">4</text>\n",
       "</g>\n",
       "<g clip-path=\"url(#clip1900)\">\n",
       "<text style=\"fill:#000000; fill-opacity:1; font-family:Arial,Helvetica Neue,Helvetica,sans-serif; font-size:48px; text-anchor:end;\" transform=\"rotate(0, 89.7545, 271.887)\" x=\"89.7545\" y=\"271.887\">5</text>\n",
       "</g>\n",
       "<polyline clip-path=\"url(#clip1902)\" style=\"stroke:#009af9; stroke-width:4; stroke-opacity:1; fill:none\" points=\"\n",
       "  177.122,1446.71 181.523,1439.98 185.924,1431.7 190.324,1422.84 194.725,1414.02 199.125,1406.43 203.526,1399.91 207.926,1394.19 212.327,1388.52 216.727,1383.13 \n",
       "  221.128,1377.64 225.529,1372.31 229.929,1366.67 234.33,1360.01 238.73,1351.91 243.131,1343.97 247.531,1335.64 251.932,1328.38 256.332,1321.25 260.733,1315.17 \n",
       "  265.133,1309.86 269.534,1304.89 273.935,1299.61 278.335,1293.77 282.736,1287.11 287.136,1278.88 291.537,1269.85 295.937,1260.07 300.338,1250.64 304.738,1242.46 \n",
       "  309.139,1235.71 313.54,1229.5 317.94,1223.66 322.341,1217.94 326.741,1211.68 331.142,1204.38 335.542,1196.02 339.943,1187.82 344.343,1179.58 348.744,1171.37 \n",
       "  353.145,1164.1 357.545,1157.18 361.946,1150.42 366.346,1143.4 370.747,1136.04 375.147,1128.09 379.548,1118.81 383.948,1108.62 388.349,1098.11 392.75,1088.14 \n",
       "  397.15,1078.97 401.551,1070.83 405.951,1063.07 410.352,1055.5 414.752,1048.23 419.153,1040.93 423.553,1033.62 427.954,1025.87 432.355,1017.32 436.755,1008.1 \n",
       "  441.156,998.58 445.556,989.442 449.957,980.721 454.357,972.884 458.758,965.486 463.158,959.028 467.559,952.962 471.959,946.804 476.36,940.494 480.761,933.502 \n",
       "  485.161,925.565 489.562,917.167 493.962,908.143 498.363,900.073 502.763,893.177 507.164,887.02 511.564,881.566 515.965,876.118 520.366,870.659 524.766,864.563 \n",
       "  529.167,857.495 533.567,849.521 537.968,841.874 542.368,834.475 546.769,827.624 551.169,821.605 555.57,815.873 559.971,810.275 564.371,804.433 568.772,798.105 \n",
       "  573.172,790.836 577.573,781.948 581.973,773.393 586.374,765.075 590.774,757.984 595.175,751.197 599.576,745.189 603.976,739.392 608.377,733.62 612.777,727.589 \n",
       "  617.178,720.596 621.578,712.422 625.979,703.258 630.379,695.308 634.78,687.4 639.181,680.749 643.581,674.991 647.982,669.45 652.382,664.023 656.783,658.219 \n",
       "  661.183,651.451 665.584,642.708 669.984,634.091 674.385,625.504 678.785,618.005 683.186,611.699 687.587,606.525 691.987,601.43 696.388,596.403 700.788,591.25 \n",
       "  705.189,585.708 709.589,579.2 713.99,571.918 718.39,564.736 722.791,557.569 727.192,550.754 731.592,544.796 735.993,538.894 740.393,533.435 744.794,528.105 \n",
       "  749.194,522.739 753.595,517.215 757.995,510.891 762.396,503.294 766.797,495.01 771.197,487.289 775.598,480.16 779.998,473.941 784.399,468.749 788.799,464.201 \n",
       "  793.2,459.823 797.6,455.126 802.001,449.546 806.402,442.558 810.802,434.531 815.203,427.474 819.603,420.572 824.004,415.285 828.404,410.922 832.805,407.025 \n",
       "  837.205,403.215 841.606,399.204 846.007,394.551 850.407,388.592 854.808,382.116 859.208,375.334 863.609,368.889 868.009,363.399 872.41,358.924 876.81,354.924 \n",
       "  881.211,351.356 885.611,347.892 890.012,344.488 894.413,340.946 898.813,337.033 903.214,332.441 907.614,326.587 912.015,320.832 916.415,314.985 920.816,309.187 \n",
       "  925.216,304.585 929.617,300.833 934.018,297.484 938.418,294.13 942.819,290.687 947.219,286.788 951.62,281.722 956.02,275.685 960.421,269.412 964.821,263.945 \n",
       "  969.222,259.39 973.623,255.992 978.023,252.937 982.424,250.071 986.824,247.586 991.225,245.072 995.625,242.588 1000.03,239.665 1004.43,235.932 1008.83,231.497 \n",
       "  1013.23,226.716 1017.63,222.286 1022.03,218.195 1026.43,214.905 1030.83,212.013 1035.23,209.991 1039.63,208.285 1044.03,206.378 1048.43,204.191 1052.83,201.196 \n",
       "  1057.23,197.196 1061.63,192.695 1066.03,187.444 1070.43,183.273 1074.84,180.338 1079.24,178.267 1083.64,177.067 1088.04,175.873 1092.44,174.847 1096.84,173.182 \n",
       "  1101.24,170.463 1105.64,167.246 1110.04,164.147 1114.44,160.941 1118.84,158.495 1123.24,156.617 1127.64,155.741 1132.04,155.163 1136.44,154.745 1140.84,154.228 \n",
       "  1145.24,153.255 1149.64,151.209 1154.05,148.445 1158.45,146.069 1162.85,144.249 1167.25,143.533 1171.65,143.691 1176.05,144.089 1180.45,144.865 1184.85,145.73 \n",
       "  1189.25,146.583 1193.65,147.206 1198.05,147.231 1202.45,146.365 1206.85,144.685 1211.25,143.138 1215.65,141.596 1220.05,140.48 1224.45,140.13 1228.85,140.177 \n",
       "  1233.26,140.964 1237.66,141.9 1242.06,142.531 1246.46,142.789 1250.86,142.093 1255.26,140.307 1259.66,137.946 1264.06,135.201 1268.46,133.84 1272.86,133.38 \n",
       "  1277.26,133.853 1281.66,134.695 1286.06,135.808 1290.46,136.613 1294.86,136.543 1299.26,135.491 1303.66,133.925 1308.06,132.638 1312.47,131.673 1316.87,131.344 \n",
       "  1321.27,131.905 1325.67,132.734 1330.07,133.491 1334.47,134.106 1338.87,134.071 1343.27,132.87 1347.67,130.685 1352.07,128.506 1356.47,126.754 1360.87,126.633 \n",
       "  1365.27,126.776 1369.67,127.497 1374.07,128.595 1378.47,129.72 1382.87,130.28 1387.27,129.631 1391.68,128.154 1396.08,125.952 1400.48,124.117 1404.88,123.35 \n",
       "  1409.28,123.981 1413.68,124.406 1418.08,124.672 1422.48,124.812 1426.88,124.855 1431.28,124.822 1435.68,124.729 1440.08,124.59 1444.48,124.415 1448.88,124.212 \n",
       "  1453.28,123.988 1457.68,123.748 1462.08,123.495 1466.48,123.233 1470.89,122.963 1475.29,122.688 1479.69,122.41 1484.09,122.129 1488.49,121.846 1492.89,121.562 \n",
       "  1497.29,121.277 1501.69,120.993 1506.09,120.709 1510.49,120.425 1514.89,120.142 1519.29,119.86 1523.69,119.578 1528.09,119.298 1532.49,119.019 1536.89,118.742 \n",
       "  1541.29,118.465 1545.69,118.19 1550.1,117.916 1554.5,117.644 1558.9,117.373 1563.3,117.103 1567.7,116.835 1572.1,116.568 1576.5,116.302 1580.9,116.038 \n",
       "  1585.3,115.775 1589.7,115.513 1594.1,115.253 1598.5,114.994 1602.9,114.736 1607.3,114.48 1611.7,114.225 1616.1,113.972 1620.5,113.719 1624.9,113.468 \n",
       "  1629.3,113.219 1633.71,112.97 1638.11,112.723 1642.51,112.477 1646.91,112.233 1651.31,111.989 1655.71,111.747 1660.11,111.507 1664.51,111.267 1668.91,111.029 \n",
       "  1673.31,110.792 1677.71,110.556 1682.11,110.322 1686.51,110.089 1690.91,109.857 1695.31,109.626 1699.71,109.396 1704.11,109.168 1708.51,108.941 1712.92,108.715 \n",
       "  1717.32,108.49 1721.72,108.266 1726.12,108.044 1730.52,107.823 1734.92,107.602 1739.32,107.383 1743.72,107.166 1748.12,106.949 1752.52,106.733 1756.92,106.519 \n",
       "  1761.32,106.306 1765.72,106.094 1770.12,105.883 1774.52,105.673 1778.92,105.464 1783.32,105.257 1787.72,105.05 1792.13,104.845 1796.53,104.641 1800.93,104.437 \n",
       "  1805.33,104.235 1809.73,104.034 1814.13,103.835 1818.53,103.636 1822.93,103.438 1827.33,103.241 1831.73,103.046 1836.13,102.851 1840.53,102.658 1844.93,102.465 \n",
       "  1849.33,102.274 1853.73,102.084 1858.13,101.894 1862.53,101.706 1866.93,101.519 1871.34,101.333 1875.74,101.148 1880.14,100.963 1884.54,100.78 1888.94,100.598 \n",
       "  1893.34,100.417 1897.74,100.237 1902.14,100.058 1906.54,99.8805 1910.94,99.7035 1915.34,99.5275 1919.74,99.3526 1924.14,99.1786 1928.54,99.0057 1932.94,98.8337 \n",
       "  1937.34,98.6627 1941.74,98.4926 1946.14,98.3236 1950.55,98.1555 1954.95,97.9884 1959.35,97.8222 1963.75,97.6571 1968.15,97.4928 1972.55,97.3296 1976.95,97.1673 \n",
       "  1981.35,97.006 1985.75,96.8456 1990.15,96.6862 1994.55,96.5277 1998.95,96.3702 2003.35,96.2137 2007.75,96.0581 2012.15,95.9034 2016.55,95.7496 2020.95,95.5968 \n",
       "  2025.35,95.4449 2029.76,95.2939 2034.16,95.1439 2038.56,94.9947 2042.96,94.8465 2047.36,94.6992 2051.76,94.5527 2056.16,94.4072 2060.56,94.2626 2064.96,94.1188 \n",
       "  2069.36,93.9759 2073.76,93.8339 2078.16,93.6928 2082.56,93.5525 2086.96,93.4131 2091.36,93.2746 2095.76,93.1369 2100.16,93.0001 2104.56,92.8641 2108.97,92.729 \n",
       "  2113.37,92.5946 2117.77,92.4611 2122.17,92.3284 2126.57,92.1965 2130.97,92.0656 2135.37,91.9356 2139.77,91.8065 2144.17,91.6785 2148.57,91.5516 2152.97,91.4257 \n",
       "  2157.37,91.3008 2161.77,91.177 2166.17,91.0543 2170.57,90.9326 2174.97,90.8119 2179.37,90.6922 2183.77,90.5736 2188.18,90.456 2192.58,90.3393 2196.98,90.2237 \n",
       "  2201.38,90.109 2205.78,89.9953 2210.18,89.8825 2214.58,89.7707 2218.98,89.6598 2223.38,89.5498 2227.78,89.4408 2232.18,89.3326 2236.58,89.2254 2240.98,89.119 \n",
       "  2245.38,89.0135 2249.78,88.9089 2254.18,88.8051 2258.58,88.7022 2262.98,88.6001 2267.39,88.4989 2271.79,88.3985 2276.19,88.299 2280.59,88.2003 2284.99,88.1024 \n",
       "  2289.39,88.0053 \n",
       "  \"/>\n",
       "<path clip-path=\"url(#clip1900)\" d=\"\n",
       "M1989.93 251.724 L2280.76 251.724 L2280.76 130.764 L1989.93 130.764  Z\n",
       "  \" fill=\"#ffffff\" fill-rule=\"evenodd\" fill-opacity=\"1\"/>\n",
       "<polyline clip-path=\"url(#clip1900)\" style=\"stroke:#000000; stroke-width:4; stroke-opacity:1; fill:none\" points=\"\n",
       "  1989.93,251.724 2280.76,251.724 2280.76,130.764 1989.93,130.764 1989.93,251.724 \n",
       "  \"/>\n",
       "<polyline clip-path=\"url(#clip1900)\" style=\"stroke:#009af9; stroke-width:4; stroke-opacity:1; fill:none\" points=\"\n",
       "  2013.93,191.244 2157.93,191.244 \n",
       "  \"/>\n",
       "<g clip-path=\"url(#clip1900)\">\n",
       "<text style=\"fill:#000000; fill-opacity:1; font-family:Arial,Helvetica Neue,Helvetica,sans-serif; font-size:48px; text-anchor:start;\" transform=\"rotate(0, 2181.93, 208.744)\" x=\"2181.93\" y=\"208.744\">y1</text>\n",
       "</g>\n",
       "</svg>\n"
      ]
     },
     "execution_count": 1,
     "metadata": {},
     "output_type": "execute_result"
    }
   ],
   "source": [
    "using Plots\n",
    "include(\"DICEFARM_annual.jl\")\n",
    "m = create_dice_farm()\n",
    "run(m)\n",
    "TwentyTwenty = 2020-1764\n",
    "plot(m[:co2_cycle, :T][TwentyTwenty:end])"
   ]
  },
  {
   "cell_type": "markdown",
   "metadata": {},
   "source": [
    "Now I'll compute the SCC as Nordhaus does: change in welfare from an emissions pulse in 2020 divided by change in welfare from a dollar increase in consumption. In other words: how many dollar changes equals the welfare change from the emissions pulse."
   ]
  },
  {
   "cell_type": "code",
   "execution_count": 31,
   "metadata": {},
   "outputs": [
    {
     "name": "stdout",
     "output_type": "stream",
     "text": [
      "Estimated SCC in our model is 26.490909090909092 using a Consumption Equivalent Losses Methodology\n"
     ]
    }
   ],
   "source": [
    "Baseline = create_dice_farm()\n",
    "run(Baseline)\n",
    "W0 = Baseline[:welfare, :UTILITY]\n",
    "\n",
    "MargCons = create_dice_farm()\n",
    "set_param!(MargCons, :neteconomy, :CEQ, 1e-9)  #drop cons by 1000 globally (1e-9 trillions)\n",
    "run(MargCons)\n",
    "W1 = MargCons[:welfare, :UTILITY]\n",
    "dWdC = W0 - W1  #per thousand dollars\n",
    "\n",
    "#hit with CO2 pulse of 1000 tonnes\n",
    "MargCO2 = create_dice_farm()\n",
    "pulse = zeros(length(MargCons[:emissions, :CO2Marg]))\n",
    "pulse[6] = 1e-6  #thousand tons is 1e-6 gigatonnes; period 6 is 2020 for this variable\n",
    "set_param!(MargCO2, :emissions, :CO2Marg, pulse)\n",
    "run(MargCO2)\n",
    "dWdE = W0 - MargCO2[:welfare, :UTILITY]\n",
    "SCC = dWdE/dWdC  #Since both are scaled by 1000 (1000 dollars and 1000 tonnes this should be right)\n",
    "println(\"Estimated SCC in our model is $SCC using a Consumption Equivalent Losses Methodology\")"
   ]
  },
  {
   "cell_type": "markdown",
   "metadata": {},
   "source": [
    "Ok now let me try it by computing discounted consumption losses"
   ]
  },
  {
   "cell_type": "code",
   "execution_count": 35,
   "metadata": {},
   "outputs": [
    {
     "name": "stdout",
     "output_type": "stream",
     "text": [
      "The SCC using a sum of discounted consumption is 75.00489959970234\n"
     ]
    }
   ],
   "source": [
    "ConsBaseline = 1e12*Baseline[:neteconomy, :C]\n",
    "ConsCO2Pulse = 1e12*MargCO2[:neteconomy, :C]    #Model with 1000 tonne pulse of CO2\n",
    "DCons = ConsBaseline[2020-1764:end]-ConsCO2Pulse[2020-1764:end]\n",
    "d = .026 #discount rate (eyeballed from PNAS 2017 paper)\n",
    "rr = ones(length(DCons))\n",
    "for i = 2:length(rr)\n",
    "   rr[i] = rr[i-1]*(1-d) \n",
    "end\n",
    "DCons\n",
    "SCC2 = sum(rr.*DCons)/1000  #Hit the model with a 1000 tonne pulse to make sure it picked up the dynamics\n",
    "println(\"The SCC using a sum of discounted consumption is $SCC2\")"
   ]
  },
  {
   "cell_type": "code",
   "execution_count": 37,
   "metadata": {},
   "outputs": [
    {
     "ename": "ArgumentError",
     "evalue": "ArgumentError: Package MimiDICE2016 not found in current path:\n- Run `import Pkg; Pkg.add(\"MimiDICE2016\")` to install the MimiDICE2016 package.\n",
     "output_type": "error",
     "traceback": [
      "ArgumentError: Package MimiDICE2016 not found in current path:\n- Run `import Pkg; Pkg.add(\"MimiDICE2016\")` to install the MimiDICE2016 package.\n",
      "",
      "Stacktrace:",
      " [1] require(::Module, ::Symbol) at .\\loading.jl:887",
      " [2] top-level scope at In[37]:1"
     ]
    }
   ],
   "source": [
    "using MimiDICE2016"
   ]
  },
  {
   "cell_type": "code",
   "execution_count": null,
   "metadata": {},
   "outputs": [],
   "source": []
  }
 ],
 "metadata": {
  "kernelspec": {
   "display_name": "Julia 1.3.0",
   "language": "julia",
   "name": "julia-1.3"
  },
  "language_info": {
   "file_extension": ".jl",
   "mimetype": "application/julia",
   "name": "julia",
   "version": "1.3.0"
  }
 },
 "nbformat": 4,
 "nbformat_minor": 2
}
