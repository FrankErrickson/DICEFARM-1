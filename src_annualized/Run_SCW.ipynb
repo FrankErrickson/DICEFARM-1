{
 "cells": [
  {
   "cell_type": "code",
   "execution_count": 30,
   "metadata": {},
   "outputs": [
    {
     "name": "stderr",
     "output_type": "stream",
     "text": [
      "┌ Warning: interpolate(A, BSpline(Linear()), OnGrid()) is deprecated, use interpolate(A, BSpline(Linear()))\n",
      "│   caller = dice_interpolate(::Array{Float64,1}, ::Int64) at helpers.jl:61\n",
      "└ @ Main C:\\Users\\Kevin\\Documents\\GitHub\\DICEFARM\\src_annualized\\helpers.jl:61\n"
     ]
    },
    {
     "name": "stdout",
     "output_type": "stream",
     "text": [
      "Ran once\n"
     ]
    },
    {
     "name": "stderr",
     "output_type": "stream",
     "text": [
      "┌ Warning: `getindex(itp::AbstractInterpolation{T, N}, i::Vararg{ExpandedIndexTypes, N}) where {T, N}` is deprecated, use `itp(i...)` instead.\n",
      "│   caller = dice_interpolate(::Array{Float64,1}, ::Int64) at helpers.jl:67\n",
      "└ @ Main C:\\Users\\Kevin\\Documents\\GitHub\\DICEFARM\\src_annualized\\helpers.jl:67\n"
     ]
    },
    {
     "name": "stdout",
     "output_type": "stream",
     "text": [
      "Costs of Non-Veg in Baseline are 122893.85520361991\n",
      "Costs of Beef in Baseline are 54.52488687782805\n",
      "Costs of Pork in Baseline are 31.739819004524886\n",
      "Costs of Poultry in Baseline are 314.99095022624437\n"
     ]
    },
    {
     "name": "stderr",
     "output_type": "stream",
     "text": [
      "┌ Warning: interpolate(A, BSpline(Linear()), OnGrid()) is deprecated, use interpolate(A, BSpline(Linear()))\n",
      "│   caller = dice_interpolate(::Array{Float64,1}, ::Int64) at helpers.jl:61\n",
      "└ @ Main C:\\Users\\Kevin\\Documents\\GitHub\\DICEFARM\\src_annualized\\helpers.jl:61\n",
      "┌ Warning: `getindex(itp::AbstractInterpolation{T, N}, i::Vararg{ExpandedIndexTypes, N}) where {T, N}` is deprecated, use `itp(i...)` instead.\n",
      "│   caller = dice_interpolate(::Array{Float64,1}, ::Int64) at helpers.jl:67\n",
      "└ @ Main C:\\Users\\Kevin\\Documents\\GitHub\\DICEFARM\\src_annualized\\helpers.jl:67\n"
     ]
    },
    {
     "name": "stdout",
     "output_type": "stream",
     "text": [
      "Optimal Vegetarian Reduction is [0.7135925292755159]\n",
      "Reduce Beef by 1.0\n",
      "Reduce Chicken by 1.0\n",
      "Reduce Pork by 0.012817808750482254\n",
      "Starting again for heatmap\n",
      "Starting again for heatmap\n",
      "Starting again for heatmap\n",
      "Starting again for heatmap\n",
      "Starting again for heatmap\n",
      "Starting again for heatmap\n",
      "Starting again for heatmap\n",
      "Starting again for heatmap\n",
      "Starting again for heatmap\n",
      "Starting again for heatmap\n",
      "Starting again for heatmap\n",
      "Starting again for heatmap\n",
      "Starting again for heatmap\n",
      "Starting again for heatmap\n",
      "Starting again for heatmap\n",
      "Starting again for heatmap\n",
      "Starting again for heatmap\n",
      "Starting again for heatmap\n",
      "Starting again for heatmap\n",
      "Starting again for heatmap\n",
      "Starting again for heatmap\n",
      "Starting again for heatmap\n",
      "Starting again for heatmap\n",
      "Starting again for heatmap\n",
      "Starting again for heatmap\n",
      "Starting again for heatmap\n",
      "Starting again for heatmap\n",
      "Starting again for heatmap\n",
      "Starting again for heatmap\n",
      "Starting again for heatmap\n",
      "Starting again for heatmap\n",
      "Starting again for heatmap\n",
      "Starting again for heatmap\n",
      "Starting again for heatmap\n",
      "Starting again for heatmap\n",
      "Starting again for heatmap\n",
      "Starting again for heatmap\n",
      "Starting again for heatmap\n",
      "Starting again for heatmap\n",
      "Starting again for heatmap\n",
      "Starting again for heatmap\n",
      "Starting again for heatmap\n",
      "Starting again for heatmap\n",
      "Starting again for heatmap\n",
      "Starting again for heatmap\n",
      "Starting again for heatmap\n",
      "Starting again for heatmap\n",
      "Starting again for heatmap\n",
      "Starting again for heatmap\n",
      "Starting again for heatmap\n",
      "Starting again for heatmap\n",
      "Starting again for heatmap\n",
      "Starting again for heatmap\n",
      "Starting again for heatmap\n",
      "Starting again for heatmap\n",
      "Starting again for heatmap\n",
      "Starting again for heatmap\n",
      "Starting again for heatmap\n",
      "Starting again for heatmap\n",
      "Starting again for heatmap\n",
      "Starting again for heatmap\n",
      "Starting again for heatmap\n",
      "Starting again for heatmap\n",
      "Starting again for heatmap\n",
      "Starting again for heatmap\n",
      "Starting again for heatmap\n",
      "Starting again for heatmap\n",
      "Starting again for heatmap\n",
      "Starting again for heatmap\n",
      "Starting again for heatmap\n",
      "Starting again for heatmap\n",
      "Starting again for heatmap\n",
      "Starting again for heatmap\n",
      "Starting again for heatmap\n",
      "Starting again for heatmap\n",
      "Starting again for heatmap\n",
      "Starting again for heatmap\n",
      "Starting again for heatmap\n",
      "Starting again for heatmap\n",
      "Starting again for heatmap\n",
      "Starting again for heatmap\n",
      "Starting again for heatmap\n",
      "Starting again for heatmap\n",
      "Starting again for heatmap\n",
      "Starting again for heatmap\n",
      "Starting again for heatmap\n",
      "Starting again for heatmap\n",
      "Starting again for heatmap\n",
      "Starting again for heatmap\n",
      "Starting again for heatmap\n",
      "Starting again for heatmap\n",
      "Starting again for heatmap\n",
      "Starting again for heatmap\n",
      "Starting again for heatmap\n",
      "Starting again for heatmap\n",
      "Starting again for heatmap\n",
      "Starting again for heatmap\n",
      "Starting again for heatmap\n",
      "Starting again for heatmap\n",
      "Starting again for heatmap\n",
      "Starting again for heatmap\n",
      "Starting again for heatmap\n",
      "Starting again for heatmap\n",
      "Starting again for heatmap\n",
      "Starting again for heatmap\n",
      "Starting again for heatmap\n",
      "Starting again for heatmap\n",
      "Starting again for heatmap\n",
      "Starting again for heatmap\n",
      "Starting again for heatmap\n",
      "Starting again for heatmap\n",
      "Starting again for heatmap\n",
      "Starting again for heatmap\n",
      "Starting again for heatmap\n",
      "Starting again for heatmap\n",
      "Starting again for heatmap\n",
      "Starting again for heatmap\n",
      "Starting again for heatmap\n",
      "Starting again for heatmap\n",
      "Starting again for heatmap\n",
      "Starting again for heatmap\n",
      "Starting again for heatmap\n",
      "Starting again for heatmap\n",
      "Starting again for heatmap\n",
      "Starting again for heatmap\n",
      "Starting again for heatmap\n",
      "Starting again for heatmap\n",
      "Starting again for heatmap\n",
      "Starting again for heatmap\n",
      "Starting again for heatmap\n",
      "Starting again for heatmap\n",
      "Starting again for heatmap\n",
      "Starting again for heatmap\n",
      "Starting again for heatmap\n",
      "Starting again for heatmap\n",
      "Starting again for heatmap\n",
      "Starting again for heatmap\n",
      "Starting again for heatmap\n",
      "Starting again for heatmap\n",
      "Starting again for heatmap\n",
      "Starting again for heatmap\n",
      "Starting again for heatmap\n",
      "Starting again for heatmap\n"
     ]
    }
   ],
   "source": [
    "include(\"SCW_Analysis.jl\")"
   ]
  },
  {
   "cell_type": "code",
   "execution_count": 26,
   "metadata": {},
   "outputs": [
    {
     "name": "stderr",
     "output_type": "stream",
     "text": [
      "┌ Warning: interpolate(A, BSpline(Linear()), OnGrid()) is deprecated, use interpolate(A, BSpline(Linear()))\n",
      "│   caller = dice_interpolate(::Array{Float64,1}, ::Int64) at helpers.jl:61\n",
      "└ @ Main C:\\Users\\Kevin\\Documents\\GitHub\\DICEFARM\\src_annualized\\helpers.jl:61\n"
     ]
    },
    {
     "name": "stdout",
     "output_type": "stream",
     "text": [
      "Ran once\n"
     ]
    },
    {
     "name": "stderr",
     "output_type": "stream",
     "text": [
      "┌ Warning: `getindex(itp::AbstractInterpolation{T, N}, i::Vararg{ExpandedIndexTypes, N}) where {T, N}` is deprecated, use `itp(i...)` instead.\n",
      "│   caller = dice_interpolate(::Array{Float64,1}, ::Int64) at helpers.jl:67\n",
      "└ @ Main C:\\Users\\Kevin\\Documents\\GitHub\\DICEFARM\\src_annualized\\helpers.jl:67\n"
     ]
    }
   ],
   "source": [
    "using Plots\n",
    "using NLopt\n",
    "include(\"AnimalWelfareModel.jl\")\n",
    "DICEFARM = create_AnimalWelfare()\n",
    "run(DICEFARM)\n",
    "println(\"Ran once\")\n",
    "BaseWelfare = DICEFARM[:welfare, :UTILITY]\n",
    "MargCons \t= create_AnimalWelfare()\n",
    "set_param!(MargCons, :neteconomy, :CEQ, 1e-9)  #dropping C by 1000 total (something weird)\n"
   ]
  },
  {
   "cell_type": "code",
   "execution_count": 37,
   "metadata": {},
   "outputs": [],
   "source": [
    "plot(uAs, alphas, DiffOpts', seriestype=:heatmap, size=[800,500], xlabel=\"Animal Welfare (Human Eq. \\$ per Day)\", ylabel=\"Marginal Utility Shifter\")\n",
    "savefig(\"Figures//SCW//HeatMapRobustness.svg\")"
   ]
  },
  {
   "cell_type": "code",
   "execution_count": 6,
   "metadata": {},
   "outputs": [
    {
     "name": "stderr",
     "output_type": "stream",
     "text": [
      "┌ Warning: interpolate(A, BSpline(Linear()), OnGrid()) is deprecated, use interpolate(A, BSpline(Linear()))\n",
      "│   caller = dice_interpolate(::Array{Float64,1}, ::Int64) at helpers.jl:61\n",
      "└ @ Main C:\\Users\\Kevin\\Documents\\GitHub\\DICEFARM\\src_annualized\\helpers.jl:61\n"
     ]
    },
    {
     "name": "stdout",
     "output_type": "stream",
     "text": [
      "Ran once\n"
     ]
    },
    {
     "name": "stderr",
     "output_type": "stream",
     "text": [
      "┌ Warning: `getindex(itp::AbstractInterpolation{T, N}, i::Vararg{ExpandedIndexTypes, N}) where {T, N}` is deprecated, use `itp(i...)` instead.\n",
      "│   caller = dice_interpolate(::Array{Float64,1}, ::Int64) at helpers.jl:67\n",
      "└ @ Main C:\\Users\\Kevin\\Documents\\GitHub\\DICEFARM\\src_annualized\\helpers.jl:67\n",
      "┌ Warning: interpolate(A, BSpline(Linear()), OnGrid()) is deprecated, use interpolate(A, BSpline(Linear()))\n",
      "│   caller = dice_interpolate(::Array{Float64,1}, ::Int64) at helpers.jl:61\n",
      "└ @ Main C:\\Users\\Kevin\\Documents\\GitHub\\DICEFARM\\src_annualized\\helpers.jl:61\n",
      "┌ Warning: `getindex(itp::AbstractInterpolation{T, N}, i::Vararg{ExpandedIndexTypes, N}) where {T, N}` is deprecated, use `itp(i...)` instead.\n",
      "│   caller = dice_interpolate(::Array{Float64,1}, ::Int64) at helpers.jl:67\n",
      "└ @ Main C:\\Users\\Kevin\\Documents\\GitHub\\DICEFARM\\src_annualized\\helpers.jl:67\n"
     ]
    },
    {
     "data": {
      "text/plain": [
       "23-component Mimi.Model:\n",
       "  grosseconomy::Main.grosseconomy\n",
       "  farm::Main.farmforpolicy\n",
       "  emissions::Main.emissions\n",
       "  ch4_cycle::MimiFAIR13.ch4_cycle\n",
       "  n2o_cycle::MimiFAIR13.n2o_cycle\n",
       "  other_ghg_cycles::MimiFAIR13.other_ghg_cycles\n",
       "  co2_cycle::MimiFAIR13.co2_cycle\n",
       "  ch4_rf::MimiFAIR13.ch4_rf\n",
       "  n2o_rf::MimiFAIR13.n2o_rf\n",
       "  other_ghg_rf::MimiFAIR13.other_ghg_rf\n",
       "  co2_rf::MimiFAIR13.co2_rf\n",
       "  trop_o3_rf::MimiFAIR13.trop_o3_rf\n",
       "  strat_o3_rf::MimiFAIR13.strat_o3_rf\n",
       "  aerosol_direct_rf::MimiFAIR13.aerosol_direct_rf\n",
       "  aerosol_indirect_rf::MimiFAIR13.aerosol_indirect_rf\n",
       "  bc_snow_rf::MimiFAIR13.bc_snow_rf\n",
       "  landuse_rf::MimiFAIR13.landuse_rf\n",
       "  contrails_rf::MimiFAIR13.contrails_rf\n",
       "  total_rf::MimiFAIR13.total_rf\n",
       "  temperature::MimiFAIR13.temperature\n",
       "  damages::Main.damages\n",
       "  neteconomy::Main.neteconomyforpolicy\n",
       "  welfare::Main.welfareforpolicy\n"
      ]
     },
     "execution_count": 6,
     "metadata": {},
     "output_type": "execute_result"
    }
   ],
   "source": [
    "using Plots\n",
    "using NLopt\n",
    "include(\"AnimalWelfareModel.jl\")\n",
    "DICEFARM = create_AnimalWelfare()\n",
    "run(DICEFARM)\n",
    "println(\"Ran once\")\n",
    "BaseWelfare = DICEFARM[:welfare, :UTILITY]\n",
    "MargCons \t= create_AnimalWelfare()\n",
    "set_param!(MargCons, :neteconomy, :CEQ, 1e-9)  #dropping C by 1000 total (something weird)\n",
    "run(MargCons)\n",
    "MargConsWelfare = MargCons[:welfare, :UTILITY]\n",
    "SCNumeraire \t= BaseWelfare - MargConsWelfare\n",
    "\n",
    "SocialCosts = zeros(4) # Vegetarian; then each of 3 animal products\n",
    "\n",
    "include(\"helpers_SCWOptimization.jl\")\n",
    "m = create_AnimalWelfareOpt()"
   ]
  },
  {
   "cell_type": "code",
   "execution_count": 29,
   "metadata": {},
   "outputs": [
    {
     "name": "stdout",
     "output_type": "stream",
     "text": [
      "Optimal Vegetarian Share is [0.036571502685546875]\n"
     ]
    }
   ],
   "source": [
    "m = create_AnimalWelfareOpt()\n",
    "function optveg(x, grad)\n",
    "\tif length(grad)>0\n",
    "\tgrad[1] = 1000\n",
    "\tend\n",
    "    result = veg_outcome(x[1], 1.9, .004)\n",
    "\treturn result\n",
    "end\n",
    "\n",
    "opt = Opt(:LN_SBPLX, 1)\n",
    "opt.lower_bounds=[-1.]\n",
    "opt.upper_bounds=[1]\n",
    "init = [.5]\n",
    "opt.xtol_rel = 1e-4\n",
    "opt.max_objective = optveg\n",
    "sol = optimize(opt, init)[2]\n",
    "println(\"Optimal Animal Reduction is $sol\")"
   ]
  },
  {
   "cell_type": "code",
   "execution_count": 19,
   "metadata": {},
   "outputs": [
    {
     "data": {
      "text/plain": [
       "159687.31271828053"
      ]
     },
     "execution_count": 19,
     "metadata": {},
     "output_type": "execute_result"
    }
   ],
   "source": [
    "veg_outcome(-.41, 1.9, .004)"
   ]
  },
  {
   "cell_type": "code",
   "execution_count": 12,
   "metadata": {},
   "outputs": [
    {
     "data": {
      "text/plain": [
       "20×10 Array{Float64,2}:\n",
       "  2.0   3.0   4.0   5.0   6.0   7.0   8.0   9.0  10.0  11.0\n",
       "  3.0   4.0   5.0   6.0   7.0   8.0   9.0  10.0  11.0  12.0\n",
       "  4.0   5.0   6.0   7.0   8.0   9.0  10.0  11.0  12.0  13.0\n",
       "  5.0   6.0   7.0   8.0   9.0  10.0  11.0  12.0  13.0  14.0\n",
       "  6.0   7.0   8.0   9.0  10.0  11.0  12.0  13.0  14.0  15.0\n",
       "  7.0   8.0   9.0  10.0  11.0  12.0  13.0  14.0  15.0  16.0\n",
       "  8.0   9.0  10.0  11.0  12.0  13.0  14.0  15.0  16.0  17.0\n",
       "  9.0  10.0  11.0  12.0  13.0  14.0  15.0  16.0  17.0  18.0\n",
       " 10.0  11.0  12.0  13.0  14.0  15.0  16.0  17.0  18.0  19.0\n",
       " 11.0  12.0  13.0  14.0  15.0  16.0  17.0  18.0  19.0  20.0\n",
       " 12.0  13.0  14.0  15.0  16.0  17.0  18.0  19.0  20.0  21.0\n",
       " 13.0  14.0  15.0  16.0  17.0  18.0  19.0  20.0  21.0  22.0\n",
       " 14.0  15.0  16.0  17.0  18.0  19.0  20.0  21.0  22.0  23.0\n",
       " 15.0  16.0  17.0  18.0  19.0  20.0  21.0  22.0  23.0  24.0\n",
       " 16.0  17.0  18.0  19.0  20.0  21.0  22.0  23.0  24.0  25.0\n",
       " 17.0  18.0  19.0  20.0  21.0  22.0  23.0  24.0  25.0  26.0\n",
       " 18.0  19.0  20.0  21.0  22.0  23.0  24.0  25.0  26.0  27.0\n",
       " 19.0  20.0  21.0  22.0  23.0  24.0  25.0  26.0  27.0  28.0\n",
       " 20.0  21.0  22.0  23.0  24.0  25.0  26.0  27.0  28.0  29.0\n",
       " 21.0  22.0  23.0  24.0  25.0  26.0  27.0  28.0  29.0  30.0"
      ]
     },
     "execution_count": 12,
     "metadata": {},
     "output_type": "execute_result"
    }
   ],
   "source": [
    "x = collect(1:1:20)\n",
    "y = collect(1:1:10)\n",
    "z = ones(length(x), length(y))\n",
    "for i = 1:length(x)\n",
    "    for j = 1:length(y)\n",
    "        z[i,j] = x[i] + y[j]\n",
    "    end\n",
    "end\n",
    "z"
   ]
  },
  {
   "cell_type": "code",
   "execution_count": 16,
   "metadata": {},
   "outputs": [
    {
     "data": {
      "image/svg+xml": [
       "<?xml version=\"1.0\" encoding=\"utf-8\"?>\n",
       "<svg xmlns=\"http://www.w3.org/2000/svg\" xmlns:xlink=\"http://www.w3.org/1999/xlink\" width=\"600\" height=\"400\" viewBox=\"0 0 2400 1600\">\n",
       "<defs>\n",
       "  <clipPath id=\"clip1900\">\n",
       "    <rect x=\"0\" y=\"0\" width=\"2400\" height=\"1600\"/>\n",
       "  </clipPath>\n",
       "</defs>\n",
       "<path clip-path=\"url(#clip1900)\" d=\"\n",
       "M0 1600 L2400 1600 L2400 0 L0 0  Z\n",
       "  \" fill=\"#ffffff\" fill-rule=\"evenodd\" fill-opacity=\"1\"/>\n",
       "<defs>\n",
       "  <clipPath id=\"clip1901\">\n",
       "    <rect x=\"480\" y=\"0\" width=\"1681\" height=\"1600\"/>\n",
       "  </clipPath>\n",
       "</defs>\n",
       "<path clip-path=\"url(#clip1900)\" d=\"\n",
       "M140.517 1487.47 L2112.76 1487.47 L2112.76 47.2441 L140.517 47.2441  Z\n",
       "  \" fill=\"#ffffff\" fill-rule=\"evenodd\" fill-opacity=\"1\"/>\n",
       "<defs>\n",
       "  <clipPath id=\"clip1902\">\n",
       "    <rect x=\"140\" y=\"47\" width=\"1973\" height=\"1441\"/>\n",
       "  </clipPath>\n",
       "</defs>\n",
       "<polyline clip-path=\"url(#clip1902)\" style=\"stroke:#000000; stroke-width:2; stroke-opacity:0.1; fill:none\" points=\"\n",
       "  584.271,1487.47 584.271,47.2441 \n",
       "  \"/>\n",
       "<polyline clip-path=\"url(#clip1902)\" style=\"stroke:#000000; stroke-width:2; stroke-opacity:0.1; fill:none\" points=\"\n",
       "  1077.33,1487.47 1077.33,47.2441 \n",
       "  \"/>\n",
       "<polyline clip-path=\"url(#clip1902)\" style=\"stroke:#000000; stroke-width:2; stroke-opacity:0.1; fill:none\" points=\"\n",
       "  1570.39,1487.47 1570.39,47.2441 \n",
       "  \"/>\n",
       "<polyline clip-path=\"url(#clip1902)\" style=\"stroke:#000000; stroke-width:2; stroke-opacity:0.1; fill:none\" points=\"\n",
       "  2063.45,1487.47 2063.45,47.2441 \n",
       "  \"/>\n",
       "<polyline clip-path=\"url(#clip1902)\" style=\"stroke:#000000; stroke-width:2; stroke-opacity:0.1; fill:none\" points=\"\n",
       "  140.517,1271.44 2112.76,1271.44 \n",
       "  \"/>\n",
       "<polyline clip-path=\"url(#clip1902)\" style=\"stroke:#000000; stroke-width:2; stroke-opacity:0.1; fill:none\" points=\"\n",
       "  140.517,983.394 2112.76,983.394 \n",
       "  \"/>\n",
       "<polyline clip-path=\"url(#clip1902)\" style=\"stroke:#000000; stroke-width:2; stroke-opacity:0.1; fill:none\" points=\"\n",
       "  140.517,695.348 2112.76,695.348 \n",
       "  \"/>\n",
       "<polyline clip-path=\"url(#clip1902)\" style=\"stroke:#000000; stroke-width:2; stroke-opacity:0.1; fill:none\" points=\"\n",
       "  140.517,407.302 2112.76,407.302 \n",
       "  \"/>\n",
       "<polyline clip-path=\"url(#clip1902)\" style=\"stroke:#000000; stroke-width:2; stroke-opacity:0.1; fill:none\" points=\"\n",
       "  140.517,119.256 2112.76,119.256 \n",
       "  \"/>\n",
       "<polyline clip-path=\"url(#clip1900)\" style=\"stroke:#000000; stroke-width:4; stroke-opacity:1; fill:none\" points=\"\n",
       "  140.517,1487.47 2112.76,1487.47 \n",
       "  \"/>\n",
       "<polyline clip-path=\"url(#clip1900)\" style=\"stroke:#000000; stroke-width:4; stroke-opacity:1; fill:none\" points=\"\n",
       "  140.517,1487.47 140.517,47.2441 \n",
       "  \"/>\n",
       "<polyline clip-path=\"url(#clip1900)\" style=\"stroke:#000000; stroke-width:4; stroke-opacity:1; fill:none\" points=\"\n",
       "  584.271,1487.47 584.271,1470.19 \n",
       "  \"/>\n",
       "<polyline clip-path=\"url(#clip1900)\" style=\"stroke:#000000; stroke-width:4; stroke-opacity:1; fill:none\" points=\"\n",
       "  1077.33,1487.47 1077.33,1470.19 \n",
       "  \"/>\n",
       "<polyline clip-path=\"url(#clip1900)\" style=\"stroke:#000000; stroke-width:4; stroke-opacity:1; fill:none\" points=\"\n",
       "  1570.39,1487.47 1570.39,1470.19 \n",
       "  \"/>\n",
       "<polyline clip-path=\"url(#clip1900)\" style=\"stroke:#000000; stroke-width:4; stroke-opacity:1; fill:none\" points=\"\n",
       "  2063.45,1487.47 2063.45,1470.19 \n",
       "  \"/>\n",
       "<polyline clip-path=\"url(#clip1900)\" style=\"stroke:#000000; stroke-width:4; stroke-opacity:1; fill:none\" points=\"\n",
       "  140.517,1271.44 164.184,1271.44 \n",
       "  \"/>\n",
       "<polyline clip-path=\"url(#clip1900)\" style=\"stroke:#000000; stroke-width:4; stroke-opacity:1; fill:none\" points=\"\n",
       "  140.517,983.394 164.184,983.394 \n",
       "  \"/>\n",
       "<polyline clip-path=\"url(#clip1900)\" style=\"stroke:#000000; stroke-width:4; stroke-opacity:1; fill:none\" points=\"\n",
       "  140.517,695.348 164.184,695.348 \n",
       "  \"/>\n",
       "<polyline clip-path=\"url(#clip1900)\" style=\"stroke:#000000; stroke-width:4; stroke-opacity:1; fill:none\" points=\"\n",
       "  140.517,407.302 164.184,407.302 \n",
       "  \"/>\n",
       "<polyline clip-path=\"url(#clip1900)\" style=\"stroke:#000000; stroke-width:4; stroke-opacity:1; fill:none\" points=\"\n",
       "  140.517,119.256 164.184,119.256 \n",
       "  \"/>\n",
       "<g clip-path=\"url(#clip1900)\">\n",
       "<text style=\"fill:#000000; fill-opacity:1; font-family:Arial,Helvetica Neue,Helvetica,sans-serif; font-size:48px; text-anchor:middle;\" transform=\"rotate(0, 584.271, 1541.47)\" x=\"584.271\" y=\"1541.47\">5</text>\n",
       "</g>\n",
       "<g clip-path=\"url(#clip1900)\">\n",
       "<text style=\"fill:#000000; fill-opacity:1; font-family:Arial,Helvetica Neue,Helvetica,sans-serif; font-size:48px; text-anchor:middle;\" transform=\"rotate(0, 1077.33, 1541.47)\" x=\"1077.33\" y=\"1541.47\">10</text>\n",
       "</g>\n",
       "<g clip-path=\"url(#clip1900)\">\n",
       "<text style=\"fill:#000000; fill-opacity:1; font-family:Arial,Helvetica Neue,Helvetica,sans-serif; font-size:48px; text-anchor:middle;\" transform=\"rotate(0, 1570.39, 1541.47)\" x=\"1570.39\" y=\"1541.47\">15</text>\n",
       "</g>\n",
       "<g clip-path=\"url(#clip1900)\">\n",
       "<text style=\"fill:#000000; fill-opacity:1; font-family:Arial,Helvetica Neue,Helvetica,sans-serif; font-size:48px; text-anchor:middle;\" transform=\"rotate(0, 2063.45, 1541.47)\" x=\"2063.45\" y=\"1541.47\">20</text>\n",
       "</g>\n",
       "<g clip-path=\"url(#clip1900)\">\n",
       "<text style=\"fill:#000000; fill-opacity:1; font-family:Arial,Helvetica Neue,Helvetica,sans-serif; font-size:48px; text-anchor:end;\" transform=\"rotate(0, 116.517, 1288.94)\" x=\"116.517\" y=\"1288.94\">2</text>\n",
       "</g>\n",
       "<g clip-path=\"url(#clip1900)\">\n",
       "<text style=\"fill:#000000; fill-opacity:1; font-family:Arial,Helvetica Neue,Helvetica,sans-serif; font-size:48px; text-anchor:end;\" transform=\"rotate(0, 116.517, 1000.89)\" x=\"116.517\" y=\"1000.89\">4</text>\n",
       "</g>\n",
       "<g clip-path=\"url(#clip1900)\">\n",
       "<text style=\"fill:#000000; fill-opacity:1; font-family:Arial,Helvetica Neue,Helvetica,sans-serif; font-size:48px; text-anchor:end;\" transform=\"rotate(0, 116.517, 712.848)\" x=\"116.517\" y=\"712.848\">6</text>\n",
       "</g>\n",
       "<g clip-path=\"url(#clip1900)\">\n",
       "<text style=\"fill:#000000; fill-opacity:1; font-family:Arial,Helvetica Neue,Helvetica,sans-serif; font-size:48px; text-anchor:end;\" transform=\"rotate(0, 116.517, 424.802)\" x=\"116.517\" y=\"424.802\">8</text>\n",
       "</g>\n",
       "<g clip-path=\"url(#clip1900)\">\n",
       "<text style=\"fill:#000000; fill-opacity:1; font-family:Arial,Helvetica Neue,Helvetica,sans-serif; font-size:48px; text-anchor:end;\" transform=\"rotate(0, 116.517, 136.756)\" x=\"116.517\" y=\"136.756\">10</text>\n",
       "</g>\n",
       "<g clip-path=\"url(#clip1902)\">\n",
       "<image width=\"1972\" height=\"1440\" xlink:href=\"data:image/png;base64,\n",
       "iVBORw0KGgoAAAANSUhEUgAAB7QAAAWgCAYAAADeiXybAAAgAElEQVR4nOzbzWpUQRhF0S+dTtQY\n",
       "2xAciE719Rz54pFEkfw5ubQTp1KbsNYTHCjq3sGmTr5/+vY8JBzOH1dPYPP+zFkUHM7uV09gczj/\n",
       "vXoCM3N45Rwq3r3+uXoCm8s3v1ZPYGYu3roTFRfv7lZPYGZeHW5XT2Bz/t5ZVOyvfJ8KdldPqyew\n",
       "Obm+XD2BmXm6/rB6ApvH64+rJ7B5uPq8egIz83z1dfUENheXX1ZPYGZ2qwcAAAAAAAAAwL8I2gAA\n",
       "AAAAAAAkCdoAAAAAAAAAJAnaAAAAAAAAACQJ2gAAAAAAAAAkCdoAAAAAAAAAJAnaAAAAAAAAACQJ\n",
       "2gAAAAAAAAAkCdoAAAAAAAAAJAnaAAAAAAAAACQJ2gAAAAAAAAAkCdoAAAAAAAAAJAnaAAAAAAAA\n",
       "ACQJ2gAAAAAAAAAkCdoAAAAAAAAAJAnaAAAAAAAAACQJ2gAAAAAAAAAkCdoAAAAAAAAAJAnaAAAA\n",
       "AAAAACQJ2gAAAAAAAAAkCdoAAAAAAAAAJAnaAAAAAAAAACQJ2gAAAAAAAAAkCdoAAAAAAAAAJAna\n",
       "AAAAAAAAACQJ2gAAAAAAAAAkCdoAAAAAAAAAJAnaAAAAAAAAACQJ2gAAAAAAAAAkCdoAAAAAAAAA\n",
       "JAnaAAAAAAAAACQJ2gAAAAAAAAAkCdoAAAAAAAAAJAnaAAAAAAAAACQJ2gAAAAAAAAAkCdoAAAAA\n",
       "AAAAJAnaAAAAAAAAACQJ2gAAAAAAAAAkCdoAAAAAAAAAJAnaAAAAAAAAACQJ2gAAAAAAAAAkCdoA\n",
       "AAAAAAAAJAnaAAAAAAAAACQJ2gAAAAAAAAAkCdoAAAAAAAAAJAnaAAAAAAAAACQJ2gAAAAAAAAAk\n",
       "CdoAAAAAAAAAJAnaAAAAAAAAACQJ2gAAAAAAAAAkCdoAAAAAAAAAJAnaAAAAAAAAACQJ2gAAAAAA\n",
       "AAAkCdoAAAAAAAAAJAnaAAAAAAAAACQJ2gAAAAAAAAAkCdoAAAAAAAAAJAnaAAAAAAAAACQJ2gAA\n",
       "AAAAAAAkCdoAAAAAAAAAJAnaAAAAAAAAACQJ2gAAAAAAAAAkCdoAAAAAAAAAJAnaAAAAAAAAACQJ\n",
       "2gAAAAAAAAAkCdoAAAAAAAAAJAnaAAAAAAAAACQJ2gAAAAAAAAAkCdoAAAAAAAAAJAnaAAAAAAAA\n",
       "ACQJ2gAAAAAAAAAkCdoAAAAAAAAAJAnaAAAAAAAAACQJ2gAAAAAAAAAkCdoAAAAAAAAAJAnaAAAA\n",
       "AAAAACQJ2gAAAAAAAAAkCdoAAAAAAAAAJAnaAAAAAAAAACQJ2gAAAAAAAAAkCdoAAAAAAAAAJAna\n",
       "AAAAAAAAACQJ2gAAAAAAAAAkCdoAAAAAAAAAJAnaAAAAAAAAACQJ2gAAAAAAAAAkCdoAAAAAAAAA\n",
       "JAnaAAAAAAAAACQJ2gAAAAAAAAAkCdoAAAAAAAAAJAnaAAAAAAAAACQJ2gAAAAAAAAAkCdoAAAAA\n",
       "AAAAJAnaAAAAAAAAACQJ2gAAAAAAAAAkCdoAAAAAAAAAJAnaAAAAAAAAACQJ2gAAAAAAAAAkCdoA\n",
       "AAAAAAAAJAnaAAAAAAAAACQJ2gAAAAAAAAAkCdoAAAAAAAAAJAnaAAAAAAAAACQJ2gAAAAAAAAAk\n",
       "CdoAAAAAAAAAJAnaAAAAAAAAACQJ2gAAAAAAAAAkCdoAAAAAAAAAJAnaAAAAAAAAACQJ2gAAAAAA\n",
       "AAAkCdoAAAAAAAAAJAnaAAAAAAAAACQJ2gAAAAAAAAAkCdoAAAAAAAAAJAnaAAAAAAAAACQJ2gAA\n",
       "AAAAAAAkCdoAAAAAAAAAJAnaAAAAAAAAACQJ2gAAAAAAAAAkCdoAAAAAAAAAJAnaAAAAAAAAACQJ\n",
       "2gAAAAAAAAAkCdoAAAAAAAAAJAnaAAAAAAAAACQJ2gAAAAAAAAAkCdoAAAAAAAAAJAnaAAAAAAAA\n",
       "ACQJ2gAAAAAAAAAkCdoAAAAAAAAAJAnaAAAAAAAAACQJ2gAAAAAAAAAkCdoAAAAAAAAAJAnaAAAA\n",
       "AAAAACQJ2gAAAAAAAAAkCdoAAAAAAAAAJAnaAAAAAAAAACQJ2gAAAAAAAAAkCdoAAAAAAAAAJAna\n",
       "AAAAAAAAACQJ2gAAAAAAAAAkCdoAAAAAAAAAJAnaAAAAAAAAACQJ2gAAAAAAAAAk7W/uV0/gr9PV\n",
       "AwAAAAB4ofZzt3oCm93crp7AeO0FdD2sHsDRz9UDmBn/bAAAAAAAAACiBG0AAAAAAAAAkgRtAAAA\n",
       "AAAAAJIEbQAAAAAAAACSBG0AAAAAAAAAkgRtAAAAAAAAAJIEbQAAAAAAAACSBG0AAAAAAAAAkgRt\n",
       "AAAAAAAAAJIEbQAAAAAAAACSBG0AAAAAAAAAkgRtAAAAAAAAAJIEbQAAAAAAAACSBG0AAAAAAAAA\n",
       "kgRtAAAAAAAAAJIEbQAAAAAAAACSBG0AAAAAAAAAkgRtAAAAAAAAAJIEbQAAAAAAAACSBG0AAAAA\n",
       "AAAAkgRtAAAAAAAAAJIEbQAAAAAAAACSBG0AAAAAAAAAkgRtAAAAAAAAAJIEbQAAAAAAAACSBG0A\n",
       "AAAAAAAAkgRtAAAAAAAAAJIEbQAAAAAAAACSBG0AAAAAAAAAkgRtAAAAAAAAAJIEbQAAAAAAAACS\n",
       "BG0AAAAAAAAAkgRtAAAAAAAAAJIEbQAAAAAAAACSBG0AAAAAAAAAkgRtAAAAAAAAAJIEbQAAAAAA\n",
       "AACSBG0AAAAAAAAAkgRtAAAAAAAAAJIEbQAAAAAAAACSBG0AAAAAAAAAkgRtAAAAAAAAAJIEbQAA\n",
       "AAAAAACSBG0AAAAAAAAAkgRtAAAAAAAAAJIEbQAAAAAAAACSBG0AAAAAAAAAkgRtAAAAAAAAAJIE\n",
       "bQAAAAAAAACSBG0AAAAAAAAAkgRtAAAAAAAAAJIEbQAAAAAAAACSBG0AAAAAAAAAkgRtAAAAAAAA\n",
       "AJIEbQAAAAAAAACSBG0AAAAAAAAAkgRtAAAAAAAAAJIEbQAAAAAAAACSBG0AAAAAAAAAkgRtAAAA\n",
       "AAAAAJIEbQAAAAAAAACSBG0AAAAAAAAAkgRtAAAAAAAAAJIEbQAAAAAAAACSBG0AAAAAAAAAkgRt\n",
       "AAAAAAAAAJIEbQAAAAAAAACSBG0AAAAAAAAAkgRtAAAAAAAAAJIEbQAAAAAAAACSBG0AAAAAAAAA\n",
       "kgRtAAAAAAAAAJIEbQAAAAAAAACSBG0AAAAAAAAAkgRtAAAAAAAAAJIEbQAAAAAAAACSBG0AAAAA\n",
       "AAAAkgRtAAAAAAAAAJIEbQAAAAAAAACSBG0AAAAAAAAAkgRtAAAAAAAAAJIEbQAAAAAAAACSBG0A\n",
       "AAAAAAAAkgRtAAAAAAAAAJIEbQAAAAAAAACSBG0AAAAAAAAAkgRtAAAAAAAAAJIEbQAAAAAAAACS\n",
       "BG0AAAAAAAAAkgRtAAAAAAAAAJIEbQAAAAAAAACSBG0AAAAAAAAAkgRtAAAAAAAAAJIEbQAAAAAA\n",
       "AACSBG0AAAAAAAAAkgRtAAAAAAAAAJIEbQAAAAAAAACSBG0AAAAAAAAAkgRtAAAAAAAAAJIEbQAA\n",
       "AAAAAACSBG0AAAAAAAAAkgRtAAAAAAAAAJIEbQAAAAAAAACSBG0AAAAAAAAAkgRtAAAAAAAAAJIE\n",
       "bQAAAAAAAACSBG0AAAAAAAAAkgRtAAAAAAAAAJIEbQAAAAAAAACSBG0AAAAAAAAAkgRtAAAAAAAA\n",
       "AJIEbQAAAAAAAACSBG0AAAAAAAAAkgRtAAAAAAAAAJIEbQAAAAAAAACSBG0AAAAAAAAAkgRtAAAA\n",
       "AAAAAJIEbQAAAAAAAACSBG0AAAAAAAAAkgRtAAAAAAAAAJIEbQAAAAAAAACSBG0AAAAAAAAAkgRt\n",
       "AAAAAAAAAJIEbQAAAAAAAACSBG0AAAAAAAAAkgRtAAAAAAAAAJIEbQAAAAAAAACSBG0AAAAAAAAA\n",
       "kgRtAAAAAAAAAJIEbQAAAAAAAACSBG0AAAAAAAAAkgRtAAAAAAAAAJIEbQAAAAAAAACSBG0AAAAA\n",
       "AAAAkgRtAAAAAAAAAJIEbQAAAAAAAACSBG0AAAAAAAAAkgRtAAAAAAAAAJIEbQAAAAAAAACSBG0A\n",
       "AAAAAAAAkgRtAAAAAAAAAJIEbQAAAAAAAACSBG0AAAAAAAAAkvY/7p9Xb+DoZPUAjk5XDwAAAADg\n",
       "hdrP3eoJzMxubldPYOPlHVD1sHoAM+M/AQAAAAAAAECUoA0AAAAAAABAkqANAAAAAAAAQJKgDQAA\n",
       "AAAAAECSoA0AAAAAAABAkqANAAAAAAAAQJKgDQAAAAAAAECSoA0AAAAAAABAkqANAAAAAAAAQJKg\n",
       "DQAAAAAAAECSoA0AAAAAAABAkqANAAAAAAAAQJKgDQAAAAAAAECSoA0AAAAAAABAkqANAAAAAAAA\n",
       "QJKgDQAAAAAAAECSoA0AAAAAAABAkqANAAAAAAAAQJKgDQAAAAAAAECSoA0AAAAAAABAkqANAAAA\n",
       "AAAAQJKgDQAAAAAAAECSoA0AAAAAAABAkqANAAAAAAAAQJKgDQAAAAAAAECSoA0AAAAAAABAkqAN\n",
       "AAAAAAAAQJKgDQAAAAAAAECSoA0AAAAAAABAkqANAAAAAAAAQJKgDQAAAAAAAECSoA0AAAAAAABA\n",
       "kqANAAAAAAAAQJKgDQAAAAAAAECSoA0AAAAAAABAkqANAAAAAAAAQJKgDQAAAAAAAECSoA0AAAAA\n",
       "AABAkqANAAAAAAAAQJKgDQAAAAAAAECSoA0AAAAAAABAkqANAAAAAAAAQJKgDQAAAAAAAECSoA0A\n",
       "AAAAAABAkqANAAAAAAAAQJKgDQAAAAAAAECSoA0AAAAAAABAkqANAAAAAAAAQJKgDQAAAAAAAECS\n",
       "oA0AAAAAAABAkqANAAAAAAAAQJKgDQAAAAAAAECSoA0AAAAAAABAkqANAAAAAAAAQJKgDQAAAAAA\n",
       "AECSoA0AAAAAAABAkqANAAAAAAAAQJKgDQAAAAAAAECSoA0AAAAAAABAkqANAAAAAAAAQJKgDQAA\n",
       "AAAAAECSoA0AAAAAAABAkqANAAAAAAAAQJKgDQAAAAAAAECSoA0AAAAAAABAkqANAAAAAAAAQJKg\n",
       "DQAAAAAAAECSoA0AAAAAAABAkqANAAAAAAAAQJKgDQAAAAAAAECSoA0AAAAAAABAkqANAAAAAAAA\n",
       "QJKgDQAAAAAAAECSoA0AAAAAAABAkqANAAAAAAAAQJKgDQAAAAAAAECSoA0AAAAAAABAkqANAAAA\n",
       "AAAAQJKgDQAAAAAAAECSoA0AAAAAAABAkqANAAAAAAAAQJKgDQAAAAAAAECSoA0AAAAAAABAkqAN\n",
       "AAAAAAAAQJKgDQAAAAAAAECSoA0AAAAAAABAkqANAAAAAAAAQJKgDQAAAAAAAECSoA0AAAAAAABA\n",
       "kqANAAAAAAAAQJKgDQAAAAAAAECSoA0AAAAAAABAkqANAAAAAAAAQJKgDQAAAAAAAECSoA0AAAAA\n",
       "AABAkqANAAAAAAAAQJKgDQAAAAAAAECSoA0AAAAAAABAkqANAAAAAAAAQJKgDQAAAAAAAECSoA0A\n",
       "AAAAAABAkqANAAAAAAAAQJKgDQAAAAAAAECSoA0AAAAAAABAkqANAAAAAAAAQJKgDQAAAAAAAECS\n",
       "oA0AAAAAAABAkqANAAAAAAAAQJKgDQAAAAAAAECSoA0AAAAAAABAkqANAAAAAAAAQJKgDQAAAAAA\n",
       "AECSoA0AAAAAAABAkqANAAAAAAAAQJKgDQAAAAAAAECSoA0AAAAAAABAkqANAAAAAAAAQJKgDQAA\n",
       "AAAAAECSoA0AAAAAAABAkqANAAAAAAAAQJKgDQAAAAAAAECSoA0AAAAAAABAkqANAAAAAAAAQJKg\n",
       "DQAAAAAAAECSoA0AAAAAAABAkqANAAAAAAAAQJKgDQAAAAAAAECSoA0AAAAAAABAkqANAAAAAAAA\n",
       "QJKgDQAAAAAAAECSoA0AAAAAAABAkqANAAAAAAAAQJKgDQAAAAAAAECSoA0AAAAAAABAkqANAAAA\n",
       "AAAAQJKgDQAAAAAAAECSoA0AAAAAAABAkqANAAAAAAAAQJKgDQAAAAAAAECSoA0AAAAAAABAkqAN\n",
       "AAAAAAAAQJKgDQAAAAAAAECSoA0AAAAAAABA0v7m/nH1Bo5OVw/g6GT1AGbGnQAAAADgf9nP3eoJ\n",
       "bHZzu3oCG68ggSLfJgAAAAAAAACSBG0AAAAAAAAAkgRtAAAAAAAAAJIEbQAAAAAAAACSBG0AAAAA\n",
       "AAAAkgRtAAAAAAAAAJIEbQAAAAAAAACSBG0AAAAAAAAAkgRtAAAAAAAAAJIEbQAAAAAAAACSBG0A\n",
       "AAAAAAAAkgRtAAAAAAAAAJIEbQAAAAAAAACSBG0AAAAAAAAAkgRtAAAAAAAAAJIEbQAAAAAAAACS\n",
       "BG0AAAAAAAAAkgRtAAAAAAAAAJIEbQAAAAAAAACSBG0AAAAAAAAAkgRtAAAAAAAAAJIEbQAAAAAA\n",
       "AACSBG0AAAAAAAAAkgRtAAAAAAAAAJIEbQAAAAAAAACSBG0AAAAAAAAAkgRtAAAAAAAAAJIEbQAA\n",
       "AAAAAACSBG0AAAAAAAAAkgRtAAAAAAAAAJIEbQAAAAAAAACSBG0AAAAAAAAAkgRtAAAAAAAAAJIE\n",
       "bQAAAAAAAACSBG0AAAAAAAAAkgRtAAAAAAAAAJIEbQAAAAAAAACSBG0AAAAAAAAAkgRtAAAAAAAA\n",
       "AJIEbQAAAAAAAACSBG0AAAAAAAAAkgRtAAAAAAAAAJIEbQAAAAAAAACSBG0AAAAAAAAAkgRtAAAA\n",
       "AAAAAJIEbQAAAAAAAACSBG0AAAAAAAAAkgRtAAAAAAAAAJIEbQAAAAAAAACSBG0AAAAAAAAAkgRt\n",
       "AAAAAAAAAJIEbQAAAAAAAACSBG0AAAAAAAAAkgRtAAAAAAAAAJIEbQAAAAAAAACSBG0AAAAAAAAA\n",
       "kgRtAAAAAAAAAJIEbQAAAAAAAACSBG0AAAAAAAAAkgRtAAAAAAAAAJIEbQAAAAAAAACSBG0AAAAA\n",
       "AAAAkgRtAAAAAAAAAJIEbQAAAAAAAACSBG0AAAAAAAAAkgRtAAAAAAAAAJIEbQAAAAAAAACSBG0A\n",
       "AAAAAAAAkgRtAAAAAAAAAJIEbQAAAAAAAACSBG0AAAAAAAAAkgRtAAAAAAAAAJIEbQAAAAAAAACS\n",
       "BG0AAAAAAAAAkgRtAAAAAAAAAJIEbQAAAAAAAACSBG0AAAAAAAAAkgRtAAAAAAAAAJIEbQAAAAAA\n",
       "AACSBG0AAAAAAAAAkgRtAAAAAAAAAJIEbQAAAAAAAACSBG0AAAAAAAAAkgRtAAAAAAAAAJIEbQAA\n",
       "AAAAAACSBG0AAAAAAAAAkgRtAAAAAAAAAJIEbQAAAAAAAACSBG0AAAAAAAAAkgRtAAAAAAAAAJIE\n",
       "bQD+sG/HKG5EQRRFS6MOtP9t2mAGRmAQRpNoOnAu6gbnrOBBU3Rw+QAAAAAAAEmCNgAAAAAAAABJ\n",
       "gjYAAAAAAAAASYI2AAAAAAAAAEmCNgAAAAAAAABJgjYAAAAAAAAASYI2AAAAAAAAAEmCNgAAAAAA\n",
       "AABJgjYAAAAAAAAASYI2AAAAAAAAAEmCNgAAAAAAAABJgjYAAAAAAAAASYI2AAAAAAAAAEmCNgAA\n",
       "AAAAAABJgjYAAAAAAAAASYI2AAAAAAAAAEmCNgAAAAAAAABJgjYAAAAAAAAASYI2AAAAAAAAAEmC\n",
       "NgAAAAAAAABJgjYAAAAAAAAASYI2AAAAAAAAAEmCNgAAAAAAAABJgjYAAAAAAAAASYI2AAAAAAAA\n",
       "AEmCNgAAAAAAAABJgjYAAAAAAAAASYI2AAAAAAAAAEmCNgAAAAAAAABJgjYAAAAAAAAASYI2AAAA\n",
       "AAAAAEmCNgAAAAAAAABJgjYAAAAAAAAASYI2AAAAAAAAAEmCNgAAAAAAAABJgjYAAAAAAAAASYI2\n",
       "AAAAAAAAAEmCNgAAAAAAAABJgjYAAAAAAAAASYI2AAAAAAAAAEmCNgAAAAAAAABJgjYAAAAAAAAA\n",
       "SYI2AAAAAAAAAEmCNgAAAAAAAABJgjYAAAAAAAAASYI2AAAAAAAAAEmCNgAAAAAAAABJgjYAAAAA\n",
       "AAAASYI2AAAAAAAAAEmCNgAAAAAAAABJgjYAAAAAAAAASYI2AAAAAAAAAEmCNgAAAAAAAABJx+fz\n",
       "7/YGfjxu2ws4XbcHMDMzl+0BnNwEAAAAAO9xzH17Ai8f87U9gfEaFf7nJgAAAAAAAABIErQBAAAA\n",
       "AAAASBK0AQAAAAAAAEgStAEAAAAAAABIErQBAAAAAAAASBK0AQAAAAAAAEgStAEAAAAAAABIErQB\n",
       "AAAAAAAASBK0AQAAAAAAAEgStAEAAAAAAABIErQBAAAAAAAASBK0AQAAAAAAAEgStAEAAAAAAABI\n",
       "ErQBAAAAAAAASBK0AQAAAAAAAEgStAEAAAAAAABIErQBAAAAAAAASBK0AQAAAAAAAEgStAEAAAAA\n",
       "AABIErQBAAAAAAAASBK0AQAAAAAAAEgStAEAAAAAAABIErQBAAAAAAAASBK0AQAAAAAAAEgStAEA\n",
       "AAAAAABIErQBAAAAAAAASBK0AQAAAAAAAEgStAEAAAAAAABIErQBAAAAAAAASBK0AQAAAAAAAEgS\n",
       "tAEAAAAAAABIErQBAAAAAAAASBK0AQAAAAAAAEgStAEAAAAAAABIErQBAAAAAAAASBK0AQAAAAAA\n",
       "AEgStAEAAAAAAABIErQBAAAAAAAASBK0AQAAAAAAAEgStAEAAAAAAABIErQBAAAAAAAASBK0AQAA\n",
       "AAAAAEgStAEAAAAAAABIErQBAAAAAAAASBK0AQAAAAAAAEgStAEAAAAAAABIErQBAAAAAAAASBK0\n",
       "AQAAAAAAAEgStAEAAAAAAABIErQBAAAAAAAASBK0AQAAAAAAAEgStAEAAAAAAABIErQBAAAAAAAA\n",
       "SBK0AQAAAAAAAEgStAEAAAAAAABIErQBAAAAAAAASBK0AQAAAAAAAEgStAEAAAAAAABIErQBAAAA\n",
       "AAAASBK0AQAAAAAAAEgStAEAAAAAAABIErQBAAAAAAAASBK0AQAAAAAAAEgStAEAAAAAAABIErQB\n",
       "AAAAAAAASBK0AQAAAAAAAEgStAEAAAAAAABIErQBAAAAAAAASBK0AQAAAAAAAEgStAEAAAAAAABI\n",
       "ErQBAAAAAAAASBK0AQAAAAAAAEgStAEAAAAAAABIErQBAAAAAAAASBK0AQAAAAAAAEgStAEAAAAA\n",
       "AABIErQBAAAAAAAASBK0AQAAAAAAAEgStAEAAAAAAABIErQBAAAAAAAASBK0AQAAAAAAAEgStAEA\n",
       "AAAAAABIErQBAAAAAAAASBK0AQAAAAAAAEgStAEAAAAAAABIErQBAAAAAAAASBK0AQAAAAAAAEgS\n",
       "tAEAAAAAAABIErQBAAAAAAAASBK0AQAAAAAAAEgStAEAAAAAAABIErQBAAAAAAAASBK0AQAAAAAA\n",
       "AEgStAEAAAAAAABIErQBAAAAAAAASBK0AQAAAAAAAEgStAEAAAAAAABIErQBAAAAAAAASBK0AQAA\n",
       "AAAAAEgStAEAAAAAAABIErQBAAAAAAAASBK0AQAAAAAAAEgStAEAAAAAAABIErQBAAAAAAAASBK0\n",
       "AQAAAAAAAEgStAEAAAAAAABIErQBAAAAAAAASBK0AQAAAAAAAEgStAEAAAAAAABIErQBAAAAAAAA\n",
       "SBK0AQAAAAAAAEgStAEAAAAAAABIErQBAAAAAAAASBK0AQAAAAAAAEgStAEAAAAAAABIErQBAAAA\n",
       "AAAASBK0AQAAAAAAAEgStAEAAAAAAABIErQBAAAAAAAASBK0AQAAAAAAAEgStAEAAAAAAABIErQB\n",
       "AAAAAAAASBK0AQAAAAAAAEgStAEAAAAAAABIErQBAAAAAAAASBK0AQAAAAAAAEgStAEAAAAAAABI\n",
       "ErQBAAAAAAAASBK0AQAAAAAAAEgStAEAAAAAAABIErQBAAAAAAAASBK0AQAAAAAAAEgStAEAAAAA\n",
       "AABIErQBAAAAAAAASBK0AQAAAAAAAEgStAEAAAAAAABIErQBAAAAAAAASBK0AQAAAAAAAEgStAEA\n",
       "AAAAAABIErQBAAAAAAAASBK0AQAAAAAAAEgStAEAAAAAAABIErQBAAAAAAAASDr+XD63N/DjuT2A\n",
       "0+O2vYCZmbluD+B02R7AzLgJAAAAAN7pmPv2BGbmY762J/DiZXCD7wAAAAAAAABAkqANAAAAAAAA\n",
       "QJKgDQAAAAAAAECSoA0AAAAAAABAkqANAAAAAAAAQJKgDQAAAAAAAECSoA0AAAAAAABAkqANAAAA\n",
       "AAAAQJKgDQAAAAAAAECSoA0AAAAAAABAkqANAAAAAAAAQJKgDQAAAAAAAECSoA0AAAAAAABAkqAN\n",
       "AAAAAAAAQJKgDQAAAAAAAECSoA0AAAAAAABAkqANAAAAAAAAQJKgDQAAAAAAAECSoA0AAAAAAABA\n",
       "kqANAAAAAAAAQJKgDQAAAAAAAECSoA0AAAAAAABAkqANAAAAAAAAQJKgDQAAAAAAAECSoA0AAAAA\n",
       "AABAkqANAAAAAAAAQJKgDQAAAAAAAECSoA0AAAAAAABAkqANAAAAAAAAQJKgDQAAAAAAAECSoA0A\n",
       "AAAAAABAkqANAAAAAAAAQJKgDQAAAAAAAECSoA0AAAAAAABAkqANAAAAAAAAQJKgDQAAAAAAAECS\n",
       "oA0AAAAAAABAkqANAAAAAAAAQJKgDQAAAAAAAECSoA0AAAAAAABAkqANAAAAAAAAQJKgDQAAAAAA\n",
       "AECSoA0AAAAAAABAkqANAAAAAAAAQJKgDQAAAAAAAECSoA0AAAAAAABAkqANAAAAAAAAQJKgDQAA\n",
       "AAAAAECSoA0AAAAAAABAkqANAAAAAAAAQJKgDQAAAAAAAECSoA0AAAAAAABAkqANAAAAAAAAQJKg\n",
       "DQAAAAAAAECSoA0AAAAAAABAkqANAAAAAAAAQJKgDQAAAAAAAECSoA0AAAAAAABAkqANAAAAAAAA\n",
       "QJKgDQAAAAAAAECSoA0AAAAAAABAkqANAMhElP8AABpRSURBVAAAAAAAQJKgDQAAAAAAAECSoA0A\n",
       "AAAAAABAkqANAAAAAAAAQJKgDQAAAAAAAECSoA0AAAAAAABAkqANAAAAAAAAQJKgDQAAAAAAAECS\n",
       "oA0AAAAAAABAkqANAAAAAAAAQJKgDQAAAAAAAECSoA0AAAAAAABAkqANAAAAAAAAQJKgDQAAAAAA\n",
       "AECSoA0AAAAAAABAkqANAAAAAAAAQJKgDQAAAAAAAECSoA0AAAAAAABAkqANAAAAAAAAQJKgDQAA\n",
       "AAAAAECSoA0AAAAAAABAkqANAAAAAAAAQJKgDQAAAAAAAECSoA0AAAAAAABAkqANAAAAAAAAQJKg\n",
       "DQAAAAAAAECSoA0AAAAAAABAkqANAAAAAAAAQJKgDQAAAAAAAECSoA0AAAAAAABAkqANAAAAAAAA\n",
       "QJKgDQAAAAAAAECSoA0AAAAAAABAkqANAAAAAAAAQJKgDQAAAAAAAECSoA0AAAAAAABAkqANAAAA\n",
       "AAAAQJKgDQAAAAAAAECSoA0AAAAAAABAkqANAAAAAAAAQJKgDQAAAAAAAECSoA0AAAAAAABAkqAN\n",
       "AAAAAAAAQJKgDQAAAAAAAECSoA0AAAAAAABAkqANAAAAAAAAQJKgDQAAAAAAAECSoA0AAAAAAABA\n",
       "kqANAAAAAAAAQJKgDQAAAAAAAECSoA0AAAAAAABAkqANAAAAAAAAQJKgDQAAAAAAAECSoA0AAAAA\n",
       "AABAkqANAAAAAAAAQJKgDQAAAAAAAECSoA0AAAAAAABAkqANAAAAAAAAQJKgDQAAAAAAAECSoA0A\n",
       "AAAAAABAkqANAAAAAAAAQJKgDQAAAAAAAECSoA0AAAAAAABAkqANAAAAAAAAQJKgDQAAAAAAAECS\n",
       "oA0AAAAAAABAkqANAAAAAAAAQJKgDQAAAAAAAECSoA0AAAAAAABAkqANAAAAAAAAQJKgDQAAAAAA\n",
       "AECSoA0AAAAAAABAkqANAAAAAAAAQJKgDQAAAAAAAECSoA0AAAAAAABAkqANAAAAAAAAQJKgDQAA\n",
       "AAAAAECSoA0AAAAAAABAkqANAAAAAAAAQJKgDQAAAAAAAECSoA0AAAAAAABAkqANAAAAAAAAQNLx\n",
       "efm1vQF6ntsDmJmZx217Aafr9gBmZuayPYCTmwAAAADgPY65b0/g5WO+ticwXmgDAAAAAAAAECVo\n",
       "AwAAAAAAAJAkaAMAAAAAAACQJGgDAAAAAAAAkCRoAwAAAAAAAJAkaAMAAAAAAACQJGgDAAAAAAAA\n",
       "kCRoAwAAAAAAAJAkaAMAAAAAAACQJGgDAAAAAAAAkCRoAwAAAAAAAJAkaAMAAAAAAACQJGgDAAAA\n",
       "AAAAkCRoAwAAAAAAAJAkaAMAAAAAAACQJGgDAAAAAAAAkCRoAwAAAAAAAJAkaAMAAAAAAACQJGgD\n",
       "AAAAAAAAkCRoAwAAAAAAAJAkaAMAAAAAAACQJGgDAAAAAAAAkCRoAwAAAAAAAJAkaAMAAAAAAACQ\n",
       "JGgDAAAAAAAAkCRoAwAAAAAAAJAkaAMAAAAAAACQJGgDAAAAAAAAkCRoAwAAAAAAAJAkaAMAAAAA\n",
       "AACQJGgDAAAAAAAAkCRoAwAAAAAAAJAkaAMAAAAAAACQJGgDAAAAAAAAkCRoAwAAAAAAAJAkaAMA\n",
       "AAAAAACQJGgDAAAAAAAAkCRoAwAAAAAAAJAkaAMAAAAAAACQJGgDAAAAAAAAkCRoAwAAAAAAAJAk\n",
       "aAMAAAAAAACQJGgDAAAAAAAAkCRoAwAAAAAAAJAkaAMAAAAAAACQJGgDAAAAAAAAkCRoAwAAAAAA\n",
       "AJAkaAMAAAAAAACQJGgDAAAAAAAAkCRoAwAAAAAAAJAkaAMAAAAAAACQJGgDAAAAAAAAkCRoAwAA\n",
       "AAAAAJAkaAMAAAAAAACQJGgDAAAAAAAAkCRoAwAAAAAAAJAkaAMAAAAAAACQJGgDAAAAAAAAkCRo\n",
       "AwAAAAAAAJAkaAMAAAAAAACQJGgDAAAAAAAAkCRoAwAAAAAAAJAkaAMAAAAAAACQJGgDAAAAAAAA\n",
       "kCRoAwAAAAAAAJAkaAMAAAAAAACQJGgDAAAAAAAAkCRoAwAAAAAAAJAkaAMAAAAAAACQJGgDAAAA\n",
       "AAAAkCRoAwAAAAAAAJAkaAMAAAAAAACQJGgDAAAAAAAAkCRoAwAAAAAAAJAkaAMAAAAAAACQJGgD\n",
       "AAAAAAAAkCRoAwAAAAAAAJAkaAMAAAAAAACQJGgDAAAAAAAAkCRoAwAAAAAAAJAkaAMAAAAAAACQ\n",
       "JGgDAAAAAAAAkCRoAwAAAAAAAJAkaAMAAAAAAACQJGgDAAAAAAAAkCRoAwAAAAAAAJAkaAMAAAAA\n",
       "AACQJGgDAAAAAAAAkCRoAwAAAAAAAJAkaAMAAAAAAACQJGgDAAAAAAAAkCRoAwAAAAAAAJAkaAMA\n",
       "AAAAAACQJGgDAAAAAAAAkCRoAwAAAAAAAJAkaAMAAAAAAACQJGgDAAAAAAAAkCRoAwAAAAAAAJAk\n",
       "aAMAAAAAAACQJGgDAAAAAAAAkCRoAwAAAAAAAJAkaAMAAAAAAACQJGgDAAAAAAAAkCRoAwAAAAAA\n",
       "AJAkaAMAAAAAAACQJGgDAAAAAAAAkCRoAwAAAAAAAJAkaAMAAAAAAACQJGgDAAAAAAAAkCRoAwAA\n",
       "AAAAAJAkaAMAAAAAAACQJGgDAAAAAAAAkCRoAwAAAAAAAJAkaAMAAAAAAACQJGgDAAAAAAAAkCRo\n",
       "AwAAAAAAAJAkaAMAAAAAAACQJGgDAAAAAAAAkCRoAwAAAAAAAJAkaAMAAAAAAACQJGgDAAAAAAAA\n",
       "kCRoAwAAAAAAAJAkaAMAAAAAAACQJGgDAAAAAAAAkCRoAwAAAAAAAJAkaAMAAAAAAACQJGgDAAAA\n",
       "AAAAkCRoAwAAAAAAAJAkaAMAAAAAAACQJGgDAAAAAAAAkCRoAwAAAAAAAJAkaAMAAAAAAACQJGgD\n",
       "AAAAAAAAkCRoAwAAAAAAAJAkaAMAAAAAAACQJGgDAAAAAAAAkCRoAwAAAAAAAJAkaAMAAAAAAACQ\n",
       "JGgDAAAAAAAAkCRoAwAAAAAAAJAkaAMAAAAAAACQJGgDAAAAAAAAkCRoAwAAAAAAAJB03P/93t7A\n",
       "j+v2AIh5bg/g9LhtL2Bm/ChKLtsDOLkLAAAAAN7jmPv2BMYLbQAAAAAAAACiBG0AAAAAAAAAkgRt\n",
       "AAAAAAAAAJIEbQAAAAAAAACSBG0AAAAAAAAAkgRtAAAAAAAAAJIEbQAAAAAAAACSBG0AAAAAAAAA\n",
       "kgRtAAAAAAAAAJIEbQAAAAAAAACSBG0AAAAAAAAAkgRtAAAAAAAAAJIEbQAAAAAAAACSBG0AAAAA\n",
       "AAAAkgRtAAAAAAAAAJIEbQAAAAAAAACSBG0AAAAAAAAAkgRtAAAAAAAAAJIEbQAAAAAAAACSBG0A\n",
       "AAAAAAAAkgRtAAAAAAAAAJIEbQAAAAAAAACSBG0AAAAAAAAAkgRtAAAAAAAAAJIEbQAAAAAAAACS\n",
       "BG0AAAAAAAAAkgRtAAAAAAAAAJIEbQAAAAAAAACSBG0AAAAAAAAAkgRtAAAAAAAAAJIEbQAAAAAA\n",
       "AACSBG0AAAAAAAAAkgRtAAAAAAAAAJIEbQAAAAAAAACSBG0AAAAAAAAAkgRtAAAAAAAAAJIEbQAA\n",
       "AAAAAACSBG0AAAAAAAAAkgRtAAAAAAAA+G7fDnEQBqIoig6hovvfJgKJKElxVVjyb8g5K3hm8sXN\n",
       "AEmCNgAAAAAAAABJgjYAAAAAAAAASYI2AAAAAAAAAEmCNgAAAAAAAABJgjYAAAAAAAAASYI2AAAA\n",
       "AAAAAEmCNgAAAAAAAABJgjYAAAAAAAAASYI2AAAAAAAAAEmCNgAAAAAAAABJgjYAAAAAAAAASYI2\n",
       "AAAAAAAAAEmCNgAAAAAAAABJgjYAAAAAAAAASYI2AAAAAAAAAEmCNgAAAAAAAABJgjYAAAAAAAAA\n",
       "SYI2AAAAAAAAAEmCNgAAAAAAAABJgjYAAAAAAAAASYI2AAAAAAAAAEmCNgAAAAAAAABJgjYAAAAA\n",
       "AAAASYI2AAAAAAAAAEmCNgAAAAAAAABJgjYAAAAAAAAASYI2AAAAAAAAAEmCNgAAAAAAAABJgjYA\n",
       "AAAAAAAASYI2AAAAAAAAAEmCNgAAAAAAAABJgjYAAAAAAAAASYI2AAAAAAAAAEmCNgAAAAAAAABJ\n",
       "gjYAAAAAAAAASYI2AAAAAAAAAEmCNgAAAAAAAABJgjYAAAAAAAAASYI2AAAAAAAAAEmCNgAAAAAA\n",
       "AABJgjYAAAAAAAAASYI2AAAAAAAAAEmCNgAAAAAAAABJgjYAAAAAAAAASYI2AAAAAAAAAEmCNgAA\n",
       "AAAAAABJgjYAAAAAAAAASYI2AAAAAAAAAEmCNgAAAAAAAABJgjYAAAAAAAAASYI2AAAAAAAAAEmC\n",
       "NgAAAAAAAABJgjYAAAAAAAAASYI2AAAAAAAAAEmCNgAAAAAAAABJgjYAAAAAAAAASYI2AAAAAAAA\n",
       "AEmCNgAAAAAAAABJgjYAAAAAAAAASYI2AAAAAAAAAEmCNgAAAAAAAABJgjYAAAAAAAAASYI2AAAA\n",
       "AAAAAEmCNgAAAAAAAABJgjYAAAAAAAAASYI2AAAAAAAAAEmCNgAAAAAAAABJgjYAAAAAAAAASYI2\n",
       "AAAAAAAAAEmCNgAAAAAAAABJgjYAAAAAAAAASYI2AAAAAAAAAEmCNgAAAAAAAABJgjYAAAAAAAAA\n",
       "SYI2AAAAAAAAAEmCNgAAAAAAAABJgjYAAAAAAAAASYI2AAAAAAAAAEmCNgAAAAAAAABJgjYAAAAA\n",
       "AAAASYI2AAAAAAAAAEmCNgAAAAAAAABJgjYAAAAAAAAASYI2AAAAAAAAAEmCNgAAAAAAAABJgjYA\n",
       "AAAAAAAASYI2AAAAAAAAAEmCNgAAAAAAAABJgjYAAAAAAAAASYI2AAAAAAAAAEmCNgAAAAAAAABJ\n",
       "gjYAAAAAAAAASYI2AAAAAAAAAEmCNgAAAAAAAABJgjYAAAAAAAAASYI2AAAAAAAAAEmCNgAAAAAA\n",
       "AABJgjYAAAAAAAAASYI2AAAAAAAAAEmCNgAAAAAAAABJgjYAAAAAAAAASYI2AAAAAAAAAEmCNgAA\n",
       "AAAAAABJgjYAAAAAAAAASdvreExvgJ779ACIOacHsNZa69inF3BxKDpu0wNYa3kTAAAAAPyKH9oA\n",
       "AAAAAAAAJAnaAAAAAAAAACQJ2gAAAAAAAAAkCdoAAAAAAAAAJAnaAAAAAAAAACQJ2gAAAAAAAAAk\n",
       "CdoAAAAAAAAAJAnaAAAAAAAAACQJ2gAAAAAAAAAkCdoAAAAAAAAAJAnaAAAAAAAAACQJ2gAAAAAA\n",
       "AAAkCdoAAAAAAAAAJAnaAAAAAAAAACQJ2gAAAAAAAAAkCdoAAAAAAAAAJAnaAAAAAAAAACQJ2gAA\n",
       "AAAAAAAkCdoAAAAAAAAAJAnaAAAAAAAAACQJ2gAAAAAAAAAkCdoAAAAAAAAAJAnaAAAAAAAAACQJ\n",
       "2gAAAAAAAAAkCdoAAAAAAAAAJAnaAAAAAAAAACQJ2gAAAAAAAAAkCdoAAAAAAAAAJAnaAAAAAAAA\n",
       "ACQJ2gAAAAAAAAAkCdoAAAAAAAAAJAnaAAAAAAAAACQJ2gAAAAAAAAAkCdoAAAAAAAAAJAnaAAAA\n",
       "AAAAACQJ2gAAAAAAAAAkCdoAAAAAAAAAJAnaAAAAAAAAACQJ2gAAAAAAAAAkCdoAAAAAAAAAJAna\n",
       "AAAAAAAAACQJ2gAAAAAAAAAkCdoAAAAAAAAAJAnaAAAAAAAAACQJ2gAAAAAAAAAkCdoAAAAAAAAA\n",
       "JAnaAAAAAAAAACQJ2gAAAAAAAAAkCdoAAAAAAAAAJAnaAAAAAAAAACQJ2gAAAAAAAAAkCdoAAAAA\n",
       "AAAAJAnaAAAAAAAAACQJ2gAAAAAAAAAkCdoAAAAAAAAAJAnaAAAAAAAAACQJ2gAAAAAAAAAkCdoA\n",
       "AAAAAAAAJAnaAAAAAAAAACQJ2gAAAAAAAAAkCdoAAAAAAAAAJAnaAAAAAAAAACQJ2gAAAAAAAAAk\n",
       "CdoAAAAAAAAAJAnaAAAAAAAAACQJ2gAAAAAAAAAkCdoAAAAAAAAAJAnaAAAAAAAAACQJ2gAAAAAA\n",
       "AAAkCdoAAAAAAAAAJAnaAAAAAAAAACQJ2gAAAAAAAAAkCdoAAAAAAAAAJAnaAAAAAAAAACQJ2gAA\n",
       "AAAAAAAkCdoAAAAAAAAAJAnaAAAAAAAAACQJ2gAAAAAAAAAkCdoAAAAAAAAAJAnaAAAAAAAAACQJ\n",
       "2gAAAAAAAAAkCdoAAAAAAAAAJAnaAAAAAAAAACQJ2gAAAAAAAAAkCdoAAAAAAAAAJAnaAAAAAAAA\n",
       "ACQJ2gAAAAAAAAAkCdoAAAAAAAAAJAnaAAAAAAAAACQJ2gAAAAAAAAAkCdoAAAAAAAAAJAnaAAAA\n",
       "AAAAACQJ2gAAAAAAAAAkCdoAAAAAAAAAJAnaAAAAAAAAACQJ2gAAAAAAAAAkCdoAAAAAAAAAJAna\n",
       "AAAAAAAAACQJ2gAAAAAAAAAkCdoAAAAAAAAAJAnaAAAAAAAAACQJ2gAAAAAAAAAkCdoAAAAAAAAA\n",
       "JAnaAAAAAAAAACQJ2gAAAAAAAAAkCdoAAAAAAAAAJAnaAAAAAAAAACQJ2gAAAAAAAAAkCdoAAAAA\n",
       "AAAAJAnaAAAAAAAAACQJ2gAAAAAAAAAkCdoAAAAAAAAAJAnaAAAAAAAAACQJ2gAAAAAAAAAkCdoA\n",
       "AAAAAAAAJAnaAAAAAAAAACQJ2gAAAAAAAAAkCdoAAAAAAAAAJAnaAAAAAAAAACQJ2gAAAAAAAAAk\n",
       "CdoAAAAAAAAAJAnaAAAAAAAAACQJ2gAAAAAAAAAkCdoAAAAAAAAAJAnaAAAAAAAAACQJ2gAAAAAA\n",
       "AAAkCdoAAAAAAAAAJAnaAAAAAAAAACQJ2gAAAAAAAAAkCdoAAAAAAAAAJAnaAAAAAAAAACQJ2gAA\n",
       "AAAAAAAkCdoAAAAAAAAAJAnaAAAAAAAAACQJ2gAAAAAAAAAkCdoAAAAAAAAAJAnaAAAAAAAAACQJ\n",
       "2gAAAAAAAAAkCdoAAAAAAAAAJAnaAAAAAAAAACQJ2gAAAAAAAAAkCdoAAAAAAAAAJAnaAAAAAAAA\n",
       "ACRtx/s5vQHgu/v0AIg5pwdwOfbpBVwci4bb9AAu3gQAAADwX/zQBgAAAAAAACBJ0AYAAAAAAAAg\n",
       "SdAGAAAAAAAAIEnQBgAAAAAAACBJ0AYAAAAAAAAgSdAGAAAAAAAAIEnQBgAAAAAAACBJ0AYAAAAA\n",
       "AAAgSdAGAAAAAAAAIEnQBgAAAAAAACBJ0AYAAAAAAAAgSdAGAAAAAAAAIEnQBgAAAAAAACBJ0AYA\n",
       "AAAAAAAgSdAGAAAAAAAAIEnQBgAAAAAAACBJ0AYAAAAAAAAgSdAGAAAAAAAAIEnQBgAAAAAAACBJ\n",
       "0AYAAAAAAAAgSdAGAAAAAAAAIEnQBgAAAAAAACBJ0AYAAAAAAAAgSdAGAAAAAAAAIEnQBgAAAAAA\n",
       "ACBJ0AYAAAAAAAAgSdAGAAAAAAAAIEnQBgAAAAAAACBJ0AYAAAAAAAAgSdAGAAAAAAAAIEnQBgAA\n",
       "AAAAACBJ0AYAAAAAAAAgSdAGAAAAAAAAIEnQBgAAAAAAACBJ0AYAAAAAAAAgSdAGAAAAAAAAIEnQ\n",
       "BgAAAAAAACBJ0AYAAAAAAAAgSdAGAAAAAAAAIEnQBgAAAAAAACBJ0AYAAAAAAAAgSdAGAAAAAAAA\n",
       "IEnQBgAAAAAAACBJ0AYAAAAAAAAgSdAGAAAAAAAAIEnQBgAAAAAAACBJ0AYAAAAAAAAgSdAGAAAA\n",
       "AAAAIEnQBgAAAAAAACBJ0AYAAAAAAAAgSdAGAAAAAAAAIEnQBgAAAAAAACBJ0AYAAAAAAAAgSdAG\n",
       "AAAAAAAAIEnQBgAAAAAAACBJ0AYAAAAAAAAgSdAGAAAAAAAAIEnQBgAAAAAAACBJ0AYAAAAAAAAg\n",
       "SdAGAAAAAAAAIEnQBgAAAAAAACBJ0AYAAAAAAAAgSdAGAAAAAAAAIEnQBgAAAAAAACBJ0AYAAAAA\n",
       "AAAgSdAGAAAAAAAAIEnQBgAAAAAAACBJ0AYAAAAAAAAgSdAGAAAAAAAAIEnQBgAAAAAAACBJ0AYA\n",
       "AAAAAAAgSdAGAAAAAAAAIEnQBgAAAAAAACBJ0AYAAAAAAAAgSdAGAAAAAAAAIEnQBgAAAAAAACBJ\n",
       "0AYAAAAAAAAgSdAGAAAAAAAAIEnQBgAAAAAAACBJ0AYAAAAAAAAgSdAGAAAAAAAAIEnQBgAAAAAA\n",
       "ACBJ0AYAAAAAAAAgSdAGAAAAAAAAIEnQBgAAAAAAACBJ0AYAAAAAAAAgSdAGAAAAAAAAIEnQBgAA\n",
       "AAAAACBJ0AYAAAAAAAAgSdAGAAAAAAAAIEnQBgAAAAAAACBJ0AYAAAAAAAAgSdAGAAAAAAAAIEnQ\n",
       "BgAAAAAAACBJ0AYAAAAAAAAgSdAGAAAAAAAAIEnQBgAAAAAAACBJ0AYAAAAAAAAgSdAGAAAAAAAA\n",
       "IEnQBgAAAAAAACBJ0AYAAAAAAAAgSdAGAAAAAAAAIEnQBgAAAAAAACBJ0AYAAAAAAAAgSdAGAAAA\n",
       "AAAAIEnQBgAAAAAAACBJ0AYAAAAAAAAgSdAGAAAAAAAAIEnQBgAAAAAAACBJ0AYAAAAAAAAgSdAG\n",
       "AAAAAAAAIEnQBgAAAAAAACBJ0AYAAAAAAAAgSdAGAAAAAAAAIEnQBgAAAAAAACBJ0AYAAAAAAAAg\n",
       "SdAGAAAAAAAAIEnQBgAAAAAAACBJ0AYAAAAAAAAgSdAGAAAAAAAAIEnQBgAAAAAAACBJ0AYAAAAA\n",
       "AAAgSdAGAAAAAAAAIEnQBgAAAAAAACBJ0AYAAAAAAAAgSdAGAAAAAAAAIEnQBgAAAAAAACBJ0AYA\n",
       "AAAAAAAgSdAGAAAAAAAAIEnQBgAAAAAAACBJ0AYAAAAAAAAgSdAGAAAAAAAAIEnQBgAAAAAAACBJ\n",
       "0AYAAAAAAAAgSdAGAAAAAAAAIEnQBgAAAAAAACBJ0AYAAAAAAAAgSdAGAAAAAAAAIEnQBgAAAAAA\n",
       "ACBJ0AYAAAAAAAAgSdAGAAAAAAAAIEnQBgAAAAAAACBJ0AYAAAAAAAAg6QOTVlHRuHqeKAAAAABJ\n",
       "RU5ErkJggg==\n",
       "\" transform=\"translate(141, 47)\"/>\n",
       "</g>\n",
       "<defs>\n",
       "  <clipPath id=\"clip1903\">\n",
       "    <rect x=\"2160\" y=\"47\" width=\"73\" height=\"1441\"/>\n",
       "  </clipPath>\n",
       "</defs>\n",
       "<g clip-path=\"url(#clip1903)\">\n",
       "<image width=\"72\" height=\"1440\" xlink:href=\"data:image/png;base64,\n",
       "iVBORw0KGgoAAAANSUhEUgAAAEgAAAWgCAYAAAD9wgUPAAAMT0lEQVR4nO3dwY3sRhAFQY5Q/lsh\n",
       "L6XfLQtUeSQPERYsEg8kmpyZ/f17/r4P/+uvt/+ArxMoCBQECgKFOffft/+GT7OgIFAQKAgUBApz\n",
       "3cVWFhQECgIFgcLc4yK9saAgUBAoCBQECo4awYKCQEGgIFAQKLiLBQsKAgWBgkDBRTpYUBAoCBQE\n",
       "CgIFr32CBQWBgkBBoOCoESwoCBQECgIFgYK7WLCgIFAQKAgUBArzeGC2sqAgUBAoCBRcpIMFBYGC\n",
       "QEGgIFCYxwOzlQUFgYJAQaAgUHAWCxYUBAoCBYGCi3SwoCBQECgIFAQK85x/3v4bPs2CgkBBoCBQ\n",
       "8FYjWFAQKAgUBAoCBQ/MggUFgYJAQaAgUHAXCxYUBAoCBYHC/O6ft/+GT7OgIFAQKAgUBArzHHex\n",
       "jQUFgYJAQaAgUJifu9jKgoJAQaAgUHDUCBYUBAoCBYGCQGEer31WFhQECgIFgYLnQcGCgkBBoCBQ\n",
       "ECh4YBYsKAgUBAoCBYGCs1iwoCBQECgIFBw1ggUFgYJAQaAgUJjfOW//DZ9mQUGgIFAQKAgUnMWC\n",
       "BQWBgkBBoOAiHSwoCBQECgIFgYJ388GCgkBBoCBQmMdbjZUFBYGCQEGgIFBw1AgWFAQKAgWBgkDB\n",
       "a59gQUGgIFAQKLhIBwsKAgWBgkBBoODLLMGCgkBBoCBQECj48EKwoCBQECgIFDwwCxYUBAoCBYGC\n",
       "QMFRI1hQECgIFAQKLtLBgoJAQaAgUBAoeDcfLCgIFAQKAgWBgtc+wYKCQEGgIFDwwCxYUBAoCBQE\n",
       "CgIFd7FgQUGgIFAQKAgU3MWCBQWBgkBBoDDPuW//DZ9mQUGgIFAQKAgU5rmOGhsLCgIFgYJAwfOg\n",
       "YEFBoCBQECgIFDwwCxYUBAoCBYGCQMFZLFhQECgIFAQKLtLBgoJAQaAgUBAoeGAWLCgIFAQKAgWB\n",
       "grNYsKAgUBAoCBTmcY1eWVAQKAgUBAoCBXexYEFBoCBQECiMLxzuLCgIFAQKAgWBgqNGsKAgUBAo\n",
       "CBQECu5iwYKCQEGgIFBwkQ4WFAQKAgWBgkBhHt9lWVlQECgIFAQKAoW55/f23/BpFhQECgIFgYIH\n",
       "ZsGCgkBBoCBQECjM46ixsqAgUBAoCBTmXhfpjQUFgYJAQaAgUHDUCBYUBAoCBYGCQMFdLFhQECgI\n",
       "FAQKHpgFCwoCBYGCQEGg4KgRLCgIFAQKAgWBwjxHo406QaAgUBAoeGAWLCgIFAQKAgWBggdmwYKC\n",
       "QEGgIFDw4ybBgoJAQaAgUBAozHM12qgTBAoCBYGCQMFZLFhQECgIFAQKLtLBgoJAQaAgUBAo+Bhw\n",
       "UCcIFAQKAgWBgs9JBwsKAgWBgkDBx4CDBQWBgkBBoCBQmOuB2UqdIFAQKAgUPA8KFhQECgIFgYJA\n",
       "wQOzYEFBoCBQECgIFDwwC+oEgYJAQaDggVmwoCBQECgIFAQKvpIZLCgIFAQKAgWBwly/YbZSJwgU\n",
       "BAoCBe/mgwUFgYJAQaAgUPDALFhQECgIFAQK3s0HCwoCBYGCQEGg4GPAQZ0gUBAoCBQECs5iwYKC\n",
       "QEGgIFDwViNYUBAoCBQECgIFR41gQUGgIFAQKAgUvPYJ6gSBgkBBoOCoESwoCBQECgIFgYLXPsGC\n",
       "gkBBoCBQcNQIFhQECgIFgYJAwVuNoE4QKAgUBAoCBWexYEFBoCBQECi4SAcLCgIFgYJAQaDgLhYs\n",
       "KAgUBAoCBYGCT5gFCwoCBYGCQGGOf5+1UicIFAQKAgWBggdmwYKCQEGgIFDwPChYUBAoCBQECgIF\n",
       "R41gQUGgIFAQKAgU3MWCBQWBgkBBoOAiHSwoCBQECgIFgYK7WLCgIFAQKAgUBApz3MVWFhQECgIF\n",
       "gYKjRrCgIFAQKAgUBAruYsGCgkBBoCBQcJEOFhQECgIFgYJAwV0sWFAQKAgUBAoCBXexYEFBoCBQ\n",
       "ECj4AFWwoCBQECgIFAQKjhrBgoJAQaAgUBAouIsFCwoCBYGCQMF/ZgnqBIGCQEGgIFBw1AgWFAQK\n",
       "AgWBgnfzwYKCQEGgIFAQKDhqBAsKAgWBgkBBoOAsFiwoCBQECgIFR41gQUGgIFAQKAgU3MWCBQWB\n",
       "gkBBoCBQ8MAsWFAQKAgUBApzHxfpjQUFgYJAQaAgUHDUCBYUBAoCBYGCtxrBgoJAQaAgUBAozLlv\n",
       "/wnfZkFBoCBQECgIFJzFggUFgYJAQaDgrUawoCBQECgIFAQKc3zCbGVBQaAgUBAoCBQ8MAsWFAQK\n",
       "AgWBggdmwYKCQEGgIFAQKDhqBAsKAgWBgkBhztt/wcdZUBAoCBQECgIFR41gQUGgIFAQKAgUvPYJ\n",
       "FhQECgIFgYIfmgwWFAQKAgWBgkDBUSNYUBAoCBQECgIFv2EWLCgIFAQKAgUPzIIFBYGCQEGgIFDw\n",
       "CbNgQUGgIFAQKPgyS7CgIFAQKAgUBAqOGsGCgkBBoCBQECg4iwULCgIFgYJAwVEjWFAQKAgUBAoC\n",
       "BV9mCRYUBAoCBYGCQGF8l2VnQUGgIFAQKDhqBAsKAgWBgkBBoOCoESwoCBQECgIFR41gQUGgIFAQ\n",
       "KAgUHDWCBQWBgkBBoCBQcBYLFhQECgIFgYJfAw4WFAQKAgWBgkDBzyUHCwoCBYGCQEGg4CwWLCgI\n",
       "FAQKAoU5jhorCwoCBYGCQEGgMNdRY2VBQaAgUBAo+ABVsKAgUBAoCBQECr7MEiwoCBQECgIFgYJ3\n",
       "88GCgkBBoCBQ8G4+WFAQKAgUBAoCBe/mgwUFgYJAQaAgUPCvjIMFBYGCQEGg4BNmwYKCQEGgIFAQ\n",
       "KHhgFiwoCBQECgIFz4OCBQWBgkBBoCBQcNQIFhQECgIFgYJAweekgwUFgYJAQaDgG4fBgoJAQaAg\n",
       "UBAo+PWXYEFBoCBQECgIFJzFggUFgYJAQaDgIh0sKAgUBAoCBYGCf2UcLCgIFAQKAgVHjWBBQaAg\n",
       "UBAoCBS8mw8WFAQKAgWBgkDBWSxYUBAoCBQECi7SwYKCQEGgIFAQKHhgFiwoCBQECgIFgYKzWLCg\n",
       "IFAQKAgU/FxysKAgUBAoCBQECn4uOVhQECgIFAQKngcFCwoCBYGCQEGg4N18sKAgUBAoCBQECs5i\n",
       "wYKCQEGgIFCY+7hKbywoCBQECgIFgYKjRrCgIFAQKAgUBApe+wQLCgIFgYJAwVEjWFAQKAgUBAoC\n",
       "BUeNYEFBoCBQECg4agQLCgIFgYJAQaDge/PBgoJAQaAgUBAozPE56ZUFBYGCQEGg4KgRLCgIFAQK\n",
       "AgWBgqNGsKAgUBAoCBQECn70P1hQECgIFAQKcz0xW1lQECgIFAQKAgVHjWBBQaAgUBAo+DJLsKAg\n",
       "UBAoCBQECn4uOVhQECgIFAQKAgVnsWBBQaAgUBAo+BhwsKAgUBAoCBQECh6YBQsKAgWBgkBBoOAs\n",
       "FiwoCBQECgIFF+lgQUGgIFAQKAgU5vhK5sqCgkBBoCBQ8FYjWFAQKAgUBAoCBQ/MggUFgYJAQaAg\n",
       "UHAXCxYUBAoCBYGCi3SwoCBQECgIFAQKcx8/NbmxoCBQECgIFAQKzmLBgoJAQaAgUJjzc9TYWFAQ\n",
       "KAgUBAoChTkemK0sKAgUBAoCBRfpYEFBoCBQECgIFLybDxYUBAoCBYGCQGHOz7v5jQUFgYJAQaDg\n",
       "gVmwoCBQECgIFAQK7mLBgoJAQaAgUBAoeO0TLCgIFAQKAoU5z5+3/4ZPs6AgUBAoCBQECh6YBQsK\n",
       "AgWBgkBhrqPGyoKCQEGgIFAQKDhqBAsKAgWBgkBBoOAuFiwoCBQECgIFD8yCBQWBgkBBoCBQcNQI\n",
       "FhQECgIFgYJAwVksWFAQKAgUBAq+cRgsKAgUBAoCBYHCnOsutrGgIFAQKAgUHDWCBQWBgkBBoCBQ\n",
       "mOuosbKgIFAQKAgUBArOYsGCgkBBoCBQ8AGqYEFBoCBQECgIFLybDxYUBAoCBYGCQMEDs2BBQaAg\n",
       "UBAoeDcfLCgIFAQKAgWBgtc+wYKCQEGgIFBw1AgWFAQKAgWBgkDBW41gQUGgIFAQKAgUnMWCBQWB\n",
       "gkBBoOCtRrCgIFAQKAgUBAqOGsGCgkBBoCBQECh47RMsKAgUBAoChbnXA7ONBQWBgkBBoCBQcNQI\n",
       "FhQECgIFgcI89779N3yaBQWBgkBBoCBQmMdRY2VBQaAgUBAoCBR8wixYUBAoCBQECo4awYKCQEGg\n",
       "IFAQKHg3HywoCBQECgIFgcI8HpitLCgIFAQKAgVHjWBBQaAgUBAoCBS89gkWFAQKAgWBwn8v2/BP\n",
       "X8iooQAAAABJRU5ErkJggg==\n",
       "\" transform=\"translate(2161, 47)\"/>\n",
       "</g>\n",
       "<g clip-path=\"url(#clip1900)\">\n",
       "<text style=\"fill:#000000; fill-opacity:1; font-family:Arial,Helvetica Neue,Helvetica,sans-serif; font-size:48px; text-anchor:start;\" transform=\"rotate(0, 2268.76, 1346.82)\" x=\"2268.76\" y=\"1346.82\">5</text>\n",
       "</g>\n",
       "<g clip-path=\"url(#clip1900)\">\n",
       "<text style=\"fill:#000000; fill-opacity:1; font-family:Arial,Helvetica Neue,Helvetica,sans-serif; font-size:48px; text-anchor:start;\" transform=\"rotate(0, 2268.76, 1089.63)\" x=\"2268.76\" y=\"1089.63\">10</text>\n",
       "</g>\n",
       "<g clip-path=\"url(#clip1900)\">\n",
       "<text style=\"fill:#000000; fill-opacity:1; font-family:Arial,Helvetica Neue,Helvetica,sans-serif; font-size:48px; text-anchor:start;\" transform=\"rotate(0, 2268.76, 832.447)\" x=\"2268.76\" y=\"832.447\">15</text>\n",
       "</g>\n",
       "<g clip-path=\"url(#clip1900)\">\n",
       "<text style=\"fill:#000000; fill-opacity:1; font-family:Arial,Helvetica Neue,Helvetica,sans-serif; font-size:48px; text-anchor:start;\" transform=\"rotate(0, 2268.76, 575.263)\" x=\"2268.76\" y=\"575.263\">20</text>\n",
       "</g>\n",
       "<g clip-path=\"url(#clip1900)\">\n",
       "<text style=\"fill:#000000; fill-opacity:1; font-family:Arial,Helvetica Neue,Helvetica,sans-serif; font-size:48px; text-anchor:start;\" transform=\"rotate(0, 2268.76, 318.079)\" x=\"2268.76\" y=\"318.079\">25</text>\n",
       "</g>\n",
       "<g clip-path=\"url(#clip1900)\">\n",
       "<text style=\"fill:#000000; fill-opacity:1; font-family:Arial,Helvetica Neue,Helvetica,sans-serif; font-size:48px; text-anchor:start;\" transform=\"rotate(0, 2268.76, 60.8953)\" x=\"2268.76\" y=\"60.8953\">30</text>\n",
       "</g>\n",
       "<polyline clip-path=\"url(#clip1900)\" style=\"stroke:#000000; stroke-width:4; stroke-opacity:1; fill:none\" points=\"\n",
       "  2232.76,1487.47 2232.76,1333.16 2256.76,1333.16 2232.76,1333.16 2232.76,1075.98 2256.76,1075.98 2232.76,1075.98 2232.76,818.796 2256.76,818.796 2232.76,818.796 \n",
       "  2232.76,561.612 2256.76,561.612 2232.76,561.612 2232.76,304.428 2256.76,304.428 2232.76,304.428 2232.76,47.2441 2256.76,47.2441 2232.76,47.2441 \n",
       "  \n",
       "  \"/>\n",
       "</svg>\n"
      ]
     },
     "execution_count": 16,
     "metadata": {},
     "output_type": "execute_result"
    }
   ],
   "source": [
    "plot(x,y,z', seriestype=:heatmap)"
   ]
  },
  {
   "cell_type": "code",
   "execution_count": 27,
   "metadata": {},
   "outputs": [
    {
     "name": "stderr",
     "output_type": "stream",
     "text": [
      "┌ Warning: interpolate(A, BSpline(Linear()), OnGrid()) is deprecated, use interpolate(A, BSpline(Linear()))\n",
      "│   caller = dice_interpolate(::Array{Float64,1}, ::Int64) at helpers.jl:61\n",
      "└ @ Main C:\\Users\\Kevin\\Documents\\GitHub\\DICEFARM\\src_annualized\\helpers.jl:61\n",
      "┌ Warning: `getindex(itp::AbstractInterpolation{T, N}, i::Vararg{ExpandedIndexTypes, N}) where {T, N}` is deprecated, use `itp(i...)` instead.\n",
      "│   caller = dice_interpolate(::Array{Float64,1}, ::Int64) at helpers.jl:67\n",
      "└ @ Main C:\\Users\\Kevin\\Documents\\GitHub\\DICEFARM\\src_annualized\\helpers.jl:67\n"
     ]
    },
    {
     "data": {
      "text/plain": [
       "ByAnimals_outcome (generic function with 2 methods)"
      ]
     },
     "execution_count": 27,
     "metadata": {},
     "output_type": "execute_result"
    }
   ],
   "source": [
    "include(\"helpers_SCWOptimization.jl\")"
   ]
  },
  {
   "cell_type": "code",
   "execution_count": 28,
   "metadata": {},
   "outputs": [
    {
     "data": {
      "text/plain": [
       "159595.84742321615"
      ]
     },
     "execution_count": 28,
     "metadata": {},
     "output_type": "execute_result"
    }
   ],
   "source": [
    "veg_outcome(-.41, 1.9, .004)"
   ]
  },
  {
   "cell_type": "code",
   "execution_count": 23,
   "metadata": {},
   "outputs": [
    {
     "name": "stdout",
     "output_type": "stream",
     "text": [
      "\r\n"
     ]
    },
    {
     "data": {
      "text/plain": [
       "Electron.Window(Application(Base.PipeEndpoint(Base.Libc.WindowsRawSocket(0x00000000000009d8) open, 0 bytes waiting), Process(`\u001b[4m'C:\\Users\\Kevin\\.julia\\packages\\Electron\\aRIgh\\src\\..\\deps\\electron\\electron.exe'\u001b[24m \u001b[4m'C:\\Users\\Kevin\\.julia\\packages\\Electron\\aRIgh\\src\\main.js'\u001b[24m \u001b[4m'\\\\.\\pipe\\juliaelectron-9620-1'\u001b[24m \u001b[4m'\\\\.\\pipe\\juliaelectron-sysnotify-9620-1'\u001b[24m \u001b[4mExRhmNNcfR4ky9BeI9oDluRPGu34LkX0Zmz5UQF/IN5w1T+mnfcmg1grkqqbv21ywz+LYnnT0nVtJQ9jwV9E8ixdrCg+fbw9TWjYrA1qVdejB4L970fOb/DNUq6mDHAOEpH2eU9M0qf7Q0VH6j1O+6Ys51wSnMBCtM+YU2TQ5CI=\u001b[24m`, ProcessRunning), [1 window]), 1, true, Channel{Any}(sz_max:128,sz_curr:0))"
      ]
     },
     "execution_count": 23,
     "metadata": {},
     "output_type": "execute_result"
    }
   ],
   "source": [
    "explore(m)"
   ]
  },
  {
   "cell_type": "code",
   "execution_count": null,
   "metadata": {},
   "outputs": [],
   "source": []
  },
  {
   "cell_type": "code",
   "execution_count": null,
   "metadata": {},
   "outputs": [],
   "source": []
  },
  {
   "cell_type": "code",
   "execution_count": null,
   "metadata": {},
   "outputs": [],
   "source": []
  },
  {
   "cell_type": "code",
   "execution_count": null,
   "metadata": {},
   "outputs": [],
   "source": []
  },
  {
   "cell_type": "code",
   "execution_count": null,
   "metadata": {},
   "outputs": [],
   "source": []
  },
  {
   "cell_type": "code",
   "execution_count": null,
   "metadata": {},
   "outputs": [],
   "source": []
  },
  {
   "cell_type": "code",
   "execution_count": null,
   "metadata": {},
   "outputs": [],
   "source": []
  },
  {
   "cell_type": "code",
   "execution_count": null,
   "metadata": {},
   "outputs": [],
   "source": []
  },
  {
   "cell_type": "code",
   "execution_count": null,
   "metadata": {},
   "outputs": [],
   "source": []
  },
  {
   "cell_type": "code",
   "execution_count": null,
   "metadata": {},
   "outputs": [],
   "source": []
  },
  {
   "cell_type": "code",
   "execution_count": null,
   "metadata": {},
   "outputs": [],
   "source": []
  },
  {
   "cell_type": "code",
   "execution_count": null,
   "metadata": {},
   "outputs": [],
   "source": []
  },
  {
   "cell_type": "code",
   "execution_count": null,
   "metadata": {},
   "outputs": [],
   "source": []
  },
  {
   "cell_type": "code",
   "execution_count": null,
   "metadata": {},
   "outputs": [],
   "source": []
  },
  {
   "cell_type": "code",
   "execution_count": null,
   "metadata": {},
   "outputs": [],
   "source": []
  },
  {
   "cell_type": "code",
   "execution_count": null,
   "metadata": {},
   "outputs": [],
   "source": []
  },
  {
   "cell_type": "code",
   "execution_count": null,
   "metadata": {},
   "outputs": [],
   "source": []
  },
  {
   "cell_type": "code",
   "execution_count": null,
   "metadata": {},
   "outputs": [],
   "source": []
  },
  {
   "cell_type": "code",
   "execution_count": null,
   "metadata": {},
   "outputs": [],
   "source": []
  },
  {
   "cell_type": "code",
   "execution_count": null,
   "metadata": {},
   "outputs": [],
   "source": []
  },
  {
   "cell_type": "raw",
   "metadata": {},
   "source": []
  },
  {
   "cell_type": "code",
   "execution_count": 59,
   "metadata": {},
   "outputs": [],
   "source": [
    "New \t= create_AnimalWelfareOpt()\n",
    "\tset_param!(New, :farm, :BeefReduc, .5)\n",
    "\tset_param!(New, :farm, :PoultryReduc, .5)\n",
    "\tset_param!(New, :farm, :PorkReduc, .5)\n",
    "run(New)"
   ]
  },
  {
   "cell_type": "code",
   "execution_count": 60,
   "metadata": {},
   "outputs": [
    {
     "name": "stdout",
     "output_type": "stream",
     "text": [
      "\r\n"
     ]
    },
    {
     "data": {
      "text/plain": [
       "Electron.Window(Application(Base.PipeEndpoint(Base.Libc.WindowsRawSocket(0x0000000000000670) open, 0 bytes waiting), Process(`\u001b[4m'C:\\Users\\Kevin\\.julia\\packages\\Electron\\aRIgh\\src\\..\\deps\\electron\\electron.exe'\u001b[24m \u001b[4m'C:\\Users\\Kevin\\.julia\\packages\\Electron\\aRIgh\\src\\main.js'\u001b[24m \u001b[4m'\\\\.\\pipe\\juliaelectron-8032-1'\u001b[24m \u001b[4m'\\\\.\\pipe\\juliaelectron-sysnotify-8032-1'\u001b[24m \u001b[4m8VfCWiO990ui4dMKP1RszRGkgvBviciKL9oMTVPMWbB1j4Nhkrk7Jt3LqP4kwp2jcSC84suh87jJRGNIfy5qsR7AMEd32FMoHWbbObV8JsGN1zkO3zGtmkh2nyCFJFIeb1CRJYWk0v2Ftd4FboN8e428nQLE3Z3TWamYyMJmHHs=\u001b[24m`, ProcessRunning), [1 window]), 1, true, Channel{Any}(sz_max:128,sz_curr:0))"
      ]
     },
     "execution_count": 60,
     "metadata": {},
     "output_type": "execute_result"
    }
   ],
   "source": [
    "explore(New)"
   ]
  },
  {
   "cell_type": "code",
   "execution_count": 74,
   "metadata": {},
   "outputs": [
    {
     "data": {
      "text/plain": [
       "f (generic function with 2 methods)"
      ]
     },
     "execution_count": 74,
     "metadata": {},
     "output_type": "execute_result"
    }
   ],
   "source": [
    "function f(x)\n",
    "   y = x[1] + x[2] + x[3]\n",
    "    return y\n",
    "end\n"
   ]
  },
  {
   "cell_type": "code",
   "execution_count": 75,
   "metadata": {},
   "outputs": [
    {
     "data": {
      "text/plain": [
       "6"
      ]
     },
     "execution_count": 75,
     "metadata": {},
     "output_type": "execute_result"
    }
   ],
   "source": [
    "f([1 2 3])"
   ]
  },
  {
   "cell_type": "code",
   "execution_count": null,
   "metadata": {},
   "outputs": [],
   "source": []
  }
 ],
 "metadata": {
  "kernelspec": {
   "display_name": "Julia 1.3.0",
   "language": "julia",
   "name": "julia-1.3"
  },
  "language_info": {
   "file_extension": ".jl",
   "mimetype": "application/julia",
   "name": "julia",
   "version": "1.3.0"
  }
 },
 "nbformat": 4,
 "nbformat_minor": 2
}
