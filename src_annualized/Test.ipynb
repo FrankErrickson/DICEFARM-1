{
 "cells": [
  {
   "cell_type": "code",
   "execution_count": 1,
   "metadata": {},
   "outputs": [
    {
     "name": "stderr",
     "output_type": "stream",
     "text": [
      "┌ Warning: interpolate(A, BSpline(Linear()), OnGrid()) is deprecated, use interpolate(A, BSpline(Linear()))\n",
      "│   caller = dice_interpolate(::Array{Float64,1}, ::Int64) at helpers.jl:61\n",
      "└ @ Main C:\\Users\\Kevin\\Documents\\GitHub\\DICEFARM\\src_annualized\\helpers.jl:61\n",
      "┌ Warning: `getindex(itp::AbstractInterpolation{T, N}, i::Vararg{ExpandedIndexTypes, N}) where {T, N}` is deprecated, use `itp(i...)` instead.\n",
      "│   caller = dice_interpolate(::Array{Float64,1}, ::Int64) at helpers.jl:67\n",
      "└ @ Main C:\\Users\\Kevin\\Documents\\GitHub\\DICEFARM\\src_annualized\\helpers.jl:67\n"
     ]
    },
    {
     "data": {
      "text/plain": [
       "ByAnimals_outcome (generic function with 2 methods)"
      ]
     },
     "execution_count": 1,
     "metadata": {},
     "output_type": "execute_result"
    }
   ],
   "source": [
    "include(\"helpers_SCWOptimization.jl\")"
   ]
  },
  {
   "cell_type": "code",
   "execution_count": 4,
   "metadata": {},
   "outputs": [
    {
     "data": {
      "text/plain": [
       "ByAnimal_outcome (generic function with 1 method)"
      ]
     },
     "execution_count": 4,
     "metadata": {},
     "output_type": "execute_result"
    }
   ],
   "source": [
    "function ByAnimal_outcome(x)\n",
    "\tm \t= create_AnimalWelfareOpt()\n",
    "\tset_param!(m, :farm, :BeefReduc, x[1])\n",
    "\tset_param!(m, :farm, :PoultryReduc, x[2])\n",
    "\tset_param!(m, :farm, :PorkReduc, x[3])\n",
    "\trun(m)\n",
    "\treturn m[:welfare, :UTILITY]\n",
    "end"
   ]
  },
  {
   "cell_type": "code",
   "execution_count": null,
   "metadata": {},
   "outputs": [
    {
     "name": "stderr",
     "output_type": "stream",
     "text": [
      "┌ Warning: interpolate(A, BSpline(Linear()), OnGrid()) is deprecated, use interpolate(A, BSpline(Linear()))\n",
      "│   caller = dice_interpolate(::Array{Float64,1}, ::Int64) at helpers.jl:61\n",
      "└ @ Main C:\\Users\\Kevin\\Documents\\GitHub\\DICEFARM\\src_annualized\\helpers.jl:61\n"
     ]
    },
    {
     "name": "stdout",
     "output_type": "stream",
     "text": [
      "Ran once\n"
     ]
    },
    {
     "name": "stderr",
     "output_type": "stream",
     "text": [
      "┌ Warning: `getindex(itp::AbstractInterpolation{T, N}, i::Vararg{ExpandedIndexTypes, N}) where {T, N}` is deprecated, use `itp(i...)` instead.\n",
      "│   caller = dice_interpolate(::Array{Float64,1}, ::Int64) at helpers.jl:67\n",
      "└ @ Main C:\\Users\\Kevin\\Documents\\GitHub\\DICEFARM\\src_annualized\\helpers.jl:67\n"
     ]
    },
    {
     "name": "stdout",
     "output_type": "stream",
     "text": [
      "Costs of Non-Veg in Baseline are [161337.33936651584, 135183.23981900452, 112568.80542986425, 92753.52036199094, 75197.80090497738, 59498.01357466063, 45344.9592760181, 32497.69230769231, 20764.615384615383, 9991.746606334842, 53.42986425339367, -9154.199095022625, -17717.45701357466, -25708.904977375565, -33190.407239819004, -40214.515837104074, -46826.74208144796, -53066.20814479638, -58966.88687782805, -64559.05882352941][2]\n",
      "Costs of Beef in Baseline are 54.52488687782805\n",
      "Costs of Pork in Baseline are 31.739819004524886\n",
      "Costs of Poultry in Baseline are 314.99095022624437\n"
     ]
    },
    {
     "name": "stderr",
     "output_type": "stream",
     "text": [
      "┌ Warning: interpolate(A, BSpline(Linear()), OnGrid()) is deprecated, use interpolate(A, BSpline(Linear()))\n",
      "│   caller = dice_interpolate(::Array{Float64,1}, ::Int64) at helpers.jl:61\n",
      "└ @ Main C:\\Users\\Kevin\\Documents\\GitHub\\DICEFARM\\src_annualized\\helpers.jl:61\n"
     ]
    },
    {
     "name": "stdout",
     "output_type": "stream",
     "text": [
      "Optimal Vegetarian Share is [0.711730957010077]"
     ]
    },
    {
     "name": "stderr",
     "output_type": "stream",
     "text": [
      "┌ Warning: `getindex(itp::AbstractInterpolation{T, N}, i::Vararg{ExpandedIndexTypes, N}) where {T, N}` is deprecated, use `itp(i...)` instead.\n",
      "│   caller = dice_interpolate(::Array{Float64,1}, ::Int64) at helpers.jl:67\n",
      "└ @ Main C:\\Users\\Kevin\\Documents\\GitHub\\DICEFARM\\src_annualized\\helpers.jl:67\n"
     ]
    }
   ],
   "source": [
    "include(\"SCW_Analysis.jl\")"
   ]
  },
  {
   "cell_type": "code",
   "execution_count": 49,
   "metadata": {},
   "outputs": [
    {
     "ename": "MethodError",
     "evalue": "MethodError: Cannot `convert` an object of type Array{Float64,1} to an object of type Float64\nClosest candidates are:\n  convert(::Type{Float64}, !Matched::DoubleFloats.DoubleFloat{Float64}) at C:\\Users\\Kevin\\.julia\\packages\\DoubleFloats\\kS0UB\\src\\type\\convert.jl:9\n  convert(::Type{T}, !Matched::DoubleFloats.DoubleFloat{DoubleFloats.DoubleFloat{T}}) where T<:Union{Float16, Float32, Float64} at C:\\Users\\Kevin\\.julia\\packages\\DoubleFloats\\kS0UB\\src\\type\\convert.jl:37\n  convert(::Type{T}, !Matched::Ratios.SimpleRatio{S}) where {T<:AbstractFloat, S} at C:\\Users\\Kevin\\.julia\\packages\\Ratios\\iJ67w\\src\\Ratios.jl:16\n  ...",
     "output_type": "error",
     "traceback": [
      "MethodError: Cannot `convert` an object of type Array{Float64,1} to an object of type Float64\nClosest candidates are:\n  convert(::Type{Float64}, !Matched::DoubleFloats.DoubleFloat{Float64}) at C:\\Users\\Kevin\\.julia\\packages\\DoubleFloats\\kS0UB\\src\\type\\convert.jl:9\n  convert(::Type{T}, !Matched::DoubleFloats.DoubleFloat{DoubleFloats.DoubleFloat{T}}) where T<:Union{Float16, Float32, Float64} at C:\\Users\\Kevin\\.julia\\packages\\DoubleFloats\\kS0UB\\src\\type\\convert.jl:37\n  convert(::Type{T}, !Matched::Ratios.SimpleRatio{S}) where {T<:AbstractFloat, S} at C:\\Users\\Kevin\\.julia\\packages\\Ratios\\iJ67w\\src\\Ratios.jl:16\n  ...",
      "",
      "Stacktrace:",
      " [1] setindex!(::Array{Float64,2}, ::Array{Float64,1}, ::Int64, ::Int64) at .\\array.jl:784",
      " [2] top-level scope at In[49]:23"
     ]
    }
   ],
   "source": [
    "plot3d(uAs, alphas, )"
   ]
  },
  {
   "cell_type": "code",
   "execution_count": 52,
   "metadata": {},
   "outputs": [
    {
     "data": {
      "text/plain": [
       "132943.19316425573"
      ]
     },
     "execution_count": 52,
     "metadata": {},
     "output_type": "execute_result"
    }
   ],
   "source": [
    "veg_outcome(.2, 1., .004)"
   ]
  },
  {
   "cell_type": "code",
   "execution_count": 55,
   "metadata": {},
   "outputs": [
    {
     "data": {
      "text/plain": [
       "1-element Array{Float64,1}:\n",
       " 0.711730957010077"
      ]
     },
     "execution_count": 55,
     "metadata": {},
     "output_type": "execute_result"
    }
   ],
   "source": [
    "alphas \t= collect(.002: .001: .008)\n",
    "uAs \t= collect(.9:.1:1.9)\n",
    "\n",
    "DiffOpts = zeros(length(uAs), length(alphas))\n",
    "Suffering = 1.\n",
    "alpha = .004\n",
    "\tfunction optveg(x, grad)\n",
    "\t\tif length(grad)>0\n",
    "\t\tgrad[1] = 1000\n",
    "\t\tend\n",
    "    \tresult = veg_outcome(x[1], Suffering, alpha)\n",
    "\t\treturn result\n",
    "\tend\n",
    "\n",
    "\topt = Opt(:LN_SBPLX, 1)\n",
    "\topt.lower_bounds=[0.]\n",
    "\topt.upper_bounds=[.9999999999]\n",
    "\tinit = [.5]\n",
    "\topt.xtol_rel = 1e-4\n",
    "\topt.max_objective = optveg\n",
    "\tsol = optimize(opt, init)[2]"
   ]
  },
  {
   "cell_type": "code",
   "execution_count": 58,
   "metadata": {},
   "outputs": [
    {
     "data": {
      "text/plain": [
       "0.711730957010077"
      ]
     },
     "execution_count": 58,
     "metadata": {},
     "output_type": "execute_result"
    }
   ],
   "source": [
    "x = ones(2)\n",
    "x[1] = sol[1]"
   ]
  },
  {
   "cell_type": "code",
   "execution_count": 46,
   "metadata": {},
   "outputs": [
    {
     "name": "stderr",
     "output_type": "stream",
     "text": [
      "┌ Warning: interpolate(A, BSpline(Linear()), OnGrid()) is deprecated, use interpolate(A, BSpline(Linear()))\n",
      "│   caller = dice_interpolate(::Array{Float64,1}, ::Int64) at helpers.jl:61\n",
      "└ @ Main C:\\Users\\Kevin\\Documents\\GitHub\\DICEFARM\\src_annualized\\helpers.jl:61\n",
      "┌ Warning: `getindex(itp::AbstractInterpolation{T, N}, i::Vararg{ExpandedIndexTypes, N}) where {T, N}` is deprecated, use `itp(i...)` instead.\n",
      "│   caller = dice_interpolate(::Array{Float64,1}, ::Int64) at helpers.jl:67\n",
      "└ @ Main C:\\Users\\Kevin\\Documents\\GitHub\\DICEFARM\\src_annualized\\helpers.jl:67\n"
     ]
    },
    {
     "data": {
      "text/plain": [
       "17676.376383763836"
      ]
     },
     "execution_count": 46,
     "metadata": {},
     "output_type": "execute_result"
    }
   ],
   "source": [
    "include(\"AnimalWelfareModel.jl\")\t\n",
    "tempM = create_AnimalWelfare()\n",
    "\tset_param!(tempM, :welfare, :elasmu, .8)\n",
    "    set_param!(tempM, :neteconomy, :CEQ, 0)\n",
    "\trun(tempM)\n",
    "\tTempBaseWelfare = tempM[:welfare, :UTILITY]\n",
    "\tBeefPulse = copy(OrigBeef)\n",
    "\tPorkPulse = copy(OrigPork)\n",
    "\tPoultryPulse = copy(OrigPoultry)\n",
    "\n",
    "\tMargCons = create_AnimalWelfare()\n",
    "\tset_param!(MargCons, :welfare, :elasmu, .8)\n",
    "\tset_param!(MargCons, :neteconomy, :CEQ, 1e-9)\n",
    "\trun(MargCons)\n",
    "\ttempSCNumeraire = TempBaseWelfare - MargCons[:welfare, :UTILITY]\n",
    "\n",
    "\tBeefPulse[6] = OrigBeef[6] + 1000*1.1*(4.8) \t\t\t\t#Add pulse to year 2020; pump up for Veg diets\n",
    "\tPorkPulse[6] = OrigPork[6]  + 1000*1.1*(2.7)\n",
    "\tPoultryPulse[6] = OrigPoultry[6] + 1000*1.1*(6.7)\n",
    "\n",
    "\tVegPulse = create_AnimalWelfare()\n",
    "\tset_param!(VegPulse, :welfare, :elasmu, .8)\n",
    "\tset_param!(VegPulse, :farm, :Beef, BeefPulse)\n",
    "\tset_param!(VegPulse, :farm, :Poultry, PoultryPulse)\n",
    "\tset_param!(VegPulse, :farm, :Pork, PorkPulse)\n",
    "\trun(VegPulse)\n",
    "\tVegWelfare = VegPulse[:welfare, :UTILITY]\n",
    "\tBenefitOfVegetarianEta = (TempBaseWelfare - VegWelfare)/tempSCNumeraire"
   ]
  },
  {
   "cell_type": "code",
   "execution_count": 26,
   "metadata": {},
   "outputs": [
    {
     "data": {
      "text/plain": [
       "1.3096723705530167e-10"
      ]
     },
     "execution_count": 26,
     "metadata": {},
     "output_type": "execute_result"
    }
   ],
   "source": [
    "tempSCNumeraire"
   ]
  },
  {
   "cell_type": "code",
   "execution_count": 28,
   "metadata": {},
   "outputs": [
    {
     "data": {
      "text/plain": [
       "1762.4342737543284"
      ]
     },
     "execution_count": 28,
     "metadata": {},
     "output_type": "execute_result"
    }
   ],
   "source": [
    "VegWelfare"
   ]
  },
  {
   "cell_type": "code",
   "execution_count": 29,
   "metadata": {},
   "outputs": [
    {
     "data": {
      "text/plain": [
       "-32444.45589645549"
      ]
     },
     "execution_count": 29,
     "metadata": {},
     "output_type": "execute_result"
    }
   ],
   "source": [
    "TempBaseWelfare"
   ]
  },
  {
   "cell_type": "code",
   "execution_count": 40,
   "metadata": {},
   "outputs": [
    {
     "data": {
      "text/plain": [
       "Electron.Window(Application(Base.PipeEndpoint(Base.Libc.WindowsRawSocket(0x00000000000005b4) open, 0 bytes waiting), Process(`\u001b[4m'C:\\Users\\Kevin\\.julia\\packages\\Electron\\aRIgh\\src\\..\\deps\\electron\\electron.exe'\u001b[24m \u001b[4m'C:\\Users\\Kevin\\.julia\\packages\\Electron\\aRIgh\\src\\main.js'\u001b[24m \u001b[4m'\\\\.\\pipe\\juliaelectron-12196-1'\u001b[24m \u001b[4m'\\\\.\\pipe\\juliaelectron-sysnotify-12196-1'\u001b[24m \u001b[4mqmg39AZrYaphFY8hWwRDHR+Qj53mdVspx2ykFy7zNgsOyn6G1KblnRRBjfPF2q3DF2zS9U5840f0gnrERuKpfeD0/d9uXRFCs3vvTjNOM65UalMdk+BRgDMdfWssKgX/XtBHpvcY6kxf2YOZACEtUulWI69AJRLJiGf+fsFCjf4=\u001b[24m`, ProcessRunning), [1 window]), 3, true, Channel{Any}(sz_max:128,sz_curr:0))"
      ]
     },
     "execution_count": 40,
     "metadata": {},
     "output_type": "execute_result"
    }
   ],
   "source": [
    "explore(VegPulse)"
   ]
  },
  {
   "cell_type": "code",
   "execution_count": 32,
   "metadata": {},
   "outputs": [
    {
     "data": {
      "text/plain": [
       "Electron.Window(Application(Base.PipeEndpoint(Base.Libc.WindowsRawSocket(0x00000000000005b4) open, 0 bytes waiting), Process(`\u001b[4m'C:\\Users\\Kevin\\.julia\\packages\\Electron\\aRIgh\\src\\..\\deps\\electron\\electron.exe'\u001b[24m \u001b[4m'C:\\Users\\Kevin\\.julia\\packages\\Electron\\aRIgh\\src\\main.js'\u001b[24m \u001b[4m'\\\\.\\pipe\\juliaelectron-12196-1'\u001b[24m \u001b[4m'\\\\.\\pipe\\juliaelectron-sysnotify-12196-1'\u001b[24m \u001b[4mqmg39AZrYaphFY8hWwRDHR+Qj53mdVspx2ykFy7zNgsOyn6G1KblnRRBjfPF2q3DF2zS9U5840f0gnrERuKpfeD0/d9uXRFCs3vvTjNOM65UalMdk+BRgDMdfWssKgX/XtBHpvcY6kxf2YOZACEtUulWI69AJRLJiGf+fsFCjf4=\u001b[24m`, ProcessRunning), [2 windows]), 2, true, Channel{Any}(sz_max:128,sz_curr:0))"
      ]
     },
     "execution_count": 32,
     "metadata": {},
     "output_type": "execute_result"
    }
   ],
   "source": [
    "explore(MargCons)"
   ]
  },
  {
   "cell_type": "code",
   "execution_count": 39,
   "metadata": {},
   "outputs": [
    {
     "data": {
      "image/svg+xml": [
       "<?xml version=\"1.0\" encoding=\"utf-8\"?>\n",
       "<svg xmlns=\"http://www.w3.org/2000/svg\" xmlns:xlink=\"http://www.w3.org/1999/xlink\" width=\"600\" height=\"400\" viewBox=\"0 0 2400 1600\">\n",
       "<defs>\n",
       "  <clipPath id=\"clip6700\">\n",
       "    <rect x=\"0\" y=\"0\" width=\"2400\" height=\"1600\"/>\n",
       "  </clipPath>\n",
       "</defs>\n",
       "<path clip-path=\"url(#clip6700)\" d=\"\n",
       "M0 1600 L2400 1600 L2400 0 L0 0  Z\n",
       "  \" fill=\"#ffffff\" fill-rule=\"evenodd\" fill-opacity=\"1\"/>\n",
       "<defs>\n",
       "  <clipPath id=\"clip6701\">\n",
       "    <rect x=\"480\" y=\"0\" width=\"1681\" height=\"1600\"/>\n",
       "  </clipPath>\n",
       "</defs>\n",
       "<path clip-path=\"url(#clip6700)\" d=\"\n",
       "M344.363 1487.47 L2352.76 1487.47 L2352.76 47.2441 L344.363 47.2441  Z\n",
       "  \" fill=\"#ffffff\" fill-rule=\"evenodd\" fill-opacity=\"1\"/>\n",
       "<defs>\n",
       "  <clipPath id=\"clip6702\">\n",
       "    <rect x=\"344\" y=\"47\" width=\"2009\" height=\"1441\"/>\n",
       "  </clipPath>\n",
       "</defs>\n",
       "<polyline clip-path=\"url(#clip6702)\" style=\"stroke:#000000; stroke-width:2; stroke-opacity:0.1; fill:none\" points=\"\n",
       "  398.627,1487.47 398.627,47.2441 \n",
       "  \"/>\n",
       "<polyline clip-path=\"url(#clip6702)\" style=\"stroke:#000000; stroke-width:2; stroke-opacity:0.1; fill:none\" points=\"\n",
       "  914.194,1487.47 914.194,47.2441 \n",
       "  \"/>\n",
       "<polyline clip-path=\"url(#clip6702)\" style=\"stroke:#000000; stroke-width:2; stroke-opacity:0.1; fill:none\" points=\"\n",
       "  1429.76,1487.47 1429.76,47.2441 \n",
       "  \"/>\n",
       "<polyline clip-path=\"url(#clip6702)\" style=\"stroke:#000000; stroke-width:2; stroke-opacity:0.1; fill:none\" points=\"\n",
       "  1945.33,1487.47 1945.33,47.2441 \n",
       "  \"/>\n",
       "<polyline clip-path=\"url(#clip6702)\" style=\"stroke:#000000; stroke-width:2; stroke-opacity:0.1; fill:none\" points=\"\n",
       "  344.363,1169.69 2352.76,1169.69 \n",
       "  \"/>\n",
       "<polyline clip-path=\"url(#clip6702)\" style=\"stroke:#000000; stroke-width:2; stroke-opacity:0.1; fill:none\" points=\"\n",
       "  344.363,820.174 2352.76,820.174 \n",
       "  \"/>\n",
       "<polyline clip-path=\"url(#clip6702)\" style=\"stroke:#000000; stroke-width:2; stroke-opacity:0.1; fill:none\" points=\"\n",
       "  344.363,470.659 2352.76,470.659 \n",
       "  \"/>\n",
       "<polyline clip-path=\"url(#clip6702)\" style=\"stroke:#000000; stroke-width:2; stroke-opacity:0.1; fill:none\" points=\"\n",
       "  344.363,121.143 2352.76,121.143 \n",
       "  \"/>\n",
       "<polyline clip-path=\"url(#clip6700)\" style=\"stroke:#000000; stroke-width:4; stroke-opacity:1; fill:none\" points=\"\n",
       "  344.363,1487.47 2352.76,1487.47 \n",
       "  \"/>\n",
       "<polyline clip-path=\"url(#clip6700)\" style=\"stroke:#000000; stroke-width:4; stroke-opacity:1; fill:none\" points=\"\n",
       "  344.363,1487.47 344.363,47.2441 \n",
       "  \"/>\n",
       "<polyline clip-path=\"url(#clip6700)\" style=\"stroke:#000000; stroke-width:4; stroke-opacity:1; fill:none\" points=\"\n",
       "  398.627,1487.47 398.627,1470.19 \n",
       "  \"/>\n",
       "<polyline clip-path=\"url(#clip6700)\" style=\"stroke:#000000; stroke-width:4; stroke-opacity:1; fill:none\" points=\"\n",
       "  914.194,1487.47 914.194,1470.19 \n",
       "  \"/>\n",
       "<polyline clip-path=\"url(#clip6700)\" style=\"stroke:#000000; stroke-width:4; stroke-opacity:1; fill:none\" points=\"\n",
       "  1429.76,1487.47 1429.76,1470.19 \n",
       "  \"/>\n",
       "<polyline clip-path=\"url(#clip6700)\" style=\"stroke:#000000; stroke-width:4; stroke-opacity:1; fill:none\" points=\"\n",
       "  1945.33,1487.47 1945.33,1470.19 \n",
       "  \"/>\n",
       "<polyline clip-path=\"url(#clip6700)\" style=\"stroke:#000000; stroke-width:4; stroke-opacity:1; fill:none\" points=\"\n",
       "  344.363,1169.69 368.464,1169.69 \n",
       "  \"/>\n",
       "<polyline clip-path=\"url(#clip6700)\" style=\"stroke:#000000; stroke-width:4; stroke-opacity:1; fill:none\" points=\"\n",
       "  344.363,820.174 368.464,820.174 \n",
       "  \"/>\n",
       "<polyline clip-path=\"url(#clip6700)\" style=\"stroke:#000000; stroke-width:4; stroke-opacity:1; fill:none\" points=\"\n",
       "  344.363,470.659 368.464,470.659 \n",
       "  \"/>\n",
       "<polyline clip-path=\"url(#clip6700)\" style=\"stroke:#000000; stroke-width:4; stroke-opacity:1; fill:none\" points=\"\n",
       "  344.363,121.143 368.464,121.143 \n",
       "  \"/>\n",
       "<g clip-path=\"url(#clip6700)\">\n",
       "<text style=\"fill:#000000; fill-opacity:1; font-family:Arial,Helvetica Neue,Helvetica,sans-serif; font-size:48px; text-anchor:middle;\" transform=\"rotate(0, 398.627, 1541.47)\" x=\"398.627\" y=\"1541.47\">0</text>\n",
       "</g>\n",
       "<g clip-path=\"url(#clip6700)\">\n",
       "<text style=\"fill:#000000; fill-opacity:1; font-family:Arial,Helvetica Neue,Helvetica,sans-serif; font-size:48px; text-anchor:middle;\" transform=\"rotate(0, 914.194, 1541.47)\" x=\"914.194\" y=\"1541.47\">200</text>\n",
       "</g>\n",
       "<g clip-path=\"url(#clip6700)\">\n",
       "<text style=\"fill:#000000; fill-opacity:1; font-family:Arial,Helvetica Neue,Helvetica,sans-serif; font-size:48px; text-anchor:middle;\" transform=\"rotate(0, 1429.76, 1541.47)\" x=\"1429.76\" y=\"1541.47\">400</text>\n",
       "</g>\n",
       "<g clip-path=\"url(#clip6700)\">\n",
       "<text style=\"fill:#000000; fill-opacity:1; font-family:Arial,Helvetica Neue,Helvetica,sans-serif; font-size:48px; text-anchor:middle;\" transform=\"rotate(0, 1945.33, 1541.47)\" x=\"1945.33\" y=\"1541.47\">600</text>\n",
       "</g>\n",
       "<g clip-path=\"url(#clip6700)\">\n",
       "<text style=\"fill:#000000; fill-opacity:1; font-family:Arial,Helvetica Neue,Helvetica,sans-serif; font-size:48px; text-anchor:start;\" transform=\"rotate(0, 139.272, 1193.42)\" x=\"139.272\" y=\"1193.42\">-</text>\n",
       "</g>\n",
       "<g clip-path=\"url(#clip6700)\">\n",
       "<text style=\"fill:#000000; fill-opacity:1; font-family:Arial,Helvetica Neue,Helvetica,sans-serif; font-size:48px; text-anchor:start;\" transform=\"rotate(0, 167.382, 1193.42)\" x=\"167.382\" y=\"1193.42\">3×10</text>\n",
       "</g>\n",
       "<g clip-path=\"url(#clip6700)\">\n",
       "<text style=\"fill:#000000; fill-opacity:1; font-family:Arial,Helvetica Neue,Helvetica,sans-serif; font-size:38px; text-anchor:start;\" transform=\"rotate(0, 275.779, 1166.01)\" x=\"275.779\" y=\"1166.01\">-</text>\n",
       "</g>\n",
       "<g clip-path=\"url(#clip6700)\">\n",
       "<text style=\"fill:#000000; fill-opacity:1; font-family:Arial,Helvetica Neue,Helvetica,sans-serif; font-size:38px; text-anchor:start;\" transform=\"rotate(0, 298.619, 1166.01)\" x=\"298.619\" y=\"1166.01\">9</text>\n",
       "</g>\n",
       "<g clip-path=\"url(#clip6700)\">\n",
       "<text style=\"fill:#000000; fill-opacity:1; font-family:Arial,Helvetica Neue,Helvetica,sans-serif; font-size:48px; text-anchor:start;\" transform=\"rotate(0, 139.272, 843.902)\" x=\"139.272\" y=\"843.902\">-</text>\n",
       "</g>\n",
       "<g clip-path=\"url(#clip6700)\">\n",
       "<text style=\"fill:#000000; fill-opacity:1; font-family:Arial,Helvetica Neue,Helvetica,sans-serif; font-size:48px; text-anchor:start;\" transform=\"rotate(0, 167.382, 843.902)\" x=\"167.382\" y=\"843.902\">2×10</text>\n",
       "</g>\n",
       "<g clip-path=\"url(#clip6700)\">\n",
       "<text style=\"fill:#000000; fill-opacity:1; font-family:Arial,Helvetica Neue,Helvetica,sans-serif; font-size:38px; text-anchor:start;\" transform=\"rotate(0, 275.779, 816.492)\" x=\"275.779\" y=\"816.492\">-</text>\n",
       "</g>\n",
       "<g clip-path=\"url(#clip6700)\">\n",
       "<text style=\"fill:#000000; fill-opacity:1; font-family:Arial,Helvetica Neue,Helvetica,sans-serif; font-size:38px; text-anchor:start;\" transform=\"rotate(0, 298.619, 816.492)\" x=\"298.619\" y=\"816.492\">9</text>\n",
       "</g>\n",
       "<g clip-path=\"url(#clip6700)\">\n",
       "<text style=\"fill:#000000; fill-opacity:1; font-family:Arial,Helvetica Neue,Helvetica,sans-serif; font-size:48px; text-anchor:start;\" transform=\"rotate(0, 139.272, 494.386)\" x=\"139.272\" y=\"494.386\">-</text>\n",
       "</g>\n",
       "<g clip-path=\"url(#clip6700)\">\n",
       "<text style=\"fill:#000000; fill-opacity:1; font-family:Arial,Helvetica Neue,Helvetica,sans-serif; font-size:48px; text-anchor:start;\" transform=\"rotate(0, 167.382, 494.386)\" x=\"167.382\" y=\"494.386\">1×10</text>\n",
       "</g>\n",
       "<g clip-path=\"url(#clip6700)\">\n",
       "<text style=\"fill:#000000; fill-opacity:1; font-family:Arial,Helvetica Neue,Helvetica,sans-serif; font-size:38px; text-anchor:start;\" transform=\"rotate(0, 275.779, 466.976)\" x=\"275.779\" y=\"466.976\">-</text>\n",
       "</g>\n",
       "<g clip-path=\"url(#clip6700)\">\n",
       "<text style=\"fill:#000000; fill-opacity:1; font-family:Arial,Helvetica Neue,Helvetica,sans-serif; font-size:38px; text-anchor:start;\" transform=\"rotate(0, 298.619, 466.976)\" x=\"298.619\" y=\"466.976\">9</text>\n",
       "</g>\n",
       "<g clip-path=\"url(#clip6700)\">\n",
       "<text style=\"fill:#000000; fill-opacity:1; font-family:Arial,Helvetica Neue,Helvetica,sans-serif; font-size:48px; text-anchor:end;\" transform=\"rotate(0, 320.363, 138.643)\" x=\"320.363\" y=\"138.643\">0</text>\n",
       "</g>\n",
       "<polyline clip-path=\"url(#clip6702)\" style=\"stroke:#009af9; stroke-width:4; stroke-opacity:1; fill:none\" points=\"\n",
       "  1045.66,121.143 1048.24,121.143 1050.82,121.143 1053.4,121.143 1055.97,121.143 1058.55,88.0053 1061.13,151.51 1063.71,166.656 1066.29,178.725 1068.86,188.242 \n",
       "  1071.44,195.474 1074.02,200.854 1076.6,204.689 1079.18,207.383 1081.75,209.119 1084.33,210.142 1086.91,210.616 1089.49,210.685 1092.06,210.555 1094.64,210.36 \n",
       "  1097.22,209.918 1099.8,209.408 1102.38,208.632 1104.95,207.751 1107.53,206.687 1110.11,205.506 1112.69,204.333 1115.27,203.208 1117.84,202.172 1120.42,201.258 \n",
       "  1123,200.546 1125.58,199.999 1128.15,199.58 1130.73,199.182 1133.31,198.738 1135.89,198.227 1138.47,197.778 1141.04,197.367 1143.62,197.009 1146.2,196.766 \n",
       "  1148.78,196.68 1151.35,196.777 1153.93,196.94 1156.51,197.169 1159.09,197.469 1161.67,197.756 1164.24,198.116 1166.82,198.528 1169.4,199.012 1171.98,199.591 \n",
       "  1174.56,200.268 1177.13,201.143 1179.71,202.152 1182.29,203.25 1184.87,204.369 1187.44,205.489 1190.02,206.608 1192.6,207.749 1195.18,208.919 1197.76,210.111 \n",
       "  1200.33,211.355 1202.91,212.661 1205.49,214.059 1208.07,215.564 1210.65,217.174 1213.22,218.85 1215.8,220.581 1218.38,222.312 1220.96,224.016 1223.53,225.714 \n",
       "  1226.11,227.363 1228.69,229.035 1231.27,230.746 1233.85,232.504 1236.42,234.344 1239,236.309 1241.58,238.38 1244.16,240.553 1246.73,242.671 1249.31,244.703 \n",
       "  1251.89,246.692 1254.47,248.674 1257.05,250.668 1259.62,252.672 1262.2,254.763 1264.78,256.979 1267.36,259.343 1269.94,261.714 1272.51,264.071 1275.09,266.408 \n",
       "  1277.67,268.671 1280.25,270.955 1282.82,273.245 1285.4,275.577 1287.98,277.986 1290.56,280.517 1293.14,283.291 1295.71,286.055 1298.29,288.839 1300.87,291.504 \n",
       "  1303.45,294.143 1306.03,296.756 1308.6,299.359 1311.18,301.974 1313.76,304.636 1316.34,307.427 1318.91,310.427 1321.49,313.581 1324.07,316.606 1326.65,319.656 \n",
       "  1329.23,322.572 1331.8,325.408 1334.38,328.239 1336.96,331.08 1339.54,333.981 1342.11,337.005 1344.69,340.358 1347.27,343.721 1349.85,347.113 1352.43,350.396 \n",
       "  1355,353.535 1357.58,356.545 1360.16,359.56 1362.74,362.57 1365.32,365.6 1367.89,368.694 1370.47,371.968 1373.05,375.375 1375.63,378.797 1378.2,382.234 \n",
       "  1380.78,385.641 1383.36,388.974 1385.94,392.297 1388.52,395.565 1391.09,398.829 1393.67,402.112 1396.25,405.459 1398.83,408.936 1401.41,412.632 1403.98,416.466 \n",
       "  1406.56,420.236 1409.14,423.951 1411.72,427.552 1414.29,430.999 1416.87,434.322 1419.45,437.615 1422.03,440.993 1424.61,444.539 1427.18,448.319 1429.76,452.322 \n",
       "  1432.34,456.147 1434.92,459.996 1437.49,463.582 1440.07,467.014 1442.65,470.387 1445.23,473.75 1447.81,477.147 1450.38,480.664 1452.96,484.458 1455.54,488.327 \n",
       "  1458.12,492.286 1460.7,496.21 1463.27,499.99 1465.85,503.581 1468.43,507.102 1471.01,510.53 1473.58,513.957 1476.16,517.364 1478.74,520.791 1481.32,524.308 \n",
       "  1483.9,527.944 1486.47,531.887 1489.05,535.821 1491.63,539.795 1494.21,543.758 1496.79,547.483 1499.36,551.109 1501.94,554.616 1504.52,558.152 1507.1,561.719 \n",
       "  1509.67,565.364 1512.25,569.278 1514.83,573.431 1517.41,577.643 1519.99,581.696 1522.56,585.58 1525.14,589.275 1527.72,592.881 1530.3,596.447 1532.87,599.934 \n",
       "  1535.45,603.411 1538.03,606.888 1540.61,610.484 1543.19,614.249 1545.76,618.192 1548.34,622.206 1550.92,626.159 1553.5,630.073 1556.08,633.828 1558.65,637.494 \n",
       "  1561.23,640.981 1563.81,644.378 1566.39,647.835 1568.96,651.361 1571.54,655.097 1574.12,659.08 1576.7,663.193 1579.28,667.544 1581.85,671.656 1584.43,675.491 \n",
       "  1587.01,679.186 1589.59,682.663 1592.17,686.12 1594.74,689.537 1597.32,693.113 1599.9,696.948 1602.48,700.971 1605.05,704.905 1607.63,708.898 1610.21,712.753 \n",
       "  1612.79,716.517 1615.37,720.243 1617.94,723.898 1620.52,727.534 1623.1,731.239 1625.68,735.054 1628.25,739.216 1630.83,743.567 1633.41,747.849 1635.99,752.041 \n",
       "  1638.57,755.985 1641.14,759.69 1643.72,763.296 1646.3,766.842 1648.88,770.319 1651.46,773.786 1654.03,777.322 1656.61,780.968 1659.19,784.892 1661.77,789.024 \n",
       "  1664.34,793.217 1666.92,797.309 1669.5,801.342 1672.08,805.107 1674.66,808.763 1677.23,812.18 1679.81,815.568 1682.39,818.965 1684.97,822.531 1687.55,826.336 \n",
       "  1690.12,830.498 1692.7,834.79 1695.28,839.22 1697.86,843.273 1700.43,847.068 1703.01,850.565 1705.59,853.962 1708.17,857.26 1710.75,860.598 1713.32,864.174 \n",
       "  1715.9,868.048 1718.48,872.061 1721.06,875.995 1723.63,879.81 1726.21,883.485 1728.79,886.803 1731.37,890.022 1733.95,893.26 1736.52,896.499 1739.1,899.936 \n",
       "  1741.68,903.81 1744.26,907.922 1746.84,912.134 1749.41,916.128 1751.99,919.684 1754.57,923.081 1757.15,926.26 1759.72,929.32 1762.3,932.3 1764.88,935.479 \n",
       "  1767.46,939.035 1770.04,942.89 1772.61,946.923 1775.19,950.876 1777.77,954.512 1780.35,957.651 1782.93,960.85 1785.5,964.009 1788.08,967.287 1790.66,970.525 \n",
       "  1793.24,973.843 1795.81,977.082 1798.39,980.4 1800.97,983.718 1803.55,986.996 1806.13,990.254 1808.7,993.612 1811.28,996.87 1813.86,1000.11 1816.44,1003.41 \n",
       "  1819.01,1006.7 1821.59,1009.94 1824.17,1013.18 1826.75,1016.36 1829.33,1019.68 1831.9,1022.92 1834.48,1026.08 1837.06,1029.25 1839.64,1032.43 1842.22,1035.59 \n",
       "  1844.79,1038.79 1847.37,1041.97 1849.95,1045.09 1852.53,1048.19 1855.1,1051.31 1857.68,1054.43 1860.26,1057.55 1862.84,1060.59 1865.42,1063.67 1867.99,1066.78 \n",
       "  1870.57,1069.86 1873.15,1072.9 1875.73,1075.94 1878.3,1078.98 1880.88,1081.96 1883.46,1085.04 1886.04,1087.98 1888.62,1091 1891.19,1093.96 1893.77,1096.94 \n",
       "  1896.35,1099.92 1898.93,1102.8 1901.51,1105.78 1904.08,1108.72 1906.66,1111.59 1909.24,1114.53 1911.82,1117.41 1914.39,1120.31 1916.97,1123.21 1919.55,1126.07 \n",
       "  1922.13,1128.95 1924.71,1131.79 1927.28,1134.65 1929.86,1137.41 1932.44,1140.29 1935.02,1143.16 1937.6,1145.94 1940.17,1148.72 1942.75,1151.48 1945.33,1154.24 \n",
       "  1947.91,1157.04 1950.48,1159.75 1953.06,1162.45 1955.64,1165.21 1958.22,1168.01 1960.8,1170.73 1963.37,1173.35 1965.95,1176.02 1968.53,1178.74 1971.11,1181.38 \n",
       "  1973.68,1184.02 1976.26,1186.69 1978.84,1189.23 1981.42,1191.89 1984,1194.53 1986.57,1197.18 1989.15,1199.7 1991.73,1202.28 1994.31,1204.82 1996.89,1207.37 \n",
       "  1999.46,1209.95 2002.04,1212.49 2004.62,1215.04 2007.2,1217.54 2009.77,1220.06 2012.35,1222.63 2014.93,1225.03 2017.51,1227.55 2020.09,1230.04 2022.66,1232.5 \n",
       "  2025.24,1235.04 2027.82,1237.35 2030.4,1239.83 2032.98,1242.26 2035.55,1244.64 2038.13,1247.08 2040.71,1249.45 2043.29,1251.93 2045.86,1254.28 2048.44,1256.62 \n",
       "  2051.02,1258.96 2053.6,1261.39 2056.18,1263.69 2058.75,1266.06 2061.33,1268.34 2063.91,1270.73 2066.49,1273.01 2069.06,1275.32 2071.64,1277.6 2074.22,1279.83 \n",
       "  2076.8,1282.15 2079.38,1284.39 2081.95,1286.62 2084.53,1288.88 2087.11,1291.11 2089.69,1293.36 2092.27,1295.52 2094.84,1297.83 2097.42,1300.01 2100,1302.16 \n",
       "  2102.58,1304.42 2105.15,1306.49 2107.73,1308.75 2110.31,1310.86 2112.89,1313.04 2115.47,1315.23 2118.04,1317.34 2120.62,1319.48 2123.2,1321.55 2125.78,1323.69 \n",
       "  2128.36,1325.8 2130.93,1327.94 2133.51,1330.05 2136.09,1332.24 2138.67,1334.3 2141.24,1336.37 2143.82,1338.51 2146.4,1340.62 2148.98,1342.73 2151.56,1344.87 \n",
       "  2154.13,1346.98 2156.71,1349.04 2159.29,1351.19 2161.87,1353.3 2164.44,1355.4 2167.02,1357.47 2169.6,1359.61 2172.18,1361.88 2174.76,1363.98 2177.33,1366.29 \n",
       "  2179.91,1368.4 2182.49,1370.82 2185.07,1373.08 2187.65,1375.35 2190.22,1377.61 2192.8,1379.92 2195.38,1376.74 2197.96,1374.12 2200.53,1371.85 2203.11,1369.94 \n",
       "  2205.69,1368.4 2208.27,1371.61 2210.85,1374.71 2213.42,1377.73 2216,1380.63 2218.58,1383.53 2221.16,1386.32 2223.74,1389.1 2226.31,1391.68 2228.89,1394.14 \n",
       "  2231.47,1396.73 2234.05,1399.15 2236.62,1401.53 2239.2,1403.84 2241.78,1406.22 2244.36,1408.41 2246.94,1410.67 2249.51,1412.74 2252.09,1414.96 2254.67,1416.99 \n",
       "  2257.25,1419.02 2259.82,1421.04 2262.4,1422.99 2264.98,1424.98 2267.56,1426.89 2270.14,1428.83 2272.71,1430.7 2275.29,1432.61 2277.87,1434.44 2280.45,1436.3 \n",
       "  2283.03,1438.01 2285.6,1439.8 2288.18,1441.55 2290.76,1443.26 2293.34,1445.04 2295.91,1446.71 \n",
       "  \"/>\n",
       "<path clip-path=\"url(#clip6700)\" d=\"\n",
       "M1989.93 251.724 L2280.76 251.724 L2280.76 130.764 L1989.93 130.764  Z\n",
       "  \" fill=\"#ffffff\" fill-rule=\"evenodd\" fill-opacity=\"1\"/>\n",
       "<polyline clip-path=\"url(#clip6700)\" style=\"stroke:#000000; stroke-width:4; stroke-opacity:1; fill:none\" points=\"\n",
       "  1989.93,251.724 2280.76,251.724 2280.76,130.764 1989.93,130.764 1989.93,251.724 \n",
       "  \"/>\n",
       "<polyline clip-path=\"url(#clip6700)\" style=\"stroke:#009af9; stroke-width:4; stroke-opacity:1; fill:none\" points=\"\n",
       "  2013.93,191.244 2157.93,191.244 \n",
       "  \"/>\n",
       "<g clip-path=\"url(#clip6700)\">\n",
       "<text style=\"fill:#000000; fill-opacity:1; font-family:Arial,Helvetica Neue,Helvetica,sans-serif; font-size:48px; text-anchor:start;\" transform=\"rotate(0, 2181.93, 208.744)\" x=\"2181.93\" y=\"208.744\">y1</text>\n",
       "</g>\n",
       "</svg>\n"
      ]
     },
     "execution_count": 39,
     "metadata": {},
     "output_type": "execute_result"
    }
   ],
   "source": [
    "Diff = VegPulse[:welfare, :CPC] - MargCons[:welfare, :CPC]\n",
    "plot(Diff)"
   ]
  },
  {
   "cell_type": "code",
   "execution_count": null,
   "metadata": {},
   "outputs": [],
   "source": []
  }
 ],
 "metadata": {
  "kernelspec": {
   "display_name": "Julia 1.3.0",
   "language": "julia",
   "name": "julia-1.3"
  },
  "language_info": {
   "file_extension": ".jl",
   "mimetype": "application/julia",
   "name": "julia",
   "version": "1.3.0"
  }
 },
 "nbformat": 4,
 "nbformat_minor": 2
}
