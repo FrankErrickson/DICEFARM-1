{
 "cells": [
  {
   "cell_type": "code",
   "execution_count": null,
   "metadata": {},
   "outputs": [
    {
     "name": "stderr",
     "output_type": "stream",
     "text": [
      "┌ Warning: interpolate(A, BSpline(Linear()), OnGrid()) is deprecated, use interpolate(A, BSpline(Linear()))\n",
      "│   caller = dice_interpolate(::Array{Float64,1}, ::Int64) at helpers.jl:61\n",
      "└ @ Main C:\\Users\\Kevin\\Documents\\GitHub\\DICEFARM\\src_annualized\\helpers.jl:61\n",
      "┌ Warning: `getindex(itp::AbstractInterpolation{T, N}, i::Vararg{ExpandedIndexTypes, N}) where {T, N}` is deprecated, use `itp(i...)` instead.\n",
      "│   caller = dice_interpolate(::Array{Float64,1}, ::Int64) at helpers.jl:67\n",
      "└ @ Main C:\\Users\\Kevin\\Documents\\GitHub\\DICEFARM\\src_annualized\\helpers.jl:67\n"
     ]
    }
   ],
   "source": [
    "include(\"FiguresforPNAS.jl\")"
   ]
  },
  {
   "cell_type": "code",
   "execution_count": 49,
   "metadata": {},
   "outputs": [
    {
     "name": "stderr",
     "output_type": "stream",
     "text": [
      "┌ Warning: interpolate(A, BSpline(Linear()), OnGrid()) is deprecated, use interpolate(A, BSpline(Linear()))\n",
      "│   caller = dice_interpolate(::Array{Float64,1}, ::Int64) at helpers.jl:61\n",
      "└ @ Main C:\\Users\\Kevin\\Documents\\GitHub\\DICEFARM\\src_annualized\\helpers.jl:61\n"
     ]
    },
    {
     "name": "stdout",
     "output_type": "stream",
     "text": [
      "Temp Diff is 0.47945142681236286\n"
     ]
    },
    {
     "name": "stderr",
     "output_type": "stream",
     "text": [
      "┌ Warning: `getindex(itp::AbstractInterpolation{T, N}, i::Vararg{ExpandedIndexTypes, N}) where {T, N}` is deprecated, use `itp(i...)` instead.\n",
      "│   caller = dice_interpolate(::Array{Float64,1}, ::Int64) at helpers.jl:67\n",
      "└ @ Main C:\\Users\\Kevin\\Documents\\GitHub\\DICEFARM\\src_annualized\\helpers.jl:67\n"
     ]
    }
   ],
   "source": [
    "using Plots\n",
    "using Roots\n",
    "include(\"DICEFARM_Annual.jl\")\n",
    "include(\"VegSocialCosts.jl\")\n",
    "DICEFARM = create_dice_farm()\n",
    "run(DICEFARM)\n",
    "BaseTemp = DICEFARM[:co2_cycle, :T]\n",
    "BaseWelfare = DICEFARM[:welfare, :UTILITY]\n",
    "DICELength = length(DICEFARM[:farm, :Beef])\n",
    "TwentyTwenty = 2020-1764\n",
    "\n",
    "# ----- Plot against Vegan World ------ #\n",
    "OrigBeef = DICEFARM[:farm, :Beef]\n",
    "OrigDairy = DICEFARM[:farm, :Dairy]\n",
    "OrigPork = DICEFARM[:farm, :Pork]\n",
    "OrigPoultry = DICEFARM[:farm, :Poultry]\n",
    "OrigEggs = DICEFARM[:farm, :Eggs]\n",
    "OrigSheepGoat = DICEFARM[:farm, :SheepGoat]\n",
    "\n",
    "VeganDICE = create_dice_farm()\n",
    "set_param!(VeganDICE, :farm, :Beef, [OrigBeef[1:5]; zeros(DICELength-5)])  \t\t\t#Keep 2015-2019 consumption\n",
    "set_param!(VeganDICE, :farm, :Dairy, [OrigDairy[1:5]; zeros(DICELength-5)])\n",
    "set_param!(VeganDICE, :farm, :Poultry, [OrigPoultry[1:5]; zeros(DICELength-5)])\n",
    "set_param!(VeganDICE, :farm, :Pork, [OrigPork[1:5]; zeros(DICELength-5)])\n",
    "set_param!(VeganDICE, :farm, :Eggs, [OrigEggs[1:5]; zeros(DICELength-5)])\n",
    "set_param!(VeganDICE, :farm, :SheepGoat, [OrigSheepGoat[1:5]; zeros(DICELength-5)])\n",
    "run(VeganDICE)\n",
    "VeganTemp = VeganDICE[:co2_cycle, :T]\n",
    "plotT = 2120\n",
    "t = collect(2020:1:plotT)\n",
    "TempDiff = BaseTemp[TwentyTwenty + length(t)] - VeganTemp[TwentyTwenty+length(t)]\n",
    "println(\"Temp Diff is $TempDiff\")\n",
    "plot(t, [BaseTemp[TwentyTwenty:TwentyTwenty+length(t)-1] VeganTemp[TwentyTwenty:TwentyTwenty+length(t)-1]], linewidth=2, linecolor=[:black :green], label=[\"BAU\" \"Vegan\"], legend=:topleft, linestyle=[:solid :dash])\n",
    "savefig(\"Figures//PNAS//VeganTemp.pdf\")\n",
    "savefig(\"Figures//PNAS//VeganTemp.svg\")\n",
    "\n",
    "# ------ Plot Vegan Pulse vs Gas Pulse ------- #\n",
    "\n",
    "BeefPulse = copy(OrigBeef)\n",
    "DairyPulse = copy(OrigDairy)\n",
    "PorkPulse = copy(OrigPork)\n",
    "PoultryPulse = copy(OrigPoultry)\n",
    "EggsPulse = copy(OrigEggs)\n",
    "SheepGoatPulse = copy(OrigSheepGoat)\n",
    "\n",
    "BeefPulse[6] = OrigBeef[6] + 1000*(4.5) \t\t\t\t#Add pulse to year 2020\n",
    "DairyPulse[6] = OrigDairy[6] + 1000*(8)\n",
    "PorkPulse[6] = OrigPork[6]  + 1000*(2.7)\n",
    "PoultryPulse[6] = OrigPoultry[6] + 1000*(6.5)\n",
    "EggsPulse[6] = OrigEggs[6]  + 1000*(1.6)\n",
    "SheepGoatPulse[6] = OrigSheepGoat[6] + 1000*(.06)\n",
    "\n",
    "#Model With Vegan Pulse\n",
    "VeganPulse = create_dice_farm()\n",
    "set_param!(VeganPulse, :farm, :Beef, BeefPulse)\n",
    "set_param!(VeganPulse, :farm, :Dairy, DairyPulse)\n",
    "set_param!(VeganPulse, :farm, :Poultry, PoultryPulse)\n",
    "set_param!(VeganPulse, :farm, :Pork, PorkPulse)\n",
    "set_param!(VeganPulse, :farm, :Eggs, EggsPulse)\n",
    "set_param!(VeganPulse, :farm, :SheepGoat, SheepGoatPulse)\n",
    "run(VeganPulse)\n",
    "VeganIRF = VeganPulse[:co2_cycle, :T] - BaseTemp\n",
    "\n",
    "##Model with Gasoline Pulse\n",
    "GasPulse = create_dice_farm()\n",
    "T = DICELength\n",
    "pulse = 1000*4.63*1e-9\n",
    "set_param!(GasPulse, :emissions, :Co2Pulse, pulse)\n",
    "run(GasPulse)\n",
    "GasIRF = GasPulse[:co2_cycle, :T] - BaseTemp\n",
    "HHEnergyPulse = create_dice_farm()\n",
    "T = DICELength\n",
    "pulse = 1000*8.67/2.5*1e-9\n",
    "set_param!(HHEnergyPulse, :emissions, :Co2Pulse, pulse)\n",
    "run(HHEnergyPulse)\n",
    "HHEnergyIRF = HHEnergyPulse[:co2_cycle, :T] - BaseTemp\n",
    "plot(t, 1e-3*[VeganIRF[TwentyTwenty:TwentyTwenty+length(t)-1] GasIRF[TwentyTwenty:TwentyTwenty+length(t)-1] HHEnergyIRF[TwentyTwenty:TwentyTwenty+length(t)-1]], legend=:topright, label=[\"Diet\" \"Passenger Vehicle\" \"Household Energy (Per Capita)\"], linewidth=2, linestyle=[:solid :dash :dashdot], color=[:green :black :orange], ylabel=\"Temperature Change (C)\")\n",
    "savefig(\"Figures//PNAS//VeganIRF.pdf\")\n",
    "savefig(\"Figures//PNAS//VeganIRF.svg\")"
   ]
  },
  {
   "cell_type": "code",
   "execution_count": 43,
   "metadata": {},
   "outputs": [
    {
     "name": "stderr",
     "output_type": "stream",
     "text": [
      "┌ Warning: interpolate(A, BSpline(Linear()), OnGrid()) is deprecated, use interpolate(A, BSpline(Linear()))\n",
      "│   caller = dice_interpolate(::Array{Float64,1}, ::Int64) at helpers.jl:61\n",
      "└ @ Main C:\\Users\\Kevin\\Documents\\GitHub\\DICEFARM\\src_annualized\\helpers.jl:61\n"
     ]
    },
    {
     "name": "stdout",
     "output_type": "stream",
     "text": [
      "Our cost under GWP estimates: 65.6587635862705\n"
     ]
    },
    {
     "name": "stderr",
     "output_type": "stream",
     "text": [
      "┌ Warning: `getindex(itp::AbstractInterpolation{T, N}, i::Vararg{ExpandedIndexTypes, N}) where {T, N}` is deprecated, use `itp(i...)` instead.\n",
      "│   caller = dice_interpolate(::Array{Float64,1}, ::Int64) at helpers.jl:67\n",
      "└ @ Main C:\\Users\\Kevin\\Documents\\GitHub\\DICEFARM\\src_annualized\\helpers.jl:67\n"
     ]
    },
    {
     "data": {
      "image/svg+xml": [
       "<?xml version=\"1.0\" encoding=\"utf-8\"?>\n",
       "<svg xmlns=\"http://www.w3.org/2000/svg\" xmlns:xlink=\"http://www.w3.org/1999/xlink\" width=\"600\" height=\"400\" viewBox=\"0 0 2400 1600\">\n",
       "<defs>\n",
       "  <clipPath id=\"clip7700\">\n",
       "    <rect x=\"0\" y=\"0\" width=\"2400\" height=\"1600\"/>\n",
       "  </clipPath>\n",
       "</defs>\n",
       "<path clip-path=\"url(#clip7700)\" d=\"\n",
       "M0 1600 L2400 1600 L2400 0 L0 0  Z\n",
       "  \" fill=\"#ffffff\" fill-rule=\"evenodd\" fill-opacity=\"1\"/>\n",
       "<defs>\n",
       "  <clipPath id=\"clip7701\">\n",
       "    <rect x=\"480\" y=\"0\" width=\"1681\" height=\"1600\"/>\n",
       "  </clipPath>\n",
       "</defs>\n",
       "<path clip-path=\"url(#clip7700)\" d=\"\n",
       "M375.65 1487.47 L2352.76 1487.47 L2352.76 47.2441 L375.65 47.2441  Z\n",
       "  \" fill=\"#ffffff\" fill-rule=\"evenodd\" fill-opacity=\"1\"/>\n",
       "<defs>\n",
       "  <clipPath id=\"clip7702\">\n",
       "    <rect x=\"375\" y=\"47\" width=\"1978\" height=\"1441\"/>\n",
       "  </clipPath>\n",
       "</defs>\n",
       "<polyline clip-path=\"url(#clip7702)\" style=\"stroke:#000000; stroke-width:2; stroke-opacity:0.1; fill:none\" points=\"\n",
       "  524.865,1487.47 524.865,47.2441 \n",
       "  \"/>\n",
       "<polyline clip-path=\"url(#clip7702)\" style=\"stroke:#000000; stroke-width:2; stroke-opacity:0.1; fill:none\" points=\"\n",
       "  991.164,1487.47 991.164,47.2441 \n",
       "  \"/>\n",
       "<polyline clip-path=\"url(#clip7702)\" style=\"stroke:#000000; stroke-width:2; stroke-opacity:0.1; fill:none\" points=\"\n",
       "  1457.46,1487.47 1457.46,47.2441 \n",
       "  \"/>\n",
       "<polyline clip-path=\"url(#clip7702)\" style=\"stroke:#000000; stroke-width:2; stroke-opacity:0.1; fill:none\" points=\"\n",
       "  1923.76,1487.47 1923.76,47.2441 \n",
       "  \"/>\n",
       "<polyline clip-path=\"url(#clip7702)\" style=\"stroke:#000000; stroke-width:2; stroke-opacity:0.1; fill:none\" points=\"\n",
       "  375.65,1464.28 2352.76,1464.28 \n",
       "  \"/>\n",
       "<polyline clip-path=\"url(#clip7702)\" style=\"stroke:#000000; stroke-width:2; stroke-opacity:0.1; fill:none\" points=\"\n",
       "  375.65,1219.43 2352.76,1219.43 \n",
       "  \"/>\n",
       "<polyline clip-path=\"url(#clip7702)\" style=\"stroke:#000000; stroke-width:2; stroke-opacity:0.1; fill:none\" points=\"\n",
       "  375.65,974.573 2352.76,974.573 \n",
       "  \"/>\n",
       "<polyline clip-path=\"url(#clip7702)\" style=\"stroke:#000000; stroke-width:2; stroke-opacity:0.1; fill:none\" points=\"\n",
       "  375.65,729.719 2352.76,729.719 \n",
       "  \"/>\n",
       "<polyline clip-path=\"url(#clip7702)\" style=\"stroke:#000000; stroke-width:2; stroke-opacity:0.1; fill:none\" points=\"\n",
       "  375.65,484.865 2352.76,484.865 \n",
       "  \"/>\n",
       "<polyline clip-path=\"url(#clip7702)\" style=\"stroke:#000000; stroke-width:2; stroke-opacity:0.1; fill:none\" points=\"\n",
       "  375.65,240.011 2352.76,240.011 \n",
       "  \"/>\n",
       "<polyline clip-path=\"url(#clip7700)\" style=\"stroke:#000000; stroke-width:4; stroke-opacity:1; fill:none\" points=\"\n",
       "  375.65,1487.47 2352.76,1487.47 \n",
       "  \"/>\n",
       "<polyline clip-path=\"url(#clip7700)\" style=\"stroke:#000000; stroke-width:4; stroke-opacity:1; fill:none\" points=\"\n",
       "  375.65,1487.47 375.65,47.2441 \n",
       "  \"/>\n",
       "<polyline clip-path=\"url(#clip7700)\" style=\"stroke:#000000; stroke-width:4; stroke-opacity:1; fill:none\" points=\"\n",
       "  524.865,1487.47 524.865,1470.19 \n",
       "  \"/>\n",
       "<polyline clip-path=\"url(#clip7700)\" style=\"stroke:#000000; stroke-width:4; stroke-opacity:1; fill:none\" points=\"\n",
       "  991.164,1487.47 991.164,1470.19 \n",
       "  \"/>\n",
       "<polyline clip-path=\"url(#clip7700)\" style=\"stroke:#000000; stroke-width:4; stroke-opacity:1; fill:none\" points=\"\n",
       "  1457.46,1487.47 1457.46,1470.19 \n",
       "  \"/>\n",
       "<polyline clip-path=\"url(#clip7700)\" style=\"stroke:#000000; stroke-width:4; stroke-opacity:1; fill:none\" points=\"\n",
       "  1923.76,1487.47 1923.76,1470.19 \n",
       "  \"/>\n",
       "<polyline clip-path=\"url(#clip7700)\" style=\"stroke:#000000; stroke-width:4; stroke-opacity:1; fill:none\" points=\"\n",
       "  375.65,1464.28 399.375,1464.28 \n",
       "  \"/>\n",
       "<polyline clip-path=\"url(#clip7700)\" style=\"stroke:#000000; stroke-width:4; stroke-opacity:1; fill:none\" points=\"\n",
       "  375.65,1219.43 399.375,1219.43 \n",
       "  \"/>\n",
       "<polyline clip-path=\"url(#clip7700)\" style=\"stroke:#000000; stroke-width:4; stroke-opacity:1; fill:none\" points=\"\n",
       "  375.65,974.573 399.375,974.573 \n",
       "  \"/>\n",
       "<polyline clip-path=\"url(#clip7700)\" style=\"stroke:#000000; stroke-width:4; stroke-opacity:1; fill:none\" points=\"\n",
       "  375.65,729.719 399.375,729.719 \n",
       "  \"/>\n",
       "<polyline clip-path=\"url(#clip7700)\" style=\"stroke:#000000; stroke-width:4; stroke-opacity:1; fill:none\" points=\"\n",
       "  375.65,484.865 399.375,484.865 \n",
       "  \"/>\n",
       "<polyline clip-path=\"url(#clip7700)\" style=\"stroke:#000000; stroke-width:4; stroke-opacity:1; fill:none\" points=\"\n",
       "  375.65,240.011 399.375,240.011 \n",
       "  \"/>\n",
       "<g clip-path=\"url(#clip7700)\">\n",
       "<text style=\"fill:#000000; fill-opacity:1; font-family:Arial,Helvetica Neue,Helvetica,sans-serif; font-size:48px; text-anchor:middle;\" transform=\"rotate(0, 524.865, 1541.47)\" x=\"524.865\" y=\"1541.47\">2025</text>\n",
       "</g>\n",
       "<g clip-path=\"url(#clip7700)\">\n",
       "<text style=\"fill:#000000; fill-opacity:1; font-family:Arial,Helvetica Neue,Helvetica,sans-serif; font-size:48px; text-anchor:middle;\" transform=\"rotate(0, 991.164, 1541.47)\" x=\"991.164\" y=\"1541.47\">2050</text>\n",
       "</g>\n",
       "<g clip-path=\"url(#clip7700)\">\n",
       "<text style=\"fill:#000000; fill-opacity:1; font-family:Arial,Helvetica Neue,Helvetica,sans-serif; font-size:48px; text-anchor:middle;\" transform=\"rotate(0, 1457.46, 1541.47)\" x=\"1457.46\" y=\"1541.47\">2075</text>\n",
       "</g>\n",
       "<g clip-path=\"url(#clip7700)\">\n",
       "<text style=\"fill:#000000; fill-opacity:1; font-family:Arial,Helvetica Neue,Helvetica,sans-serif; font-size:48px; text-anchor:middle;\" transform=\"rotate(0, 1923.76, 1541.47)\" x=\"1923.76\" y=\"1541.47\">2100</text>\n",
       "</g>\n",
       "<g clip-path=\"url(#clip7700)\">\n",
       "<text style=\"fill:#000000; fill-opacity:1; font-family:Arial,Helvetica Neue,Helvetica,sans-serif; font-size:48px; text-anchor:start;\" transform=\"rotate(0, 136.781, 1488.01)\" x=\"136.781\" y=\"1488.01\">5.0×10</text>\n",
       "</g>\n",
       "<g clip-path=\"url(#clip7700)\">\n",
       "<text style=\"fill:#000000; fill-opacity:1; font-family:Arial,Helvetica Neue,Helvetica,sans-serif; font-size:38px; text-anchor:start;\" transform=\"rotate(0, 285.322, 1460.6)\" x=\"285.322\" y=\"1460.6\">-</text>\n",
       "</g>\n",
       "<g clip-path=\"url(#clip7700)\">\n",
       "<text style=\"fill:#000000; fill-opacity:1; font-family:Arial,Helvetica Neue,Helvetica,sans-serif; font-size:38px; text-anchor:start;\" transform=\"rotate(0, 308.161, 1460.6)\" x=\"308.161\" y=\"1460.6\">10</text>\n",
       "</g>\n",
       "<g clip-path=\"url(#clip7700)\">\n",
       "<text style=\"fill:#000000; fill-opacity:1; font-family:Arial,Helvetica Neue,Helvetica,sans-serif; font-size:48px; text-anchor:start;\" transform=\"rotate(0, 158.525, 1243.15)\" x=\"158.525\" y=\"1243.15\">1.0×10</text>\n",
       "</g>\n",
       "<g clip-path=\"url(#clip7700)\">\n",
       "<text style=\"fill:#000000; fill-opacity:1; font-family:Arial,Helvetica Neue,Helvetica,sans-serif; font-size:38px; text-anchor:start;\" transform=\"rotate(0, 307.066, 1215.74)\" x=\"307.066\" y=\"1215.74\">-</text>\n",
       "</g>\n",
       "<g clip-path=\"url(#clip7700)\">\n",
       "<text style=\"fill:#000000; fill-opacity:1; font-family:Arial,Helvetica Neue,Helvetica,sans-serif; font-size:38px; text-anchor:start;\" transform=\"rotate(0, 329.906, 1215.74)\" x=\"329.906\" y=\"1215.74\">9</text>\n",
       "</g>\n",
       "<g clip-path=\"url(#clip7700)\">\n",
       "<text style=\"fill:#000000; fill-opacity:1; font-family:Arial,Helvetica Neue,Helvetica,sans-serif; font-size:48px; text-anchor:start;\" transform=\"rotate(0, 158.525, 998.3)\" x=\"158.525\" y=\"998.3\">1.5×10</text>\n",
       "</g>\n",
       "<g clip-path=\"url(#clip7700)\">\n",
       "<text style=\"fill:#000000; fill-opacity:1; font-family:Arial,Helvetica Neue,Helvetica,sans-serif; font-size:38px; text-anchor:start;\" transform=\"rotate(0, 307.066, 970.89)\" x=\"307.066\" y=\"970.89\">-</text>\n",
       "</g>\n",
       "<g clip-path=\"url(#clip7700)\">\n",
       "<text style=\"fill:#000000; fill-opacity:1; font-family:Arial,Helvetica Neue,Helvetica,sans-serif; font-size:38px; text-anchor:start;\" transform=\"rotate(0, 329.906, 970.89)\" x=\"329.906\" y=\"970.89\">9</text>\n",
       "</g>\n",
       "<g clip-path=\"url(#clip7700)\">\n",
       "<text style=\"fill:#000000; fill-opacity:1; font-family:Arial,Helvetica Neue,Helvetica,sans-serif; font-size:48px; text-anchor:start;\" transform=\"rotate(0, 158.525, 753.446)\" x=\"158.525\" y=\"753.446\">2.0×10</text>\n",
       "</g>\n",
       "<g clip-path=\"url(#clip7700)\">\n",
       "<text style=\"fill:#000000; fill-opacity:1; font-family:Arial,Helvetica Neue,Helvetica,sans-serif; font-size:38px; text-anchor:start;\" transform=\"rotate(0, 307.066, 726.036)\" x=\"307.066\" y=\"726.036\">-</text>\n",
       "</g>\n",
       "<g clip-path=\"url(#clip7700)\">\n",
       "<text style=\"fill:#000000; fill-opacity:1; font-family:Arial,Helvetica Neue,Helvetica,sans-serif; font-size:38px; text-anchor:start;\" transform=\"rotate(0, 329.906, 726.036)\" x=\"329.906\" y=\"726.036\">9</text>\n",
       "</g>\n",
       "<g clip-path=\"url(#clip7700)\">\n",
       "<text style=\"fill:#000000; fill-opacity:1; font-family:Arial,Helvetica Neue,Helvetica,sans-serif; font-size:48px; text-anchor:start;\" transform=\"rotate(0, 158.525, 508.592)\" x=\"158.525\" y=\"508.592\">2.5×10</text>\n",
       "</g>\n",
       "<g clip-path=\"url(#clip7700)\">\n",
       "<text style=\"fill:#000000; fill-opacity:1; font-family:Arial,Helvetica Neue,Helvetica,sans-serif; font-size:38px; text-anchor:start;\" transform=\"rotate(0, 307.066, 481.182)\" x=\"307.066\" y=\"481.182\">-</text>\n",
       "</g>\n",
       "<g clip-path=\"url(#clip7700)\">\n",
       "<text style=\"fill:#000000; fill-opacity:1; font-family:Arial,Helvetica Neue,Helvetica,sans-serif; font-size:38px; text-anchor:start;\" transform=\"rotate(0, 329.906, 481.182)\" x=\"329.906\" y=\"481.182\">9</text>\n",
       "</g>\n",
       "<g clip-path=\"url(#clip7700)\">\n",
       "<text style=\"fill:#000000; fill-opacity:1; font-family:Arial,Helvetica Neue,Helvetica,sans-serif; font-size:48px; text-anchor:start;\" transform=\"rotate(0, 158.525, 263.738)\" x=\"158.525\" y=\"263.738\">3.0×10</text>\n",
       "</g>\n",
       "<g clip-path=\"url(#clip7700)\">\n",
       "<text style=\"fill:#000000; fill-opacity:1; font-family:Arial,Helvetica Neue,Helvetica,sans-serif; font-size:38px; text-anchor:start;\" transform=\"rotate(0, 307.066, 236.328)\" x=\"307.066\" y=\"236.328\">-</text>\n",
       "</g>\n",
       "<g clip-path=\"url(#clip7700)\">\n",
       "<text style=\"fill:#000000; fill-opacity:1; font-family:Arial,Helvetica Neue,Helvetica,sans-serif; font-size:38px; text-anchor:start;\" transform=\"rotate(0, 329.906, 236.328)\" x=\"329.906\" y=\"236.328\">9</text>\n",
       "</g>\n",
       "<polyline clip-path=\"url(#clip7702)\" style=\"stroke:#000000; stroke-width:8; stroke-opacity:1; fill:none\" points=\"\n",
       "  431.606,1386.72 450.258,883.19 468.91,540.181 487.562,316.667 506.214,181.561 524.865,111.29 543.517,88.0053 562.169,98.2097 580.821,131.73 599.473,180.93 \n",
       "  618.125,240.116 636.777,305.078 655.429,372.737 674.081,440.868 692.733,507.897 711.385,572.738 730.037,634.684 748.689,693.293 767.341,748.33 785.993,799.707 \n",
       "  804.645,847.443 823.297,891.625 841.949,932.389 860.6,969.908 879.252,1004.37 897.904,1035.99 916.556,1064.95 935.208,1091.47 953.86,1115.74 972.512,1137.93 \n",
       "  991.164,1158.24 1009.82,1176.83 1028.47,1193.85 1047.12,1209.43 1065.77,1223.71 1084.42,1236.81 1103.08,1248.84 1121.73,1259.9 1140.38,1270.07 1159.03,1279.46 \n",
       "  1177.68,1288.12 1196.34,1296.13 1214.99,1303.55 1233.64,1310.44 1252.29,1316.84 1270.94,1322.8 1289.6,1328.36 1308.25,1333.55 1326.9,1338.43 1345.55,1343 \n",
       "  1364.2,1347.31 1382.85,1351.37 1401.51,1355.21 1420.16,1358.84 1438.81,1362.29 1457.46,1365.56 1476.11,1368.68 1494.77,1371.66 1513.42,1374.52 1532.07,1377.25 \n",
       "  1550.72,1379.89 1569.37,1382.42 1588.03,1384.86 1606.68,1387.21 1625.33,1389.48 1643.98,1391.68 1662.63,1393.8 1681.29,1395.86 1699.94,1397.85 1718.59,1399.79 \n",
       "  1737.24,1401.67 1755.89,1403.5 1774.55,1405.3 1793.2,1407.05 1811.85,1408.78 1830.5,1410.47 1849.15,1412.13 1867.81,1413.77 1886.46,1415.39 1905.11,1416.98 \n",
       "  1923.76,1418.55 1942.41,1420.09 1961.07,1421.62 1979.72,1423.13 1998.37,1424.63 2017.02,1426.11 2035.67,1427.58 2054.32,1429.03 2072.98,1430.48 2091.63,1431.91 \n",
       "  2110.28,1433.32 2128.93,1434.72 2147.58,1436.1 2166.24,1437.47 2184.89,1438.83 2203.54,1440.18 2222.19,1441.51 2240.84,1442.83 2259.5,1444.14 2278.15,1445.43 \n",
       "  2296.8,1446.71 \n",
       "  \"/>\n",
       "<path clip-path=\"url(#clip7700)\" d=\"\n",
       "M1872.82 251.724 L2280.76 251.724 L2280.76 130.764 L1872.82 130.764  Z\n",
       "  \" fill=\"#ffffff\" fill-rule=\"evenodd\" fill-opacity=\"1\"/>\n",
       "<polyline clip-path=\"url(#clip7700)\" style=\"stroke:#000000; stroke-width:4; stroke-opacity:1; fill:none\" points=\"\n",
       "  1872.82,251.724 2280.76,251.724 2280.76,130.764 1872.82,130.764 1872.82,251.724 \n",
       "  \"/>\n",
       "<polyline clip-path=\"url(#clip7700)\" style=\"stroke:#000000; stroke-width:8; stroke-opacity:1; fill:none\" points=\"\n",
       "  1896.82,191.244 2040.82,191.244 \n",
       "  \"/>\n",
       "<g clip-path=\"url(#clip7700)\">\n",
       "<text style=\"fill:#000000; fill-opacity:1; font-family:Arial,Helvetica Neue,Helvetica,sans-serif; font-size:48px; text-anchor:start;\" transform=\"rotate(0, 2064.82, 208.744)\" x=\"2064.82\" y=\"208.744\">[&quot;Total&quot;]</text>\n",
       "</g>\n",
       "</svg>\n"
      ]
     },
     "execution_count": 43,
     "metadata": {},
     "output_type": "execute_result"
    }
   ],
   "source": [
    "include(\"IRFByGas.jl\")"
   ]
  },
  {
   "cell_type": "code",
   "execution_count": 42,
   "metadata": {},
   "outputs": [
    {
     "data": {
      "text/plain": [
       "26.490909090909092"
      ]
     },
     "execution_count": 42,
     "metadata": {},
     "output_type": "execute_result"
    }
   ],
   "source": [
    "SCC"
   ]
  },
  {
   "cell_type": "code",
   "execution_count": 24,
   "metadata": {},
   "outputs": [
    {
     "data": {
      "text/plain": [
       "6.772799991949796e-7"
      ]
     },
     "execution_count": 24,
     "metadata": {},
     "output_type": "execute_result"
    }
   ],
   "source": [
    "Co2Pulse"
   ]
  },
  {
   "cell_type": "code",
   "execution_count": 28,
   "metadata": {},
   "outputs": [
    {
     "data": {
      "text/plain": [
       "1.356655999643408e-6"
      ]
     },
     "execution_count": 28,
     "metadata": {},
     "output_type": "execute_result"
    }
   ],
   "source": [
    "MethPulse*1e-3*30"
   ]
  },
  {
   "cell_type": "code",
   "execution_count": 29,
   "metadata": {},
   "outputs": [
    {
     "data": {
      "text/plain": [
       "5.899594638858475e-7"
      ]
     },
     "execution_count": 29,
     "metadata": {},
     "output_type": "execute_result"
    }
   ],
   "source": [
    "N2oPulse*1e-3*270"
   ]
  },
  {
   "cell_type": "code",
   "execution_count": 39,
   "metadata": {},
   "outputs": [
    {
     "data": {
      "text/plain": [
       "70.10759790872179"
      ]
     },
     "execution_count": 39,
     "metadata": {},
     "output_type": "execute_result"
    }
   ],
   "source": [
    "26.5*(Co2Pulse + MethPulse*1e-3*30 + N2oPulse*1e-3*260)*1e6"
   ]
  },
  {
   "cell_type": "code",
   "execution_count": 67,
   "metadata": {},
   "outputs": [
    {
     "data": {
      "text/plain": [
       "6×3 Array{Float64,2}:\n",
       " 65.1  6.5   0.22 \n",
       " 14.6  2.1   0.22 \n",
       " 25.6  0.02  0.02 \n",
       " 25.1  0.7   0.03 \n",
       " 20.1  0.07  0.03 \n",
       " 20.0  4.5   0.016"
      ]
     },
     "execution_count": 67,
     "metadata": {},
     "output_type": "execute_result"
    }
   ],
   "source": [
    "Diets = [4.8; 8; 2.7; 6.7; 1.5; .06]\n",
    "Intensities = [65.1 6.5 .22; 14.6 2.1 .22; 25.6 .02 .02; 25.1 .70 .03; 20.1 .07 .03; 20 4.5 .016]"
   ]
  },
  {
   "cell_type": "code",
   "execution_count": 80,
   "metadata": {},
   "outputs": [
    {
     "name": "stderr",
     "output_type": "stream",
     "text": [
      "┌ Warning: interpolate(A, BSpline(Linear()), OnGrid()) is deprecated, use interpolate(A, BSpline(Linear()))\n",
      "│   caller = dice_interpolate(::Array{Float64,1}, ::Int64) at helpers.jl:61\n",
      "└ @ Main C:\\Users\\Kevin\\Documents\\GitHub\\DICEFARM\\src_annualized\\helpers.jl:61\n",
      "┌ Warning: `getindex(itp::AbstractInterpolation{T, N}, i::Vararg{ExpandedIndexTypes, N}) where {T, N}` is deprecated, use `itp(i...)` instead.\n",
      "│   caller = dice_interpolate(::Array{Float64,1}, ::Int64) at helpers.jl:67\n",
      "└ @ Main C:\\Users\\Kevin\\Documents\\GitHub\\DICEFARM\\src_annualized\\helpers.jl:67\n"
     ]
    },
    {
     "data": {
      "text/plain": [
       "8×2 Array{Any,2}:\n",
       " \"Vegan\"       41.4909    \n",
       " \"Vegetarian\"  27.7182    \n",
       " \"Beef\"         0.118182  \n",
       " \"Dairy\"        0.0454545 \n",
       " \"Poultry\"      0.0181818 \n",
       " \"Pork\"         0.00909091\n",
       " \"Eggs\"         0.0       \n",
       " \"Sheep/Goat\"   0.127273  "
      ]
     },
     "execution_count": 80,
     "metadata": {},
     "output_type": "execute_result"
    }
   ],
   "source": [
    "ESEA_Intensities = [49.9 8.85 .266; 19.92 2.17 .07; 35.7 .031 .049; 26.7 .81 .053; 26.9 0.05 .039; 30.0 4.36 .131]\n",
    "EEU_Intensities  = [29.9 2.11 .07; 10.1 1.84 .03; 14.4 .02 .02; 25.1 .35 .03; 8.2 .02 .03; 14.3 1.84 .05]\n",
    "LatAm_Intensities = [141.84 7.89 .24; 13.15 2.9 .24; 25.44 .02 .02; 27.4 .62 0.04; 16.9 .17 .02; 12.46 6.29 .13]\n",
    "MidEast_Intensities = [16.04 5.62 .43; 14.9 3.48 .25; 27.34 .02 .03; 39.9 0.65 .04; 14.2 .1 .02; 24.3 5.32 .4]\n",
    "NO_Intensities \t\t= [14.08 3.67 .14\t; 14.4 1.44 .02\t\t; 14.35 .02 .02\t; 15.24 .61 .02\t; 7.57 .12 .02\t; 22.3 4.17 .18]\n",
    "Oceania_Intensities = [21.7 4.39 .22\t; 15.02 2.93 .10\t; 28.4 .02 .02\t; 25.02 2.01 .02; 12.8 .05 .02\t; 16.25 2.93 .10]\n",
    "Socialcosts = VegSocialCosts(Oceania_Intensities, Diets)"
   ]
  },
  {
   "cell_type": "code",
   "execution_count": 74,
   "metadata": {},
   "outputs": [
    {
     "data": {
      "text/plain": [
       "6×3 Array{Float64,2}:\n",
       " 65.1  6.5   0.22 \n",
       " 14.6  2.1   0.22 \n",
       " 25.6  0.02  0.02 \n",
       " 25.1  0.7   0.03 \n",
       " 20.1  0.07  0.03 \n",
       " 20.0  4.5   0.016"
      ]
     },
     "execution_count": 74,
     "metadata": {},
     "output_type": "execute_result"
    }
   ],
   "source": [
    "Intensities"
   ]
  },
  {
   "cell_type": "code",
   "execution_count": 75,
   "metadata": {},
   "outputs": [
    {
     "data": {
      "text/plain": [
       "6×3 Array{Float64,2}:\n",
       " 49.9   8.85   0.266\n",
       " 19.92  2.17   0.069\n",
       " 35.7   0.031  0.049\n",
       " 26.7   0.81   0.053\n",
       " 26.9   0.05   0.039\n",
       " 30.0   4.36   0.131"
      ]
     },
     "execution_count": 75,
     "metadata": {},
     "output_type": "execute_result"
    }
   ],
   "source": [
    "ESEA_Intensities"
   ]
  },
  {
   "cell_type": "code",
   "execution_count": 1,
   "metadata": {},
   "outputs": [
    {
     "name": "stderr",
     "output_type": "stream",
     "text": [
      "┌ Info: Precompiling MimiFAIR13 [abca78a2-5d8f-4d00-8ed7-def17d07bf5a]\n",
      "└ @ Base loading.jl:1273\n",
      "┌ Info: Precompiling Interpolations [a98d9a8b-a2ab-59e6-89dd-64a1c18fca59]\n",
      "└ @ Base loading.jl:1273\n",
      "┌ Info: Precompiling CSV [336ed68f-0bac-5ca0-87d4-7b16caf5d00b]\n",
      "└ @ Base loading.jl:1273\n",
      "┌ Warning: interpolate(A, BSpline(Linear()), OnGrid()) is deprecated, use interpolate(A, BSpline(Linear()))\n",
      "│   caller = dice_interpolate(::Array{Float64,1}, ::Int64) at helpers.jl:61\n",
      "└ @ Main C:\\Users\\Kevin\\Documents\\GitHub\\DICEFARM\\src_annualized\\helpers.jl:61\n",
      "┌ Warning: `getindex(itp::AbstractInterpolation{T, N}, i::Vararg{ExpandedIndexTypes, N}) where {T, N}` is deprecated, use `itp(i...)` instead.\n",
      "│   caller = dice_interpolate(::Array{Float64,1}, ::Int64) at helpers.jl:67\n",
      "└ @ Main C:\\Users\\Kevin\\Documents\\GitHub\\DICEFARM\\src_annualized\\helpers.jl:67\n"
     ]
    },
    {
     "data": {
      "text/plain": [
       "486-element Array{Float64,1}:\n",
       " 2.9612e9            \n",
       " 2.998410474967886e9 \n",
       " 3.0350138171704254e9\n",
       " 3.071007368561221e9 \n",
       " 3.106389287472134e9 \n",
       " 3.141158509019743e9 \n",
       " 3.1753147060223093e9\n",
       " 3.2088582505247474e9\n",
       " 3.241790176017872e9 \n",
       " 3.2741121404276104e9\n",
       " 3.305826389939907e9 \n",
       " 3.336935723717746e9 \n",
       " 3.3674434595580134e9\n",
       " ⋮                   \n",
       " 4.599997567592645e9 \n",
       " 4.59999763655483e9  \n",
       " 4.599997703561839e9 \n",
       " 4.5999977686691065e9\n",
       " 4.599997831930491e9 \n",
       " 4.599997893398327e9 \n",
       " 4.599997953123463e9 \n",
       " 4.599998011155307e9 \n",
       " 4.599998067541866e9 \n",
       " 4.599998122329787e9 \n",
       " 4.599998175564394e9 \n",
       " 4.599998227289723e9 "
      ]
     },
     "execution_count": 1,
     "metadata": {},
     "output_type": "execute_result"
    }
   ],
   "source": [
    "using Plots\n",
    "using Roots\n",
    "include(\"DICEFARM_Annual.jl\")\n",
    "include(\"VegSocialCosts.jl\")\n",
    "DICEFARM = create_dice_farm()\n",
    "run(DICEFARM)\n",
    "BaseTemp = DICEFARM[:co2_cycle, :T]\n",
    "BaseWelfare = DICEFARM[:welfare, :UTILITY]\n",
    "DICELength = length(DICEFARM[:farm, :Beef])\n",
    "TwentyTwenty = 2020-1764\n",
    "\n",
    "# ----- Plot against Vegan World ------ #\n",
    "OrigBeef = DICEFARM[:farm, :Beef]\n",
    "OrigDairy = DICEFARM[:farm, :Dairy]\n",
    "OrigPork = DICEFARM[:farm, :Pork]\n",
    "OrigPoultry = DICEFARM[:farm, :Poultry]\n",
    "OrigEggs = DICEFARM[:farm, :Eggs]\n",
    "OrigSheepGoat = DICEFARM[:farm, :SheepGoat]"
   ]
  },
  {
   "cell_type": "code",
   "execution_count": 22,
   "metadata": {},
   "outputs": [
    {
     "name": "stdout",
     "output_type": "stream",
     "text": [
      "Total Social Costs of 1 year of meat production are 229.13071885402303 Billion dollars\n"
     ]
    }
   ],
   "source": [
    "# -------- Total Social Costs --------------- #\n",
    "GlobalVeganPulse = create_dice_farm()\n",
    "GlobalBeefPulse = copy(OrigBeef)\n",
    "GlobalDairyPulse = copy(OrigDairy)\n",
    "GlobalPorkPulse = copy(OrigPork)\n",
    "GlobalPoultryPulse = copy(OrigPoultry)\n",
    "GlobalEggsPulse = copy(OrigEggs)\n",
    "GlobalSheepGoatPulse = copy(OrigSheepGoat)\n",
    "\n",
    "GlobalBeefPulse[6] = 0\n",
    "GlobalDairyPulse[6] = 0\n",
    "GlobalPorkPulse[6] = 0\n",
    "GlobalPoultryPulse[6] = 0\n",
    "GlobalEggsPulse[6] = 0\n",
    "GlobalSheepGoatPulse[6] = 0\n",
    "\n",
    "set_param!(GlobalVeganPulse, :farm, :Beef, GlobalBeefPulse)\n",
    "set_param!(GlobalVeganPulse, :farm, :Dairy, GlobalDairyPulse)\n",
    "set_param!(GlobalVeganPulse, :farm, :Poultry, GlobalPoultryPulse)\n",
    "set_param!(GlobalVeganPulse, :farm, :Pork, GlobalPorkPulse)\n",
    "set_param!(GlobalVeganPulse, :farm, :Eggs, GlobalEggsPulse)\n",
    "set_param!(GlobalVeganPulse, :farm, :SheepGoat, GlobalSheepGoatPulse)\n",
    "\n",
    "run(GlobalVeganPulse)\n",
    "WGlobalPulse = GlobalVeganPulse[:welfare, :UTILITY]\n",
    "\n",
    "NewBaseline = create_dice_farm()\n",
    "\n",
    "function ConsEquiv(m, W)\n",
    "\tfunction f(x)\n",
    "\t\tset_param!(m, :neteconomy, :CEQ, x)\n",
    "\t\trun(m)\n",
    "\t\tdiff = m[:welfare, :UTILITY] - W\n",
    "\t\treturn diff\n",
    "\tend\n",
    "CEQ = find_zero(f, (-1, 1), Bisection())\n",
    "CEQ = CEQ\n",
    "return CEQ\n",
    "end\n",
    "\n",
    "GlobalPulseCost = -1000*ConsEquiv(NewBaseline, WGlobalPulse) #convert from trillions to billions\n",
    "println(\"Total Social Costs of 1 year of meat production are $GlobalPulseCost Billion dollars\")"
   ]
  },
  {
   "cell_type": "code",
   "execution_count": 13,
   "metadata": {},
   "outputs": [
    {
     "data": {
      "text/plain": [
       "23856.565532043045"
      ]
     },
     "execution_count": 13,
     "metadata": {},
     "output_type": "execute_result"
    }
   ],
   "source": [
    "DICEFARM[:welfare, :UTILITY]"
   ]
  },
  {
   "cell_type": "code",
   "execution_count": 14,
   "metadata": {},
   "outputs": [
    {
     "data": {
      "text/plain": [
       "23856.7491536952"
      ]
     },
     "execution_count": 14,
     "metadata": {},
     "output_type": "execute_result"
    }
   ],
   "source": [
    "WGlobalPulse"
   ]
  },
  {
   "cell_type": "code",
   "execution_count": null,
   "metadata": {},
   "outputs": [],
   "source": []
  }
 ],
 "metadata": {
  "kernelspec": {
   "display_name": "Julia 1.3.0",
   "language": "julia",
   "name": "julia-1.3"
  },
  "language_info": {
   "file_extension": ".jl",
   "mimetype": "application/julia",
   "name": "julia",
   "version": "1.3.0"
  }
 },
 "nbformat": 4,
 "nbformat_minor": 2
}
