{
 "cells": [
  {
   "cell_type": "code",
   "execution_count": 97,
   "metadata": {},
   "outputs": [
    {
     "name": "stderr",
     "output_type": "stream",
     "text": [
      "┌ Warning: interpolate(A, BSpline(Linear()), OnGrid()) is deprecated, use interpolate(A, BSpline(Linear()))\n",
      "│   caller = dice_interpolate(::Array{Float64,1}, ::Int64) at helpers.jl:61\n",
      "└ @ Main C:\\Users\\Kevin\\Documents\\GitHub\\DICEFARM\\src_annualized\\helpers.jl:61\n"
     ]
    },
    {
     "name": "stdout",
     "output_type": "stream",
     "text": [
      "Temp Diff is 0.47945142681236286\n"
     ]
    },
    {
     "name": "stderr",
     "output_type": "stream",
     "text": [
      "┌ Warning: `getindex(itp::AbstractInterpolation{T, N}, i::Vararg{ExpandedIndexTypes, N}) where {T, N}` is deprecated, use `itp(i...)` instead.\n",
      "│   caller = dice_interpolate(::Array{Float64,1}, ::Int64) at helpers.jl:67\n",
      "└ @ Main C:\\Users\\Kevin\\Documents\\GitHub\\DICEFARM\\src_annualized\\helpers.jl:67\n",
      "┌ Warning: interpolate(A, BSpline(Linear()), OnGrid()) is deprecated, use interpolate(A, BSpline(Linear()))\n",
      "│   caller = dice_interpolate(::Array{Float64,1}, ::Int64) at helpers.jl:61\n",
      "└ @ Main C:\\Users\\Kevin\\Documents\\GitHub\\DICEFARM\\src_annualized\\helpers.jl:61\n",
      "┌ Warning: `getindex(itp::AbstractInterpolation{T, N}, i::Vararg{ExpandedIndexTypes, N}) where {T, N}` is deprecated, use `itp(i...)` instead.\n",
      "│   caller = dice_interpolate(::Array{Float64,1}, ::Int64) at helpers.jl:67\n",
      "└ @ Main C:\\Users\\Kevin\\Documents\\GitHub\\DICEFARM\\src_annualized\\helpers.jl:67\n",
      "┌ Warning: interpolate(A, BSpline(Linear()), OnGrid()) is deprecated, use interpolate(A, BSpline(Linear()))\n",
      "│   caller = dice_interpolate(::Array{Float64,1}, ::Int64) at helpers.jl:61\n",
      "└ @ Main C:\\Users\\Kevin\\Documents\\GitHub\\DICEFARM\\src_annualized\\helpers.jl:61\n",
      "┌ Warning: `getindex(itp::AbstractInterpolation{T, N}, i::Vararg{ExpandedIndexTypes, N}) where {T, N}` is deprecated, use `itp(i...)` instead.\n",
      "│   caller = dice_interpolate(::Array{Float64,1}, ::Int64) at helpers.jl:67\n",
      "└ @ Main C:\\Users\\Kevin\\Documents\\GitHub\\DICEFARM\\src_annualized\\helpers.jl:67\n",
      "┌ Warning: interpolate(A, BSpline(Linear()), OnGrid()) is deprecated, use interpolate(A, BSpline(Linear()))\n",
      "│   caller = dice_interpolate(::Array{Float64,1}, ::Int64) at helpers.jl:61\n",
      "└ @ Main C:\\Users\\Kevin\\Documents\\GitHub\\DICEFARM\\src_annualized\\helpers.jl:61\n",
      "┌ Warning: `getindex(itp::AbstractInterpolation{T, N}, i::Vararg{ExpandedIndexTypes, N}) where {T, N}` is deprecated, use `itp(i...)` instead.\n",
      "│   caller = dice_interpolate(::Array{Float64,1}, ::Int64) at helpers.jl:67\n",
      "└ @ Main C:\\Users\\Kevin\\Documents\\GitHub\\DICEFARM\\src_annualized\\helpers.jl:67\n",
      "┌ Warning: interpolate(A, BSpline(Linear()), OnGrid()) is deprecated, use interpolate(A, BSpline(Linear()))\n",
      "│   caller = dice_interpolate(::Array{Float64,1}, ::Int64) at helpers.jl:61\n",
      "└ @ Main C:\\Users\\Kevin\\Documents\\GitHub\\DICEFARM\\src_annualized\\helpers.jl:61\n",
      "┌ Warning: `getindex(itp::AbstractInterpolation{T, N}, i::Vararg{ExpandedIndexTypes, N}) where {T, N}` is deprecated, use `itp(i...)` instead.\n",
      "│   caller = dice_interpolate(::Array{Float64,1}, ::Int64) at helpers.jl:67\n",
      "└ @ Main C:\\Users\\Kevin\\Documents\\GitHub\\DICEFARM\\src_annualized\\helpers.jl:67\n",
      "┌ Warning: interpolate(A, BSpline(Linear()), OnGrid()) is deprecated, use interpolate(A, BSpline(Linear()))\n",
      "│   caller = dice_interpolate(::Array{Float64,1}, ::Int64) at helpers.jl:61\n",
      "└ @ Main C:\\Users\\Kevin\\Documents\\GitHub\\DICEFARM\\src_annualized\\helpers.jl:61\n",
      "┌ Warning: `getindex(itp::AbstractInterpolation{T, N}, i::Vararg{ExpandedIndexTypes, N}) where {T, N}` is deprecated, use `itp(i...)` instead.\n",
      "│   caller = dice_interpolate(::Array{Float64,1}, ::Int64) at helpers.jl:67\n",
      "└ @ Main C:\\Users\\Kevin\\Documents\\GitHub\\DICEFARM\\src_annualized\\helpers.jl:67\n",
      "┌ Warning: interpolate(A, BSpline(Linear()), OnGrid()) is deprecated, use interpolate(A, BSpline(Linear()))\n",
      "│   caller = dice_interpolate(::Array{Float64,1}, ::Int64) at helpers.jl:61\n",
      "└ @ Main C:\\Users\\Kevin\\Documents\\GitHub\\DICEFARM\\src_annualized\\helpers.jl:61\n",
      "┌ Warning: `getindex(itp::AbstractInterpolation{T, N}, i::Vararg{ExpandedIndexTypes, N}) where {T, N}` is deprecated, use `itp(i...)` instead.\n",
      "│   caller = dice_interpolate(::Array{Float64,1}, ::Int64) at helpers.jl:67\n",
      "└ @ Main C:\\Users\\Kevin\\Documents\\GitHub\\DICEFARM\\src_annualized\\helpers.jl:67\n",
      "┌ Warning: interpolate(A, BSpline(Linear()), OnGrid()) is deprecated, use interpolate(A, BSpline(Linear()))\n",
      "│   caller = dice_interpolate(::Array{Float64,1}, ::Int64) at helpers.jl:61\n",
      "└ @ Main C:\\Users\\Kevin\\Documents\\GitHub\\DICEFARM\\src_annualized\\helpers.jl:61\n",
      "┌ Warning: `getindex(itp::AbstractInterpolation{T, N}, i::Vararg{ExpandedIndexTypes, N}) where {T, N}` is deprecated, use `itp(i...)` instead.\n",
      "│   caller = dice_interpolate(::Array{Float64,1}, ::Int64) at helpers.jl:67\n",
      "└ @ Main C:\\Users\\Kevin\\Documents\\GitHub\\DICEFARM\\src_annualized\\helpers.jl:67\n",
      "┌ Warning: interpolate(A, BSpline(Linear()), OnGrid()) is deprecated, use interpolate(A, BSpline(Linear()))\n",
      "│   caller = dice_interpolate(::Array{Float64,1}, ::Int64) at helpers.jl:61\n",
      "└ @ Main C:\\Users\\Kevin\\Documents\\GitHub\\DICEFARM\\src_annualized\\helpers.jl:61\n",
      "┌ Warning: `getindex(itp::AbstractInterpolation{T, N}, i::Vararg{ExpandedIndexTypes, N}) where {T, N}` is deprecated, use `itp(i...)` instead.\n",
      "│   caller = dice_interpolate(::Array{Float64,1}, ::Int64) at helpers.jl:67\n",
      "└ @ Main C:\\Users\\Kevin\\Documents\\GitHub\\DICEFARM\\src_annualized\\helpers.jl:67\n",
      "┌ Warning: interpolate(A, BSpline(Linear()), OnGrid()) is deprecated, use interpolate(A, BSpline(Linear()))\n",
      "│   caller = dice_interpolate(::Array{Float64,1}, ::Int64) at helpers.jl:61\n",
      "└ @ Main C:\\Users\\Kevin\\Documents\\GitHub\\DICEFARM\\src_annualized\\helpers.jl:61\n",
      "┌ Warning: `getindex(itp::AbstractInterpolation{T, N}, i::Vararg{ExpandedIndexTypes, N}) where {T, N}` is deprecated, use `itp(i...)` instead.\n",
      "│   caller = dice_interpolate(::Array{Float64,1}, ::Int64) at helpers.jl:67\n",
      "└ @ Main C:\\Users\\Kevin\\Documents\\GitHub\\DICEFARM\\src_annualized\\helpers.jl:67\n",
      "┌ Warning: interpolate(A, BSpline(Linear()), OnGrid()) is deprecated, use interpolate(A, BSpline(Linear()))\n",
      "│   caller = dice_interpolate(::Array{Float64,1}, ::Int64) at helpers.jl:61\n",
      "└ @ Main C:\\Users\\Kevin\\Documents\\GitHub\\DICEFARM\\src_annualized\\helpers.jl:61\n",
      "┌ Warning: `getindex(itp::AbstractInterpolation{T, N}, i::Vararg{ExpandedIndexTypes, N}) where {T, N}` is deprecated, use `itp(i...)` instead.\n",
      "│   caller = dice_interpolate(::Array{Float64,1}, ::Int64) at helpers.jl:67\n",
      "└ @ Main C:\\Users\\Kevin\\Documents\\GitHub\\DICEFARM\\src_annualized\\helpers.jl:67\n"
     ]
    },
    {
     "data": {
      "text/plain": [
       "8×2 Array{Any,2}:\n",
       " \"Vegan\"       31.9459   \n",
       " \"Vegetarian\"  20.027    \n",
       " \"Beef\"         0.0630631\n",
       " \"Dairy\"        0.018018 \n",
       " \"Poultry\"      0.018018 \n",
       " \"Pork\"         0.0      \n",
       " \"Eggs\"         0.0      \n",
       " \"Sheep/Goat\"   0.0540541"
      ]
     },
     "execution_count": 97,
     "metadata": {},
     "output_type": "execute_result"
    }
   ],
   "source": [
    "include(\"FiguresforPNAS.jl\")"
   ]
  },
  {
   "cell_type": "code",
   "execution_count": 98,
   "metadata": {},
   "outputs": [
    {
     "data": {
      "text/plain": [
       "8×2 Array{Any,2}:\n",
       " \"Vegan\"       80.2883    \n",
       " \"Vegetarian\"  48.3784    \n",
       " \"Beef\"         0.18018   \n",
       " \"Dairy\"        0.0990991 \n",
       " \"Poultry\"      0.036036  \n",
       " \"Pork\"         0.00900901\n",
       " \"Eggs\"         0.018018  \n",
       " \"Sheep/Goat\"   0.108108  "
      ]
     },
     "execution_count": 98,
     "metadata": {},
     "output_type": "execute_result"
    }
   ],
   "source": [
    "BaselineSCs"
   ]
  },
  {
   "cell_type": "code",
   "execution_count": 32,
   "metadata": {},
   "outputs": [
    {
     "data": {
      "text/plain": [
       "11×3 Array{Float64,2}:\n",
       " 26.5  49.0  73.0\n",
       " 28.5  51.0  75.5\n",
       " 30.5  53.0  77.5\n",
       " 32.5  55.5  80.0\n",
       " 35.0  57.5  82.5\n",
       " 37.0  60.0  85.0\n",
       " 39.0  62.5  87.5\n",
       " 41.5  64.5  90.0\n",
       " 43.5  67.0  93.0\n",
       " 46.0  70.0  95.5\n",
       " 48.5  72.5  98.5"
      ]
     },
     "execution_count": 32,
     "metadata": {},
     "output_type": "execute_result"
    }
   ],
   "source": [
    "M1 = 100*(ones(length(MReduc1)) - MReduc1)\n",
    "E1 = 100*(ones(size(EIndReduc1)[1], length(isotemps)) - EIndReduc1)"
   ]
  },
  {
   "cell_type": "code",
   "execution_count": 34,
   "metadata": {},
   "outputs": [
    {
     "data": {
      "image/svg+xml": [
       "<?xml version=\"1.0\" encoding=\"utf-8\"?>\n",
       "<svg xmlns=\"http://www.w3.org/2000/svg\" xmlns:xlink=\"http://www.w3.org/1999/xlink\" width=\"600\" height=\"400\" viewBox=\"0 0 2400 1600\">\n",
       "<defs>\n",
       "  <clipPath id=\"clip1100\">\n",
       "    <rect x=\"0\" y=\"0\" width=\"2400\" height=\"1600\"/>\n",
       "  </clipPath>\n",
       "</defs>\n",
       "<path clip-path=\"url(#clip1100)\" d=\"\n",
       "M0 1600 L2400 1600 L2400 0 L0 0  Z\n",
       "  \" fill=\"#ffffff\" fill-rule=\"evenodd\" fill-opacity=\"1\"/>\n",
       "<defs>\n",
       "  <clipPath id=\"clip1101\">\n",
       "    <rect x=\"480\" y=\"0\" width=\"1681\" height=\"1600\"/>\n",
       "  </clipPath>\n",
       "</defs>\n",
       "<path clip-path=\"url(#clip1100)\" d=\"\n",
       "M278.067 1376.69 L2352.76 1376.69 L2352.76 47.2441 L278.067 47.2441  Z\n",
       "  \" fill=\"#ffffff\" fill-rule=\"evenodd\" fill-opacity=\"1\"/>\n",
       "<defs>\n",
       "  <clipPath id=\"clip1102\">\n",
       "    <rect x=\"278\" y=\"47\" width=\"2076\" height=\"1330\"/>\n",
       "  </clipPath>\n",
       "</defs>\n",
       "<polyline clip-path=\"url(#clip1102)\" style=\"stroke:#000000; stroke-width:2; stroke-opacity:0.1; fill:none\" points=\"\n",
       "  703.77,1376.69 703.77,47.2441 \n",
       "  \"/>\n",
       "<polyline clip-path=\"url(#clip1102)\" style=\"stroke:#000000; stroke-width:2; stroke-opacity:0.1; fill:none\" points=\"\n",
       "  1247.45,1376.69 1247.45,47.2441 \n",
       "  \"/>\n",
       "<polyline clip-path=\"url(#clip1102)\" style=\"stroke:#000000; stroke-width:2; stroke-opacity:0.1; fill:none\" points=\"\n",
       "  1791.13,1376.69 1791.13,47.2441 \n",
       "  \"/>\n",
       "<polyline clip-path=\"url(#clip1102)\" style=\"stroke:#000000; stroke-width:2; stroke-opacity:0.1; fill:none\" points=\"\n",
       "  2334.81,1376.69 2334.81,47.2441 \n",
       "  \"/>\n",
       "<polyline clip-path=\"url(#clip1102)\" style=\"stroke:#000000; stroke-width:2; stroke-opacity:0.1; fill:none\" points=\"\n",
       "  278.067,1339.06 2352.76,1339.06 \n",
       "  \"/>\n",
       "<polyline clip-path=\"url(#clip1102)\" style=\"stroke:#000000; stroke-width:2; stroke-opacity:0.1; fill:none\" points=\"\n",
       "  278.067,1025.51 2352.76,1025.51 \n",
       "  \"/>\n",
       "<polyline clip-path=\"url(#clip1102)\" style=\"stroke:#000000; stroke-width:2; stroke-opacity:0.1; fill:none\" points=\"\n",
       "  278.067,711.965 2352.76,711.965 \n",
       "  \"/>\n",
       "<polyline clip-path=\"url(#clip1102)\" style=\"stroke:#000000; stroke-width:2; stroke-opacity:0.1; fill:none\" points=\"\n",
       "  278.067,398.418 2352.76,398.418 \n",
       "  \"/>\n",
       "<polyline clip-path=\"url(#clip1102)\" style=\"stroke:#000000; stroke-width:2; stroke-opacity:0.1; fill:none\" points=\"\n",
       "  278.067,84.8698 2352.76,84.8698 \n",
       "  \"/>\n",
       "<polyline clip-path=\"url(#clip1100)\" style=\"stroke:#000000; stroke-width:4; stroke-opacity:1; fill:none\" points=\"\n",
       "  278.067,1376.69 2352.76,1376.69 \n",
       "  \"/>\n",
       "<polyline clip-path=\"url(#clip1100)\" style=\"stroke:#000000; stroke-width:4; stroke-opacity:1; fill:none\" points=\"\n",
       "  278.067,1376.69 278.067,47.2441 \n",
       "  \"/>\n",
       "<polyline clip-path=\"url(#clip1100)\" style=\"stroke:#000000; stroke-width:4; stroke-opacity:1; fill:none\" points=\"\n",
       "  703.77,1376.69 703.77,1360.73 \n",
       "  \"/>\n",
       "<polyline clip-path=\"url(#clip1100)\" style=\"stroke:#000000; stroke-width:4; stroke-opacity:1; fill:none\" points=\"\n",
       "  1247.45,1376.69 1247.45,1360.73 \n",
       "  \"/>\n",
       "<polyline clip-path=\"url(#clip1100)\" style=\"stroke:#000000; stroke-width:4; stroke-opacity:1; fill:none\" points=\"\n",
       "  1791.13,1376.69 1791.13,1360.73 \n",
       "  \"/>\n",
       "<polyline clip-path=\"url(#clip1100)\" style=\"stroke:#000000; stroke-width:4; stroke-opacity:1; fill:none\" points=\"\n",
       "  2334.81,1376.69 2334.81,1360.73 \n",
       "  \"/>\n",
       "<polyline clip-path=\"url(#clip1100)\" style=\"stroke:#000000; stroke-width:4; stroke-opacity:1; fill:none\" points=\"\n",
       "  278.067,1339.06 302.963,1339.06 \n",
       "  \"/>\n",
       "<polyline clip-path=\"url(#clip1100)\" style=\"stroke:#000000; stroke-width:4; stroke-opacity:1; fill:none\" points=\"\n",
       "  278.067,1025.51 302.963,1025.51 \n",
       "  \"/>\n",
       "<polyline clip-path=\"url(#clip1100)\" style=\"stroke:#000000; stroke-width:4; stroke-opacity:1; fill:none\" points=\"\n",
       "  278.067,711.965 302.963,711.965 \n",
       "  \"/>\n",
       "<polyline clip-path=\"url(#clip1100)\" style=\"stroke:#000000; stroke-width:4; stroke-opacity:1; fill:none\" points=\"\n",
       "  278.067,398.418 302.963,398.418 \n",
       "  \"/>\n",
       "<polyline clip-path=\"url(#clip1100)\" style=\"stroke:#000000; stroke-width:4; stroke-opacity:1; fill:none\" points=\"\n",
       "  278.067,84.8698 302.963,84.8698 \n",
       "  \"/>\n",
       "<g clip-path=\"url(#clip1100)\">\n",
       "<text style=\"fill:#000000; fill-opacity:1; font-family:Arial,Helvetica Neue,Helvetica,sans-serif; font-size:48px; text-anchor:middle;\" transform=\"rotate(0, 703.77, 1430.69)\" x=\"703.77\" y=\"1430.69\">40</text>\n",
       "</g>\n",
       "<g clip-path=\"url(#clip1100)\">\n",
       "<text style=\"fill:#000000; fill-opacity:1; font-family:Arial,Helvetica Neue,Helvetica,sans-serif; font-size:48px; text-anchor:middle;\" transform=\"rotate(0, 1247.45, 1430.69)\" x=\"1247.45\" y=\"1430.69\">60</text>\n",
       "</g>\n",
       "<g clip-path=\"url(#clip1100)\">\n",
       "<text style=\"fill:#000000; fill-opacity:1; font-family:Arial,Helvetica Neue,Helvetica,sans-serif; font-size:48px; text-anchor:middle;\" transform=\"rotate(0, 1791.13, 1430.69)\" x=\"1791.13\" y=\"1430.69\">80</text>\n",
       "</g>\n",
       "<g clip-path=\"url(#clip1100)\">\n",
       "<text style=\"fill:#000000; fill-opacity:1; font-family:Arial,Helvetica Neue,Helvetica,sans-serif; font-size:48px; text-anchor:middle;\" transform=\"rotate(0, 2334.81, 1430.69)\" x=\"2334.81\" y=\"1430.69\">100</text>\n",
       "</g>\n",
       "<g clip-path=\"url(#clip1100)\">\n",
       "<text style=\"fill:#000000; fill-opacity:1; font-family:Arial,Helvetica Neue,Helvetica,sans-serif; font-size:48px; text-anchor:end;\" transform=\"rotate(0, 254.067, 1356.56)\" x=\"254.067\" y=\"1356.56\">0</text>\n",
       "</g>\n",
       "<g clip-path=\"url(#clip1100)\">\n",
       "<text style=\"fill:#000000; fill-opacity:1; font-family:Arial,Helvetica Neue,Helvetica,sans-serif; font-size:48px; text-anchor:end;\" transform=\"rotate(0, 254.067, 1043.01)\" x=\"254.067\" y=\"1043.01\">25</text>\n",
       "</g>\n",
       "<g clip-path=\"url(#clip1100)\">\n",
       "<text style=\"fill:#000000; fill-opacity:1; font-family:Arial,Helvetica Neue,Helvetica,sans-serif; font-size:48px; text-anchor:end;\" transform=\"rotate(0, 254.067, 729.465)\" x=\"254.067\" y=\"729.465\">50</text>\n",
       "</g>\n",
       "<g clip-path=\"url(#clip1100)\">\n",
       "<text style=\"fill:#000000; fill-opacity:1; font-family:Arial,Helvetica Neue,Helvetica,sans-serif; font-size:48px; text-anchor:end;\" transform=\"rotate(0, 254.067, 415.918)\" x=\"254.067\" y=\"415.918\">75</text>\n",
       "</g>\n",
       "<g clip-path=\"url(#clip1100)\">\n",
       "<text style=\"fill:#000000; fill-opacity:1; font-family:Arial,Helvetica Neue,Helvetica,sans-serif; font-size:48px; text-anchor:end;\" transform=\"rotate(0, 254.067, 102.37)\" x=\"254.067\" y=\"102.37\">100</text>\n",
       "</g>\n",
       "<g clip-path=\"url(#clip1100)\">\n",
       "<text style=\"fill:#000000; fill-opacity:1; font-family:Arial,Helvetica Neue,Helvetica,sans-serif; font-size:66px; text-anchor:middle;\" transform=\"rotate(0, 1315.41, 1512.67)\" x=\"1315.41\" y=\"1512.67\">Industrial Emissions </text>\n",
       "</g>\n",
       "<g clip-path=\"url(#clip1100)\">\n",
       "<text style=\"fill:#000000; fill-opacity:1; font-family:Arial,Helvetica Neue,Helvetica,sans-serif; font-size:66px; text-anchor:middle;\" transform=\"rotate(0, 1315.41, 1583.95)\" x=\"1315.41\" y=\"1583.95\"> (% of Projected)</text>\n",
       "</g>\n",
       "<g clip-path=\"url(#clip1100)\">\n",
       "<text style=\"fill:#000000; fill-opacity:1; font-family:Arial,Helvetica Neue,Helvetica,sans-serif; font-size:66px; text-anchor:middle;\" transform=\"rotate(-90, 64.8202, 711.965)\" x=\"64.8202\" y=\"711.965\">Agricultural Emissions </text>\n",
       "</g>\n",
       "<g clip-path=\"url(#clip1100)\">\n",
       "<text style=\"fill:#000000; fill-opacity:1; font-family:Arial,Helvetica Neue,Helvetica,sans-serif; font-size:66px; text-anchor:middle;\" transform=\"rotate(-90, 136.1, 711.965)\" x=\"136.1\" y=\"711.965\"> (% of Projected)</text>\n",
       "</g>\n",
       "<polyline clip-path=\"url(#clip1102)\" style=\"stroke:#000000; stroke-width:8; stroke-opacity:1; fill:none\" points=\"\n",
       "  336.785,84.8698 391.153,210.289 445.521,335.708 499.889,461.127 567.849,586.546 622.218,711.965 676.586,837.385 744.546,962.804 798.914,1088.22 866.874,1213.64 \n",
       "  934.834,1339.06 \n",
       "  \"/>\n",
       "<polyline clip-path=\"url(#clip1102)\" style=\"stroke:#000000; stroke-width:8; stroke-opacity:1; fill:none\" stroke-dasharray=\"32, 20\" points=\"\n",
       "  948.427,84.8698 1002.79,210.289 1057.16,335.708 1125.12,461.127 1179.49,586.546 1247.45,711.965 1315.41,837.385 1369.78,962.804 1437.74,1088.22 1519.29,1213.64 \n",
       "  1587.25,1339.06 \n",
       "  \"/>\n",
       "<polyline clip-path=\"url(#clip1102)\" style=\"stroke:#000000; stroke-width:8; stroke-opacity:1; fill:none\" stroke-dasharray=\"32, 16, 4, 16\" points=\"\n",
       "  1600.84,84.8698 1668.8,210.289 1723.17,335.708 1791.13,461.127 1859.09,586.546 1927.05,711.965 1995.01,837.385 2062.97,962.804 2144.53,1088.22 2212.49,1213.64 \n",
       "  2294.04,1339.06 \n",
       "  \"/>\n",
       "<path clip-path=\"url(#clip1100)\" d=\"\n",
       "M1872.19 372.684 L2280.76 372.684 L2280.76 130.764 L1872.19 130.764  Z\n",
       "  \" fill=\"#ffffff\" fill-rule=\"evenodd\" fill-opacity=\"1\"/>\n",
       "<polyline clip-path=\"url(#clip1100)\" style=\"stroke:#000000; stroke-width:4; stroke-opacity:1; fill:none\" points=\"\n",
       "  1872.19,372.684 2280.76,372.684 2280.76,130.764 1872.19,130.764 1872.19,372.684 \n",
       "  \"/>\n",
       "<polyline clip-path=\"url(#clip1100)\" style=\"stroke:#000000; stroke-width:8; stroke-opacity:1; fill:none\" points=\"\n",
       "  1896.19,191.244 2040.19,191.244 \n",
       "  \"/>\n",
       "<g clip-path=\"url(#clip1100)\">\n",
       "<text style=\"fill:#000000; fill-opacity:1; font-family:Arial,Helvetica Neue,Helvetica,sans-serif; font-size:48px; text-anchor:start;\" transform=\"rotate(0, 2064.19, 208.744)\" x=\"2064.19\" y=\"208.744\">2 Deg.</text>\n",
       "</g>\n",
       "<polyline clip-path=\"url(#clip1100)\" style=\"stroke:#000000; stroke-width:8; stroke-opacity:1; fill:none\" stroke-dasharray=\"32, 20\" points=\"\n",
       "  1896.19,251.724 2040.19,251.724 \n",
       "  \"/>\n",
       "<g clip-path=\"url(#clip1100)\">\n",
       "<text style=\"fill:#000000; fill-opacity:1; font-family:Arial,Helvetica Neue,Helvetica,sans-serif; font-size:48px; text-anchor:start;\" transform=\"rotate(0, 2064.19, 269.224)\" x=\"2064.19\" y=\"269.224\">2.5 Deg</text>\n",
       "</g>\n",
       "<polyline clip-path=\"url(#clip1100)\" style=\"stroke:#000000; stroke-width:8; stroke-opacity:1; fill:none\" stroke-dasharray=\"32, 16, 4, 16\" points=\"\n",
       "  1896.19,312.204 2040.19,312.204 \n",
       "  \"/>\n",
       "<g clip-path=\"url(#clip1100)\">\n",
       "<text style=\"fill:#000000; fill-opacity:1; font-family:Arial,Helvetica Neue,Helvetica,sans-serif; font-size:48px; text-anchor:start;\" transform=\"rotate(0, 2064.19, 329.704)\" x=\"2064.19\" y=\"329.704\">3 Deg</text>\n",
       "</g>\n",
       "</svg>\n"
      ]
     },
     "execution_count": 34,
     "metadata": {},
     "output_type": "execute_result"
    }
   ],
   "source": [
    "plot(E1, M1, label=[\"2 Deg.\" \"2.5 Deg\" \"3 Deg\"], color=:black, linestyle=[:solid :dash :dashdot], linewidth=2, ylabel=\"Agricultural Emissions \\n (% of Projected)\", xlabel=\"Industrial Emissions \\n (% of Projected)\")"
   ]
  },
  {
   "cell_type": "code",
   "execution_count": 55,
   "metadata": {},
   "outputs": [
    {
     "data": {
      "text/plain": [
       "8-element Array{String,1}:\n",
       " \"Vegan\"     \n",
       " \"Vegetarian\"\n",
       " \"Beef\"      \n",
       " \"Dairy\"     \n",
       " \"Poultry\"   \n",
       " \"Pork\"      \n",
       " \"Eggs\"      \n",
       " \"SheepGoat\" "
      ]
     },
     "execution_count": 55,
     "metadata": {},
     "output_type": "execute_result"
    }
   ],
   "source": [
    "Diets = [\"Vegan\", \"Vegetarian\", \"Beef\", \"Dairy\", \"Poultry\", \"Pork\", \"Eggs\", \"SheepGoat\"]"
   ]
  },
  {
   "cell_type": "code",
   "execution_count": 50,
   "metadata": {},
   "outputs": [
    {
     "data": {
      "text/plain": [
       "8-element Array{Float64,1}:\n",
       " 1.0\n",
       " 1.0\n",
       " 1.0\n",
       " 1.0\n",
       " 1.0\n",
       " 1.0\n",
       " 1.0\n",
       " 1.0"
      ]
     },
     "execution_count": 50,
     "metadata": {},
     "output_type": "execute_result"
    }
   ],
   "source": [
    "test = ones(8)"
   ]
  },
  {
   "cell_type": "code",
   "execution_count": 56,
   "metadata": {},
   "outputs": [
    {
     "data": {
      "text/plain": [
       "8×2 Array{Any,2}:\n",
       " \"Vegan\"       1.0\n",
       " \"Vegetarian\"  1.0\n",
       " \"Beef\"        1.0\n",
       " \"Dairy\"       1.0\n",
       " \"Poultry\"     1.0\n",
       " \"Pork\"        1.0\n",
       " \"Eggs\"        1.0\n",
       " \"SheepGoat\"   1.0"
      ]
     },
     "execution_count": 56,
     "metadata": {},
     "output_type": "execute_result"
    }
   ],
   "source": [
    "[Diets test]"
   ]
  },
  {
   "cell_type": "code",
   "execution_count": 71,
   "metadata": {},
   "outputs": [
    {
     "data": {
      "text/plain": [
       "VegSocialCosts (generic function with 1 method)"
      ]
     },
     "execution_count": 71,
     "metadata": {},
     "output_type": "execute_result"
    }
   ],
   "source": [
    "include(\"VegSocialCosts.jl\")"
   ]
  },
  {
   "cell_type": "code",
   "execution_count": 67,
   "metadata": {},
   "outputs": [
    {
     "data": {
      "text/plain": [
       "6×3 Array{Float64,2}:\n",
       " 65.1  6.5   0.22 \n",
       " 14.6  2.1   0.22 \n",
       " 25.6  0.02  0.02 \n",
       " 25.1  0.7   0.03 \n",
       " 20.1  0.07  0.03 \n",
       " 20.0  4.5   0.016"
      ]
     },
     "execution_count": 67,
     "metadata": {},
     "output_type": "execute_result"
    }
   ],
   "source": [
    "Diets = [4.8; 8; 2.7; 6.7; 1.5; .06]\n",
    "Intensities = [65.1 6.5 .22; 14.6 2.1 .22; 25.6 .02 .02; 25.1 .70 .03; 20.1 .07 .03; 20 4.5 .016]"
   ]
  },
  {
   "cell_type": "code",
   "execution_count": 80,
   "metadata": {},
   "outputs": [
    {
     "name": "stderr",
     "output_type": "stream",
     "text": [
      "┌ Warning: interpolate(A, BSpline(Linear()), OnGrid()) is deprecated, use interpolate(A, BSpline(Linear()))\n",
      "│   caller = dice_interpolate(::Array{Float64,1}, ::Int64) at helpers.jl:61\n",
      "└ @ Main C:\\Users\\Kevin\\Documents\\GitHub\\DICEFARM\\src_annualized\\helpers.jl:61\n",
      "┌ Warning: `getindex(itp::AbstractInterpolation{T, N}, i::Vararg{ExpandedIndexTypes, N}) where {T, N}` is deprecated, use `itp(i...)` instead.\n",
      "│   caller = dice_interpolate(::Array{Float64,1}, ::Int64) at helpers.jl:67\n",
      "└ @ Main C:\\Users\\Kevin\\Documents\\GitHub\\DICEFARM\\src_annualized\\helpers.jl:67\n"
     ]
    },
    {
     "data": {
      "text/plain": [
       "8×2 Array{Any,2}:\n",
       " \"Vegan\"       41.4909    \n",
       " \"Vegetarian\"  27.7182    \n",
       " \"Beef\"         0.118182  \n",
       " \"Dairy\"        0.0454545 \n",
       " \"Poultry\"      0.0181818 \n",
       " \"Pork\"         0.00909091\n",
       " \"Eggs\"         0.0       \n",
       " \"Sheep/Goat\"   0.127273  "
      ]
     },
     "execution_count": 80,
     "metadata": {},
     "output_type": "execute_result"
    }
   ],
   "source": [
    "ESEA_Intensities = [49.9 8.85 .266; 19.92 2.17 .07; 35.7 .031 .049; 26.7 .81 .053; 26.9 0.05 .039; 30.0 4.36 .131]\n",
    "EEU_Intensities  = [29.9 2.11 .07; 10.1 1.84 .03; 14.4 .02 .02; 25.1 .35 .03; 8.2 .02 .03; 14.3 1.84 .05]\n",
    "LatAm_Intensities = [141.84 7.89 .24; 13.15 2.9 .24; 25.44 .02 .02; 27.4 .62 0.04; 16.9 .17 .02; 12.46 6.29 .13]\n",
    "MidEast_Intensities = [16.04 5.62 .43; 14.9 3.48 .25; 27.34 .02 .03; 39.9 0.65 .04; 14.2 .1 .02; 24.3 5.32 .4]\n",
    "NO_Intensities \t\t= [14.08 3.67 .14\t; 14.4 1.44 .02\t\t; 14.35 .02 .02\t; 15.24 .61 .02\t; 7.57 .12 .02\t; 22.3 4.17 .18]\n",
    "Oceania_Intensities = [21.7 4.39 .22\t; 15.02 2.93 .10\t; 28.4 .02 .02\t; 25.02 2.01 .02; 12.8 .05 .02\t; 16.25 2.93 .10]\n",
    "Socialcosts = VegSocialCosts(Oceania_Intensities, Diets)"
   ]
  },
  {
   "cell_type": "code",
   "execution_count": 74,
   "metadata": {},
   "outputs": [
    {
     "data": {
      "text/plain": [
       "6×3 Array{Float64,2}:\n",
       " 65.1  6.5   0.22 \n",
       " 14.6  2.1   0.22 \n",
       " 25.6  0.02  0.02 \n",
       " 25.1  0.7   0.03 \n",
       " 20.1  0.07  0.03 \n",
       " 20.0  4.5   0.016"
      ]
     },
     "execution_count": 74,
     "metadata": {},
     "output_type": "execute_result"
    }
   ],
   "source": [
    "Intensities"
   ]
  },
  {
   "cell_type": "code",
   "execution_count": 75,
   "metadata": {},
   "outputs": [
    {
     "data": {
      "text/plain": [
       "6×3 Array{Float64,2}:\n",
       " 49.9   8.85   0.266\n",
       " 19.92  2.17   0.069\n",
       " 35.7   0.031  0.049\n",
       " 26.7   0.81   0.053\n",
       " 26.9   0.05   0.039\n",
       " 30.0   4.36   0.131"
      ]
     },
     "execution_count": 75,
     "metadata": {},
     "output_type": "execute_result"
    }
   ],
   "source": [
    "ESEA_Intensities"
   ]
  },
  {
   "cell_type": "code",
   "execution_count": null,
   "metadata": {},
   "outputs": [],
   "source": []
  }
 ],
 "metadata": {
  "kernelspec": {
   "display_name": "Julia 1.3.0",
   "language": "julia",
   "name": "julia-1.3"
  },
  "language_info": {
   "file_extension": ".jl",
   "mimetype": "application/julia",
   "name": "julia",
   "version": "1.3.0"
  }
 },
 "nbformat": 4,
 "nbformat_minor": 2
}
